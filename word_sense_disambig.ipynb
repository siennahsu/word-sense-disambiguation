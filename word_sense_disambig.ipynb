{
  "nbformat": 4,
  "nbformat_minor": 0,
  "metadata": {
    "colab": {
      "provenance": [],
      "toc_visible": true
    },
    "kernelspec": {
      "name": "python3",
      "display_name": "Python 3"
    },
    "language_info": {
      "name": "python"
    }
  },
  "cells": [
    {
      "cell_type": "markdown",
      "source": [
        "# Word sense disambiguation"
      ],
      "metadata": {
        "id": "IlRSi-pnH6nq"
      }
    },
    {
      "cell_type": "code",
      "source": [
        "!pip install nltk"
      ],
      "metadata": {
        "colab": {
          "base_uri": "https://localhost:8080/"
        },
        "id": "bnQ7Mr4zVxvA",
        "outputId": "b9e841de-3079-4015-ffaa-7b140048e1f8"
      },
      "execution_count": 4,
      "outputs": [
        {
          "output_type": "stream",
          "name": "stdout",
          "text": [
            "Requirement already satisfied: nltk in /usr/local/lib/python3.10/dist-packages (3.8.1)\n",
            "Requirement already satisfied: click in /usr/local/lib/python3.10/dist-packages (from nltk) (8.1.7)\n",
            "Requirement already satisfied: joblib in /usr/local/lib/python3.10/dist-packages (from nltk) (1.3.2)\n",
            "Requirement already satisfied: regex>=2021.8.3 in /usr/local/lib/python3.10/dist-packages (from nltk) (2023.6.3)\n",
            "Requirement already satisfied: tqdm in /usr/local/lib/python3.10/dist-packages (from nltk) (4.66.1)\n"
          ]
        }
      ]
    },
    {
      "cell_type": "code",
      "source": [
        "import nltk\n",
        "nltk.download('wordnet')\n",
        "wn = nltk.corpus.wordnet\n",
        "from nltk.wsd import lesk\n",
        "from nltk import word_tokenize\n",
        "from nltk.stem import WordNetLemmatizer\n",
        "from nltk.corpus import stopwords\n",
        "nltk.download('stopwords')\n",
        "nltk.download('punkt')\n",
        "import random\n",
        "from nltk import word_tokenize\n",
        "from nltk.stem import WordNetLemmatizer\n",
        "import copy\n",
        "from sklearn.feature_extraction.text import CountVectorizer\n",
        "from sklearn.semi_supervised import LabelSpreading\n",
        "from sklearn.model_selection import GridSearchCV\n",
        "from sklearn.metrics import classification_report, confusion_matrix\n",
        "from sklearn.naive_bayes import ComplementNB"
      ],
      "metadata": {
        "colab": {
          "base_uri": "https://localhost:8080/"
        },
        "id": "P5DhzdBrVjHr",
        "outputId": "3f3d9cb4-f23c-4ca7-c870-40220991b6ff"
      },
      "execution_count": 5,
      "outputs": [
        {
          "output_type": "stream",
          "name": "stderr",
          "text": [
            "[nltk_data] Downloading package wordnet to /root/nltk_data...\n",
            "[nltk_data]   Package wordnet is already up-to-date!\n",
            "[nltk_data] Downloading package stopwords to /root/nltk_data...\n",
            "[nltk_data]   Package stopwords is already up-to-date!\n",
            "[nltk_data] Downloading package punkt to /root/nltk_data...\n",
            "[nltk_data]   Package punkt is already up-to-date!\n"
          ]
        }
      ]
    },
    {
      "cell_type": "markdown",
      "source": [
        "## Data Preprocessing for baseline and Lesk's models"
      ],
      "metadata": {
        "id": "31f38_vaVRdA"
      }
    },
    {
      "cell_type": "code",
      "execution_count": 6,
      "metadata": {
        "colab": {
          "base_uri": "https://localhost:8080/"
        },
        "id": "G6zVzC-8HxND",
        "outputId": "955dbce8-0de3-4717-c0b8-2fef7e77c50f"
      },
      "outputs": [
        {
          "output_type": "stream",
          "name": "stdout",
          "text": [
            "194\n",
            "1450\n"
          ]
        }
      ],
      "source": [
        "'''\n",
        "@author: jcheung\n",
        "\n",
        "Developed for Python 2. Automatically converted to Python 3; may result in bugs.\n",
        "'''\n",
        "import xml.etree.cElementTree as ET\n",
        "import codecs\n",
        "\n",
        "class WSDInstance:\n",
        "    def __init__(self, my_id, lemma, context, index):\n",
        "        self.id = my_id         # id of the WSD instance\n",
        "        self.lemma = lemma      # lemma of the word whose sense is to be resolved\n",
        "        self.context = context  # lemma of all the words in the sentential context\n",
        "        self.index = index      # index of lemma within the context\n",
        "    def __str__(self):\n",
        "        '''\n",
        "        For printing purposes.\n",
        "        '''\n",
        "        return '%s\\t%s\\t%s\\t%d' % (self.id, self.lemma, b' '.join(self.context), self.index)\n",
        "\n",
        "def load_instances(f):\n",
        "    '''\n",
        "    Load two lists of cases to perform WSD on. The structure that is returned is a dict, where\n",
        "    the keys are the ids, and the values are instances of WSDInstance.\n",
        "    '''\n",
        "    tree = ET.parse(f)\n",
        "    root = tree.getroot()\n",
        "\n",
        "    dev_instances = {}\n",
        "    test_instances = {}\n",
        "\n",
        "    for text in root:\n",
        "        if text.attrib['id'].startswith('d001'):\n",
        "            instances = dev_instances\n",
        "        else:\n",
        "            instances = test_instances\n",
        "        for sentence in text:\n",
        "            # construct sentence context\n",
        "            context = [to_ascii(el.attrib['lemma']) for el in sentence]\n",
        "            for i, el in enumerate(sentence):\n",
        "                if el.tag == 'instance':\n",
        "                    my_id = el.attrib['id']\n",
        "                    lemma = to_ascii(el.attrib['lemma'])\n",
        "                    instances[my_id] = WSDInstance(my_id, lemma, context, i)\n",
        "    return dev_instances, test_instances\n",
        "\n",
        "def load_key(f):\n",
        "    '''\n",
        "    Load the solutions as dicts.\n",
        "    Key is the id\n",
        "    Value is the list of correct sense keys.\n",
        "    '''\n",
        "    dev_key = {}\n",
        "    test_key = {}\n",
        "    for line in open(f):\n",
        "        if len(line) <= 1: continue\n",
        "        #print (line)\n",
        "        doc, my_id, sense_key = line.strip().split(' ', 2)\n",
        "        if doc == 'd001':\n",
        "            dev_key[my_id] = sense_key.split()\n",
        "        else:\n",
        "            test_key[my_id] = sense_key.split()\n",
        "    return dev_key, test_key\n",
        "\n",
        "def to_ascii(s):\n",
        "    # remove all non-ascii characters\n",
        "    return codecs.encode(s, 'ascii', 'ignore')\n",
        "\n",
        "if __name__ == '__main__':\n",
        "    data_f = 'multilingual-all-words.en.xml'\n",
        "    key_f = 'wordnet.en.key'\n",
        "    dev_instances, test_instances = load_instances(data_f)\n",
        "    dev_key, test_key = load_key(key_f)\n",
        "\n",
        "    # IMPORTANT: keys contain fewer entries than the instances; need to remove them\n",
        "    dev_instances = {k:v for (k,v) in dev_instances.items() if k in dev_key}\n",
        "    test_instances = {k:v for (k,v) in test_instances.items() if k in test_key}\n",
        "\n",
        "    # read to use here\n",
        "    print(len(dev_instances)) # number of dev instances\n",
        "    print(len(test_instances)) # number of test instances\n",
        ""
      ]
    },
    {
      "cell_type": "code",
      "source": [
        "# load the gold standards\n",
        "with open('/content/wordnet.en.key') as f:\n",
        "  lines = f.readlines()"
      ],
      "metadata": {
        "id": "X-bHM5NNpLv9"
      },
      "execution_count": 7,
      "outputs": []
    },
    {
      "cell_type": "code",
      "source": [
        "# put the gold standard into a list\n",
        "# each element is of the form (ID, word sense)\n",
        "gold_standard = []\n",
        "for line in lines:\n",
        "    gold_standard.append(tuple(line.split(\" \")[1:3]))"
      ],
      "metadata": {
        "id": "BtWNzGCArsmD"
      },
      "execution_count": 8,
      "outputs": []
    },
    {
      "cell_type": "code",
      "source": [
        "stop_words = stopwords.words('english')"
      ],
      "metadata": {
        "id": "8bGXe9QYwJjc"
      },
      "execution_count": 9,
      "outputs": []
    },
    {
      "cell_type": "code",
      "source": [
        "# tokenize and lemmatize, remove stop words\n",
        "# make a list of dev instances, each element is in the form\n",
        "# (index, word, sentence)\n",
        "\n",
        "dev_processed = []\n",
        "\n",
        "for key in dev_instances.keys():\n",
        "    # get the lemma\n",
        "    word = dev_instances[key].lemma.decode('utf-8').lower()\n",
        "    # get the sentence\n",
        "    sentence = dev_instances[key].context\n",
        "    # tokenize\n",
        "    tokens = []\n",
        "    for w in sentence:\n",
        "        tokens.append(w.decode('utf-8').lower())\n",
        "    # lemmatize\n",
        "    lemmatizer = WordNetLemmatizer()\n",
        "    lemmas = [lemmatizer.lemmatize(token) for token in tokens]\n",
        "    # remove stop words\n",
        "    filtered_lemmas = [lemma for lemma in lemmas if lemma not in stop_words]\n",
        "    # get the index\n",
        "    index = dev_instances[key].id\n",
        "    # append to the list\n",
        "    dev_processed.append((index, word, filtered_lemmas))"
      ],
      "metadata": {
        "id": "L4EXumLYssfF"
      },
      "execution_count": 10,
      "outputs": []
    },
    {
      "cell_type": "code",
      "source": [
        "# tokenize and lemmatize, remove stop words\n",
        "# make a list of dev instances, each element is in the form\n",
        "# (index, word, sentence)\n",
        "\n",
        "test_processed = []\n",
        "\n",
        "for key in test_instances.keys():\n",
        "    # get the lemma\n",
        "    word = test_instances[key].lemma.decode('utf-8').lower()\n",
        "    # get the sentence\n",
        "    sentence = test_instances[key].context\n",
        "    # tokenize\n",
        "    tokens = []\n",
        "    for w in sentence:\n",
        "        tokens.append(w.decode('utf-8').lower())\n",
        "    # lemmatize\n",
        "    lemmatizer = WordNetLemmatizer()\n",
        "    lemmas = [lemmatizer.lemmatize(token) for token in tokens]\n",
        "    # remove stop words\n",
        "    filtered_lemmas = [lemma for lemma in lemmas if lemma not in stop_words]\n",
        "    # get the index\n",
        "    index = test_instances[key].id\n",
        "    # append to the list\n",
        "    test_processed.append((index, word, filtered_lemmas))"
      ],
      "metadata": {
        "id": "Ojp7uVKExm_l"
      },
      "execution_count": 11,
      "outputs": []
    },
    {
      "cell_type": "markdown",
      "source": [
        "## Baseline model: The most frequent sense\n",
        "\n",
        "Go through all the test instances and assign them the most frequent sense."
      ],
      "metadata": {
        "id": "J-Pxdy_ybNnH"
      }
    },
    {
      "cell_type": "code",
      "source": [
        "# go through all the test cases and record the number of accurate word sense assignment\n",
        "test_size = len(test_instances)\n",
        "accurate_assignments = 0\n",
        "for key in test_instances.keys():\n",
        "    # get the lemma and the word sense\n",
        "    word = test_instances[key].lemma.decode('utf-8').lower()\n",
        "    sense_key = wn.synsets(word)[0].lemmas()[0].key()\n",
        "    sense_key = sense_key.split(\"%\")[1]\n",
        "\n",
        "    # get the gold standard\n",
        "    for line in lines:\n",
        "        if key in line:\n",
        "            gold_std = line.split(\" \")[2]\n",
        "            gold_std = gold_std.split(\"%\")[1]\n",
        "\n",
        "    if sense_key == gold_std:\n",
        "        accurate_assignments += 1"
      ],
      "metadata": {
        "id": "8ecF_h9L2c1Z"
      },
      "execution_count": 12,
      "outputs": []
    },
    {
      "cell_type": "code",
      "source": [
        "# calculate the accuracy\n",
        "accuracy = accurate_assignments / test_size\n",
        "print(\"Accuracy for baseline model:\", accuracy)\n",
        "print()"
      ],
      "metadata": {
        "colab": {
          "base_uri": "https://localhost:8080/"
        },
        "outputId": "5e997edf-dcfc-4a2d-a9df-8ddc7df0ede8",
        "id": "cZ421AGW2c1Z"
      },
      "execution_count": 13,
      "outputs": [
        {
          "output_type": "stream",
          "name": "stdout",
          "text": [
            "Accuracy for baseline model: 0.5979310344827586\n",
            "\n"
          ]
        }
      ]
    },
    {
      "cell_type": "markdown",
      "source": [
        "## NLTK's Lesk's algorithm model\n",
        "\n",
        "Call NLTK's Lesk's algorithm model to perform word sense disambiguation."
      ],
      "metadata": {
        "id": "5lTM98ViqzPj"
      }
    },
    {
      "cell_type": "code",
      "source": [
        "# go through all the test cases and record the number of accurate word sense assignment\n",
        "test_size = len(test_instances)\n",
        "accurate_assignments = 0\n",
        "for test_instance in test_processed:\n",
        "    key = test_instance[0]\n",
        "\n",
        "    # get the lemma and the word sense\n",
        "    word = test_instance[1]\n",
        "    sense_key = lesk(test_instance[2], word, 'n').lemmas()[0].key()\n",
        "    sense_key = sense_key.split(\"%\")[1]\n",
        "\n",
        "    # get the gold standard\n",
        "    for gs in gold_standard:\n",
        "        if key == gs[0]:\n",
        "            gold_std = gs[1]\n",
        "            gold_std = gold_std.split(\"%\")[1]\n",
        "\n",
        "    if sense_key == gold_std:\n",
        "        accurate_assignments += 1"
      ],
      "metadata": {
        "id": "ZGr5X8aJ23F9"
      },
      "execution_count": 14,
      "outputs": []
    },
    {
      "cell_type": "code",
      "source": [
        "# calculate the accuracy\n",
        "accuracy = accurate_assignments / test_size\n",
        "print(\"Accuracy for Lesk's model:\", accuracy)\n",
        "print()"
      ],
      "metadata": {
        "colab": {
          "base_uri": "https://localhost:8080/"
        },
        "outputId": "8c21041b-870c-410d-c77d-0815bfc0d7c3",
        "id": "sduUMEI823F9"
      },
      "execution_count": 15,
      "outputs": [
        {
          "output_type": "stream",
          "name": "stdout",
          "text": [
            "Accuracy for Lesk's model: 0.3489655172413793\n",
            "\n"
          ]
        }
      ]
    },
    {
      "cell_type": "markdown",
      "source": [
        "## Data for Semi-supervised and supervised ML models\n",
        "Here, we choose 5 words to disambiguate. For each word, we build training and test datasets for it. We lemmatize and vectorize the words. Let's choose the 5 words that are in both dev set and test set and have the hightest occurances in the test set."
      ],
      "metadata": {
        "id": "j8i7Phdo0ZVI"
      }
    },
    {
      "cell_type": "code",
      "source": [
        "# words that are in both test and dev sets\n",
        "overlap_words = []\n",
        "for instance in test_processed:\n",
        "    word = instance[1]\n",
        "    for w in dev_processed:\n",
        "        if word == w[1]:\n",
        "            overlap_words.append(word)\n",
        "            break"
      ],
      "metadata": {
        "id": "CmDUL9nB3JRF"
      },
      "execution_count": 16,
      "outputs": []
    },
    {
      "cell_type": "code",
      "source": [
        "# Initialize an empty dictionary to store counts\n",
        "word_counts = {}\n",
        "\n",
        "# Count occurrences using a loop\n",
        "for word in overlap_words:\n",
        "    if word in word_counts:\n",
        "        word_counts[word] += 1\n",
        "    else:\n",
        "        word_counts[word] = 1"
      ],
      "metadata": {
        "id": "EbCUR7nRn_uQ"
      },
      "execution_count": 17,
      "outputs": []
    },
    {
      "cell_type": "code",
      "source": [
        "# Get the 8 keys with the highest values\n",
        "top_8_keys = sorted(word_counts, key=word_counts.get, reverse=True)[:8]\n",
        "\n",
        "# Output the result\n",
        "print(\"Words to disambiguate and their counts in the test set:\")\n",
        "for key in top_8_keys:\n",
        "    print(f\"{key}: {word_counts[key]}\")\n",
        "print()"
      ],
      "metadata": {
        "colab": {
          "base_uri": "https://localhost:8080/"
        },
        "id": "-aZ8caa8pMTw",
        "outputId": "5ae2a6f3-6a8d-4db2-8e31-108eb6a84731"
      },
      "execution_count": 18,
      "outputs": [
        {
          "output_type": "stream",
          "name": "stdout",
          "text": [
            "Words to disambiguate and their counts in the test set:\n",
            "game: 23\n",
            "year: 22\n",
            "country: 18\n",
            "action: 11\n",
            "claim: 10\n",
            "time: 6\n",
            "world: 6\n",
            "issue: 6\n",
            "\n"
          ]
        }
      ]
    },
    {
      "cell_type": "code",
      "source": [
        "# see the entries for the words in dev set\n",
        "for word in top_8_keys:\n",
        "    for entry in dev_processed:\n",
        "        if word == entry[1]:\n",
        "            print(entry)"
      ],
      "metadata": {
        "colab": {
          "base_uri": "https://localhost:8080/"
        },
        "id": "ur-sXX18qWKv",
        "outputId": "5ef8cc70-16e2-4e2b-fb43-19e91f03ae83"
      },
      "execution_count": 19,
      "outputs": [
        {
          "output_type": "stream",
          "name": "stdout",
          "text": [
            "('d001.s020.t001', 'game', ['clearly', 'game', 'new', 'economic', 'hegemony', 'develop', ',', 'say', 'ulate', ',', 'also', 'serve', 'regional', 'mexico', 'central_america', 'climate_change', 'adviser', 'conservation_international', '.'])\n",
            "('d001.s002.t011', 'year', ['u.n.-sponsored', 'climate', 'conference', '--', 'characterize', 'far', 'unruly', 'posturing', 'mutual', 'recrimination', '--', 'gain', 'renewed', 'focus', 'friday', 'release', 'document', 'outline', 'ambitious', 'greenhouse-gas', 'reduction', 'next', '@card@', 'year', ',', 'industrialized_nation', 'shoulder', 'burden', 'near', 'term', '.'])\n",
            "('d001.s011.t005', 'year', ['european_union', 'give', 'talk', 'boost', 'well', 'friday', 'pledge', 'provide', '$', '@card@', 'billion', 'year', 'next', 'three', 'year', 'help', 'poor', 'country', 'adapt', 'impact', 'climate_change', '--', 'cope', 'flood', 'drought', 'avoid', 'deforestation', '.'])\n",
            "('d001.s011.t006', 'year', ['european_union', 'give', 'talk', 'boost', 'well', 'friday', 'pledge', 'provide', '$', '@card@', 'billion', 'year', 'next', 'three', 'year', 'help', 'poor', 'country', 'adapt', 'impact', 'climate_change', '--', 'cope', 'flood', 'drought', 'avoid', 'deforestation', '.'])\n",
            "('d001.s014.t007', 'year', ['move', 'signal', 'obama_administration', 'take', 'hard_line', 'china', 'bush_administration', 'official', 'two', 'year', 'ago', '.'])\n",
            "('d001.s005.t005', 'country', ['forge', 'u.n.', 'ad-hoc', 'working_group', ',', 'text', 'silent', 'much', 'money', 'rich', 'country', 'would', 'give', 'poor', 'one', 'cope', 'global_warming', 'short', 'long', 'term', '.'])\n",
            "('d001.s010.t001', 'country', ['together', ',', 'country', 'would', 'cut', 'emission', '@card@', '@card@', 'percent', '@card@', '.'])\n",
            "('d001.s011.t007', 'country', ['european_union', 'give', 'talk', 'boost', 'well', 'friday', 'pledge', 'provide', '$', '@card@', 'billion', 'year', 'next', 'three', 'year', 'help', 'poor', 'country', 'adapt', 'impact', 'climate_change', '--', 'cope', 'flood', 'drought', 'avoid', 'deforestation', '.'])\n",
            "('d001.s018.t010', 'country', ['current', 'battle', 'much', 'save', 'individual', 'economy', 'save', 'planet', ',', 'china', 'united_states', 'feuding', 'respective', 'obligation', 'poor', 'nation', 'insist', 'world', \"'s\", 'two_dozen', 'influential', 'country', 'ignore', 'scientific', 'imperative', 'take', 'bold', 'action', '.'])\n",
            "('d001.s019.t005', 'country', ['ricardo', 'ulate', ',', 'costa', 'rican', 'delegate', ',', 'say', 'surprising', 'major_power', 'fight', 'bear', 'cost', 'curb', 'greenhouse_gas', ',', 'even', 'vulnerable', 'country', 'become', 'aggressive', 'seek', 'hold', 'big', 'emitter', 'accountable', 'action', '.'])\n",
            "('d001.s021.t001', 'country', ['country', 'vulnerable', 'impact', 'climate_change', 'indicate', 'would', 'continue', 'push', 'legally', 'binding', 'treaty', 'copenhagen', ',', 'although', 'major', 'participant', 'say', 'talk', 'produce', 'political', 'deal', 'good', '.'])\n",
            "('d001.s026.t007', 'country', ['sheer', 'sprawl', 'gathering', '--', '@card@', 'people', 'move', 'convention_center', 'day', ',', 'guitar-playing', 'activist', 'put', 'nightly', 'show', 'mock', 'country', 'think', 'sell', ',', 'draft', 'proposal', 'pas', 'hand-to-hand', 'paper', 'rather', 'via', 'e-mail', '--', 'pose', 'challenge', '.'])\n",
            "('d001.s015.t004', 'action', ['united_states', 'go', 'deal', 'without', 'major', 'developing_country', 'step', 'take', 'action', ',', 'say', 'stern', ',', 'also', 'complain', 'text', 'enough', 'make', 'sure', 'cut', 'could', 'verify', 'outside', 'observer', '.'])\n",
            "('d001.s018.t012', 'action', ['current', 'battle', 'much', 'save', 'individual', 'economy', 'save', 'planet', ',', 'china', 'united_states', 'feuding', 'respective', 'obligation', 'poor', 'nation', 'insist', 'world', \"'s\", 'two_dozen', 'influential', 'country', 'ignore', 'scientific', 'imperative', 'take', 'bold', 'action', '.'])\n",
            "('d001.s019.t006', 'action', ['ricardo', 'ulate', ',', 'costa', 'rican', 'delegate', ',', 'say', 'surprising', 'major_power', 'fight', 'bear', 'cost', 'curb', 'greenhouse_gas', ',', 'even', 'vulnerable', 'country', 'become', 'aggressive', 'seek', 'hold', 'big', 'emitter', 'accountable', 'action', '.'])\n",
            "('d001.s023.t010', 'action', ['artur', 'runge-metzger', ',', 'head', 'international', 'climate', 'negotiation', 'behalf', 'european_commission', ',', 'say', 'push', 'small', 'island_nation', '``', 'put', 'political', 'pressure', 'entire', 'political', 'process', ',', \"''\", 'part', 'unified', 'demanding', 'action', 'emerging_economy', 'china', 'india', '.'])\n",
            "('d001.s025.t010', 'claim', ['high-level', 'official', 'indian', 'environment_minister', 'jairam_ramesh', 'chinese', 'vice', 'minister', 'step', 'plane', 'race', 'bella_center', \"'s\", 'hall', 'closed-door', 'meeting', 'news_conference', 'could', 'stake', 'claim', 'arbitrate', 'next', 'week', '.'])\n",
            "('d001.s004.t003', 'time', ['see', 'important', 'advance', 'negotiation', 'run', 'time', ',', '@card@', 'world', 'leader', 'arrive', 'copenhagen', 'next', 'week', '.'])\n",
            "('d001.s004.t004', 'world', ['see', 'important', 'advance', 'negotiation', 'run', 'time', ',', '@card@', 'world', 'leader', 'arrive', 'copenhagen', 'next', 'week', '.'])\n",
            "('d001.s017.t002', 'world', ['future', 'economic', 'trajectory', 'world', \"'s\", 'major_power', 'stake', ',', 'fault_line', 'erupt', 'within', 'developing_world', 'industrial_world', 'emerging_economy', '.'])\n",
            "('d001.s018.t008', 'world', ['current', 'battle', 'much', 'save', 'individual', 'economy', 'save', 'planet', ',', 'china', 'united_states', 'feuding', 'respective', 'obligation', 'poor', 'nation', 'insist', 'world', \"'s\", 'two_dozen', 'influential', 'country', 'ignore', 'scientific', 'imperative', 'take', 'bold', 'action', '.'])\n",
            "('d001.s024.t005', 'issue', ['talk', 'take', 'new', 'urgency', 'delegate', 'focus', 'fact', 'must', 'resolve', 'outstanding', 'issue', 'head_of_government', 'arrive', 'strike', 'deal', '.'])\n"
          ]
        }
      ]
    },
    {
      "cell_type": "code",
      "source": [
        "# see the words in gold standard\n",
        "for word in top_8_keys:\n",
        "    for gs in gold_standard:\n",
        "        if word == gs[1].split(\"%\")[0]:\n",
        "            print(gs)"
      ],
      "metadata": {
        "colab": {
          "base_uri": "https://localhost:8080/"
        },
        "id": "V9Rh19dnqi1C",
        "outputId": "17f0f9b3-52d1-41e9-fddb-23ef95cb48ac"
      },
      "execution_count": 20,
      "outputs": [
        {
          "output_type": "stream",
          "name": "stdout",
          "text": [
            "('d001.s020.t001', 'game%1:09:00::')\n",
            "('d002.s005.t001', 'game%1:04:03::')\n",
            "('d002.s008.t003', 'game%1:04:03::')\n",
            "('d002.s010.t001', 'game%1:04:03::')\n",
            "('d002.s010.t007', 'game%1:04:03::')\n",
            "('d002.s016.t004', 'game%1:04:03::')\n",
            "('d007.s003.t006', 'game%1:04:03::')\n",
            "('d007.s004.t003', 'game%1:04:03::')\n",
            "('d007.s005.t007', 'game%1:04:03::')\n",
            "('d007.s006.t004', 'game%1:04:03::')\n",
            "('d007.s012.t009', 'game%1:04:03::')\n",
            "('d007.s017.t004', 'game%1:04:03::')\n",
            "('d007.s018.t002', 'game%1:04:03::')\n",
            "('d007.s019.t008', 'game%1:04:03::')\n",
            "('d007.s020.t011', 'game%1:04:03::')\n",
            "('d011.s002.t003', 'game%1:04:03::')\n",
            "('d011.s003.t004', 'game%1:04:03::')\n",
            "('d011.s004.t005', 'game%1:04:03::')\n",
            "('d011.s005.t011', 'game%1:04:03::')\n",
            "('d011.s006.t003', 'game%1:04:03::')\n",
            "('d011.s010.t007', 'game%1:04:03::')\n",
            "('d011.s014.t003', 'game%1:04:03::')\n",
            "('d011.s017.t001', 'game%1:04:03::')\n",
            "('d011.s022.t001', 'game%1:04:03::')\n",
            "('d001.s002.t011', 'year%1:28:01::')\n",
            "('d001.s011.t005', 'year%1:28:01::')\n",
            "('d001.s011.t006', 'year%1:28:01::')\n",
            "('d001.s014.t007', 'year%1:28:01::')\n",
            "('d003.s006.t006', 'year%1:28:01::')\n",
            "('d004.s009.t003', 'year%1:28:01::')\n",
            "('d004.s014.t008', 'year%1:28:01::')\n",
            "('d006.s006.t007', 'year%1:28:01::')\n",
            "('d006.s018.t004', 'year%1:28:01::')\n",
            "('d009.s007.t003', 'year%1:28:01::')\n",
            "('d009.s011.t005', 'year%1:28:01::')\n",
            "('d009.s011.t011', 'year%1:28:01::')\n",
            "('d009.s012.t005', 'year%1:28:01::')\n",
            "('d009.s014.t008', 'year%1:28:01::')\n",
            "('d009.s015.t007', 'year%1:28:01::')\n",
            "('d009.s019.t007', 'year%1:28:01::')\n",
            "('d009.s024.t005', 'year%1:28:01::')\n",
            "('d009.s024.t007', 'year%1:28:01::')\n",
            "('d009.s026.t006', 'year%1:28:01::')\n",
            "('d009.s028.t008', 'year%1:28:01::')\n",
            "('d009.s028.t011', 'year%1:28:01::')\n",
            "('d009.s028.t015', 'year%1:28:01::')\n",
            "('d010.s004.t008', 'year%1:28:01::')\n",
            "('d010.s013.t004', 'year%1:28:01::')\n",
            "('d011.s007.t006', 'year%1:28:01::')\n",
            "('d013.s019.t004', 'year%1:28:01::')\n",
            "('d001.s005.t005', 'country%1:14:00::')\n",
            "('d001.s010.t001', 'country%1:14:00::')\n",
            "('d001.s011.t007', 'country%1:14:00::')\n",
            "('d001.s018.t010', 'country%1:14:00::')\n",
            "('d001.s019.t005', 'country%1:14:00::')\n",
            "('d001.s021.t001', 'country%1:14:00::')\n",
            "('d001.s026.t007', 'country%1:14:00::')\n",
            "('d009.s005.t004', 'country%1:14:00::')\n",
            "('d009.s010.t003', 'country%1:14:00::')\n",
            "('d009.s013.t006', 'country%1:14:00::')\n",
            "('d009.s014.t004', 'country%1:14:00::')\n",
            "('d009.s015.t003', 'country%1:14:00::')\n",
            "('d009.s017.t003', 'country%1:14:00::')\n",
            "('d009.s020.t002', 'country%1:14:00::')\n",
            "('d009.s020.t003', 'country%1:14:00::')\n",
            "('d009.s023.t009', 'country%1:14:00::')\n",
            "('d009.s026.t004', 'country%1:14:00::')\n",
            "('d009.s028.t002', 'country%1:14:00::')\n",
            "('d009.s029.t002', 'country%1:14:00::')\n",
            "('d011.s004.t004', 'country%1:14:00::')\n",
            "('d012.s002.t013', 'country%1:14:00::')\n",
            "('d012.s002.t014', 'country%1:14:00::')\n",
            "('d012.s006.t006', 'country%1:14:00::')\n",
            "('d012.s013.t019', 'country%1:14:00::')\n",
            "('d012.s019.t003', 'country%1:14:00::')\n",
            "('d001.s015.t004', 'action%1:04:04::')\n",
            "('d001.s018.t012', 'action%1:04:04::')\n",
            "('d001.s019.t006', 'action%1:04:02::')\n",
            "('d001.s023.t010', 'action%1:04:04::')\n",
            "('d007.s010.t007', 'action%1:04:02::')\n",
            "('d007.s010.t009', 'action%1:04:02::')\n",
            "('d007.s012.t007', 'action%1:04:02::')\n",
            "('d007.s014.t002', 'action%1:04:02::')\n",
            "('d007.s014.t009', 'action%1:04:02::')\n",
            "('d007.s016.t005', 'action%1:04:02::')\n",
            "('d007.s017.t006', 'action%1:04:02::')\n",
            "('d007.s020.t008', 'action%1:04:02::')\n",
            "('d007.s022.t001', 'action%1:04:02::')\n",
            "('d007.s027.t004', 'action%1:04:02::')\n",
            "('d010.s015.t004', 'action%1:04:02::')\n",
            "('d001.s025.t010', 'claim%1:04:00::')\n",
            "('d006.s008.t001', 'claim%1:10:02::')\n",
            "('d006.s010.t004', 'claim%1:10:02::')\n",
            "('d006.s028.t003', 'claim%1:10:02::')\n",
            "('d006.s030.t002', 'claim%1:10:02::')\n",
            "('d010.s018.t005', 'claim%1:10:02::')\n",
            "('d010.s020.t004', 'claim%1:10:02::')\n",
            "('d013.s020.t004', 'claim%1:10:02::')\n",
            "('d013.s021.t004', 'claim%1:10:00::')\n",
            "('d013.s025.t002', 'claim%1:10:02::')\n",
            "('d013.s025.t004', 'claim%1:10:02::')\n",
            "('d001.s004.t003', 'time%1:28:05::')\n",
            "('d002.s016.t006', 'time%1:11:00::')\n",
            "('d006.s015.t010', 'time%1:11:00::')\n",
            "('d007.s004.t006', 'time%1:28:05::')\n",
            "('d008.s026.t002', 'time%1:28:05::')\n",
            "('d009.s023.t001', 'time%1:11:00::')\n",
            "('d010.s005.t009', 'time%1:11:00::')\n",
            "('d001.s004.t004', 'world%1:05:00::')\n",
            "('d001.s017.t002', 'world%1:17:00::')\n",
            "('d001.s018.t008', 'world%1:17:00::')\n",
            "('d004.s011.t010', 'world%1:17:00::')\n",
            "('d007.s007.t005', 'world%1:17:02::')\n",
            "('d009.s017.t001', 'world%1:17:00::')\n",
            "('d012.s006.t011', 'world%1:17:00::')\n",
            "('d012.s013.t008', 'world%1:14:01::')\n",
            "('d012.s023.t001', 'world%1:17:00::')\n",
            "('d001.s024.t005', 'issue%1:09:01::')\n",
            "('d006.s011.t002', 'issue%1:09:01::')\n",
            "('d006.s018.t002', 'issue%1:09:01::')\n",
            "('d010.s004.t002', 'issue%1:09:00::')\n",
            "('d010.s023.t004', 'issue%1:09:01::')\n",
            "('d013.s004.t001', 'issue%1:09:01::')\n",
            "('d013.s007.t001', 'issue%1:09:01::')\n"
          ]
        }
      ]
    },
    {
      "cell_type": "code",
      "source": [
        "# a function that reads the files, construct train and test sets,\n",
        "# tokenize, lemmatize, remove stop words, and vectorize\n",
        "# ngram can be \"uni\", \"bi\", \"tri\"\n",
        "\n",
        "def output_train_test_sets(target_word, sense_1_file, sense_2_file, sense_1, sense_2, ngram):\n",
        "    \"\"\"\n",
        "    return X_train_semi, y_train_semi, X_train_labeled, y_train_labeled, X_test, y_test\n",
        "    \"\"\"\n",
        "\n",
        "    # opening the files\n",
        "    with open(sense_1_file) as f:\n",
        "        sense_1_corpus = f.read()\n",
        "\n",
        "    with open(sense_2_file) as f:\n",
        "        sense_2_corpus = f.read()\n",
        "\n",
        "    with open(general_file) as f:\n",
        "        unlabeled_corpus = f.read()\n",
        "        unlabeled_corpus_list = unlabeled_corpus.split(\"\\n\")\n",
        "\n",
        "    # attach the label to the corpus, shuffle it\n",
        "    labeled_corpus_list = _\n",
        "\n",
        "    sense_1_list = sense_1_corpus.split(\"\\n\")\n",
        "    for i in range(len(sense_1_list)):\n",
        "      sense_1_list[i] = (sense_1_list[i], 1)  # 1 means sense 1\n",
        "\n",
        "    sense_2_list = sense_2_corpus.split(\"\\n\")\n",
        "    for i in range(len(sense_2_list)):\n",
        "      sense_2_list[i] = (sense_2_list[i], 2)  # 2 means sense 2\n",
        "\n",
        "    # add the instances in the dev set\n",
        "    ids_of_target_word = []\n",
        "\n",
        "    for instance in dev_processed:\n",
        "        if instance[1] == target_word:\n",
        "            ids_of_target_word.append(instance[0])\n",
        "\n",
        "    # retrieve the sentences\n",
        "    for id in ids_of_target_word:\n",
        "        # get the sentence\n",
        "        sentence = \"\"\n",
        "        for key in dev_instances.keys():\n",
        "            if key == id:\n",
        "                sentence = b' '.join(dev_instances[key].context).decode(\"utf-8\")\n",
        "        # get the gold standard\n",
        "        for gs in gold_standard:\n",
        "            if id == gs[0]:\n",
        "                gold_sense = gs[1].split(\"%\")[1]\n",
        "                if gold_sense == sense_1:\n",
        "                    sense_1_list.append((sentence, 1))\n",
        "                if gold_sense == sense_2:\n",
        "                    sense_2_list.append((sentence, 2))\n",
        "\n",
        "    labeled_corpus_list = sense_1_list + sense_2_list\n",
        "    random.Random(550).shuffle(labeled_corpus_list)\n",
        "    print(\"Size of unlabeled training set: \", len(unlabeled_corpus_list))\n",
        "    print(\"Size of labeled training set: \", len(labeled_corpus_list))\n",
        "\n",
        "    # construct the test set for target word\n",
        "    labeled_test_cases = []\n",
        "    ids_of_target_word = []\n",
        "\n",
        "    for instance in test_processed:\n",
        "        if instance[1] == target_word:\n",
        "            ids_of_target_word.append(instance[0])\n",
        "\n",
        "    # retrieve the sentences\n",
        "    for id in ids_of_target_word:\n",
        "        # get the sentence\n",
        "        sentence = \"\"\n",
        "        for key in test_instances.keys():\n",
        "            if key == id:\n",
        "                sentence = b' '.join(test_instances[key].context).decode(\"utf-8\")\n",
        "        # get the gold standard\n",
        "        for gs in gold_standard:\n",
        "            if id == gs[0]:\n",
        "                gold_sense = gs[1].split(\"%\")[1]\n",
        "                if gold_sense == sense_1:\n",
        "                    labeled_test_cases.append((sentence, 1))\n",
        "                if gold_sense == sense_2:\n",
        "                    labeled_test_cases.append((sentence, 2))\n",
        "\n",
        "    print(\"Size of test set (labeled): \", len(labeled_test_cases))\n",
        "\n",
        "    # develop training and test set\n",
        "\n",
        "    X_train_labeled = []\n",
        "    y_train_labeled = []\n",
        "    for i in range(len(labeled_corpus_list)):\n",
        "        X_train_labeled.append(labeled_corpus_list[i][0])\n",
        "        y_train_labeled.append(labeled_corpus_list[i][1])\n",
        "\n",
        "    X_train_semi = []\n",
        "    y_train_semi = []\n",
        "\n",
        "    for i in range(len(unlabeled_corpus_list)):\n",
        "        X_train_semi.append(unlabeled_corpus_list[i])\n",
        "        y_train_semi.append(-1)  # -1 means unlabeled\n",
        "\n",
        "    X_train_semi_l = copy.deepcopy(X_train_labeled)\n",
        "    X_train_semi += X_train_semi_l\n",
        "    y_train_semi += y_train_labeled\n",
        "\n",
        "    X_test = []\n",
        "    y_test = []\n",
        "    for i in range(len(labeled_test_cases)):\n",
        "        X_test.append(labeled_test_cases[i][0])\n",
        "        y_test.append(labeled_test_cases[i][1])\n",
        "\n",
        "    # tokenize the words in each datapoint and then lemmatize the words\n",
        "\n",
        "    wordnet_lemmatizer = WordNetLemmatizer()\n",
        "\n",
        "    for i in range(len(X_train_semi)):\n",
        "        X_train_semi[i] = X_train_semi[i].lower()\n",
        "        X_train_semi[i]= X_train_semi[i].replace(\",\", \"\").replace(\".\", \"\").replace(\"'\", \"\").replace(\"-\", \" \").replace(\"@\", \"\")\n",
        "        X_train_semi[i] = word_tokenize(X_train_semi[i])\n",
        "\n",
        "        for j in range(len(X_train_semi[i])):\n",
        "          X_train_semi[i][j] = wordnet_lemmatizer.lemmatize(X_train_semi[i][j])\n",
        "\n",
        "        X_train_semi[i] = \" \".join(X_train_semi[i])\n",
        "\n",
        "    for i in range(len(X_train_labeled)):\n",
        "        X_train_labeled[i] = X_train_labeled[i].lower()\n",
        "        X_train_labeled[i]= X_train_labeled[i].replace(\",\", \"\").replace(\".\", \"\").replace(\"'\", \"\").replace(\"-\", \" \").replace(\"@\", \"\")\n",
        "        X_train_labeled[i] = word_tokenize(X_train_labeled[i])\n",
        "\n",
        "        for j in range(len(X_train_labeled[i])):\n",
        "          X_train_labeled[i][j] = wordnet_lemmatizer.lemmatize(X_train_labeled[i][j])\n",
        "\n",
        "        X_train_labeled[i] = \" \".join(X_train_labeled[i])\n",
        "\n",
        "    # count-vectorize the words\n",
        "    # Create a Vectorizer Object\n",
        "    if ngram == \"uni\":\n",
        "        vectorizer = CountVectorizer(ngram_range = (1, 1), stop_words='english')\n",
        "    elif ngram == \"bi\":\n",
        "        vectorizer = CountVectorizer(ngram_range = (2, 2), stop_words='english')\n",
        "    elif ngram == \"tri\":\n",
        "        vectorizer = CountVectorizer(ngram_range = (3, 3), stop_words='english')\n",
        "\n",
        "    vectorizer.fit(X_train_semi)\n",
        "\n",
        "    # Encode X_train_semi and X_train_labeled\n",
        "    X_train_semi = vectorizer.transform(X_train_semi).toarray()\n",
        "    X_train_labeled = vectorizer.transform(X_train_labeled).toarray()\n",
        "\n",
        "    # Define a function to streamline lemmatization and vectorization\n",
        "    def lemma_preprocess(list_of_sen):\n",
        "        for i in range(len(list_of_sen)):\n",
        "            list_of_sen[i] = list_of_sen[i].lower()\n",
        "            list_of_sen[i]= list_of_sen[i].replace(\",\", \"\").replace(\".\", \"\").replace(\"'\", \"\").replace(\"-\", \" \")\n",
        "            list_of_sen[i] = word_tokenize(list_of_sen[i])\n",
        "\n",
        "            for j in range(len(list_of_sen[i])):\n",
        "                list_of_sen[i][j] = wordnet_lemmatizer.lemmatize(list_of_sen[i][j])\n",
        "\n",
        "            list_of_sen[i] = \" \".join(list_of_sen[i])\n",
        "\n",
        "        return vectorizer.transform(list_of_sen).toarray()\n",
        "\n",
        "    # Lemmatize and vectorize the test data\n",
        "    X_test = lemma_preprocess(X_test)\n",
        "\n",
        "    return X_train_semi, y_train_semi, X_train_labeled, y_train_labeled, X_test, y_test"
      ],
      "metadata": {
        "id": "8RtxqsOZONUS"
      },
      "execution_count": 21,
      "outputs": []
    },
    {
      "cell_type": "markdown",
      "source": [
        "## Semi-supervised/Boostrapping model\n"
      ],
      "metadata": {
        "id": "OpyAefyH3CcY"
      }
    },
    {
      "cell_type": "markdown",
      "source": [
        "### Word: country\n",
        "\n",
        "We pick two senses of country. They are:\n",
        "1.  S: (n) state (state%1:14:00::), nation (nation%1:14:00::), country (country%1:14:00::), land (land%1:14:00::), commonwealth (commonwealth%1:14:00::), res publica (res_publica%1:14:00::), body politic (body_politic%1:14:00::) (a politically organized body of people under a single government) \"the state has elected a new president\"; \"African nations\"; \"students who had come to the nation's capitol\"; \"the country's largest manufacturer\"; \"an industrialized land\".\n",
        "2.  S: (n) country (country%1:15:01::), rural area (rural_area%1:15:00::) (an area outside of cities and towns) \"his poetry celebrated the slower pace of life in the country\"\n",
        "\n",
        "We assign 1 to the first sense and 2 to the second sense."
      ],
      "metadata": {
        "id": "2vg_4qlvQQk5"
      }
    },
    {
      "cell_type": "code",
      "source": [
        "# parameters to change\n",
        "target_word = \"country\"\n",
        "sense_1_file = \"/content/country_nation.txt\"\n",
        "sense_2_file = \"/content/country_rural.txt\"\n",
        "general_file = \"/content/country.txt\"\n",
        "sense_1 = \"1:14:00::\"\n",
        "sense_2 = \"1:15:01::\""
      ],
      "metadata": {
        "id": "2GQu8TheQQk5"
      },
      "execution_count": 22,
      "outputs": []
    },
    {
      "cell_type": "markdown",
      "source": [
        "Let's try out unigram, bigram, and trigram models."
      ],
      "metadata": {
        "id": "BJA1JS34Wk7t"
      }
    },
    {
      "cell_type": "code",
      "source": [
        "# unigram\n",
        "X_train_semi, y_train_semi, X_train_labeled, y_train_labeled, X_test, y_test = output_train_test_sets(target_word, sense_1_file, sense_2_file, sense_1, sense_2, \"uni\")"
      ],
      "metadata": {
        "colab": {
          "base_uri": "https://localhost:8080/"
        },
        "outputId": "4fb4d731-2eb4-45da-9f58-a1ce2213f7a0",
        "id": "Wpzmda02QQk5"
      },
      "execution_count": 23,
      "outputs": [
        {
          "output_type": "stream",
          "name": "stdout",
          "text": [
            "Size of unlabeled training set:  100\n",
            "Size of labeled training set:  107\n",
            "Size of test set (labeled):  18\n"
          ]
        }
      ]
    },
    {
      "cell_type": "code",
      "source": [
        "param_grid = {'kernel': ['knn', 'rbf'],\n",
        "              'gamma': [3.0, 5.0, 10.0],\n",
        "              'n_neighbors': [1, 2, 3, 4],\n",
        "              'alpha': [0.001, 0.01, 0.05, 0.1],\n",
        "              'max_iter': [1, 2, 3, 5]}\n",
        "\n",
        "semi_uni_model = GridSearchCV(LabelSpreading(), param_grid, refit=True, verbose=3, n_jobs=-1)\n",
        "semi_uni_model.fit(X_train_semi, y_train_semi)"
      ],
      "metadata": {
        "colab": {
          "base_uri": "https://localhost:8080/",
          "height": 191
        },
        "id": "a7MX_tgVW3yO",
        "outputId": "7c50611f-9554-4b12-b57e-36f4e66dcace"
      },
      "execution_count": 24,
      "outputs": [
        {
          "output_type": "stream",
          "name": "stdout",
          "text": [
            "Fitting 5 folds for each of 384 candidates, totalling 1920 fits\n"
          ]
        },
        {
          "output_type": "stream",
          "name": "stderr",
          "text": [
            "/usr/local/lib/python3.10/dist-packages/sklearn/semi_supervised/_label_propagation.py:318: ConvergenceWarning: max_iter=1 was reached without convergence.\n",
            "  warnings.warn(\n"
          ]
        },
        {
          "output_type": "execute_result",
          "data": {
            "text/plain": [
              "GridSearchCV(estimator=LabelSpreading(), n_jobs=-1,\n",
              "             param_grid={'alpha': [0.001, 0.01, 0.05, 0.1],\n",
              "                         'gamma': [3.0, 5.0, 10.0], 'kernel': ['knn', 'rbf'],\n",
              "                         'max_iter': [1, 2, 3, 5],\n",
              "                         'n_neighbors': [1, 2, 3, 4]},\n",
              "             verbose=3)"
            ],
            "text/html": [
              "<style>#sk-container-id-1 {color: black;background-color: white;}#sk-container-id-1 pre{padding: 0;}#sk-container-id-1 div.sk-toggleable {background-color: white;}#sk-container-id-1 label.sk-toggleable__label {cursor: pointer;display: block;width: 100%;margin-bottom: 0;padding: 0.3em;box-sizing: border-box;text-align: center;}#sk-container-id-1 label.sk-toggleable__label-arrow:before {content: \"▸\";float: left;margin-right: 0.25em;color: #696969;}#sk-container-id-1 label.sk-toggleable__label-arrow:hover:before {color: black;}#sk-container-id-1 div.sk-estimator:hover label.sk-toggleable__label-arrow:before {color: black;}#sk-container-id-1 div.sk-toggleable__content {max-height: 0;max-width: 0;overflow: hidden;text-align: left;background-color: #f0f8ff;}#sk-container-id-1 div.sk-toggleable__content pre {margin: 0.2em;color: black;border-radius: 0.25em;background-color: #f0f8ff;}#sk-container-id-1 input.sk-toggleable__control:checked~div.sk-toggleable__content {max-height: 200px;max-width: 100%;overflow: auto;}#sk-container-id-1 input.sk-toggleable__control:checked~label.sk-toggleable__label-arrow:before {content: \"▾\";}#sk-container-id-1 div.sk-estimator input.sk-toggleable__control:checked~label.sk-toggleable__label {background-color: #d4ebff;}#sk-container-id-1 div.sk-label input.sk-toggleable__control:checked~label.sk-toggleable__label {background-color: #d4ebff;}#sk-container-id-1 input.sk-hidden--visually {border: 0;clip: rect(1px 1px 1px 1px);clip: rect(1px, 1px, 1px, 1px);height: 1px;margin: -1px;overflow: hidden;padding: 0;position: absolute;width: 1px;}#sk-container-id-1 div.sk-estimator {font-family: monospace;background-color: #f0f8ff;border: 1px dotted black;border-radius: 0.25em;box-sizing: border-box;margin-bottom: 0.5em;}#sk-container-id-1 div.sk-estimator:hover {background-color: #d4ebff;}#sk-container-id-1 div.sk-parallel-item::after {content: \"\";width: 100%;border-bottom: 1px solid gray;flex-grow: 1;}#sk-container-id-1 div.sk-label:hover label.sk-toggleable__label {background-color: #d4ebff;}#sk-container-id-1 div.sk-serial::before {content: \"\";position: absolute;border-left: 1px solid gray;box-sizing: border-box;top: 0;bottom: 0;left: 50%;z-index: 0;}#sk-container-id-1 div.sk-serial {display: flex;flex-direction: column;align-items: center;background-color: white;padding-right: 0.2em;padding-left: 0.2em;position: relative;}#sk-container-id-1 div.sk-item {position: relative;z-index: 1;}#sk-container-id-1 div.sk-parallel {display: flex;align-items: stretch;justify-content: center;background-color: white;position: relative;}#sk-container-id-1 div.sk-item::before, #sk-container-id-1 div.sk-parallel-item::before {content: \"\";position: absolute;border-left: 1px solid gray;box-sizing: border-box;top: 0;bottom: 0;left: 50%;z-index: -1;}#sk-container-id-1 div.sk-parallel-item {display: flex;flex-direction: column;z-index: 1;position: relative;background-color: white;}#sk-container-id-1 div.sk-parallel-item:first-child::after {align-self: flex-end;width: 50%;}#sk-container-id-1 div.sk-parallel-item:last-child::after {align-self: flex-start;width: 50%;}#sk-container-id-1 div.sk-parallel-item:only-child::after {width: 0;}#sk-container-id-1 div.sk-dashed-wrapped {border: 1px dashed gray;margin: 0 0.4em 0.5em 0.4em;box-sizing: border-box;padding-bottom: 0.4em;background-color: white;}#sk-container-id-1 div.sk-label label {font-family: monospace;font-weight: bold;display: inline-block;line-height: 1.2em;}#sk-container-id-1 div.sk-label-container {text-align: center;}#sk-container-id-1 div.sk-container {/* jupyter's `normalize.less` sets `[hidden] { display: none; }` but bootstrap.min.css set `[hidden] { display: none !important; }` so we also need the `!important` here to be able to override the default hidden behavior on the sphinx rendered scikit-learn.org. See: https://github.com/scikit-learn/scikit-learn/issues/21755 */display: inline-block !important;position: relative;}#sk-container-id-1 div.sk-text-repr-fallback {display: none;}</style><div id=\"sk-container-id-1\" class=\"sk-top-container\"><div class=\"sk-text-repr-fallback\"><pre>GridSearchCV(estimator=LabelSpreading(), n_jobs=-1,\n",
              "             param_grid={&#x27;alpha&#x27;: [0.001, 0.01, 0.05, 0.1],\n",
              "                         &#x27;gamma&#x27;: [3.0, 5.0, 10.0], &#x27;kernel&#x27;: [&#x27;knn&#x27;, &#x27;rbf&#x27;],\n",
              "                         &#x27;max_iter&#x27;: [1, 2, 3, 5],\n",
              "                         &#x27;n_neighbors&#x27;: [1, 2, 3, 4]},\n",
              "             verbose=3)</pre><b>In a Jupyter environment, please rerun this cell to show the HTML representation or trust the notebook. <br />On GitHub, the HTML representation is unable to render, please try loading this page with nbviewer.org.</b></div><div class=\"sk-container\" hidden><div class=\"sk-item sk-dashed-wrapped\"><div class=\"sk-label-container\"><div class=\"sk-label sk-toggleable\"><input class=\"sk-toggleable__control sk-hidden--visually\" id=\"sk-estimator-id-1\" type=\"checkbox\" ><label for=\"sk-estimator-id-1\" class=\"sk-toggleable__label sk-toggleable__label-arrow\">GridSearchCV</label><div class=\"sk-toggleable__content\"><pre>GridSearchCV(estimator=LabelSpreading(), n_jobs=-1,\n",
              "             param_grid={&#x27;alpha&#x27;: [0.001, 0.01, 0.05, 0.1],\n",
              "                         &#x27;gamma&#x27;: [3.0, 5.0, 10.0], &#x27;kernel&#x27;: [&#x27;knn&#x27;, &#x27;rbf&#x27;],\n",
              "                         &#x27;max_iter&#x27;: [1, 2, 3, 5],\n",
              "                         &#x27;n_neighbors&#x27;: [1, 2, 3, 4]},\n",
              "             verbose=3)</pre></div></div></div><div class=\"sk-parallel\"><div class=\"sk-parallel-item\"><div class=\"sk-item\"><div class=\"sk-label-container\"><div class=\"sk-label sk-toggleable\"><input class=\"sk-toggleable__control sk-hidden--visually\" id=\"sk-estimator-id-2\" type=\"checkbox\" ><label for=\"sk-estimator-id-2\" class=\"sk-toggleable__label sk-toggleable__label-arrow\">estimator: LabelSpreading</label><div class=\"sk-toggleable__content\"><pre>LabelSpreading()</pre></div></div></div><div class=\"sk-serial\"><div class=\"sk-item\"><div class=\"sk-estimator sk-toggleable\"><input class=\"sk-toggleable__control sk-hidden--visually\" id=\"sk-estimator-id-3\" type=\"checkbox\" ><label for=\"sk-estimator-id-3\" class=\"sk-toggleable__label sk-toggleable__label-arrow\">LabelSpreading</label><div class=\"sk-toggleable__content\"><pre>LabelSpreading()</pre></div></div></div></div></div></div></div></div></div></div>"
            ]
          },
          "metadata": {},
          "execution_count": 24
        }
      ]
    },
    {
      "cell_type": "code",
      "source": [
        "print(\"Semi-Supervised Model \\\"country\\\" with Unigram Proprocessing - Best Hyperparameters\\n\")\n",
        "print(semi_uni_model.best_params_)\n",
        "print()"
      ],
      "metadata": {
        "colab": {
          "base_uri": "https://localhost:8080/"
        },
        "id": "cRXx-dxFW6lb",
        "outputId": "49a3a01b-0c6d-499a-e92f-7a08b13a8d74"
      },
      "execution_count": 25,
      "outputs": [
        {
          "output_type": "stream",
          "name": "stdout",
          "text": [
            "Semi-Supervised Model \"country\" with Unigram Proprocessing - Best Hyperparameters\n",
            "\n",
            "{'alpha': 0.001, 'gamma': 5.0, 'kernel': 'rbf', 'max_iter': 1, 'n_neighbors': 1}\n",
            "\n"
          ]
        }
      ]
    },
    {
      "cell_type": "code",
      "source": [
        "semi_uni_model_predictions = semi_uni_model.predict(X_test)\n",
        "semi_uni_report = classification_report(y_test, semi_uni_model_predictions)\n",
        "print(\"Semi-Supervised Model \\\"country\\\" with Unigram Proprocessing - Performance Report\\n\")\n",
        "print(semi_uni_report)\n",
        "print()"
      ],
      "metadata": {
        "colab": {
          "base_uri": "https://localhost:8080/"
        },
        "id": "Bs_SfJuFW-6J",
        "outputId": "41ed44c8-e104-47d1-8d9c-19a04db4c3fb"
      },
      "execution_count": 26,
      "outputs": [
        {
          "output_type": "stream",
          "name": "stdout",
          "text": [
            "Semi-Supervised Model \"country\" with Unigram Proprocessing - Performance Report\n",
            "\n",
            "              precision    recall  f1-score   support\n",
            "\n",
            "           1       1.00      0.94      0.97        18\n",
            "           2       0.00      0.00      0.00         0\n",
            "\n",
            "    accuracy                           0.94        18\n",
            "   macro avg       0.50      0.47      0.49        18\n",
            "weighted avg       1.00      0.94      0.97        18\n",
            "\n",
            "\n"
          ]
        },
        {
          "output_type": "stream",
          "name": "stderr",
          "text": [
            "/usr/local/lib/python3.10/dist-packages/sklearn/metrics/_classification.py:1344: UndefinedMetricWarning: Recall and F-score are ill-defined and being set to 0.0 in labels with no true samples. Use `zero_division` parameter to control this behavior.\n",
            "  _warn_prf(average, modifier, msg_start, len(result))\n",
            "/usr/local/lib/python3.10/dist-packages/sklearn/metrics/_classification.py:1344: UndefinedMetricWarning: Recall and F-score are ill-defined and being set to 0.0 in labels with no true samples. Use `zero_division` parameter to control this behavior.\n",
            "  _warn_prf(average, modifier, msg_start, len(result))\n",
            "/usr/local/lib/python3.10/dist-packages/sklearn/metrics/_classification.py:1344: UndefinedMetricWarning: Recall and F-score are ill-defined and being set to 0.0 in labels with no true samples. Use `zero_division` parameter to control this behavior.\n",
            "  _warn_prf(average, modifier, msg_start, len(result))\n"
          ]
        }
      ]
    },
    {
      "cell_type": "code",
      "source": [
        "print(semi_uni_model_predictions)\n",
        "print(y_test)"
      ],
      "metadata": {
        "colab": {
          "base_uri": "https://localhost:8080/"
        },
        "id": "kfOA5pBkPuTW",
        "outputId": "f7869646-45b0-47e5-da1c-52efbb217c85"
      },
      "execution_count": 27,
      "outputs": [
        {
          "output_type": "stream",
          "name": "stdout",
          "text": [
            "[1 1 1 1 1 1 1 1 1 1 1 1 1 1 1 1 1 2]\n",
            "[1, 1, 1, 1, 1, 1, 1, 1, 1, 1, 1, 1, 1, 1, 1, 1, 1, 1]\n"
          ]
        }
      ]
    },
    {
      "cell_type": "code",
      "source": [
        "# bigram\n",
        "X_train_semi, y_train_semi, X_train_labeled, y_train_labeled, X_test, y_test = output_train_test_sets(target_word, sense_1_file, sense_2_file, sense_1, sense_2, \"bi\")"
      ],
      "metadata": {
        "colab": {
          "base_uri": "https://localhost:8080/"
        },
        "outputId": "7cf20c5e-11dc-4c39-ab29-698064819fee",
        "id": "-QoEtEOsZ2Qf"
      },
      "execution_count": 28,
      "outputs": [
        {
          "output_type": "stream",
          "name": "stdout",
          "text": [
            "Size of unlabeled training set:  100\n",
            "Size of labeled training set:  107\n",
            "Size of test set (labeled):  18\n"
          ]
        }
      ]
    },
    {
      "cell_type": "code",
      "source": [
        "param_grid = {'kernel': ['knn', 'rbf'],\n",
        "              'gamma': [2.0, 3.0, 4.0],\n",
        "              'n_neighbors': [1, 2, 3, 4],\n",
        "              'alpha': [0.001, 0.01, 0.05, 0.1],\n",
        "              'max_iter': [1, 2, 3, 5]}\n",
        "\n",
        "semi_bi_model = GridSearchCV(LabelSpreading(), param_grid, refit=True, verbose=3, n_jobs=-1)\n",
        "semi_bi_model.fit(X_train_semi, y_train_semi)"
      ],
      "metadata": {
        "colab": {
          "base_uri": "https://localhost:8080/",
          "height": 191
        },
        "outputId": "81a1b533-f6ec-4a5d-8991-416958331efc",
        "id": "3ile0ylIZ2Qf"
      },
      "execution_count": 29,
      "outputs": [
        {
          "output_type": "stream",
          "name": "stdout",
          "text": [
            "Fitting 5 folds for each of 384 candidates, totalling 1920 fits\n"
          ]
        },
        {
          "output_type": "stream",
          "name": "stderr",
          "text": [
            "/usr/local/lib/python3.10/dist-packages/sklearn/semi_supervised/_label_propagation.py:318: ConvergenceWarning: max_iter=1 was reached without convergence.\n",
            "  warnings.warn(\n"
          ]
        },
        {
          "output_type": "execute_result",
          "data": {
            "text/plain": [
              "GridSearchCV(estimator=LabelSpreading(), n_jobs=-1,\n",
              "             param_grid={'alpha': [0.001, 0.01, 0.05, 0.1],\n",
              "                         'gamma': [2.0, 3.0, 4.0], 'kernel': ['knn', 'rbf'],\n",
              "                         'max_iter': [1, 2, 3, 5],\n",
              "                         'n_neighbors': [1, 2, 3, 4]},\n",
              "             verbose=3)"
            ],
            "text/html": [
              "<style>#sk-container-id-2 {color: black;background-color: white;}#sk-container-id-2 pre{padding: 0;}#sk-container-id-2 div.sk-toggleable {background-color: white;}#sk-container-id-2 label.sk-toggleable__label {cursor: pointer;display: block;width: 100%;margin-bottom: 0;padding: 0.3em;box-sizing: border-box;text-align: center;}#sk-container-id-2 label.sk-toggleable__label-arrow:before {content: \"▸\";float: left;margin-right: 0.25em;color: #696969;}#sk-container-id-2 label.sk-toggleable__label-arrow:hover:before {color: black;}#sk-container-id-2 div.sk-estimator:hover label.sk-toggleable__label-arrow:before {color: black;}#sk-container-id-2 div.sk-toggleable__content {max-height: 0;max-width: 0;overflow: hidden;text-align: left;background-color: #f0f8ff;}#sk-container-id-2 div.sk-toggleable__content pre {margin: 0.2em;color: black;border-radius: 0.25em;background-color: #f0f8ff;}#sk-container-id-2 input.sk-toggleable__control:checked~div.sk-toggleable__content {max-height: 200px;max-width: 100%;overflow: auto;}#sk-container-id-2 input.sk-toggleable__control:checked~label.sk-toggleable__label-arrow:before {content: \"▾\";}#sk-container-id-2 div.sk-estimator input.sk-toggleable__control:checked~label.sk-toggleable__label {background-color: #d4ebff;}#sk-container-id-2 div.sk-label input.sk-toggleable__control:checked~label.sk-toggleable__label {background-color: #d4ebff;}#sk-container-id-2 input.sk-hidden--visually {border: 0;clip: rect(1px 1px 1px 1px);clip: rect(1px, 1px, 1px, 1px);height: 1px;margin: -1px;overflow: hidden;padding: 0;position: absolute;width: 1px;}#sk-container-id-2 div.sk-estimator {font-family: monospace;background-color: #f0f8ff;border: 1px dotted black;border-radius: 0.25em;box-sizing: border-box;margin-bottom: 0.5em;}#sk-container-id-2 div.sk-estimator:hover {background-color: #d4ebff;}#sk-container-id-2 div.sk-parallel-item::after {content: \"\";width: 100%;border-bottom: 1px solid gray;flex-grow: 1;}#sk-container-id-2 div.sk-label:hover label.sk-toggleable__label {background-color: #d4ebff;}#sk-container-id-2 div.sk-serial::before {content: \"\";position: absolute;border-left: 1px solid gray;box-sizing: border-box;top: 0;bottom: 0;left: 50%;z-index: 0;}#sk-container-id-2 div.sk-serial {display: flex;flex-direction: column;align-items: center;background-color: white;padding-right: 0.2em;padding-left: 0.2em;position: relative;}#sk-container-id-2 div.sk-item {position: relative;z-index: 1;}#sk-container-id-2 div.sk-parallel {display: flex;align-items: stretch;justify-content: center;background-color: white;position: relative;}#sk-container-id-2 div.sk-item::before, #sk-container-id-2 div.sk-parallel-item::before {content: \"\";position: absolute;border-left: 1px solid gray;box-sizing: border-box;top: 0;bottom: 0;left: 50%;z-index: -1;}#sk-container-id-2 div.sk-parallel-item {display: flex;flex-direction: column;z-index: 1;position: relative;background-color: white;}#sk-container-id-2 div.sk-parallel-item:first-child::after {align-self: flex-end;width: 50%;}#sk-container-id-2 div.sk-parallel-item:last-child::after {align-self: flex-start;width: 50%;}#sk-container-id-2 div.sk-parallel-item:only-child::after {width: 0;}#sk-container-id-2 div.sk-dashed-wrapped {border: 1px dashed gray;margin: 0 0.4em 0.5em 0.4em;box-sizing: border-box;padding-bottom: 0.4em;background-color: white;}#sk-container-id-2 div.sk-label label {font-family: monospace;font-weight: bold;display: inline-block;line-height: 1.2em;}#sk-container-id-2 div.sk-label-container {text-align: center;}#sk-container-id-2 div.sk-container {/* jupyter's `normalize.less` sets `[hidden] { display: none; }` but bootstrap.min.css set `[hidden] { display: none !important; }` so we also need the `!important` here to be able to override the default hidden behavior on the sphinx rendered scikit-learn.org. See: https://github.com/scikit-learn/scikit-learn/issues/21755 */display: inline-block !important;position: relative;}#sk-container-id-2 div.sk-text-repr-fallback {display: none;}</style><div id=\"sk-container-id-2\" class=\"sk-top-container\"><div class=\"sk-text-repr-fallback\"><pre>GridSearchCV(estimator=LabelSpreading(), n_jobs=-1,\n",
              "             param_grid={&#x27;alpha&#x27;: [0.001, 0.01, 0.05, 0.1],\n",
              "                         &#x27;gamma&#x27;: [2.0, 3.0, 4.0], &#x27;kernel&#x27;: [&#x27;knn&#x27;, &#x27;rbf&#x27;],\n",
              "                         &#x27;max_iter&#x27;: [1, 2, 3, 5],\n",
              "                         &#x27;n_neighbors&#x27;: [1, 2, 3, 4]},\n",
              "             verbose=3)</pre><b>In a Jupyter environment, please rerun this cell to show the HTML representation or trust the notebook. <br />On GitHub, the HTML representation is unable to render, please try loading this page with nbviewer.org.</b></div><div class=\"sk-container\" hidden><div class=\"sk-item sk-dashed-wrapped\"><div class=\"sk-label-container\"><div class=\"sk-label sk-toggleable\"><input class=\"sk-toggleable__control sk-hidden--visually\" id=\"sk-estimator-id-4\" type=\"checkbox\" ><label for=\"sk-estimator-id-4\" class=\"sk-toggleable__label sk-toggleable__label-arrow\">GridSearchCV</label><div class=\"sk-toggleable__content\"><pre>GridSearchCV(estimator=LabelSpreading(), n_jobs=-1,\n",
              "             param_grid={&#x27;alpha&#x27;: [0.001, 0.01, 0.05, 0.1],\n",
              "                         &#x27;gamma&#x27;: [2.0, 3.0, 4.0], &#x27;kernel&#x27;: [&#x27;knn&#x27;, &#x27;rbf&#x27;],\n",
              "                         &#x27;max_iter&#x27;: [1, 2, 3, 5],\n",
              "                         &#x27;n_neighbors&#x27;: [1, 2, 3, 4]},\n",
              "             verbose=3)</pre></div></div></div><div class=\"sk-parallel\"><div class=\"sk-parallel-item\"><div class=\"sk-item\"><div class=\"sk-label-container\"><div class=\"sk-label sk-toggleable\"><input class=\"sk-toggleable__control sk-hidden--visually\" id=\"sk-estimator-id-5\" type=\"checkbox\" ><label for=\"sk-estimator-id-5\" class=\"sk-toggleable__label sk-toggleable__label-arrow\">estimator: LabelSpreading</label><div class=\"sk-toggleable__content\"><pre>LabelSpreading()</pre></div></div></div><div class=\"sk-serial\"><div class=\"sk-item\"><div class=\"sk-estimator sk-toggleable\"><input class=\"sk-toggleable__control sk-hidden--visually\" id=\"sk-estimator-id-6\" type=\"checkbox\" ><label for=\"sk-estimator-id-6\" class=\"sk-toggleable__label sk-toggleable__label-arrow\">LabelSpreading</label><div class=\"sk-toggleable__content\"><pre>LabelSpreading()</pre></div></div></div></div></div></div></div></div></div></div>"
            ]
          },
          "metadata": {},
          "execution_count": 29
        }
      ]
    },
    {
      "cell_type": "code",
      "source": [
        "print(\"Semi-Supervised Model \\\"country\\\" with Bigram Proprocessing - Best Hyperparameters\\n\")\n",
        "print(semi_bi_model.best_params_)\n",
        "print()"
      ],
      "metadata": {
        "colab": {
          "base_uri": "https://localhost:8080/"
        },
        "outputId": "427b6d62-cf89-4e65-a178-90725aefd7e6",
        "id": "WjVMJ3atZ2Qf"
      },
      "execution_count": 30,
      "outputs": [
        {
          "output_type": "stream",
          "name": "stdout",
          "text": [
            "Semi-Supervised Model \"country\" with Bigram Proprocessing - Best Hyperparameters\n",
            "\n",
            "{'alpha': 0.001, 'gamma': 3.0, 'kernel': 'rbf', 'max_iter': 1, 'n_neighbors': 1}\n",
            "\n"
          ]
        }
      ]
    },
    {
      "cell_type": "code",
      "source": [
        "semi_bi_model_predictions = semi_bi_model.predict(X_test)\n",
        "semi_bi_report = classification_report(y_test, semi_bi_model_predictions)\n",
        "print(\"Semi-Supervised Model \\\"country\\\" with Bigram Proprocessing - Performance Report\\n\")\n",
        "print(semi_bi_report)\n",
        "print()"
      ],
      "metadata": {
        "colab": {
          "base_uri": "https://localhost:8080/"
        },
        "outputId": "860971a7-ccfa-48db-c430-f7198ed3a025",
        "id": "axZPc_faZ2Qf"
      },
      "execution_count": 31,
      "outputs": [
        {
          "output_type": "stream",
          "name": "stdout",
          "text": [
            "Semi-Supervised Model \"country\" with Bigram Proprocessing - Performance Report\n",
            "\n",
            "              precision    recall  f1-score   support\n",
            "\n",
            "           1       1.00      1.00      1.00        18\n",
            "\n",
            "    accuracy                           1.00        18\n",
            "   macro avg       1.00      1.00      1.00        18\n",
            "weighted avg       1.00      1.00      1.00        18\n",
            "\n",
            "\n"
          ]
        }
      ]
    },
    {
      "cell_type": "code",
      "source": [
        "print(semi_bi_model_predictions)\n",
        "print(y_test)"
      ],
      "metadata": {
        "colab": {
          "base_uri": "https://localhost:8080/"
        },
        "id": "9bc0rDN7P-ui",
        "outputId": "2d391195-a743-46b0-adfe-e60105a4019d"
      },
      "execution_count": 32,
      "outputs": [
        {
          "output_type": "stream",
          "name": "stdout",
          "text": [
            "[1 1 1 1 1 1 1 1 1 1 1 1 1 1 1 1 1 1]\n",
            "[1, 1, 1, 1, 1, 1, 1, 1, 1, 1, 1, 1, 1, 1, 1, 1, 1, 1]\n"
          ]
        }
      ]
    },
    {
      "cell_type": "code",
      "source": [
        "# trigram\n",
        "X_train_semi, y_train_semi, X_train_labeled, y_train_labeled, X_test, y_test = output_train_test_sets(target_word, sense_1_file, sense_2_file, sense_1, sense_2, \"tri\")"
      ],
      "metadata": {
        "colab": {
          "base_uri": "https://localhost:8080/"
        },
        "outputId": "7fe3f464-4d8f-4608-b99a-4a0e0f3664c6",
        "id": "y-Er4J1dakWk"
      },
      "execution_count": 33,
      "outputs": [
        {
          "output_type": "stream",
          "name": "stdout",
          "text": [
            "Size of unlabeled training set:  100\n",
            "Size of labeled training set:  107\n",
            "Size of test set (labeled):  18\n"
          ]
        }
      ]
    },
    {
      "cell_type": "code",
      "source": [
        "param_grid = {'kernel': ['knn', 'rbf'],\n",
        "              'gamma': [1.0, 2.0, 3.0],\n",
        "              'n_neighbors': [1, 2, 3, 4],\n",
        "              'alpha': [0.00001, 0.0001, .001, 0.01],\n",
        "              'max_iter': [1, 2, 3]}\n",
        "\n",
        "semi_tri_model = GridSearchCV(LabelSpreading(), param_grid, refit=True, verbose=3, n_jobs=-1)\n",
        "semi_tri_model.fit(X_train_semi, y_train_semi)"
      ],
      "metadata": {
        "colab": {
          "base_uri": "https://localhost:8080/",
          "height": 191
        },
        "outputId": "e6c0fcd8-16b2-4246-dbc4-9cb980e35e31",
        "id": "0ZuSJdw7akWk"
      },
      "execution_count": 34,
      "outputs": [
        {
          "output_type": "stream",
          "name": "stdout",
          "text": [
            "Fitting 5 folds for each of 288 candidates, totalling 1440 fits\n"
          ]
        },
        {
          "output_type": "stream",
          "name": "stderr",
          "text": [
            "/usr/local/lib/python3.10/dist-packages/sklearn/semi_supervised/_label_propagation.py:318: ConvergenceWarning: max_iter=1 was reached without convergence.\n",
            "  warnings.warn(\n"
          ]
        },
        {
          "output_type": "execute_result",
          "data": {
            "text/plain": [
              "GridSearchCV(estimator=LabelSpreading(), n_jobs=-1,\n",
              "             param_grid={'alpha': [1e-05, 0.0001, 0.001, 0.01],\n",
              "                         'gamma': [1.0, 2.0, 3.0], 'kernel': ['knn', 'rbf'],\n",
              "                         'max_iter': [1, 2, 3], 'n_neighbors': [1, 2, 3, 4]},\n",
              "             verbose=3)"
            ],
            "text/html": [
              "<style>#sk-container-id-3 {color: black;background-color: white;}#sk-container-id-3 pre{padding: 0;}#sk-container-id-3 div.sk-toggleable {background-color: white;}#sk-container-id-3 label.sk-toggleable__label {cursor: pointer;display: block;width: 100%;margin-bottom: 0;padding: 0.3em;box-sizing: border-box;text-align: center;}#sk-container-id-3 label.sk-toggleable__label-arrow:before {content: \"▸\";float: left;margin-right: 0.25em;color: #696969;}#sk-container-id-3 label.sk-toggleable__label-arrow:hover:before {color: black;}#sk-container-id-3 div.sk-estimator:hover label.sk-toggleable__label-arrow:before {color: black;}#sk-container-id-3 div.sk-toggleable__content {max-height: 0;max-width: 0;overflow: hidden;text-align: left;background-color: #f0f8ff;}#sk-container-id-3 div.sk-toggleable__content pre {margin: 0.2em;color: black;border-radius: 0.25em;background-color: #f0f8ff;}#sk-container-id-3 input.sk-toggleable__control:checked~div.sk-toggleable__content {max-height: 200px;max-width: 100%;overflow: auto;}#sk-container-id-3 input.sk-toggleable__control:checked~label.sk-toggleable__label-arrow:before {content: \"▾\";}#sk-container-id-3 div.sk-estimator input.sk-toggleable__control:checked~label.sk-toggleable__label {background-color: #d4ebff;}#sk-container-id-3 div.sk-label input.sk-toggleable__control:checked~label.sk-toggleable__label {background-color: #d4ebff;}#sk-container-id-3 input.sk-hidden--visually {border: 0;clip: rect(1px 1px 1px 1px);clip: rect(1px, 1px, 1px, 1px);height: 1px;margin: -1px;overflow: hidden;padding: 0;position: absolute;width: 1px;}#sk-container-id-3 div.sk-estimator {font-family: monospace;background-color: #f0f8ff;border: 1px dotted black;border-radius: 0.25em;box-sizing: border-box;margin-bottom: 0.5em;}#sk-container-id-3 div.sk-estimator:hover {background-color: #d4ebff;}#sk-container-id-3 div.sk-parallel-item::after {content: \"\";width: 100%;border-bottom: 1px solid gray;flex-grow: 1;}#sk-container-id-3 div.sk-label:hover label.sk-toggleable__label {background-color: #d4ebff;}#sk-container-id-3 div.sk-serial::before {content: \"\";position: absolute;border-left: 1px solid gray;box-sizing: border-box;top: 0;bottom: 0;left: 50%;z-index: 0;}#sk-container-id-3 div.sk-serial {display: flex;flex-direction: column;align-items: center;background-color: white;padding-right: 0.2em;padding-left: 0.2em;position: relative;}#sk-container-id-3 div.sk-item {position: relative;z-index: 1;}#sk-container-id-3 div.sk-parallel {display: flex;align-items: stretch;justify-content: center;background-color: white;position: relative;}#sk-container-id-3 div.sk-item::before, #sk-container-id-3 div.sk-parallel-item::before {content: \"\";position: absolute;border-left: 1px solid gray;box-sizing: border-box;top: 0;bottom: 0;left: 50%;z-index: -1;}#sk-container-id-3 div.sk-parallel-item {display: flex;flex-direction: column;z-index: 1;position: relative;background-color: white;}#sk-container-id-3 div.sk-parallel-item:first-child::after {align-self: flex-end;width: 50%;}#sk-container-id-3 div.sk-parallel-item:last-child::after {align-self: flex-start;width: 50%;}#sk-container-id-3 div.sk-parallel-item:only-child::after {width: 0;}#sk-container-id-3 div.sk-dashed-wrapped {border: 1px dashed gray;margin: 0 0.4em 0.5em 0.4em;box-sizing: border-box;padding-bottom: 0.4em;background-color: white;}#sk-container-id-3 div.sk-label label {font-family: monospace;font-weight: bold;display: inline-block;line-height: 1.2em;}#sk-container-id-3 div.sk-label-container {text-align: center;}#sk-container-id-3 div.sk-container {/* jupyter's `normalize.less` sets `[hidden] { display: none; }` but bootstrap.min.css set `[hidden] { display: none !important; }` so we also need the `!important` here to be able to override the default hidden behavior on the sphinx rendered scikit-learn.org. See: https://github.com/scikit-learn/scikit-learn/issues/21755 */display: inline-block !important;position: relative;}#sk-container-id-3 div.sk-text-repr-fallback {display: none;}</style><div id=\"sk-container-id-3\" class=\"sk-top-container\"><div class=\"sk-text-repr-fallback\"><pre>GridSearchCV(estimator=LabelSpreading(), n_jobs=-1,\n",
              "             param_grid={&#x27;alpha&#x27;: [1e-05, 0.0001, 0.001, 0.01],\n",
              "                         &#x27;gamma&#x27;: [1.0, 2.0, 3.0], &#x27;kernel&#x27;: [&#x27;knn&#x27;, &#x27;rbf&#x27;],\n",
              "                         &#x27;max_iter&#x27;: [1, 2, 3], &#x27;n_neighbors&#x27;: [1, 2, 3, 4]},\n",
              "             verbose=3)</pre><b>In a Jupyter environment, please rerun this cell to show the HTML representation or trust the notebook. <br />On GitHub, the HTML representation is unable to render, please try loading this page with nbviewer.org.</b></div><div class=\"sk-container\" hidden><div class=\"sk-item sk-dashed-wrapped\"><div class=\"sk-label-container\"><div class=\"sk-label sk-toggleable\"><input class=\"sk-toggleable__control sk-hidden--visually\" id=\"sk-estimator-id-7\" type=\"checkbox\" ><label for=\"sk-estimator-id-7\" class=\"sk-toggleable__label sk-toggleable__label-arrow\">GridSearchCV</label><div class=\"sk-toggleable__content\"><pre>GridSearchCV(estimator=LabelSpreading(), n_jobs=-1,\n",
              "             param_grid={&#x27;alpha&#x27;: [1e-05, 0.0001, 0.001, 0.01],\n",
              "                         &#x27;gamma&#x27;: [1.0, 2.0, 3.0], &#x27;kernel&#x27;: [&#x27;knn&#x27;, &#x27;rbf&#x27;],\n",
              "                         &#x27;max_iter&#x27;: [1, 2, 3], &#x27;n_neighbors&#x27;: [1, 2, 3, 4]},\n",
              "             verbose=3)</pre></div></div></div><div class=\"sk-parallel\"><div class=\"sk-parallel-item\"><div class=\"sk-item\"><div class=\"sk-label-container\"><div class=\"sk-label sk-toggleable\"><input class=\"sk-toggleable__control sk-hidden--visually\" id=\"sk-estimator-id-8\" type=\"checkbox\" ><label for=\"sk-estimator-id-8\" class=\"sk-toggleable__label sk-toggleable__label-arrow\">estimator: LabelSpreading</label><div class=\"sk-toggleable__content\"><pre>LabelSpreading()</pre></div></div></div><div class=\"sk-serial\"><div class=\"sk-item\"><div class=\"sk-estimator sk-toggleable\"><input class=\"sk-toggleable__control sk-hidden--visually\" id=\"sk-estimator-id-9\" type=\"checkbox\" ><label for=\"sk-estimator-id-9\" class=\"sk-toggleable__label sk-toggleable__label-arrow\">LabelSpreading</label><div class=\"sk-toggleable__content\"><pre>LabelSpreading()</pre></div></div></div></div></div></div></div></div></div></div>"
            ]
          },
          "metadata": {},
          "execution_count": 34
        }
      ]
    },
    {
      "cell_type": "code",
      "source": [
        "print(\"Semi-Supervised Model \\\"country\\\" with Trigram Proprocessing - Best Hyperparameters\\n\")\n",
        "print(semi_tri_model.best_params_)\n",
        "print()"
      ],
      "metadata": {
        "colab": {
          "base_uri": "https://localhost:8080/"
        },
        "outputId": "af5a7ba1-c0d1-4f42-8482-fed42faedd88",
        "id": "KX9irWJTakWk"
      },
      "execution_count": 35,
      "outputs": [
        {
          "output_type": "stream",
          "name": "stdout",
          "text": [
            "Semi-Supervised Model \"country\" with Trigram Proprocessing - Best Hyperparameters\n",
            "\n",
            "{'alpha': 1e-05, 'gamma': 1.0, 'kernel': 'knn', 'max_iter': 1, 'n_neighbors': 1}\n",
            "\n"
          ]
        }
      ]
    },
    {
      "cell_type": "code",
      "source": [
        "semi_tri_model_predictions = semi_tri_model.predict(X_test)\n",
        "semi_tri_report = classification_report(y_test, semi_tri_model_predictions)\n",
        "print(\"Semi-Supervised Model \\\"country\\\" with Trigram Proprocessing - Performance Report\\n\")\n",
        "print(semi_tri_report)\n",
        "print()"
      ],
      "metadata": {
        "colab": {
          "base_uri": "https://localhost:8080/"
        },
        "outputId": "f78b7cd6-6e15-4c09-e7eb-2f1ca9babd63",
        "id": "5hm8M1v-akWk"
      },
      "execution_count": 36,
      "outputs": [
        {
          "output_type": "stream",
          "name": "stdout",
          "text": [
            "Semi-Supervised Model \"country\" with Trigram Proprocessing - Performance Report\n",
            "\n",
            "              precision    recall  f1-score   support\n",
            "\n",
            "           1       1.00      1.00      1.00        18\n",
            "\n",
            "    accuracy                           1.00        18\n",
            "   macro avg       1.00      1.00      1.00        18\n",
            "weighted avg       1.00      1.00      1.00        18\n",
            "\n",
            "\n"
          ]
        },
        {
          "output_type": "stream",
          "name": "stderr",
          "text": [
            "/usr/local/lib/python3.10/dist-packages/sklearn/semi_supervised/_label_propagation.py:231: RuntimeWarning: invalid value encountered in divide\n",
            "  probabilities /= normalizer\n"
          ]
        }
      ]
    },
    {
      "cell_type": "code",
      "source": [
        "print(semi_tri_model_predictions)\n",
        "print(y_test)"
      ],
      "metadata": {
        "colab": {
          "base_uri": "https://localhost:8080/"
        },
        "id": "Aa91Dv1rQLkg",
        "outputId": "ca7a7137-83b9-49d5-e472-dbd0cfce371c"
      },
      "execution_count": 37,
      "outputs": [
        {
          "output_type": "stream",
          "name": "stdout",
          "text": [
            "[1 1 1 1 1 1 1 1 1 1 1 1 1 1 1 1 1 1]\n",
            "[1, 1, 1, 1, 1, 1, 1, 1, 1, 1, 1, 1, 1, 1, 1, 1, 1, 1]\n"
          ]
        }
      ]
    },
    {
      "cell_type": "markdown",
      "source": [
        "### Word: game\n",
        "\n",
        "We pick two senses of game. They are:\n",
        "1.  S: (n) plot (plot%1:09:00::), secret plan (secret_plan%1:09:00::), game (game%1:09:00::) (a secret scheme to do something (especially something underhand or illegal)) \"they concocted a plot to discredit the governor\"; \"I saw through his little game from the start\"\n",
        "2.  S: (n) game (game%1:04:03::) (a single play of a sport or other contest) \"the game lasted two hours\"\n",
        "\n",
        "We assign 1 to the first sense and 2 to the second sense."
      ],
      "metadata": {
        "id": "Ys8tNfGgQ5Nr"
      }
    },
    {
      "cell_type": "code",
      "source": [
        "# parameters to change\n",
        "target_word = \"game\"\n",
        "sense_1_file = \"/content/game_secret.txt\"\n",
        "sense_2_file = \"/content/game_contest.txt\"\n",
        "general_file = \"/content/game.txt\"\n",
        "sense_1 = \"1:09:00::\"\n",
        "sense_2 = \"1:04:03::\""
      ],
      "metadata": {
        "id": "1s7nna33Q5Ns"
      },
      "execution_count": 38,
      "outputs": []
    },
    {
      "cell_type": "code",
      "source": [
        "# unigram\n",
        "X_train_semi, y_train_semi, X_train_labeled, y_train_labeled, X_test, y_test = output_train_test_sets(target_word, sense_1_file, sense_2_file, sense_1, sense_2, \"uni\")"
      ],
      "metadata": {
        "colab": {
          "base_uri": "https://localhost:8080/"
        },
        "outputId": "e7b464ce-64a9-4505-ec95-ba2f9f9d477e",
        "id": "ku3On0afbLZ0"
      },
      "execution_count": 39,
      "outputs": [
        {
          "output_type": "stream",
          "name": "stdout",
          "text": [
            "Size of unlabeled training set:  100\n",
            "Size of labeled training set:  101\n",
            "Size of test set (labeled):  23\n"
          ]
        }
      ]
    },
    {
      "cell_type": "code",
      "source": [
        "param_grid = {'kernel': ['knn', 'rbf'],\n",
        "              'gamma': [8.0, 10.0, 12.0],\n",
        "              'n_neighbors': [1, 2, 3, 4],\n",
        "              'alpha': [0.001, 0.01, 0.05, 0.1],\n",
        "              'max_iter': [1, 2, 3, 5]}\n",
        "\n",
        "semi_uni_model = GridSearchCV(LabelSpreading(), param_grid, refit=True, verbose=3, n_jobs=-1)\n",
        "semi_uni_model.fit(X_train_semi, y_train_semi)"
      ],
      "metadata": {
        "colab": {
          "base_uri": "https://localhost:8080/",
          "height": 191
        },
        "outputId": "bcaf48ab-6f52-4b0a-cf7a-6c05e4a14883",
        "id": "H0v1Jzt2bLZ0"
      },
      "execution_count": 40,
      "outputs": [
        {
          "output_type": "stream",
          "name": "stdout",
          "text": [
            "Fitting 5 folds for each of 384 candidates, totalling 1920 fits\n"
          ]
        },
        {
          "output_type": "stream",
          "name": "stderr",
          "text": [
            "/usr/local/lib/python3.10/dist-packages/sklearn/semi_supervised/_label_propagation.py:318: ConvergenceWarning: max_iter=2 was reached without convergence.\n",
            "  warnings.warn(\n"
          ]
        },
        {
          "output_type": "execute_result",
          "data": {
            "text/plain": [
              "GridSearchCV(estimator=LabelSpreading(), n_jobs=-1,\n",
              "             param_grid={'alpha': [0.001, 0.01, 0.05, 0.1],\n",
              "                         'gamma': [8.0, 10.0, 12.0], 'kernel': ['knn', 'rbf'],\n",
              "                         'max_iter': [1, 2, 3, 5],\n",
              "                         'n_neighbors': [1, 2, 3, 4]},\n",
              "             verbose=3)"
            ],
            "text/html": [
              "<style>#sk-container-id-4 {color: black;background-color: white;}#sk-container-id-4 pre{padding: 0;}#sk-container-id-4 div.sk-toggleable {background-color: white;}#sk-container-id-4 label.sk-toggleable__label {cursor: pointer;display: block;width: 100%;margin-bottom: 0;padding: 0.3em;box-sizing: border-box;text-align: center;}#sk-container-id-4 label.sk-toggleable__label-arrow:before {content: \"▸\";float: left;margin-right: 0.25em;color: #696969;}#sk-container-id-4 label.sk-toggleable__label-arrow:hover:before {color: black;}#sk-container-id-4 div.sk-estimator:hover label.sk-toggleable__label-arrow:before {color: black;}#sk-container-id-4 div.sk-toggleable__content {max-height: 0;max-width: 0;overflow: hidden;text-align: left;background-color: #f0f8ff;}#sk-container-id-4 div.sk-toggleable__content pre {margin: 0.2em;color: black;border-radius: 0.25em;background-color: #f0f8ff;}#sk-container-id-4 input.sk-toggleable__control:checked~div.sk-toggleable__content {max-height: 200px;max-width: 100%;overflow: auto;}#sk-container-id-4 input.sk-toggleable__control:checked~label.sk-toggleable__label-arrow:before {content: \"▾\";}#sk-container-id-4 div.sk-estimator input.sk-toggleable__control:checked~label.sk-toggleable__label {background-color: #d4ebff;}#sk-container-id-4 div.sk-label input.sk-toggleable__control:checked~label.sk-toggleable__label {background-color: #d4ebff;}#sk-container-id-4 input.sk-hidden--visually {border: 0;clip: rect(1px 1px 1px 1px);clip: rect(1px, 1px, 1px, 1px);height: 1px;margin: -1px;overflow: hidden;padding: 0;position: absolute;width: 1px;}#sk-container-id-4 div.sk-estimator {font-family: monospace;background-color: #f0f8ff;border: 1px dotted black;border-radius: 0.25em;box-sizing: border-box;margin-bottom: 0.5em;}#sk-container-id-4 div.sk-estimator:hover {background-color: #d4ebff;}#sk-container-id-4 div.sk-parallel-item::after {content: \"\";width: 100%;border-bottom: 1px solid gray;flex-grow: 1;}#sk-container-id-4 div.sk-label:hover label.sk-toggleable__label {background-color: #d4ebff;}#sk-container-id-4 div.sk-serial::before {content: \"\";position: absolute;border-left: 1px solid gray;box-sizing: border-box;top: 0;bottom: 0;left: 50%;z-index: 0;}#sk-container-id-4 div.sk-serial {display: flex;flex-direction: column;align-items: center;background-color: white;padding-right: 0.2em;padding-left: 0.2em;position: relative;}#sk-container-id-4 div.sk-item {position: relative;z-index: 1;}#sk-container-id-4 div.sk-parallel {display: flex;align-items: stretch;justify-content: center;background-color: white;position: relative;}#sk-container-id-4 div.sk-item::before, #sk-container-id-4 div.sk-parallel-item::before {content: \"\";position: absolute;border-left: 1px solid gray;box-sizing: border-box;top: 0;bottom: 0;left: 50%;z-index: -1;}#sk-container-id-4 div.sk-parallel-item {display: flex;flex-direction: column;z-index: 1;position: relative;background-color: white;}#sk-container-id-4 div.sk-parallel-item:first-child::after {align-self: flex-end;width: 50%;}#sk-container-id-4 div.sk-parallel-item:last-child::after {align-self: flex-start;width: 50%;}#sk-container-id-4 div.sk-parallel-item:only-child::after {width: 0;}#sk-container-id-4 div.sk-dashed-wrapped {border: 1px dashed gray;margin: 0 0.4em 0.5em 0.4em;box-sizing: border-box;padding-bottom: 0.4em;background-color: white;}#sk-container-id-4 div.sk-label label {font-family: monospace;font-weight: bold;display: inline-block;line-height: 1.2em;}#sk-container-id-4 div.sk-label-container {text-align: center;}#sk-container-id-4 div.sk-container {/* jupyter's `normalize.less` sets `[hidden] { display: none; }` but bootstrap.min.css set `[hidden] { display: none !important; }` so we also need the `!important` here to be able to override the default hidden behavior on the sphinx rendered scikit-learn.org. See: https://github.com/scikit-learn/scikit-learn/issues/21755 */display: inline-block !important;position: relative;}#sk-container-id-4 div.sk-text-repr-fallback {display: none;}</style><div id=\"sk-container-id-4\" class=\"sk-top-container\"><div class=\"sk-text-repr-fallback\"><pre>GridSearchCV(estimator=LabelSpreading(), n_jobs=-1,\n",
              "             param_grid={&#x27;alpha&#x27;: [0.001, 0.01, 0.05, 0.1],\n",
              "                         &#x27;gamma&#x27;: [8.0, 10.0, 12.0], &#x27;kernel&#x27;: [&#x27;knn&#x27;, &#x27;rbf&#x27;],\n",
              "                         &#x27;max_iter&#x27;: [1, 2, 3, 5],\n",
              "                         &#x27;n_neighbors&#x27;: [1, 2, 3, 4]},\n",
              "             verbose=3)</pre><b>In a Jupyter environment, please rerun this cell to show the HTML representation or trust the notebook. <br />On GitHub, the HTML representation is unable to render, please try loading this page with nbviewer.org.</b></div><div class=\"sk-container\" hidden><div class=\"sk-item sk-dashed-wrapped\"><div class=\"sk-label-container\"><div class=\"sk-label sk-toggleable\"><input class=\"sk-toggleable__control sk-hidden--visually\" id=\"sk-estimator-id-10\" type=\"checkbox\" ><label for=\"sk-estimator-id-10\" class=\"sk-toggleable__label sk-toggleable__label-arrow\">GridSearchCV</label><div class=\"sk-toggleable__content\"><pre>GridSearchCV(estimator=LabelSpreading(), n_jobs=-1,\n",
              "             param_grid={&#x27;alpha&#x27;: [0.001, 0.01, 0.05, 0.1],\n",
              "                         &#x27;gamma&#x27;: [8.0, 10.0, 12.0], &#x27;kernel&#x27;: [&#x27;knn&#x27;, &#x27;rbf&#x27;],\n",
              "                         &#x27;max_iter&#x27;: [1, 2, 3, 5],\n",
              "                         &#x27;n_neighbors&#x27;: [1, 2, 3, 4]},\n",
              "             verbose=3)</pre></div></div></div><div class=\"sk-parallel\"><div class=\"sk-parallel-item\"><div class=\"sk-item\"><div class=\"sk-label-container\"><div class=\"sk-label sk-toggleable\"><input class=\"sk-toggleable__control sk-hidden--visually\" id=\"sk-estimator-id-11\" type=\"checkbox\" ><label for=\"sk-estimator-id-11\" class=\"sk-toggleable__label sk-toggleable__label-arrow\">estimator: LabelSpreading</label><div class=\"sk-toggleable__content\"><pre>LabelSpreading()</pre></div></div></div><div class=\"sk-serial\"><div class=\"sk-item\"><div class=\"sk-estimator sk-toggleable\"><input class=\"sk-toggleable__control sk-hidden--visually\" id=\"sk-estimator-id-12\" type=\"checkbox\" ><label for=\"sk-estimator-id-12\" class=\"sk-toggleable__label sk-toggleable__label-arrow\">LabelSpreading</label><div class=\"sk-toggleable__content\"><pre>LabelSpreading()</pre></div></div></div></div></div></div></div></div></div></div>"
            ]
          },
          "metadata": {},
          "execution_count": 40
        }
      ]
    },
    {
      "cell_type": "code",
      "source": [
        "print(\"Semi-Supervised Model \\\"game\\\" with Unigram Proprocessing - Best Hyperparameters\\n\")\n",
        "print(semi_uni_model.best_params_)\n",
        "print()"
      ],
      "metadata": {
        "colab": {
          "base_uri": "https://localhost:8080/"
        },
        "outputId": "5c5bdee6-6673-479e-f56b-039c3b8d4402",
        "id": "Iak1aQGdbLZ0"
      },
      "execution_count": 41,
      "outputs": [
        {
          "output_type": "stream",
          "name": "stdout",
          "text": [
            "Semi-Supervised Model \"game\" with Unigram Proprocessing - Best Hyperparameters\n",
            "\n",
            "{'alpha': 0.01, 'gamma': 10.0, 'kernel': 'rbf', 'max_iter': 2, 'n_neighbors': 1}\n",
            "\n"
          ]
        }
      ]
    },
    {
      "cell_type": "code",
      "source": [
        "semi_uni_model_predictions = semi_uni_model.predict(X_test)\n",
        "semi_uni_report = classification_report(y_test, semi_uni_model_predictions)\n",
        "print(\"Semi-Supervised Model \\\"game\\\" with Unigram Proprocessing - Performance Report\\n\")\n",
        "print(semi_uni_report)\n",
        "print()"
      ],
      "metadata": {
        "colab": {
          "base_uri": "https://localhost:8080/"
        },
        "outputId": "e93def7f-a831-473b-955d-fb10e0d50870",
        "id": "Ws9QfXF3bLZ0"
      },
      "execution_count": 42,
      "outputs": [
        {
          "output_type": "stream",
          "name": "stdout",
          "text": [
            "Semi-Supervised Model \"game\" with Unigram Proprocessing - Performance Report\n",
            "\n",
            "              precision    recall  f1-score   support\n",
            "\n",
            "           1       0.00      0.00      0.00         0\n",
            "           2       1.00      0.74      0.85        23\n",
            "\n",
            "    accuracy                           0.74        23\n",
            "   macro avg       0.50      0.37      0.42        23\n",
            "weighted avg       1.00      0.74      0.85        23\n",
            "\n",
            "\n"
          ]
        },
        {
          "output_type": "stream",
          "name": "stderr",
          "text": [
            "/usr/local/lib/python3.10/dist-packages/sklearn/metrics/_classification.py:1344: UndefinedMetricWarning: Recall and F-score are ill-defined and being set to 0.0 in labels with no true samples. Use `zero_division` parameter to control this behavior.\n",
            "  _warn_prf(average, modifier, msg_start, len(result))\n",
            "/usr/local/lib/python3.10/dist-packages/sklearn/metrics/_classification.py:1344: UndefinedMetricWarning: Recall and F-score are ill-defined and being set to 0.0 in labels with no true samples. Use `zero_division` parameter to control this behavior.\n",
            "  _warn_prf(average, modifier, msg_start, len(result))\n",
            "/usr/local/lib/python3.10/dist-packages/sklearn/metrics/_classification.py:1344: UndefinedMetricWarning: Recall and F-score are ill-defined and being set to 0.0 in labels with no true samples. Use `zero_division` parameter to control this behavior.\n",
            "  _warn_prf(average, modifier, msg_start, len(result))\n"
          ]
        }
      ]
    },
    {
      "cell_type": "code",
      "source": [
        "print(semi_uni_model_predictions)\n",
        "print(y_test)"
      ],
      "metadata": {
        "colab": {
          "base_uri": "https://localhost:8080/"
        },
        "id": "9GYaYX9dP2SC",
        "outputId": "dd57a381-acc3-4664-835b-6d811d2fa47a"
      },
      "execution_count": 43,
      "outputs": [
        {
          "output_type": "stream",
          "name": "stdout",
          "text": [
            "[1 2 2 2 1 2 2 2 2 2 2 2 2 2 2 2 2 1 1 2 1 2 1]\n",
            "[2, 2, 2, 2, 2, 2, 2, 2, 2, 2, 2, 2, 2, 2, 2, 2, 2, 2, 2, 2, 2, 2, 2]\n"
          ]
        }
      ]
    },
    {
      "cell_type": "code",
      "source": [
        "# bigram\n",
        "X_train_semi, y_train_semi, X_train_labeled, y_train_labeled, X_test, y_test = output_train_test_sets(target_word, sense_1_file, sense_2_file, sense_1, sense_2, \"bi\")"
      ],
      "metadata": {
        "colab": {
          "base_uri": "https://localhost:8080/"
        },
        "outputId": "16777197-9637-489f-e45d-8fd770cda4f2",
        "id": "9CAfBZDJbLZ0"
      },
      "execution_count": 44,
      "outputs": [
        {
          "output_type": "stream",
          "name": "stdout",
          "text": [
            "Size of unlabeled training set:  100\n",
            "Size of labeled training set:  101\n",
            "Size of test set (labeled):  23\n"
          ]
        }
      ]
    },
    {
      "cell_type": "code",
      "source": [
        "param_grid = {'kernel': ['knn', 'rbf'],\n",
        "              'gamma': [2.0, 3.0, 4.0],\n",
        "              'n_neighbors': [1, 2, 3, 4],\n",
        "              'alpha': [0.0001, 0.001, 0.01],\n",
        "              'max_iter': [1, 2, 3, 5]}\n",
        "\n",
        "semi_bi_model = GridSearchCV(LabelSpreading(), param_grid, refit=True, verbose=3, n_jobs=-1)\n",
        "semi_bi_model.fit(X_train_semi, y_train_semi)"
      ],
      "metadata": {
        "colab": {
          "base_uri": "https://localhost:8080/",
          "height": 191
        },
        "outputId": "f36f6995-0f1a-4838-d70f-3bd7e34fe11d",
        "id": "bralEls9bLZ0"
      },
      "execution_count": 45,
      "outputs": [
        {
          "output_type": "stream",
          "name": "stdout",
          "text": [
            "Fitting 5 folds for each of 288 candidates, totalling 1440 fits\n"
          ]
        },
        {
          "output_type": "stream",
          "name": "stderr",
          "text": [
            "/usr/local/lib/python3.10/dist-packages/sklearn/semi_supervised/_label_propagation.py:318: ConvergenceWarning: max_iter=1 was reached without convergence.\n",
            "  warnings.warn(\n"
          ]
        },
        {
          "output_type": "execute_result",
          "data": {
            "text/plain": [
              "GridSearchCV(estimator=LabelSpreading(), n_jobs=-1,\n",
              "             param_grid={'alpha': [0.0001, 0.001, 0.01],\n",
              "                         'gamma': [2.0, 3.0, 4.0], 'kernel': ['knn', 'rbf'],\n",
              "                         'max_iter': [1, 2, 3, 5],\n",
              "                         'n_neighbors': [1, 2, 3, 4]},\n",
              "             verbose=3)"
            ],
            "text/html": [
              "<style>#sk-container-id-5 {color: black;background-color: white;}#sk-container-id-5 pre{padding: 0;}#sk-container-id-5 div.sk-toggleable {background-color: white;}#sk-container-id-5 label.sk-toggleable__label {cursor: pointer;display: block;width: 100%;margin-bottom: 0;padding: 0.3em;box-sizing: border-box;text-align: center;}#sk-container-id-5 label.sk-toggleable__label-arrow:before {content: \"▸\";float: left;margin-right: 0.25em;color: #696969;}#sk-container-id-5 label.sk-toggleable__label-arrow:hover:before {color: black;}#sk-container-id-5 div.sk-estimator:hover label.sk-toggleable__label-arrow:before {color: black;}#sk-container-id-5 div.sk-toggleable__content {max-height: 0;max-width: 0;overflow: hidden;text-align: left;background-color: #f0f8ff;}#sk-container-id-5 div.sk-toggleable__content pre {margin: 0.2em;color: black;border-radius: 0.25em;background-color: #f0f8ff;}#sk-container-id-5 input.sk-toggleable__control:checked~div.sk-toggleable__content {max-height: 200px;max-width: 100%;overflow: auto;}#sk-container-id-5 input.sk-toggleable__control:checked~label.sk-toggleable__label-arrow:before {content: \"▾\";}#sk-container-id-5 div.sk-estimator input.sk-toggleable__control:checked~label.sk-toggleable__label {background-color: #d4ebff;}#sk-container-id-5 div.sk-label input.sk-toggleable__control:checked~label.sk-toggleable__label {background-color: #d4ebff;}#sk-container-id-5 input.sk-hidden--visually {border: 0;clip: rect(1px 1px 1px 1px);clip: rect(1px, 1px, 1px, 1px);height: 1px;margin: -1px;overflow: hidden;padding: 0;position: absolute;width: 1px;}#sk-container-id-5 div.sk-estimator {font-family: monospace;background-color: #f0f8ff;border: 1px dotted black;border-radius: 0.25em;box-sizing: border-box;margin-bottom: 0.5em;}#sk-container-id-5 div.sk-estimator:hover {background-color: #d4ebff;}#sk-container-id-5 div.sk-parallel-item::after {content: \"\";width: 100%;border-bottom: 1px solid gray;flex-grow: 1;}#sk-container-id-5 div.sk-label:hover label.sk-toggleable__label {background-color: #d4ebff;}#sk-container-id-5 div.sk-serial::before {content: \"\";position: absolute;border-left: 1px solid gray;box-sizing: border-box;top: 0;bottom: 0;left: 50%;z-index: 0;}#sk-container-id-5 div.sk-serial {display: flex;flex-direction: column;align-items: center;background-color: white;padding-right: 0.2em;padding-left: 0.2em;position: relative;}#sk-container-id-5 div.sk-item {position: relative;z-index: 1;}#sk-container-id-5 div.sk-parallel {display: flex;align-items: stretch;justify-content: center;background-color: white;position: relative;}#sk-container-id-5 div.sk-item::before, #sk-container-id-5 div.sk-parallel-item::before {content: \"\";position: absolute;border-left: 1px solid gray;box-sizing: border-box;top: 0;bottom: 0;left: 50%;z-index: -1;}#sk-container-id-5 div.sk-parallel-item {display: flex;flex-direction: column;z-index: 1;position: relative;background-color: white;}#sk-container-id-5 div.sk-parallel-item:first-child::after {align-self: flex-end;width: 50%;}#sk-container-id-5 div.sk-parallel-item:last-child::after {align-self: flex-start;width: 50%;}#sk-container-id-5 div.sk-parallel-item:only-child::after {width: 0;}#sk-container-id-5 div.sk-dashed-wrapped {border: 1px dashed gray;margin: 0 0.4em 0.5em 0.4em;box-sizing: border-box;padding-bottom: 0.4em;background-color: white;}#sk-container-id-5 div.sk-label label {font-family: monospace;font-weight: bold;display: inline-block;line-height: 1.2em;}#sk-container-id-5 div.sk-label-container {text-align: center;}#sk-container-id-5 div.sk-container {/* jupyter's `normalize.less` sets `[hidden] { display: none; }` but bootstrap.min.css set `[hidden] { display: none !important; }` so we also need the `!important` here to be able to override the default hidden behavior on the sphinx rendered scikit-learn.org. See: https://github.com/scikit-learn/scikit-learn/issues/21755 */display: inline-block !important;position: relative;}#sk-container-id-5 div.sk-text-repr-fallback {display: none;}</style><div id=\"sk-container-id-5\" class=\"sk-top-container\"><div class=\"sk-text-repr-fallback\"><pre>GridSearchCV(estimator=LabelSpreading(), n_jobs=-1,\n",
              "             param_grid={&#x27;alpha&#x27;: [0.0001, 0.001, 0.01],\n",
              "                         &#x27;gamma&#x27;: [2.0, 3.0, 4.0], &#x27;kernel&#x27;: [&#x27;knn&#x27;, &#x27;rbf&#x27;],\n",
              "                         &#x27;max_iter&#x27;: [1, 2, 3, 5],\n",
              "                         &#x27;n_neighbors&#x27;: [1, 2, 3, 4]},\n",
              "             verbose=3)</pre><b>In a Jupyter environment, please rerun this cell to show the HTML representation or trust the notebook. <br />On GitHub, the HTML representation is unable to render, please try loading this page with nbviewer.org.</b></div><div class=\"sk-container\" hidden><div class=\"sk-item sk-dashed-wrapped\"><div class=\"sk-label-container\"><div class=\"sk-label sk-toggleable\"><input class=\"sk-toggleable__control sk-hidden--visually\" id=\"sk-estimator-id-13\" type=\"checkbox\" ><label for=\"sk-estimator-id-13\" class=\"sk-toggleable__label sk-toggleable__label-arrow\">GridSearchCV</label><div class=\"sk-toggleable__content\"><pre>GridSearchCV(estimator=LabelSpreading(), n_jobs=-1,\n",
              "             param_grid={&#x27;alpha&#x27;: [0.0001, 0.001, 0.01],\n",
              "                         &#x27;gamma&#x27;: [2.0, 3.0, 4.0], &#x27;kernel&#x27;: [&#x27;knn&#x27;, &#x27;rbf&#x27;],\n",
              "                         &#x27;max_iter&#x27;: [1, 2, 3, 5],\n",
              "                         &#x27;n_neighbors&#x27;: [1, 2, 3, 4]},\n",
              "             verbose=3)</pre></div></div></div><div class=\"sk-parallel\"><div class=\"sk-parallel-item\"><div class=\"sk-item\"><div class=\"sk-label-container\"><div class=\"sk-label sk-toggleable\"><input class=\"sk-toggleable__control sk-hidden--visually\" id=\"sk-estimator-id-14\" type=\"checkbox\" ><label for=\"sk-estimator-id-14\" class=\"sk-toggleable__label sk-toggleable__label-arrow\">estimator: LabelSpreading</label><div class=\"sk-toggleable__content\"><pre>LabelSpreading()</pre></div></div></div><div class=\"sk-serial\"><div class=\"sk-item\"><div class=\"sk-estimator sk-toggleable\"><input class=\"sk-toggleable__control sk-hidden--visually\" id=\"sk-estimator-id-15\" type=\"checkbox\" ><label for=\"sk-estimator-id-15\" class=\"sk-toggleable__label sk-toggleable__label-arrow\">LabelSpreading</label><div class=\"sk-toggleable__content\"><pre>LabelSpreading()</pre></div></div></div></div></div></div></div></div></div></div>"
            ]
          },
          "metadata": {},
          "execution_count": 45
        }
      ]
    },
    {
      "cell_type": "code",
      "source": [
        "print(\"Semi-Supervised Model \\\"game\\\" with Bigram Proprocessing - Best Hyperparameters\\n\")\n",
        "print(semi_bi_model.best_params_)\n",
        "print()"
      ],
      "metadata": {
        "colab": {
          "base_uri": "https://localhost:8080/"
        },
        "outputId": "d4aa7da6-c550-4fbc-b3f1-c23b9192936e",
        "id": "g0LUY8vObLZ1"
      },
      "execution_count": 46,
      "outputs": [
        {
          "output_type": "stream",
          "name": "stdout",
          "text": [
            "Semi-Supervised Model \"game\" with Bigram Proprocessing - Best Hyperparameters\n",
            "\n",
            "{'alpha': 0.0001, 'gamma': 3.0, 'kernel': 'rbf', 'max_iter': 1, 'n_neighbors': 1}\n",
            "\n"
          ]
        }
      ]
    },
    {
      "cell_type": "code",
      "source": [
        "semi_bi_model_predictions = semi_bi_model.predict(X_test)\n",
        "semi_bi_report = classification_report(y_test, semi_bi_model_predictions)\n",
        "print(\"Semi-Supervised Model \\\"game\\\" with Bigram Proprocessing - Performance Report\\n\")\n",
        "print(semi_bi_report)\n",
        "print()"
      ],
      "metadata": {
        "colab": {
          "base_uri": "https://localhost:8080/"
        },
        "outputId": "52b5cff9-00c7-498b-b420-947c7dd1f1c7",
        "id": "yi1RsY4XbLZ1"
      },
      "execution_count": 47,
      "outputs": [
        {
          "output_type": "stream",
          "name": "stdout",
          "text": [
            "Semi-Supervised Model \"game\" with Bigram Proprocessing - Performance Report\n",
            "\n",
            "              precision    recall  f1-score   support\n",
            "\n",
            "           1       0.00      0.00      0.00         0\n",
            "           2       1.00      0.09      0.16        23\n",
            "\n",
            "    accuracy                           0.09        23\n",
            "   macro avg       0.50      0.04      0.08        23\n",
            "weighted avg       1.00      0.09      0.16        23\n",
            "\n",
            "\n"
          ]
        },
        {
          "output_type": "stream",
          "name": "stderr",
          "text": [
            "/usr/local/lib/python3.10/dist-packages/sklearn/metrics/_classification.py:1344: UndefinedMetricWarning: Recall and F-score are ill-defined and being set to 0.0 in labels with no true samples. Use `zero_division` parameter to control this behavior.\n",
            "  _warn_prf(average, modifier, msg_start, len(result))\n",
            "/usr/local/lib/python3.10/dist-packages/sklearn/metrics/_classification.py:1344: UndefinedMetricWarning: Recall and F-score are ill-defined and being set to 0.0 in labels with no true samples. Use `zero_division` parameter to control this behavior.\n",
            "  _warn_prf(average, modifier, msg_start, len(result))\n",
            "/usr/local/lib/python3.10/dist-packages/sklearn/metrics/_classification.py:1344: UndefinedMetricWarning: Recall and F-score are ill-defined and being set to 0.0 in labels with no true samples. Use `zero_division` parameter to control this behavior.\n",
            "  _warn_prf(average, modifier, msg_start, len(result))\n"
          ]
        }
      ]
    },
    {
      "cell_type": "code",
      "source": [
        "print(semi_bi_model_predictions)\n",
        "print(y_test)"
      ],
      "metadata": {
        "colab": {
          "base_uri": "https://localhost:8080/"
        },
        "id": "AkY5Q62pQDKP",
        "outputId": "cd35e126-6c2f-47eb-bc5b-0ded53d3aa11"
      },
      "execution_count": 48,
      "outputs": [
        {
          "output_type": "stream",
          "name": "stdout",
          "text": [
            "[1 1 1 1 1 1 2 1 1 1 1 1 1 1 1 1 2 1 1 1 1 1 1]\n",
            "[2, 2, 2, 2, 2, 2, 2, 2, 2, 2, 2, 2, 2, 2, 2, 2, 2, 2, 2, 2, 2, 2, 2]\n"
          ]
        }
      ]
    },
    {
      "cell_type": "code",
      "source": [
        "# trigram\n",
        "X_train_semi, y_train_semi, X_train_labeled, y_train_labeled, X_test, y_test = output_train_test_sets(target_word, sense_1_file, sense_2_file, sense_1, sense_2, \"tri\")"
      ],
      "metadata": {
        "colab": {
          "base_uri": "https://localhost:8080/"
        },
        "outputId": "682d1499-e98b-4799-8457-16cc8413e0c9",
        "id": "0lJvYbVjbLZ1"
      },
      "execution_count": 49,
      "outputs": [
        {
          "output_type": "stream",
          "name": "stdout",
          "text": [
            "Size of unlabeled training set:  100\n",
            "Size of labeled training set:  101\n",
            "Size of test set (labeled):  23\n"
          ]
        }
      ]
    },
    {
      "cell_type": "code",
      "source": [
        "param_grid = {'kernel': ['knn', 'rbf'],\n",
        "              'gamma': [1.0, 2.0, 3.0],\n",
        "              'n_neighbors': [1, 2, 3, 4],\n",
        "              'alpha': [0.00001, 0.0001, .001, 0.01],\n",
        "              'max_iter': [1, 2, 3]}\n",
        "\n",
        "semi_tri_model = GridSearchCV(LabelSpreading(), param_grid, refit=True, verbose=3, n_jobs=-1)\n",
        "semi_tri_model.fit(X_train_semi, y_train_semi)"
      ],
      "metadata": {
        "colab": {
          "base_uri": "https://localhost:8080/",
          "height": 191
        },
        "outputId": "6f2b480d-e66c-4e12-cb0a-7e2e4cd7a563",
        "id": "ckvLgZmBbLZ1"
      },
      "execution_count": 50,
      "outputs": [
        {
          "output_type": "stream",
          "name": "stdout",
          "text": [
            "Fitting 5 folds for each of 288 candidates, totalling 1440 fits\n"
          ]
        },
        {
          "output_type": "stream",
          "name": "stderr",
          "text": [
            "/usr/local/lib/python3.10/dist-packages/sklearn/semi_supervised/_label_propagation.py:318: ConvergenceWarning: max_iter=1 was reached without convergence.\n",
            "  warnings.warn(\n"
          ]
        },
        {
          "output_type": "execute_result",
          "data": {
            "text/plain": [
              "GridSearchCV(estimator=LabelSpreading(), n_jobs=-1,\n",
              "             param_grid={'alpha': [1e-05, 0.0001, 0.001, 0.01],\n",
              "                         'gamma': [1.0, 2.0, 3.0], 'kernel': ['knn', 'rbf'],\n",
              "                         'max_iter': [1, 2, 3], 'n_neighbors': [1, 2, 3, 4]},\n",
              "             verbose=3)"
            ],
            "text/html": [
              "<style>#sk-container-id-6 {color: black;background-color: white;}#sk-container-id-6 pre{padding: 0;}#sk-container-id-6 div.sk-toggleable {background-color: white;}#sk-container-id-6 label.sk-toggleable__label {cursor: pointer;display: block;width: 100%;margin-bottom: 0;padding: 0.3em;box-sizing: border-box;text-align: center;}#sk-container-id-6 label.sk-toggleable__label-arrow:before {content: \"▸\";float: left;margin-right: 0.25em;color: #696969;}#sk-container-id-6 label.sk-toggleable__label-arrow:hover:before {color: black;}#sk-container-id-6 div.sk-estimator:hover label.sk-toggleable__label-arrow:before {color: black;}#sk-container-id-6 div.sk-toggleable__content {max-height: 0;max-width: 0;overflow: hidden;text-align: left;background-color: #f0f8ff;}#sk-container-id-6 div.sk-toggleable__content pre {margin: 0.2em;color: black;border-radius: 0.25em;background-color: #f0f8ff;}#sk-container-id-6 input.sk-toggleable__control:checked~div.sk-toggleable__content {max-height: 200px;max-width: 100%;overflow: auto;}#sk-container-id-6 input.sk-toggleable__control:checked~label.sk-toggleable__label-arrow:before {content: \"▾\";}#sk-container-id-6 div.sk-estimator input.sk-toggleable__control:checked~label.sk-toggleable__label {background-color: #d4ebff;}#sk-container-id-6 div.sk-label input.sk-toggleable__control:checked~label.sk-toggleable__label {background-color: #d4ebff;}#sk-container-id-6 input.sk-hidden--visually {border: 0;clip: rect(1px 1px 1px 1px);clip: rect(1px, 1px, 1px, 1px);height: 1px;margin: -1px;overflow: hidden;padding: 0;position: absolute;width: 1px;}#sk-container-id-6 div.sk-estimator {font-family: monospace;background-color: #f0f8ff;border: 1px dotted black;border-radius: 0.25em;box-sizing: border-box;margin-bottom: 0.5em;}#sk-container-id-6 div.sk-estimator:hover {background-color: #d4ebff;}#sk-container-id-6 div.sk-parallel-item::after {content: \"\";width: 100%;border-bottom: 1px solid gray;flex-grow: 1;}#sk-container-id-6 div.sk-label:hover label.sk-toggleable__label {background-color: #d4ebff;}#sk-container-id-6 div.sk-serial::before {content: \"\";position: absolute;border-left: 1px solid gray;box-sizing: border-box;top: 0;bottom: 0;left: 50%;z-index: 0;}#sk-container-id-6 div.sk-serial {display: flex;flex-direction: column;align-items: center;background-color: white;padding-right: 0.2em;padding-left: 0.2em;position: relative;}#sk-container-id-6 div.sk-item {position: relative;z-index: 1;}#sk-container-id-6 div.sk-parallel {display: flex;align-items: stretch;justify-content: center;background-color: white;position: relative;}#sk-container-id-6 div.sk-item::before, #sk-container-id-6 div.sk-parallel-item::before {content: \"\";position: absolute;border-left: 1px solid gray;box-sizing: border-box;top: 0;bottom: 0;left: 50%;z-index: -1;}#sk-container-id-6 div.sk-parallel-item {display: flex;flex-direction: column;z-index: 1;position: relative;background-color: white;}#sk-container-id-6 div.sk-parallel-item:first-child::after {align-self: flex-end;width: 50%;}#sk-container-id-6 div.sk-parallel-item:last-child::after {align-self: flex-start;width: 50%;}#sk-container-id-6 div.sk-parallel-item:only-child::after {width: 0;}#sk-container-id-6 div.sk-dashed-wrapped {border: 1px dashed gray;margin: 0 0.4em 0.5em 0.4em;box-sizing: border-box;padding-bottom: 0.4em;background-color: white;}#sk-container-id-6 div.sk-label label {font-family: monospace;font-weight: bold;display: inline-block;line-height: 1.2em;}#sk-container-id-6 div.sk-label-container {text-align: center;}#sk-container-id-6 div.sk-container {/* jupyter's `normalize.less` sets `[hidden] { display: none; }` but bootstrap.min.css set `[hidden] { display: none !important; }` so we also need the `!important` here to be able to override the default hidden behavior on the sphinx rendered scikit-learn.org. See: https://github.com/scikit-learn/scikit-learn/issues/21755 */display: inline-block !important;position: relative;}#sk-container-id-6 div.sk-text-repr-fallback {display: none;}</style><div id=\"sk-container-id-6\" class=\"sk-top-container\"><div class=\"sk-text-repr-fallback\"><pre>GridSearchCV(estimator=LabelSpreading(), n_jobs=-1,\n",
              "             param_grid={&#x27;alpha&#x27;: [1e-05, 0.0001, 0.001, 0.01],\n",
              "                         &#x27;gamma&#x27;: [1.0, 2.0, 3.0], &#x27;kernel&#x27;: [&#x27;knn&#x27;, &#x27;rbf&#x27;],\n",
              "                         &#x27;max_iter&#x27;: [1, 2, 3], &#x27;n_neighbors&#x27;: [1, 2, 3, 4]},\n",
              "             verbose=3)</pre><b>In a Jupyter environment, please rerun this cell to show the HTML representation or trust the notebook. <br />On GitHub, the HTML representation is unable to render, please try loading this page with nbviewer.org.</b></div><div class=\"sk-container\" hidden><div class=\"sk-item sk-dashed-wrapped\"><div class=\"sk-label-container\"><div class=\"sk-label sk-toggleable\"><input class=\"sk-toggleable__control sk-hidden--visually\" id=\"sk-estimator-id-16\" type=\"checkbox\" ><label for=\"sk-estimator-id-16\" class=\"sk-toggleable__label sk-toggleable__label-arrow\">GridSearchCV</label><div class=\"sk-toggleable__content\"><pre>GridSearchCV(estimator=LabelSpreading(), n_jobs=-1,\n",
              "             param_grid={&#x27;alpha&#x27;: [1e-05, 0.0001, 0.001, 0.01],\n",
              "                         &#x27;gamma&#x27;: [1.0, 2.0, 3.0], &#x27;kernel&#x27;: [&#x27;knn&#x27;, &#x27;rbf&#x27;],\n",
              "                         &#x27;max_iter&#x27;: [1, 2, 3], &#x27;n_neighbors&#x27;: [1, 2, 3, 4]},\n",
              "             verbose=3)</pre></div></div></div><div class=\"sk-parallel\"><div class=\"sk-parallel-item\"><div class=\"sk-item\"><div class=\"sk-label-container\"><div class=\"sk-label sk-toggleable\"><input class=\"sk-toggleable__control sk-hidden--visually\" id=\"sk-estimator-id-17\" type=\"checkbox\" ><label for=\"sk-estimator-id-17\" class=\"sk-toggleable__label sk-toggleable__label-arrow\">estimator: LabelSpreading</label><div class=\"sk-toggleable__content\"><pre>LabelSpreading()</pre></div></div></div><div class=\"sk-serial\"><div class=\"sk-item\"><div class=\"sk-estimator sk-toggleable\"><input class=\"sk-toggleable__control sk-hidden--visually\" id=\"sk-estimator-id-18\" type=\"checkbox\" ><label for=\"sk-estimator-id-18\" class=\"sk-toggleable__label sk-toggleable__label-arrow\">LabelSpreading</label><div class=\"sk-toggleable__content\"><pre>LabelSpreading()</pre></div></div></div></div></div></div></div></div></div></div>"
            ]
          },
          "metadata": {},
          "execution_count": 50
        }
      ]
    },
    {
      "cell_type": "code",
      "source": [
        "print(\"Semi-Supervised Model \\\"game\\\" with Trigram Proprocessing - Best Hyperparameters\\n\")\n",
        "print(semi_tri_model.best_params_)\n",
        "print()"
      ],
      "metadata": {
        "colab": {
          "base_uri": "https://localhost:8080/"
        },
        "outputId": "aa1957d4-f849-4b22-cdbb-853f00c0defe",
        "id": "MIzu00AnbLZ1"
      },
      "execution_count": 51,
      "outputs": [
        {
          "output_type": "stream",
          "name": "stdout",
          "text": [
            "Semi-Supervised Model \"game\" with Trigram Proprocessing - Best Hyperparameters\n",
            "\n",
            "{'alpha': 1e-05, 'gamma': 1.0, 'kernel': 'knn', 'max_iter': 1, 'n_neighbors': 1}\n",
            "\n"
          ]
        }
      ]
    },
    {
      "cell_type": "code",
      "source": [
        "semi_tri_model_predictions = semi_tri_model.predict(X_test)\n",
        "semi_tri_report = classification_report(y_test, semi_tri_model_predictions)\n",
        "print(\"Semi-Supervised Model \\\"game\\\" with Trigram Proprocessing - Performance Report\\n\")\n",
        "print(semi_tri_report)\n",
        "print()"
      ],
      "metadata": {
        "colab": {
          "base_uri": "https://localhost:8080/"
        },
        "outputId": "2d4217b0-255a-4b77-e591-cea7c3795bc9",
        "id": "PJP7dCnNbLZ1"
      },
      "execution_count": 52,
      "outputs": [
        {
          "output_type": "stream",
          "name": "stdout",
          "text": [
            "Semi-Supervised Model \"game\" with Trigram Proprocessing - Performance Report\n",
            "\n",
            "              precision    recall  f1-score   support\n",
            "\n",
            "           1       0.00      0.00      0.00       0.0\n",
            "           2       0.00      0.00      0.00      23.0\n",
            "\n",
            "    accuracy                           0.00      23.0\n",
            "   macro avg       0.00      0.00      0.00      23.0\n",
            "weighted avg       0.00      0.00      0.00      23.0\n",
            "\n",
            "\n"
          ]
        },
        {
          "output_type": "stream",
          "name": "stderr",
          "text": [
            "/usr/local/lib/python3.10/dist-packages/sklearn/semi_supervised/_label_propagation.py:231: RuntimeWarning: invalid value encountered in divide\n",
            "  probabilities /= normalizer\n",
            "/usr/local/lib/python3.10/dist-packages/sklearn/metrics/_classification.py:1344: UndefinedMetricWarning: Precision and F-score are ill-defined and being set to 0.0 in labels with no predicted samples. Use `zero_division` parameter to control this behavior.\n",
            "  _warn_prf(average, modifier, msg_start, len(result))\n",
            "/usr/local/lib/python3.10/dist-packages/sklearn/metrics/_classification.py:1344: UndefinedMetricWarning: Recall and F-score are ill-defined and being set to 0.0 in labels with no true samples. Use `zero_division` parameter to control this behavior.\n",
            "  _warn_prf(average, modifier, msg_start, len(result))\n",
            "/usr/local/lib/python3.10/dist-packages/sklearn/metrics/_classification.py:1344: UndefinedMetricWarning: Precision and F-score are ill-defined and being set to 0.0 in labels with no predicted samples. Use `zero_division` parameter to control this behavior.\n",
            "  _warn_prf(average, modifier, msg_start, len(result))\n",
            "/usr/local/lib/python3.10/dist-packages/sklearn/metrics/_classification.py:1344: UndefinedMetricWarning: Recall and F-score are ill-defined and being set to 0.0 in labels with no true samples. Use `zero_division` parameter to control this behavior.\n",
            "  _warn_prf(average, modifier, msg_start, len(result))\n",
            "/usr/local/lib/python3.10/dist-packages/sklearn/metrics/_classification.py:1344: UndefinedMetricWarning: Precision and F-score are ill-defined and being set to 0.0 in labels with no predicted samples. Use `zero_division` parameter to control this behavior.\n",
            "  _warn_prf(average, modifier, msg_start, len(result))\n",
            "/usr/local/lib/python3.10/dist-packages/sklearn/metrics/_classification.py:1344: UndefinedMetricWarning: Recall and F-score are ill-defined and being set to 0.0 in labels with no true samples. Use `zero_division` parameter to control this behavior.\n",
            "  _warn_prf(average, modifier, msg_start, len(result))\n"
          ]
        }
      ]
    },
    {
      "cell_type": "code",
      "source": [
        "print(semi_tri_model_predictions)\n",
        "print(y_test)"
      ],
      "metadata": {
        "colab": {
          "base_uri": "https://localhost:8080/"
        },
        "id": "P1d7_PkOQOND",
        "outputId": "374340ea-dcae-47e1-fcd2-00dff36cde1c"
      },
      "execution_count": 53,
      "outputs": [
        {
          "output_type": "stream",
          "name": "stdout",
          "text": [
            "[1 1 1 1 1 1 1 1 1 1 1 1 1 1 1 1 1 1 1 1 1 1 1]\n",
            "[2, 2, 2, 2, 2, 2, 2, 2, 2, 2, 2, 2, 2, 2, 2, 2, 2, 2, 2, 2, 2, 2, 2]\n"
          ]
        }
      ]
    },
    {
      "cell_type": "markdown",
      "source": [
        "### Word: action\n",
        "\n",
        "We pick two senses of action. They are:\n",
        "1.  S: (n) action (action%1:04:02::) (something done (usually as opposed to something said)) \"there were stories of murders and other unnatural actions\"\n",
        "2.  S: (n) action (action%1:04:04::) (an act by a government body or supranational organization) \"recent federal action undermined the segregationist position\"; \"the United Nations must have the power to propose and organize action without being hobbled by irrelevant issues\"; \"the Union action of emancipating Southern slaves\"\n",
        "\n",
        "We assign 1 to the first sense and 2 to the second sense."
      ],
      "metadata": {
        "id": "D1kfJYA_UOyU"
      }
    },
    {
      "cell_type": "code",
      "source": [
        "# parameters to change\n",
        "target_word = \"action\"\n",
        "sense_1_file = \"/content/action_done.txt\"\n",
        "sense_2_file = \"/content/action_gov.txt\"\n",
        "general_file = \"/content/action.txt\"\n",
        "sense_1 = \"1:04:02::\"\n",
        "sense_2 = \"1:04:04::\""
      ],
      "metadata": {
        "id": "4nGXnYnKUOyV"
      },
      "execution_count": 54,
      "outputs": []
    },
    {
      "cell_type": "code",
      "source": [
        "# unigram\n",
        "X_train_semi, y_train_semi, X_train_labeled, y_train_labeled, X_test, y_test = output_train_test_sets(target_word, sense_1_file, sense_2_file, sense_1, sense_2, \"uni\")"
      ],
      "metadata": {
        "colab": {
          "base_uri": "https://localhost:8080/"
        },
        "outputId": "461caa0a-36f3-4147-b7fc-efd58336c224",
        "id": "FUnRhvUtcrdf"
      },
      "execution_count": 55,
      "outputs": [
        {
          "output_type": "stream",
          "name": "stdout",
          "text": [
            "Size of unlabeled training set:  100\n",
            "Size of labeled training set:  104\n",
            "Size of test set (labeled):  11\n"
          ]
        }
      ]
    },
    {
      "cell_type": "code",
      "source": [
        "param_grid = {'kernel': ['knn', 'rbf'],\n",
        "              'gamma': [8.0, 10.0, 12.0],\n",
        "              'n_neighbors': [1, 2, 3, 4],\n",
        "              'alpha': [0.001, 0.01, 0.05, 0.1],\n",
        "              'max_iter': [1, 2, 3, 5]}\n",
        "\n",
        "semi_uni_model = GridSearchCV(LabelSpreading(), param_grid, refit=True, verbose=3, n_jobs=-1)\n",
        "semi_uni_model.fit(X_train_semi, y_train_semi)"
      ],
      "metadata": {
        "colab": {
          "base_uri": "https://localhost:8080/",
          "height": 191
        },
        "outputId": "8051afd3-b915-4d84-9977-def5fae69760",
        "id": "XmR34UWtcrdf"
      },
      "execution_count": 56,
      "outputs": [
        {
          "output_type": "stream",
          "name": "stdout",
          "text": [
            "Fitting 5 folds for each of 384 candidates, totalling 1920 fits\n"
          ]
        },
        {
          "output_type": "stream",
          "name": "stderr",
          "text": [
            "/usr/local/lib/python3.10/dist-packages/sklearn/semi_supervised/_label_propagation.py:318: ConvergenceWarning: max_iter=2 was reached without convergence.\n",
            "  warnings.warn(\n"
          ]
        },
        {
          "output_type": "execute_result",
          "data": {
            "text/plain": [
              "GridSearchCV(estimator=LabelSpreading(), n_jobs=-1,\n",
              "             param_grid={'alpha': [0.001, 0.01, 0.05, 0.1],\n",
              "                         'gamma': [8.0, 10.0, 12.0], 'kernel': ['knn', 'rbf'],\n",
              "                         'max_iter': [1, 2, 3, 5],\n",
              "                         'n_neighbors': [1, 2, 3, 4]},\n",
              "             verbose=3)"
            ],
            "text/html": [
              "<style>#sk-container-id-7 {color: black;background-color: white;}#sk-container-id-7 pre{padding: 0;}#sk-container-id-7 div.sk-toggleable {background-color: white;}#sk-container-id-7 label.sk-toggleable__label {cursor: pointer;display: block;width: 100%;margin-bottom: 0;padding: 0.3em;box-sizing: border-box;text-align: center;}#sk-container-id-7 label.sk-toggleable__label-arrow:before {content: \"▸\";float: left;margin-right: 0.25em;color: #696969;}#sk-container-id-7 label.sk-toggleable__label-arrow:hover:before {color: black;}#sk-container-id-7 div.sk-estimator:hover label.sk-toggleable__label-arrow:before {color: black;}#sk-container-id-7 div.sk-toggleable__content {max-height: 0;max-width: 0;overflow: hidden;text-align: left;background-color: #f0f8ff;}#sk-container-id-7 div.sk-toggleable__content pre {margin: 0.2em;color: black;border-radius: 0.25em;background-color: #f0f8ff;}#sk-container-id-7 input.sk-toggleable__control:checked~div.sk-toggleable__content {max-height: 200px;max-width: 100%;overflow: auto;}#sk-container-id-7 input.sk-toggleable__control:checked~label.sk-toggleable__label-arrow:before {content: \"▾\";}#sk-container-id-7 div.sk-estimator input.sk-toggleable__control:checked~label.sk-toggleable__label {background-color: #d4ebff;}#sk-container-id-7 div.sk-label input.sk-toggleable__control:checked~label.sk-toggleable__label {background-color: #d4ebff;}#sk-container-id-7 input.sk-hidden--visually {border: 0;clip: rect(1px 1px 1px 1px);clip: rect(1px, 1px, 1px, 1px);height: 1px;margin: -1px;overflow: hidden;padding: 0;position: absolute;width: 1px;}#sk-container-id-7 div.sk-estimator {font-family: monospace;background-color: #f0f8ff;border: 1px dotted black;border-radius: 0.25em;box-sizing: border-box;margin-bottom: 0.5em;}#sk-container-id-7 div.sk-estimator:hover {background-color: #d4ebff;}#sk-container-id-7 div.sk-parallel-item::after {content: \"\";width: 100%;border-bottom: 1px solid gray;flex-grow: 1;}#sk-container-id-7 div.sk-label:hover label.sk-toggleable__label {background-color: #d4ebff;}#sk-container-id-7 div.sk-serial::before {content: \"\";position: absolute;border-left: 1px solid gray;box-sizing: border-box;top: 0;bottom: 0;left: 50%;z-index: 0;}#sk-container-id-7 div.sk-serial {display: flex;flex-direction: column;align-items: center;background-color: white;padding-right: 0.2em;padding-left: 0.2em;position: relative;}#sk-container-id-7 div.sk-item {position: relative;z-index: 1;}#sk-container-id-7 div.sk-parallel {display: flex;align-items: stretch;justify-content: center;background-color: white;position: relative;}#sk-container-id-7 div.sk-item::before, #sk-container-id-7 div.sk-parallel-item::before {content: \"\";position: absolute;border-left: 1px solid gray;box-sizing: border-box;top: 0;bottom: 0;left: 50%;z-index: -1;}#sk-container-id-7 div.sk-parallel-item {display: flex;flex-direction: column;z-index: 1;position: relative;background-color: white;}#sk-container-id-7 div.sk-parallel-item:first-child::after {align-self: flex-end;width: 50%;}#sk-container-id-7 div.sk-parallel-item:last-child::after {align-self: flex-start;width: 50%;}#sk-container-id-7 div.sk-parallel-item:only-child::after {width: 0;}#sk-container-id-7 div.sk-dashed-wrapped {border: 1px dashed gray;margin: 0 0.4em 0.5em 0.4em;box-sizing: border-box;padding-bottom: 0.4em;background-color: white;}#sk-container-id-7 div.sk-label label {font-family: monospace;font-weight: bold;display: inline-block;line-height: 1.2em;}#sk-container-id-7 div.sk-label-container {text-align: center;}#sk-container-id-7 div.sk-container {/* jupyter's `normalize.less` sets `[hidden] { display: none; }` but bootstrap.min.css set `[hidden] { display: none !important; }` so we also need the `!important` here to be able to override the default hidden behavior on the sphinx rendered scikit-learn.org. See: https://github.com/scikit-learn/scikit-learn/issues/21755 */display: inline-block !important;position: relative;}#sk-container-id-7 div.sk-text-repr-fallback {display: none;}</style><div id=\"sk-container-id-7\" class=\"sk-top-container\"><div class=\"sk-text-repr-fallback\"><pre>GridSearchCV(estimator=LabelSpreading(), n_jobs=-1,\n",
              "             param_grid={&#x27;alpha&#x27;: [0.001, 0.01, 0.05, 0.1],\n",
              "                         &#x27;gamma&#x27;: [8.0, 10.0, 12.0], &#x27;kernel&#x27;: [&#x27;knn&#x27;, &#x27;rbf&#x27;],\n",
              "                         &#x27;max_iter&#x27;: [1, 2, 3, 5],\n",
              "                         &#x27;n_neighbors&#x27;: [1, 2, 3, 4]},\n",
              "             verbose=3)</pre><b>In a Jupyter environment, please rerun this cell to show the HTML representation or trust the notebook. <br />On GitHub, the HTML representation is unable to render, please try loading this page with nbviewer.org.</b></div><div class=\"sk-container\" hidden><div class=\"sk-item sk-dashed-wrapped\"><div class=\"sk-label-container\"><div class=\"sk-label sk-toggleable\"><input class=\"sk-toggleable__control sk-hidden--visually\" id=\"sk-estimator-id-19\" type=\"checkbox\" ><label for=\"sk-estimator-id-19\" class=\"sk-toggleable__label sk-toggleable__label-arrow\">GridSearchCV</label><div class=\"sk-toggleable__content\"><pre>GridSearchCV(estimator=LabelSpreading(), n_jobs=-1,\n",
              "             param_grid={&#x27;alpha&#x27;: [0.001, 0.01, 0.05, 0.1],\n",
              "                         &#x27;gamma&#x27;: [8.0, 10.0, 12.0], &#x27;kernel&#x27;: [&#x27;knn&#x27;, &#x27;rbf&#x27;],\n",
              "                         &#x27;max_iter&#x27;: [1, 2, 3, 5],\n",
              "                         &#x27;n_neighbors&#x27;: [1, 2, 3, 4]},\n",
              "             verbose=3)</pre></div></div></div><div class=\"sk-parallel\"><div class=\"sk-parallel-item\"><div class=\"sk-item\"><div class=\"sk-label-container\"><div class=\"sk-label sk-toggleable\"><input class=\"sk-toggleable__control sk-hidden--visually\" id=\"sk-estimator-id-20\" type=\"checkbox\" ><label for=\"sk-estimator-id-20\" class=\"sk-toggleable__label sk-toggleable__label-arrow\">estimator: LabelSpreading</label><div class=\"sk-toggleable__content\"><pre>LabelSpreading()</pre></div></div></div><div class=\"sk-serial\"><div class=\"sk-item\"><div class=\"sk-estimator sk-toggleable\"><input class=\"sk-toggleable__control sk-hidden--visually\" id=\"sk-estimator-id-21\" type=\"checkbox\" ><label for=\"sk-estimator-id-21\" class=\"sk-toggleable__label sk-toggleable__label-arrow\">LabelSpreading</label><div class=\"sk-toggleable__content\"><pre>LabelSpreading()</pre></div></div></div></div></div></div></div></div></div></div>"
            ]
          },
          "metadata": {},
          "execution_count": 56
        }
      ]
    },
    {
      "cell_type": "code",
      "source": [
        "print(\"Semi-Supervised Model \\\"action\\\" with Unigram Proprocessing - Best Hyperparameters\\n\")\n",
        "print(semi_uni_model.best_params_)\n",
        "print()"
      ],
      "metadata": {
        "colab": {
          "base_uri": "https://localhost:8080/"
        },
        "outputId": "dd59ec71-5d52-48c6-a09d-3dff543929d0",
        "id": "EMnHNI7Ccrdf"
      },
      "execution_count": 57,
      "outputs": [
        {
          "output_type": "stream",
          "name": "stdout",
          "text": [
            "Semi-Supervised Model \"action\" with Unigram Proprocessing - Best Hyperparameters\n",
            "\n",
            "{'alpha': 0.01, 'gamma': 10.0, 'kernel': 'rbf', 'max_iter': 2, 'n_neighbors': 1}\n",
            "\n"
          ]
        }
      ]
    },
    {
      "cell_type": "code",
      "source": [
        "semi_uni_model_predictions = semi_uni_model.predict(X_test)\n",
        "semi_uni_report = classification_report(y_test, semi_uni_model_predictions)\n",
        "print(\"Semi-Supervised Model \\\"action\\\" with Unigram Proprocessing - Performance Report\\n\")\n",
        "print(semi_uni_report)\n",
        "print()"
      ],
      "metadata": {
        "colab": {
          "base_uri": "https://localhost:8080/"
        },
        "outputId": "3a611d27-3223-4400-a062-647abcbee394",
        "id": "exOKwGv8crdf"
      },
      "execution_count": 58,
      "outputs": [
        {
          "output_type": "stream",
          "name": "stdout",
          "text": [
            "Semi-Supervised Model \"action\" with Unigram Proprocessing - Performance Report\n",
            "\n",
            "              precision    recall  f1-score   support\n",
            "\n",
            "           1       1.00      1.00      1.00        11\n",
            "\n",
            "    accuracy                           1.00        11\n",
            "   macro avg       1.00      1.00      1.00        11\n",
            "weighted avg       1.00      1.00      1.00        11\n",
            "\n",
            "\n"
          ]
        }
      ]
    },
    {
      "cell_type": "code",
      "source": [
        "print(semi_uni_model_predictions)\n",
        "print(y_test)"
      ],
      "metadata": {
        "colab": {
          "base_uri": "https://localhost:8080/"
        },
        "id": "A9vizfRRP4Sh",
        "outputId": "63702f65-9fa6-4e0c-f8eb-3085a9627adc"
      },
      "execution_count": 59,
      "outputs": [
        {
          "output_type": "stream",
          "name": "stdout",
          "text": [
            "[1 1 1 1 1 1 1 1 1 1 1]\n",
            "[1, 1, 1, 1, 1, 1, 1, 1, 1, 1, 1]\n"
          ]
        }
      ]
    },
    {
      "cell_type": "code",
      "source": [
        "# bigram\n",
        "X_train_semi, y_train_semi, X_train_labeled, y_train_labeled, X_test, y_test = output_train_test_sets(target_word, sense_1_file, sense_2_file, sense_1, sense_2, \"bi\")"
      ],
      "metadata": {
        "colab": {
          "base_uri": "https://localhost:8080/"
        },
        "outputId": "56a72e2d-c8d5-436a-d39a-f6c44e392741",
        "id": "9lZ8k4IOcrdf"
      },
      "execution_count": 60,
      "outputs": [
        {
          "output_type": "stream",
          "name": "stdout",
          "text": [
            "Size of unlabeled training set:  100\n",
            "Size of labeled training set:  104\n",
            "Size of test set (labeled):  11\n"
          ]
        }
      ]
    },
    {
      "cell_type": "code",
      "source": [
        "param_grid = {'kernel': ['knn', 'rbf'],\n",
        "              'gamma': [3.0, 4.0, 5.0],\n",
        "              'n_neighbors': [1, 2, 3],\n",
        "              'alpha': [0.0001, 0.001, 0.01],\n",
        "              'max_iter': [1, 2, 3, 5]}\n",
        "\n",
        "semi_bi_model = GridSearchCV(LabelSpreading(), param_grid, refit=True, verbose=3, n_jobs=-1)\n",
        "semi_bi_model.fit(X_train_semi, y_train_semi)"
      ],
      "metadata": {
        "colab": {
          "base_uri": "https://localhost:8080/",
          "height": 191
        },
        "outputId": "ea6b890f-6de1-490d-9244-7e6d703ff8f8",
        "id": "_EErysKzcrdg"
      },
      "execution_count": 61,
      "outputs": [
        {
          "output_type": "stream",
          "name": "stdout",
          "text": [
            "Fitting 5 folds for each of 216 candidates, totalling 1080 fits\n"
          ]
        },
        {
          "output_type": "stream",
          "name": "stderr",
          "text": [
            "/usr/local/lib/python3.10/dist-packages/sklearn/semi_supervised/_label_propagation.py:318: ConvergenceWarning: max_iter=1 was reached without convergence.\n",
            "  warnings.warn(\n"
          ]
        },
        {
          "output_type": "execute_result",
          "data": {
            "text/plain": [
              "GridSearchCV(estimator=LabelSpreading(), n_jobs=-1,\n",
              "             param_grid={'alpha': [0.0001, 0.001, 0.01],\n",
              "                         'gamma': [3.0, 4.0, 5.0], 'kernel': ['knn', 'rbf'],\n",
              "                         'max_iter': [1, 2, 3, 5], 'n_neighbors': [1, 2, 3]},\n",
              "             verbose=3)"
            ],
            "text/html": [
              "<style>#sk-container-id-8 {color: black;background-color: white;}#sk-container-id-8 pre{padding: 0;}#sk-container-id-8 div.sk-toggleable {background-color: white;}#sk-container-id-8 label.sk-toggleable__label {cursor: pointer;display: block;width: 100%;margin-bottom: 0;padding: 0.3em;box-sizing: border-box;text-align: center;}#sk-container-id-8 label.sk-toggleable__label-arrow:before {content: \"▸\";float: left;margin-right: 0.25em;color: #696969;}#sk-container-id-8 label.sk-toggleable__label-arrow:hover:before {color: black;}#sk-container-id-8 div.sk-estimator:hover label.sk-toggleable__label-arrow:before {color: black;}#sk-container-id-8 div.sk-toggleable__content {max-height: 0;max-width: 0;overflow: hidden;text-align: left;background-color: #f0f8ff;}#sk-container-id-8 div.sk-toggleable__content pre {margin: 0.2em;color: black;border-radius: 0.25em;background-color: #f0f8ff;}#sk-container-id-8 input.sk-toggleable__control:checked~div.sk-toggleable__content {max-height: 200px;max-width: 100%;overflow: auto;}#sk-container-id-8 input.sk-toggleable__control:checked~label.sk-toggleable__label-arrow:before {content: \"▾\";}#sk-container-id-8 div.sk-estimator input.sk-toggleable__control:checked~label.sk-toggleable__label {background-color: #d4ebff;}#sk-container-id-8 div.sk-label input.sk-toggleable__control:checked~label.sk-toggleable__label {background-color: #d4ebff;}#sk-container-id-8 input.sk-hidden--visually {border: 0;clip: rect(1px 1px 1px 1px);clip: rect(1px, 1px, 1px, 1px);height: 1px;margin: -1px;overflow: hidden;padding: 0;position: absolute;width: 1px;}#sk-container-id-8 div.sk-estimator {font-family: monospace;background-color: #f0f8ff;border: 1px dotted black;border-radius: 0.25em;box-sizing: border-box;margin-bottom: 0.5em;}#sk-container-id-8 div.sk-estimator:hover {background-color: #d4ebff;}#sk-container-id-8 div.sk-parallel-item::after {content: \"\";width: 100%;border-bottom: 1px solid gray;flex-grow: 1;}#sk-container-id-8 div.sk-label:hover label.sk-toggleable__label {background-color: #d4ebff;}#sk-container-id-8 div.sk-serial::before {content: \"\";position: absolute;border-left: 1px solid gray;box-sizing: border-box;top: 0;bottom: 0;left: 50%;z-index: 0;}#sk-container-id-8 div.sk-serial {display: flex;flex-direction: column;align-items: center;background-color: white;padding-right: 0.2em;padding-left: 0.2em;position: relative;}#sk-container-id-8 div.sk-item {position: relative;z-index: 1;}#sk-container-id-8 div.sk-parallel {display: flex;align-items: stretch;justify-content: center;background-color: white;position: relative;}#sk-container-id-8 div.sk-item::before, #sk-container-id-8 div.sk-parallel-item::before {content: \"\";position: absolute;border-left: 1px solid gray;box-sizing: border-box;top: 0;bottom: 0;left: 50%;z-index: -1;}#sk-container-id-8 div.sk-parallel-item {display: flex;flex-direction: column;z-index: 1;position: relative;background-color: white;}#sk-container-id-8 div.sk-parallel-item:first-child::after {align-self: flex-end;width: 50%;}#sk-container-id-8 div.sk-parallel-item:last-child::after {align-self: flex-start;width: 50%;}#sk-container-id-8 div.sk-parallel-item:only-child::after {width: 0;}#sk-container-id-8 div.sk-dashed-wrapped {border: 1px dashed gray;margin: 0 0.4em 0.5em 0.4em;box-sizing: border-box;padding-bottom: 0.4em;background-color: white;}#sk-container-id-8 div.sk-label label {font-family: monospace;font-weight: bold;display: inline-block;line-height: 1.2em;}#sk-container-id-8 div.sk-label-container {text-align: center;}#sk-container-id-8 div.sk-container {/* jupyter's `normalize.less` sets `[hidden] { display: none; }` but bootstrap.min.css set `[hidden] { display: none !important; }` so we also need the `!important` here to be able to override the default hidden behavior on the sphinx rendered scikit-learn.org. See: https://github.com/scikit-learn/scikit-learn/issues/21755 */display: inline-block !important;position: relative;}#sk-container-id-8 div.sk-text-repr-fallback {display: none;}</style><div id=\"sk-container-id-8\" class=\"sk-top-container\"><div class=\"sk-text-repr-fallback\"><pre>GridSearchCV(estimator=LabelSpreading(), n_jobs=-1,\n",
              "             param_grid={&#x27;alpha&#x27;: [0.0001, 0.001, 0.01],\n",
              "                         &#x27;gamma&#x27;: [3.0, 4.0, 5.0], &#x27;kernel&#x27;: [&#x27;knn&#x27;, &#x27;rbf&#x27;],\n",
              "                         &#x27;max_iter&#x27;: [1, 2, 3, 5], &#x27;n_neighbors&#x27;: [1, 2, 3]},\n",
              "             verbose=3)</pre><b>In a Jupyter environment, please rerun this cell to show the HTML representation or trust the notebook. <br />On GitHub, the HTML representation is unable to render, please try loading this page with nbviewer.org.</b></div><div class=\"sk-container\" hidden><div class=\"sk-item sk-dashed-wrapped\"><div class=\"sk-label-container\"><div class=\"sk-label sk-toggleable\"><input class=\"sk-toggleable__control sk-hidden--visually\" id=\"sk-estimator-id-22\" type=\"checkbox\" ><label for=\"sk-estimator-id-22\" class=\"sk-toggleable__label sk-toggleable__label-arrow\">GridSearchCV</label><div class=\"sk-toggleable__content\"><pre>GridSearchCV(estimator=LabelSpreading(), n_jobs=-1,\n",
              "             param_grid={&#x27;alpha&#x27;: [0.0001, 0.001, 0.01],\n",
              "                         &#x27;gamma&#x27;: [3.0, 4.0, 5.0], &#x27;kernel&#x27;: [&#x27;knn&#x27;, &#x27;rbf&#x27;],\n",
              "                         &#x27;max_iter&#x27;: [1, 2, 3, 5], &#x27;n_neighbors&#x27;: [1, 2, 3]},\n",
              "             verbose=3)</pre></div></div></div><div class=\"sk-parallel\"><div class=\"sk-parallel-item\"><div class=\"sk-item\"><div class=\"sk-label-container\"><div class=\"sk-label sk-toggleable\"><input class=\"sk-toggleable__control sk-hidden--visually\" id=\"sk-estimator-id-23\" type=\"checkbox\" ><label for=\"sk-estimator-id-23\" class=\"sk-toggleable__label sk-toggleable__label-arrow\">estimator: LabelSpreading</label><div class=\"sk-toggleable__content\"><pre>LabelSpreading()</pre></div></div></div><div class=\"sk-serial\"><div class=\"sk-item\"><div class=\"sk-estimator sk-toggleable\"><input class=\"sk-toggleable__control sk-hidden--visually\" id=\"sk-estimator-id-24\" type=\"checkbox\" ><label for=\"sk-estimator-id-24\" class=\"sk-toggleable__label sk-toggleable__label-arrow\">LabelSpreading</label><div class=\"sk-toggleable__content\"><pre>LabelSpreading()</pre></div></div></div></div></div></div></div></div></div></div>"
            ]
          },
          "metadata": {},
          "execution_count": 61
        }
      ]
    },
    {
      "cell_type": "code",
      "source": [
        "print(\"Semi-Supervised Model \\\"action\\\" with Bigram Proprocessing - Best Hyperparameters\\n\")\n",
        "print(semi_bi_model.best_params_)\n",
        "print()"
      ],
      "metadata": {
        "colab": {
          "base_uri": "https://localhost:8080/"
        },
        "outputId": "4a336b47-6110-4221-9757-cac525d5c33c",
        "id": "joJKBSPTcrdg"
      },
      "execution_count": 62,
      "outputs": [
        {
          "output_type": "stream",
          "name": "stdout",
          "text": [
            "Semi-Supervised Model \"action\" with Bigram Proprocessing - Best Hyperparameters\n",
            "\n",
            "{'alpha': 0.0001, 'gamma': 4.0, 'kernel': 'rbf', 'max_iter': 1, 'n_neighbors': 1}\n",
            "\n"
          ]
        }
      ]
    },
    {
      "cell_type": "code",
      "source": [
        "semi_bi_model_predictions = semi_bi_model.predict(X_test)\n",
        "semi_bi_report = classification_report(y_test, semi_bi_model_predictions)\n",
        "print(\"Semi-Supervised Model \\\"action\\\" with Bigram Proprocessing - Performance Report\\n\")\n",
        "print(semi_bi_report)\n",
        "print()"
      ],
      "metadata": {
        "colab": {
          "base_uri": "https://localhost:8080/"
        },
        "outputId": "2d39734b-4af6-4d65-cea0-b9ee7bdc7a11",
        "id": "G1TosanYcrdg"
      },
      "execution_count": 63,
      "outputs": [
        {
          "output_type": "stream",
          "name": "stdout",
          "text": [
            "Semi-Supervised Model \"action\" with Bigram Proprocessing - Performance Report\n",
            "\n",
            "              precision    recall  f1-score   support\n",
            "\n",
            "           1       1.00      1.00      1.00        11\n",
            "\n",
            "    accuracy                           1.00        11\n",
            "   macro avg       1.00      1.00      1.00        11\n",
            "weighted avg       1.00      1.00      1.00        11\n",
            "\n",
            "\n"
          ]
        }
      ]
    },
    {
      "cell_type": "code",
      "source": [
        "print(semi_bi_model_predictions)\n",
        "print(y_test)"
      ],
      "metadata": {
        "colab": {
          "base_uri": "https://localhost:8080/"
        },
        "id": "FRdouzm0QFyo",
        "outputId": "878141bc-a8a4-4b59-caa4-58531b2795e2"
      },
      "execution_count": 64,
      "outputs": [
        {
          "output_type": "stream",
          "name": "stdout",
          "text": [
            "[1 1 1 1 1 1 1 1 1 1 1]\n",
            "[1, 1, 1, 1, 1, 1, 1, 1, 1, 1, 1]\n"
          ]
        }
      ]
    },
    {
      "cell_type": "code",
      "source": [
        "# trigram\n",
        "X_train_semi, y_train_semi, X_train_labeled, y_train_labeled, X_test, y_test = output_train_test_sets(target_word, sense_1_file, sense_2_file, sense_1, sense_2, \"tri\")"
      ],
      "metadata": {
        "colab": {
          "base_uri": "https://localhost:8080/"
        },
        "outputId": "50b253bc-fb74-4dbf-d817-6cd4e77bcf27",
        "id": "xLbQ-pIhcrdg"
      },
      "execution_count": 65,
      "outputs": [
        {
          "output_type": "stream",
          "name": "stdout",
          "text": [
            "Size of unlabeled training set:  100\n",
            "Size of labeled training set:  104\n",
            "Size of test set (labeled):  11\n"
          ]
        }
      ]
    },
    {
      "cell_type": "code",
      "source": [
        "param_grid = {'kernel': ['knn', 'rbf'],\n",
        "              'gamma': [3.0, 4.0, 5.0],\n",
        "              'n_neighbors': [1, 2, 3],\n",
        "              'alpha': [0.00001, 0.0001, .001, 0.01],\n",
        "              'max_iter': [1, 2, 3]}\n",
        "\n",
        "semi_tri_model = GridSearchCV(LabelSpreading(), param_grid, refit=True, verbose=3, n_jobs=-1)\n",
        "semi_tri_model.fit(X_train_semi, y_train_semi)"
      ],
      "metadata": {
        "colab": {
          "base_uri": "https://localhost:8080/",
          "height": 191
        },
        "outputId": "c590f0fb-2b47-4232-8afe-dbc3b9df32e2",
        "id": "2dx-ZhkTcrdg"
      },
      "execution_count": 66,
      "outputs": [
        {
          "output_type": "stream",
          "name": "stdout",
          "text": [
            "Fitting 5 folds for each of 216 candidates, totalling 1080 fits\n"
          ]
        },
        {
          "output_type": "stream",
          "name": "stderr",
          "text": [
            "/usr/local/lib/python3.10/dist-packages/sklearn/semi_supervised/_label_propagation.py:318: ConvergenceWarning: max_iter=1 was reached without convergence.\n",
            "  warnings.warn(\n"
          ]
        },
        {
          "output_type": "execute_result",
          "data": {
            "text/plain": [
              "GridSearchCV(estimator=LabelSpreading(), n_jobs=-1,\n",
              "             param_grid={'alpha': [1e-05, 0.0001, 0.001, 0.01],\n",
              "                         'gamma': [3.0, 4.0, 5.0], 'kernel': ['knn', 'rbf'],\n",
              "                         'max_iter': [1, 2, 3], 'n_neighbors': [1, 2, 3]},\n",
              "             verbose=3)"
            ],
            "text/html": [
              "<style>#sk-container-id-9 {color: black;background-color: white;}#sk-container-id-9 pre{padding: 0;}#sk-container-id-9 div.sk-toggleable {background-color: white;}#sk-container-id-9 label.sk-toggleable__label {cursor: pointer;display: block;width: 100%;margin-bottom: 0;padding: 0.3em;box-sizing: border-box;text-align: center;}#sk-container-id-9 label.sk-toggleable__label-arrow:before {content: \"▸\";float: left;margin-right: 0.25em;color: #696969;}#sk-container-id-9 label.sk-toggleable__label-arrow:hover:before {color: black;}#sk-container-id-9 div.sk-estimator:hover label.sk-toggleable__label-arrow:before {color: black;}#sk-container-id-9 div.sk-toggleable__content {max-height: 0;max-width: 0;overflow: hidden;text-align: left;background-color: #f0f8ff;}#sk-container-id-9 div.sk-toggleable__content pre {margin: 0.2em;color: black;border-radius: 0.25em;background-color: #f0f8ff;}#sk-container-id-9 input.sk-toggleable__control:checked~div.sk-toggleable__content {max-height: 200px;max-width: 100%;overflow: auto;}#sk-container-id-9 input.sk-toggleable__control:checked~label.sk-toggleable__label-arrow:before {content: \"▾\";}#sk-container-id-9 div.sk-estimator input.sk-toggleable__control:checked~label.sk-toggleable__label {background-color: #d4ebff;}#sk-container-id-9 div.sk-label input.sk-toggleable__control:checked~label.sk-toggleable__label {background-color: #d4ebff;}#sk-container-id-9 input.sk-hidden--visually {border: 0;clip: rect(1px 1px 1px 1px);clip: rect(1px, 1px, 1px, 1px);height: 1px;margin: -1px;overflow: hidden;padding: 0;position: absolute;width: 1px;}#sk-container-id-9 div.sk-estimator {font-family: monospace;background-color: #f0f8ff;border: 1px dotted black;border-radius: 0.25em;box-sizing: border-box;margin-bottom: 0.5em;}#sk-container-id-9 div.sk-estimator:hover {background-color: #d4ebff;}#sk-container-id-9 div.sk-parallel-item::after {content: \"\";width: 100%;border-bottom: 1px solid gray;flex-grow: 1;}#sk-container-id-9 div.sk-label:hover label.sk-toggleable__label {background-color: #d4ebff;}#sk-container-id-9 div.sk-serial::before {content: \"\";position: absolute;border-left: 1px solid gray;box-sizing: border-box;top: 0;bottom: 0;left: 50%;z-index: 0;}#sk-container-id-9 div.sk-serial {display: flex;flex-direction: column;align-items: center;background-color: white;padding-right: 0.2em;padding-left: 0.2em;position: relative;}#sk-container-id-9 div.sk-item {position: relative;z-index: 1;}#sk-container-id-9 div.sk-parallel {display: flex;align-items: stretch;justify-content: center;background-color: white;position: relative;}#sk-container-id-9 div.sk-item::before, #sk-container-id-9 div.sk-parallel-item::before {content: \"\";position: absolute;border-left: 1px solid gray;box-sizing: border-box;top: 0;bottom: 0;left: 50%;z-index: -1;}#sk-container-id-9 div.sk-parallel-item {display: flex;flex-direction: column;z-index: 1;position: relative;background-color: white;}#sk-container-id-9 div.sk-parallel-item:first-child::after {align-self: flex-end;width: 50%;}#sk-container-id-9 div.sk-parallel-item:last-child::after {align-self: flex-start;width: 50%;}#sk-container-id-9 div.sk-parallel-item:only-child::after {width: 0;}#sk-container-id-9 div.sk-dashed-wrapped {border: 1px dashed gray;margin: 0 0.4em 0.5em 0.4em;box-sizing: border-box;padding-bottom: 0.4em;background-color: white;}#sk-container-id-9 div.sk-label label {font-family: monospace;font-weight: bold;display: inline-block;line-height: 1.2em;}#sk-container-id-9 div.sk-label-container {text-align: center;}#sk-container-id-9 div.sk-container {/* jupyter's `normalize.less` sets `[hidden] { display: none; }` but bootstrap.min.css set `[hidden] { display: none !important; }` so we also need the `!important` here to be able to override the default hidden behavior on the sphinx rendered scikit-learn.org. See: https://github.com/scikit-learn/scikit-learn/issues/21755 */display: inline-block !important;position: relative;}#sk-container-id-9 div.sk-text-repr-fallback {display: none;}</style><div id=\"sk-container-id-9\" class=\"sk-top-container\"><div class=\"sk-text-repr-fallback\"><pre>GridSearchCV(estimator=LabelSpreading(), n_jobs=-1,\n",
              "             param_grid={&#x27;alpha&#x27;: [1e-05, 0.0001, 0.001, 0.01],\n",
              "                         &#x27;gamma&#x27;: [3.0, 4.0, 5.0], &#x27;kernel&#x27;: [&#x27;knn&#x27;, &#x27;rbf&#x27;],\n",
              "                         &#x27;max_iter&#x27;: [1, 2, 3], &#x27;n_neighbors&#x27;: [1, 2, 3]},\n",
              "             verbose=3)</pre><b>In a Jupyter environment, please rerun this cell to show the HTML representation or trust the notebook. <br />On GitHub, the HTML representation is unable to render, please try loading this page with nbviewer.org.</b></div><div class=\"sk-container\" hidden><div class=\"sk-item sk-dashed-wrapped\"><div class=\"sk-label-container\"><div class=\"sk-label sk-toggleable\"><input class=\"sk-toggleable__control sk-hidden--visually\" id=\"sk-estimator-id-25\" type=\"checkbox\" ><label for=\"sk-estimator-id-25\" class=\"sk-toggleable__label sk-toggleable__label-arrow\">GridSearchCV</label><div class=\"sk-toggleable__content\"><pre>GridSearchCV(estimator=LabelSpreading(), n_jobs=-1,\n",
              "             param_grid={&#x27;alpha&#x27;: [1e-05, 0.0001, 0.001, 0.01],\n",
              "                         &#x27;gamma&#x27;: [3.0, 4.0, 5.0], &#x27;kernel&#x27;: [&#x27;knn&#x27;, &#x27;rbf&#x27;],\n",
              "                         &#x27;max_iter&#x27;: [1, 2, 3], &#x27;n_neighbors&#x27;: [1, 2, 3]},\n",
              "             verbose=3)</pre></div></div></div><div class=\"sk-parallel\"><div class=\"sk-parallel-item\"><div class=\"sk-item\"><div class=\"sk-label-container\"><div class=\"sk-label sk-toggleable\"><input class=\"sk-toggleable__control sk-hidden--visually\" id=\"sk-estimator-id-26\" type=\"checkbox\" ><label for=\"sk-estimator-id-26\" class=\"sk-toggleable__label sk-toggleable__label-arrow\">estimator: LabelSpreading</label><div class=\"sk-toggleable__content\"><pre>LabelSpreading()</pre></div></div></div><div class=\"sk-serial\"><div class=\"sk-item\"><div class=\"sk-estimator sk-toggleable\"><input class=\"sk-toggleable__control sk-hidden--visually\" id=\"sk-estimator-id-27\" type=\"checkbox\" ><label for=\"sk-estimator-id-27\" class=\"sk-toggleable__label sk-toggleable__label-arrow\">LabelSpreading</label><div class=\"sk-toggleable__content\"><pre>LabelSpreading()</pre></div></div></div></div></div></div></div></div></div></div>"
            ]
          },
          "metadata": {},
          "execution_count": 66
        }
      ]
    },
    {
      "cell_type": "code",
      "source": [
        "print(\"Semi-Supervised Model \\\"action\\\" with Trigram Proprocessing - Best Hyperparameters\\n\")\n",
        "print(semi_tri_model.best_params_)\n",
        "print()"
      ],
      "metadata": {
        "colab": {
          "base_uri": "https://localhost:8080/"
        },
        "outputId": "eef34a6e-9acc-4d02-ba2e-d96f774c8f00",
        "id": "5q-DtvlNcrdg"
      },
      "execution_count": 67,
      "outputs": [
        {
          "output_type": "stream",
          "name": "stdout",
          "text": [
            "Semi-Supervised Model \"action\" with Trigram Proprocessing - Best Hyperparameters\n",
            "\n",
            "{'alpha': 1e-05, 'gamma': 4.0, 'kernel': 'rbf', 'max_iter': 1, 'n_neighbors': 1}\n",
            "\n"
          ]
        }
      ]
    },
    {
      "cell_type": "code",
      "source": [
        "semi_tri_model_predictions = semi_tri_model.predict(X_test)\n",
        "semi_tri_report = classification_report(y_test, semi_tri_model_predictions)\n",
        "print(\"Semi-Supervised Model \\\"action\\\" with Trigram Proprocessing - Performance Report\\n\")\n",
        "print(semi_tri_report)\n",
        "print()"
      ],
      "metadata": {
        "colab": {
          "base_uri": "https://localhost:8080/"
        },
        "outputId": "ec822005-7af0-4118-d8e0-28765c452191",
        "id": "SF99kkt6crdg"
      },
      "execution_count": 68,
      "outputs": [
        {
          "output_type": "stream",
          "name": "stdout",
          "text": [
            "Semi-Supervised Model \"action\" with Trigram Proprocessing - Performance Report\n",
            "\n",
            "              precision    recall  f1-score   support\n",
            "\n",
            "           1       1.00      1.00      1.00        11\n",
            "\n",
            "    accuracy                           1.00        11\n",
            "   macro avg       1.00      1.00      1.00        11\n",
            "weighted avg       1.00      1.00      1.00        11\n",
            "\n",
            "\n"
          ]
        }
      ]
    },
    {
      "cell_type": "code",
      "source": [
        "print(semi_tri_model_predictions)\n",
        "print(y_test)"
      ],
      "metadata": {
        "colab": {
          "base_uri": "https://localhost:8080/"
        },
        "id": "Y71LkneCQPPR",
        "outputId": "b895fcb8-5e72-4c3a-ac8d-b49459b9edb2"
      },
      "execution_count": 69,
      "outputs": [
        {
          "output_type": "stream",
          "name": "stdout",
          "text": [
            "[1 1 1 1 1 1 1 1 1 1 1]\n",
            "[1, 1, 1, 1, 1, 1, 1, 1, 1, 1, 1]\n"
          ]
        }
      ]
    },
    {
      "cell_type": "markdown",
      "source": [
        "### Word: claim\n",
        "\n",
        "We pick two senses of claim. They are:\n",
        "1.  S: (n) claim (claim%1:10:02::) (an assertion that something is true or factual) \"his claim that he was innocent\"; \"evidence contradicted the government's claims\"\n",
        "2.  S: (n) claim (claim%1:04:00::) (demand for something as rightful or due) \"they struck in support of their claim for a shorter work day\"\n",
        "\n",
        "We assign 1 to the first sense and 2 to the second sense."
      ],
      "metadata": {
        "id": "ivpuTQj4XNbh"
      }
    },
    {
      "cell_type": "code",
      "source": [
        "# parameters to change\n",
        "target_word = \"claim\"\n",
        "sense_1_file = \"/content/claim_assertion.txt\"\n",
        "sense_2_file = \"/content/claim_demand.txt\"\n",
        "general_file = \"/content/claim.txt\"\n",
        "sense_1 = \"1:10:02::\"\n",
        "sense_2 = \"1:04:00::\""
      ],
      "metadata": {
        "id": "LYF4Jf45XNbh"
      },
      "execution_count": 70,
      "outputs": []
    },
    {
      "cell_type": "code",
      "source": [
        "# unigram\n",
        "X_train_semi, y_train_semi, X_train_labeled, y_train_labeled, X_test, y_test = output_train_test_sets(target_word, sense_1_file, sense_2_file, sense_1, sense_2, \"uni\")"
      ],
      "metadata": {
        "colab": {
          "base_uri": "https://localhost:8080/"
        },
        "outputId": "9ad3a8de-4cd4-49e3-a16d-cc20731c0834",
        "id": "nbEVGtR1gzUz"
      },
      "execution_count": 71,
      "outputs": [
        {
          "output_type": "stream",
          "name": "stdout",
          "text": [
            "Size of unlabeled training set:  100\n",
            "Size of labeled training set:  101\n",
            "Size of test set (labeled):  9\n"
          ]
        }
      ]
    },
    {
      "cell_type": "code",
      "source": [
        "param_grid = {'kernel': ['knn', 'rbf'],\n",
        "              'gamma': [10.0, 12.0, 14.0],\n",
        "              'n_neighbors': [1, 2, 3, 4],\n",
        "              'alpha': [0.00001, 0.0001, 0.001],\n",
        "              'max_iter': [1, 2, 3, 5]}\n",
        "\n",
        "semi_uni_model = GridSearchCV(LabelSpreading(), param_grid, refit=True, verbose=3, n_jobs=-1)\n",
        "semi_uni_model.fit(X_train_semi, y_train_semi)"
      ],
      "metadata": {
        "colab": {
          "base_uri": "https://localhost:8080/",
          "height": 191
        },
        "outputId": "0b002576-d074-4ff5-9db3-05163b5fea35",
        "id": "_jfiHc3GgzUz"
      },
      "execution_count": 72,
      "outputs": [
        {
          "output_type": "stream",
          "name": "stdout",
          "text": [
            "Fitting 5 folds for each of 288 candidates, totalling 1440 fits\n"
          ]
        },
        {
          "output_type": "stream",
          "name": "stderr",
          "text": [
            "/usr/local/lib/python3.10/dist-packages/sklearn/semi_supervised/_label_propagation.py:318: ConvergenceWarning: max_iter=2 was reached without convergence.\n",
            "  warnings.warn(\n"
          ]
        },
        {
          "output_type": "execute_result",
          "data": {
            "text/plain": [
              "GridSearchCV(estimator=LabelSpreading(), n_jobs=-1,\n",
              "             param_grid={'alpha': [1e-05, 0.0001, 0.001],\n",
              "                         'gamma': [10.0, 12.0, 14.0], 'kernel': ['knn', 'rbf'],\n",
              "                         'max_iter': [1, 2, 3, 5],\n",
              "                         'n_neighbors': [1, 2, 3, 4]},\n",
              "             verbose=3)"
            ],
            "text/html": [
              "<style>#sk-container-id-10 {color: black;background-color: white;}#sk-container-id-10 pre{padding: 0;}#sk-container-id-10 div.sk-toggleable {background-color: white;}#sk-container-id-10 label.sk-toggleable__label {cursor: pointer;display: block;width: 100%;margin-bottom: 0;padding: 0.3em;box-sizing: border-box;text-align: center;}#sk-container-id-10 label.sk-toggleable__label-arrow:before {content: \"▸\";float: left;margin-right: 0.25em;color: #696969;}#sk-container-id-10 label.sk-toggleable__label-arrow:hover:before {color: black;}#sk-container-id-10 div.sk-estimator:hover label.sk-toggleable__label-arrow:before {color: black;}#sk-container-id-10 div.sk-toggleable__content {max-height: 0;max-width: 0;overflow: hidden;text-align: left;background-color: #f0f8ff;}#sk-container-id-10 div.sk-toggleable__content pre {margin: 0.2em;color: black;border-radius: 0.25em;background-color: #f0f8ff;}#sk-container-id-10 input.sk-toggleable__control:checked~div.sk-toggleable__content {max-height: 200px;max-width: 100%;overflow: auto;}#sk-container-id-10 input.sk-toggleable__control:checked~label.sk-toggleable__label-arrow:before {content: \"▾\";}#sk-container-id-10 div.sk-estimator input.sk-toggleable__control:checked~label.sk-toggleable__label {background-color: #d4ebff;}#sk-container-id-10 div.sk-label input.sk-toggleable__control:checked~label.sk-toggleable__label {background-color: #d4ebff;}#sk-container-id-10 input.sk-hidden--visually {border: 0;clip: rect(1px 1px 1px 1px);clip: rect(1px, 1px, 1px, 1px);height: 1px;margin: -1px;overflow: hidden;padding: 0;position: absolute;width: 1px;}#sk-container-id-10 div.sk-estimator {font-family: monospace;background-color: #f0f8ff;border: 1px dotted black;border-radius: 0.25em;box-sizing: border-box;margin-bottom: 0.5em;}#sk-container-id-10 div.sk-estimator:hover {background-color: #d4ebff;}#sk-container-id-10 div.sk-parallel-item::after {content: \"\";width: 100%;border-bottom: 1px solid gray;flex-grow: 1;}#sk-container-id-10 div.sk-label:hover label.sk-toggleable__label {background-color: #d4ebff;}#sk-container-id-10 div.sk-serial::before {content: \"\";position: absolute;border-left: 1px solid gray;box-sizing: border-box;top: 0;bottom: 0;left: 50%;z-index: 0;}#sk-container-id-10 div.sk-serial {display: flex;flex-direction: column;align-items: center;background-color: white;padding-right: 0.2em;padding-left: 0.2em;position: relative;}#sk-container-id-10 div.sk-item {position: relative;z-index: 1;}#sk-container-id-10 div.sk-parallel {display: flex;align-items: stretch;justify-content: center;background-color: white;position: relative;}#sk-container-id-10 div.sk-item::before, #sk-container-id-10 div.sk-parallel-item::before {content: \"\";position: absolute;border-left: 1px solid gray;box-sizing: border-box;top: 0;bottom: 0;left: 50%;z-index: -1;}#sk-container-id-10 div.sk-parallel-item {display: flex;flex-direction: column;z-index: 1;position: relative;background-color: white;}#sk-container-id-10 div.sk-parallel-item:first-child::after {align-self: flex-end;width: 50%;}#sk-container-id-10 div.sk-parallel-item:last-child::after {align-self: flex-start;width: 50%;}#sk-container-id-10 div.sk-parallel-item:only-child::after {width: 0;}#sk-container-id-10 div.sk-dashed-wrapped {border: 1px dashed gray;margin: 0 0.4em 0.5em 0.4em;box-sizing: border-box;padding-bottom: 0.4em;background-color: white;}#sk-container-id-10 div.sk-label label {font-family: monospace;font-weight: bold;display: inline-block;line-height: 1.2em;}#sk-container-id-10 div.sk-label-container {text-align: center;}#sk-container-id-10 div.sk-container {/* jupyter's `normalize.less` sets `[hidden] { display: none; }` but bootstrap.min.css set `[hidden] { display: none !important; }` so we also need the `!important` here to be able to override the default hidden behavior on the sphinx rendered scikit-learn.org. See: https://github.com/scikit-learn/scikit-learn/issues/21755 */display: inline-block !important;position: relative;}#sk-container-id-10 div.sk-text-repr-fallback {display: none;}</style><div id=\"sk-container-id-10\" class=\"sk-top-container\"><div class=\"sk-text-repr-fallback\"><pre>GridSearchCV(estimator=LabelSpreading(), n_jobs=-1,\n",
              "             param_grid={&#x27;alpha&#x27;: [1e-05, 0.0001, 0.001],\n",
              "                         &#x27;gamma&#x27;: [10.0, 12.0, 14.0], &#x27;kernel&#x27;: [&#x27;knn&#x27;, &#x27;rbf&#x27;],\n",
              "                         &#x27;max_iter&#x27;: [1, 2, 3, 5],\n",
              "                         &#x27;n_neighbors&#x27;: [1, 2, 3, 4]},\n",
              "             verbose=3)</pre><b>In a Jupyter environment, please rerun this cell to show the HTML representation or trust the notebook. <br />On GitHub, the HTML representation is unable to render, please try loading this page with nbviewer.org.</b></div><div class=\"sk-container\" hidden><div class=\"sk-item sk-dashed-wrapped\"><div class=\"sk-label-container\"><div class=\"sk-label sk-toggleable\"><input class=\"sk-toggleable__control sk-hidden--visually\" id=\"sk-estimator-id-28\" type=\"checkbox\" ><label for=\"sk-estimator-id-28\" class=\"sk-toggleable__label sk-toggleable__label-arrow\">GridSearchCV</label><div class=\"sk-toggleable__content\"><pre>GridSearchCV(estimator=LabelSpreading(), n_jobs=-1,\n",
              "             param_grid={&#x27;alpha&#x27;: [1e-05, 0.0001, 0.001],\n",
              "                         &#x27;gamma&#x27;: [10.0, 12.0, 14.0], &#x27;kernel&#x27;: [&#x27;knn&#x27;, &#x27;rbf&#x27;],\n",
              "                         &#x27;max_iter&#x27;: [1, 2, 3, 5],\n",
              "                         &#x27;n_neighbors&#x27;: [1, 2, 3, 4]},\n",
              "             verbose=3)</pre></div></div></div><div class=\"sk-parallel\"><div class=\"sk-parallel-item\"><div class=\"sk-item\"><div class=\"sk-label-container\"><div class=\"sk-label sk-toggleable\"><input class=\"sk-toggleable__control sk-hidden--visually\" id=\"sk-estimator-id-29\" type=\"checkbox\" ><label for=\"sk-estimator-id-29\" class=\"sk-toggleable__label sk-toggleable__label-arrow\">estimator: LabelSpreading</label><div class=\"sk-toggleable__content\"><pre>LabelSpreading()</pre></div></div></div><div class=\"sk-serial\"><div class=\"sk-item\"><div class=\"sk-estimator sk-toggleable\"><input class=\"sk-toggleable__control sk-hidden--visually\" id=\"sk-estimator-id-30\" type=\"checkbox\" ><label for=\"sk-estimator-id-30\" class=\"sk-toggleable__label sk-toggleable__label-arrow\">LabelSpreading</label><div class=\"sk-toggleable__content\"><pre>LabelSpreading()</pre></div></div></div></div></div></div></div></div></div></div>"
            ]
          },
          "metadata": {},
          "execution_count": 72
        }
      ]
    },
    {
      "cell_type": "code",
      "source": [
        "print(\"Semi-Supervised Model \\\"claim\\\" with Unigram Proprocessing - Best Hyperparameters\\n\")\n",
        "print(semi_uni_model.best_params_)\n",
        "print()"
      ],
      "metadata": {
        "colab": {
          "base_uri": "https://localhost:8080/"
        },
        "outputId": "fbd3921c-55e2-4a05-a5eb-fce96eead990",
        "id": "zuYlXauzgzUz"
      },
      "execution_count": 73,
      "outputs": [
        {
          "output_type": "stream",
          "name": "stdout",
          "text": [
            "Semi-Supervised Model \"claim\" with Unigram Proprocessing - Best Hyperparameters\n",
            "\n",
            "{'alpha': 0.0001, 'gamma': 12.0, 'kernel': 'rbf', 'max_iter': 2, 'n_neighbors': 1}\n",
            "\n"
          ]
        }
      ]
    },
    {
      "cell_type": "code",
      "source": [
        "semi_uni_model_predictions = semi_uni_model.predict(X_test)\n",
        "semi_uni_report = classification_report(y_test, semi_uni_model_predictions)\n",
        "print(\"Semi-Supervised Model \\\"claim\\\" with Unigram Proprocessing - Performance Report\\n\")\n",
        "print(semi_uni_report)\n",
        "print()"
      ],
      "metadata": {
        "colab": {
          "base_uri": "https://localhost:8080/"
        },
        "outputId": "3d14ed7c-816c-406c-d63e-ad1a8c1a8293",
        "id": "sWE0VWt4gzUz"
      },
      "execution_count": 74,
      "outputs": [
        {
          "output_type": "stream",
          "name": "stdout",
          "text": [
            "Semi-Supervised Model \"claim\" with Unigram Proprocessing - Performance Report\n",
            "\n",
            "              precision    recall  f1-score   support\n",
            "\n",
            "           1       1.00      0.89      0.94         9\n",
            "           2       0.00      0.00      0.00         0\n",
            "\n",
            "    accuracy                           0.89         9\n",
            "   macro avg       0.50      0.44      0.47         9\n",
            "weighted avg       1.00      0.89      0.94         9\n",
            "\n",
            "\n"
          ]
        },
        {
          "output_type": "stream",
          "name": "stderr",
          "text": [
            "/usr/local/lib/python3.10/dist-packages/sklearn/metrics/_classification.py:1344: UndefinedMetricWarning: Recall and F-score are ill-defined and being set to 0.0 in labels with no true samples. Use `zero_division` parameter to control this behavior.\n",
            "  _warn_prf(average, modifier, msg_start, len(result))\n",
            "/usr/local/lib/python3.10/dist-packages/sklearn/metrics/_classification.py:1344: UndefinedMetricWarning: Recall and F-score are ill-defined and being set to 0.0 in labels with no true samples. Use `zero_division` parameter to control this behavior.\n",
            "  _warn_prf(average, modifier, msg_start, len(result))\n",
            "/usr/local/lib/python3.10/dist-packages/sklearn/metrics/_classification.py:1344: UndefinedMetricWarning: Recall and F-score are ill-defined and being set to 0.0 in labels with no true samples. Use `zero_division` parameter to control this behavior.\n",
            "  _warn_prf(average, modifier, msg_start, len(result))\n"
          ]
        }
      ]
    },
    {
      "cell_type": "code",
      "source": [
        "print(semi_uni_model_predictions)\n",
        "print(y_test)"
      ],
      "metadata": {
        "colab": {
          "base_uri": "https://localhost:8080/"
        },
        "id": "mNrPKF64P5tR",
        "outputId": "3122358c-3669-4d60-b508-f1a30cef3ab1"
      },
      "execution_count": 75,
      "outputs": [
        {
          "output_type": "stream",
          "name": "stdout",
          "text": [
            "[1 1 1 1 1 1 2 1 1]\n",
            "[1, 1, 1, 1, 1, 1, 1, 1, 1]\n"
          ]
        }
      ]
    },
    {
      "cell_type": "code",
      "source": [
        "# bigram\n",
        "X_train_semi, y_train_semi, X_train_labeled, y_train_labeled, X_test, y_test = output_train_test_sets(target_word, sense_1_file, sense_2_file, sense_1, sense_2, \"bi\")"
      ],
      "metadata": {
        "colab": {
          "base_uri": "https://localhost:8080/"
        },
        "outputId": "76495d6e-fce5-4687-a2ff-286a8861dc46",
        "id": "x7cFg0M4gzUz"
      },
      "execution_count": 76,
      "outputs": [
        {
          "output_type": "stream",
          "name": "stdout",
          "text": [
            "Size of unlabeled training set:  100\n",
            "Size of labeled training set:  101\n",
            "Size of test set (labeled):  9\n"
          ]
        }
      ]
    },
    {
      "cell_type": "code",
      "source": [
        "param_grid = {'kernel': ['knn', 'rbf'],\n",
        "              'gamma': [1.0, 2.0, 3.0, 4.0],\n",
        "              'n_neighbors': [1, 2],\n",
        "              'alpha': [0.00001, 0.0001, 0.001],\n",
        "              'max_iter': [1, 2, 3]}\n",
        "\n",
        "semi_bi_model = GridSearchCV(LabelSpreading(), param_grid, refit=True, verbose=3, n_jobs=-1)\n",
        "semi_bi_model.fit(X_train_semi, y_train_semi)"
      ],
      "metadata": {
        "colab": {
          "base_uri": "https://localhost:8080/",
          "height": 191
        },
        "outputId": "1d3d7831-ae7e-4967-bda4-960b743c6ce4",
        "id": "tIZyjVrogzU0"
      },
      "execution_count": 77,
      "outputs": [
        {
          "output_type": "stream",
          "name": "stdout",
          "text": [
            "Fitting 5 folds for each of 144 candidates, totalling 720 fits\n"
          ]
        },
        {
          "output_type": "stream",
          "name": "stderr",
          "text": [
            "/usr/local/lib/python3.10/dist-packages/sklearn/semi_supervised/_label_propagation.py:318: ConvergenceWarning: max_iter=1 was reached without convergence.\n",
            "  warnings.warn(\n"
          ]
        },
        {
          "output_type": "execute_result",
          "data": {
            "text/plain": [
              "GridSearchCV(estimator=LabelSpreading(), n_jobs=-1,\n",
              "             param_grid={'alpha': [1e-05, 0.0001, 0.001],\n",
              "                         'gamma': [1.0, 2.0, 3.0, 4.0],\n",
              "                         'kernel': ['knn', 'rbf'], 'max_iter': [1, 2, 3],\n",
              "                         'n_neighbors': [1, 2]},\n",
              "             verbose=3)"
            ],
            "text/html": [
              "<style>#sk-container-id-11 {color: black;background-color: white;}#sk-container-id-11 pre{padding: 0;}#sk-container-id-11 div.sk-toggleable {background-color: white;}#sk-container-id-11 label.sk-toggleable__label {cursor: pointer;display: block;width: 100%;margin-bottom: 0;padding: 0.3em;box-sizing: border-box;text-align: center;}#sk-container-id-11 label.sk-toggleable__label-arrow:before {content: \"▸\";float: left;margin-right: 0.25em;color: #696969;}#sk-container-id-11 label.sk-toggleable__label-arrow:hover:before {color: black;}#sk-container-id-11 div.sk-estimator:hover label.sk-toggleable__label-arrow:before {color: black;}#sk-container-id-11 div.sk-toggleable__content {max-height: 0;max-width: 0;overflow: hidden;text-align: left;background-color: #f0f8ff;}#sk-container-id-11 div.sk-toggleable__content pre {margin: 0.2em;color: black;border-radius: 0.25em;background-color: #f0f8ff;}#sk-container-id-11 input.sk-toggleable__control:checked~div.sk-toggleable__content {max-height: 200px;max-width: 100%;overflow: auto;}#sk-container-id-11 input.sk-toggleable__control:checked~label.sk-toggleable__label-arrow:before {content: \"▾\";}#sk-container-id-11 div.sk-estimator input.sk-toggleable__control:checked~label.sk-toggleable__label {background-color: #d4ebff;}#sk-container-id-11 div.sk-label input.sk-toggleable__control:checked~label.sk-toggleable__label {background-color: #d4ebff;}#sk-container-id-11 input.sk-hidden--visually {border: 0;clip: rect(1px 1px 1px 1px);clip: rect(1px, 1px, 1px, 1px);height: 1px;margin: -1px;overflow: hidden;padding: 0;position: absolute;width: 1px;}#sk-container-id-11 div.sk-estimator {font-family: monospace;background-color: #f0f8ff;border: 1px dotted black;border-radius: 0.25em;box-sizing: border-box;margin-bottom: 0.5em;}#sk-container-id-11 div.sk-estimator:hover {background-color: #d4ebff;}#sk-container-id-11 div.sk-parallel-item::after {content: \"\";width: 100%;border-bottom: 1px solid gray;flex-grow: 1;}#sk-container-id-11 div.sk-label:hover label.sk-toggleable__label {background-color: #d4ebff;}#sk-container-id-11 div.sk-serial::before {content: \"\";position: absolute;border-left: 1px solid gray;box-sizing: border-box;top: 0;bottom: 0;left: 50%;z-index: 0;}#sk-container-id-11 div.sk-serial {display: flex;flex-direction: column;align-items: center;background-color: white;padding-right: 0.2em;padding-left: 0.2em;position: relative;}#sk-container-id-11 div.sk-item {position: relative;z-index: 1;}#sk-container-id-11 div.sk-parallel {display: flex;align-items: stretch;justify-content: center;background-color: white;position: relative;}#sk-container-id-11 div.sk-item::before, #sk-container-id-11 div.sk-parallel-item::before {content: \"\";position: absolute;border-left: 1px solid gray;box-sizing: border-box;top: 0;bottom: 0;left: 50%;z-index: -1;}#sk-container-id-11 div.sk-parallel-item {display: flex;flex-direction: column;z-index: 1;position: relative;background-color: white;}#sk-container-id-11 div.sk-parallel-item:first-child::after {align-self: flex-end;width: 50%;}#sk-container-id-11 div.sk-parallel-item:last-child::after {align-self: flex-start;width: 50%;}#sk-container-id-11 div.sk-parallel-item:only-child::after {width: 0;}#sk-container-id-11 div.sk-dashed-wrapped {border: 1px dashed gray;margin: 0 0.4em 0.5em 0.4em;box-sizing: border-box;padding-bottom: 0.4em;background-color: white;}#sk-container-id-11 div.sk-label label {font-family: monospace;font-weight: bold;display: inline-block;line-height: 1.2em;}#sk-container-id-11 div.sk-label-container {text-align: center;}#sk-container-id-11 div.sk-container {/* jupyter's `normalize.less` sets `[hidden] { display: none; }` but bootstrap.min.css set `[hidden] { display: none !important; }` so we also need the `!important` here to be able to override the default hidden behavior on the sphinx rendered scikit-learn.org. See: https://github.com/scikit-learn/scikit-learn/issues/21755 */display: inline-block !important;position: relative;}#sk-container-id-11 div.sk-text-repr-fallback {display: none;}</style><div id=\"sk-container-id-11\" class=\"sk-top-container\"><div class=\"sk-text-repr-fallback\"><pre>GridSearchCV(estimator=LabelSpreading(), n_jobs=-1,\n",
              "             param_grid={&#x27;alpha&#x27;: [1e-05, 0.0001, 0.001],\n",
              "                         &#x27;gamma&#x27;: [1.0, 2.0, 3.0, 4.0],\n",
              "                         &#x27;kernel&#x27;: [&#x27;knn&#x27;, &#x27;rbf&#x27;], &#x27;max_iter&#x27;: [1, 2, 3],\n",
              "                         &#x27;n_neighbors&#x27;: [1, 2]},\n",
              "             verbose=3)</pre><b>In a Jupyter environment, please rerun this cell to show the HTML representation or trust the notebook. <br />On GitHub, the HTML representation is unable to render, please try loading this page with nbviewer.org.</b></div><div class=\"sk-container\" hidden><div class=\"sk-item sk-dashed-wrapped\"><div class=\"sk-label-container\"><div class=\"sk-label sk-toggleable\"><input class=\"sk-toggleable__control sk-hidden--visually\" id=\"sk-estimator-id-31\" type=\"checkbox\" ><label for=\"sk-estimator-id-31\" class=\"sk-toggleable__label sk-toggleable__label-arrow\">GridSearchCV</label><div class=\"sk-toggleable__content\"><pre>GridSearchCV(estimator=LabelSpreading(), n_jobs=-1,\n",
              "             param_grid={&#x27;alpha&#x27;: [1e-05, 0.0001, 0.001],\n",
              "                         &#x27;gamma&#x27;: [1.0, 2.0, 3.0, 4.0],\n",
              "                         &#x27;kernel&#x27;: [&#x27;knn&#x27;, &#x27;rbf&#x27;], &#x27;max_iter&#x27;: [1, 2, 3],\n",
              "                         &#x27;n_neighbors&#x27;: [1, 2]},\n",
              "             verbose=3)</pre></div></div></div><div class=\"sk-parallel\"><div class=\"sk-parallel-item\"><div class=\"sk-item\"><div class=\"sk-label-container\"><div class=\"sk-label sk-toggleable\"><input class=\"sk-toggleable__control sk-hidden--visually\" id=\"sk-estimator-id-32\" type=\"checkbox\" ><label for=\"sk-estimator-id-32\" class=\"sk-toggleable__label sk-toggleable__label-arrow\">estimator: LabelSpreading</label><div class=\"sk-toggleable__content\"><pre>LabelSpreading()</pre></div></div></div><div class=\"sk-serial\"><div class=\"sk-item\"><div class=\"sk-estimator sk-toggleable\"><input class=\"sk-toggleable__control sk-hidden--visually\" id=\"sk-estimator-id-33\" type=\"checkbox\" ><label for=\"sk-estimator-id-33\" class=\"sk-toggleable__label sk-toggleable__label-arrow\">LabelSpreading</label><div class=\"sk-toggleable__content\"><pre>LabelSpreading()</pre></div></div></div></div></div></div></div></div></div></div>"
            ]
          },
          "metadata": {},
          "execution_count": 77
        }
      ]
    },
    {
      "cell_type": "code",
      "source": [
        "print(\"Semi-Supervised Model \\\"claim\\\" with Bigram Proprocessing - Best Hyperparameters\\n\")\n",
        "print(semi_bi_model.best_params_)\n",
        "print()"
      ],
      "metadata": {
        "colab": {
          "base_uri": "https://localhost:8080/"
        },
        "outputId": "91c96081-0ef2-4b9a-f15f-5dedfccc57f5",
        "id": "UXUZyqyigzU0"
      },
      "execution_count": 78,
      "outputs": [
        {
          "output_type": "stream",
          "name": "stdout",
          "text": [
            "Semi-Supervised Model \"claim\" with Bigram Proprocessing - Best Hyperparameters\n",
            "\n",
            "{'alpha': 1e-05, 'gamma': 2.0, 'kernel': 'rbf', 'max_iter': 1, 'n_neighbors': 1}\n",
            "\n"
          ]
        }
      ]
    },
    {
      "cell_type": "code",
      "source": [
        "semi_bi_model_predictions = semi_bi_model.predict(X_test)\n",
        "semi_bi_report = classification_report(y_test, semi_bi_model_predictions)\n",
        "print(\"Semi-Supervised Model \\\"claim\\\" with Bigram Proprocessing - Performance Report\\n\")\n",
        "print(semi_bi_report)\n",
        "print()"
      ],
      "metadata": {
        "colab": {
          "base_uri": "https://localhost:8080/"
        },
        "outputId": "1886487f-8857-4d65-f4ef-4a60f15fc208",
        "id": "nukPE8MMgzU0"
      },
      "execution_count": 79,
      "outputs": [
        {
          "output_type": "stream",
          "name": "stdout",
          "text": [
            "Semi-Supervised Model \"claim\" with Bigram Proprocessing - Performance Report\n",
            "\n",
            "              precision    recall  f1-score   support\n",
            "\n",
            "           1       1.00      0.89      0.94         9\n",
            "           2       0.00      0.00      0.00         0\n",
            "\n",
            "    accuracy                           0.89         9\n",
            "   macro avg       0.50      0.44      0.47         9\n",
            "weighted avg       1.00      0.89      0.94         9\n",
            "\n",
            "\n"
          ]
        },
        {
          "output_type": "stream",
          "name": "stderr",
          "text": [
            "/usr/local/lib/python3.10/dist-packages/sklearn/metrics/_classification.py:1344: UndefinedMetricWarning: Recall and F-score are ill-defined and being set to 0.0 in labels with no true samples. Use `zero_division` parameter to control this behavior.\n",
            "  _warn_prf(average, modifier, msg_start, len(result))\n",
            "/usr/local/lib/python3.10/dist-packages/sklearn/metrics/_classification.py:1344: UndefinedMetricWarning: Recall and F-score are ill-defined and being set to 0.0 in labels with no true samples. Use `zero_division` parameter to control this behavior.\n",
            "  _warn_prf(average, modifier, msg_start, len(result))\n",
            "/usr/local/lib/python3.10/dist-packages/sklearn/metrics/_classification.py:1344: UndefinedMetricWarning: Recall and F-score are ill-defined and being set to 0.0 in labels with no true samples. Use `zero_division` parameter to control this behavior.\n",
            "  _warn_prf(average, modifier, msg_start, len(result))\n"
          ]
        }
      ]
    },
    {
      "cell_type": "code",
      "source": [
        "print(semi_bi_model_predictions)\n",
        "print(y_test)"
      ],
      "metadata": {
        "colab": {
          "base_uri": "https://localhost:8080/"
        },
        "id": "6Mbw9t34QHZt",
        "outputId": "f1789814-a2b5-4430-ac72-4bb0b131bb8b"
      },
      "execution_count": 80,
      "outputs": [
        {
          "output_type": "stream",
          "name": "stdout",
          "text": [
            "[1 1 1 1 1 1 2 1 1]\n",
            "[1, 1, 1, 1, 1, 1, 1, 1, 1]\n"
          ]
        }
      ]
    },
    {
      "cell_type": "code",
      "source": [
        "# trigram\n",
        "X_train_semi, y_train_semi, X_train_labeled, y_train_labeled, X_test, y_test = output_train_test_sets(target_word, sense_1_file, sense_2_file, sense_1, sense_2, \"tri\")"
      ],
      "metadata": {
        "colab": {
          "base_uri": "https://localhost:8080/"
        },
        "outputId": "1a140292-b71b-44a4-d5ec-d25583219a4f",
        "id": "aKaxo9-PgzU0"
      },
      "execution_count": 81,
      "outputs": [
        {
          "output_type": "stream",
          "name": "stdout",
          "text": [
            "Size of unlabeled training set:  100\n",
            "Size of labeled training set:  101\n",
            "Size of test set (labeled):  9\n"
          ]
        }
      ]
    },
    {
      "cell_type": "code",
      "source": [
        "param_grid = {'kernel': ['knn', 'rbf'],\n",
        "              'gamma': [1.0, 2.0, 3.0, 4.0],\n",
        "              'n_neighbors': [1, 2],\n",
        "              'alpha': [0.00001, 0.0001, 0.001],\n",
        "              'max_iter': [1, 2, 3]}\n",
        "\n",
        "semi_tri_model = GridSearchCV(LabelSpreading(), param_grid, refit=True, verbose=3, n_jobs=-1)\n",
        "semi_tri_model.fit(X_train_semi, y_train_semi)"
      ],
      "metadata": {
        "colab": {
          "base_uri": "https://localhost:8080/",
          "height": 191
        },
        "outputId": "b37333bf-1121-4255-95a7-ad4750533b48",
        "id": "yzQYVMIkgzU0"
      },
      "execution_count": 82,
      "outputs": [
        {
          "output_type": "stream",
          "name": "stdout",
          "text": [
            "Fitting 5 folds for each of 144 candidates, totalling 720 fits\n"
          ]
        },
        {
          "output_type": "stream",
          "name": "stderr",
          "text": [
            "/usr/local/lib/python3.10/dist-packages/sklearn/semi_supervised/_label_propagation.py:318: ConvergenceWarning: max_iter=1 was reached without convergence.\n",
            "  warnings.warn(\n"
          ]
        },
        {
          "output_type": "execute_result",
          "data": {
            "text/plain": [
              "GridSearchCV(estimator=LabelSpreading(), n_jobs=-1,\n",
              "             param_grid={'alpha': [1e-05, 0.0001, 0.001],\n",
              "                         'gamma': [1.0, 2.0, 3.0, 4.0],\n",
              "                         'kernel': ['knn', 'rbf'], 'max_iter': [1, 2, 3],\n",
              "                         'n_neighbors': [1, 2]},\n",
              "             verbose=3)"
            ],
            "text/html": [
              "<style>#sk-container-id-12 {color: black;background-color: white;}#sk-container-id-12 pre{padding: 0;}#sk-container-id-12 div.sk-toggleable {background-color: white;}#sk-container-id-12 label.sk-toggleable__label {cursor: pointer;display: block;width: 100%;margin-bottom: 0;padding: 0.3em;box-sizing: border-box;text-align: center;}#sk-container-id-12 label.sk-toggleable__label-arrow:before {content: \"▸\";float: left;margin-right: 0.25em;color: #696969;}#sk-container-id-12 label.sk-toggleable__label-arrow:hover:before {color: black;}#sk-container-id-12 div.sk-estimator:hover label.sk-toggleable__label-arrow:before {color: black;}#sk-container-id-12 div.sk-toggleable__content {max-height: 0;max-width: 0;overflow: hidden;text-align: left;background-color: #f0f8ff;}#sk-container-id-12 div.sk-toggleable__content pre {margin: 0.2em;color: black;border-radius: 0.25em;background-color: #f0f8ff;}#sk-container-id-12 input.sk-toggleable__control:checked~div.sk-toggleable__content {max-height: 200px;max-width: 100%;overflow: auto;}#sk-container-id-12 input.sk-toggleable__control:checked~label.sk-toggleable__label-arrow:before {content: \"▾\";}#sk-container-id-12 div.sk-estimator input.sk-toggleable__control:checked~label.sk-toggleable__label {background-color: #d4ebff;}#sk-container-id-12 div.sk-label input.sk-toggleable__control:checked~label.sk-toggleable__label {background-color: #d4ebff;}#sk-container-id-12 input.sk-hidden--visually {border: 0;clip: rect(1px 1px 1px 1px);clip: rect(1px, 1px, 1px, 1px);height: 1px;margin: -1px;overflow: hidden;padding: 0;position: absolute;width: 1px;}#sk-container-id-12 div.sk-estimator {font-family: monospace;background-color: #f0f8ff;border: 1px dotted black;border-radius: 0.25em;box-sizing: border-box;margin-bottom: 0.5em;}#sk-container-id-12 div.sk-estimator:hover {background-color: #d4ebff;}#sk-container-id-12 div.sk-parallel-item::after {content: \"\";width: 100%;border-bottom: 1px solid gray;flex-grow: 1;}#sk-container-id-12 div.sk-label:hover label.sk-toggleable__label {background-color: #d4ebff;}#sk-container-id-12 div.sk-serial::before {content: \"\";position: absolute;border-left: 1px solid gray;box-sizing: border-box;top: 0;bottom: 0;left: 50%;z-index: 0;}#sk-container-id-12 div.sk-serial {display: flex;flex-direction: column;align-items: center;background-color: white;padding-right: 0.2em;padding-left: 0.2em;position: relative;}#sk-container-id-12 div.sk-item {position: relative;z-index: 1;}#sk-container-id-12 div.sk-parallel {display: flex;align-items: stretch;justify-content: center;background-color: white;position: relative;}#sk-container-id-12 div.sk-item::before, #sk-container-id-12 div.sk-parallel-item::before {content: \"\";position: absolute;border-left: 1px solid gray;box-sizing: border-box;top: 0;bottom: 0;left: 50%;z-index: -1;}#sk-container-id-12 div.sk-parallel-item {display: flex;flex-direction: column;z-index: 1;position: relative;background-color: white;}#sk-container-id-12 div.sk-parallel-item:first-child::after {align-self: flex-end;width: 50%;}#sk-container-id-12 div.sk-parallel-item:last-child::after {align-self: flex-start;width: 50%;}#sk-container-id-12 div.sk-parallel-item:only-child::after {width: 0;}#sk-container-id-12 div.sk-dashed-wrapped {border: 1px dashed gray;margin: 0 0.4em 0.5em 0.4em;box-sizing: border-box;padding-bottom: 0.4em;background-color: white;}#sk-container-id-12 div.sk-label label {font-family: monospace;font-weight: bold;display: inline-block;line-height: 1.2em;}#sk-container-id-12 div.sk-label-container {text-align: center;}#sk-container-id-12 div.sk-container {/* jupyter's `normalize.less` sets `[hidden] { display: none; }` but bootstrap.min.css set `[hidden] { display: none !important; }` so we also need the `!important` here to be able to override the default hidden behavior on the sphinx rendered scikit-learn.org. See: https://github.com/scikit-learn/scikit-learn/issues/21755 */display: inline-block !important;position: relative;}#sk-container-id-12 div.sk-text-repr-fallback {display: none;}</style><div id=\"sk-container-id-12\" class=\"sk-top-container\"><div class=\"sk-text-repr-fallback\"><pre>GridSearchCV(estimator=LabelSpreading(), n_jobs=-1,\n",
              "             param_grid={&#x27;alpha&#x27;: [1e-05, 0.0001, 0.001],\n",
              "                         &#x27;gamma&#x27;: [1.0, 2.0, 3.0, 4.0],\n",
              "                         &#x27;kernel&#x27;: [&#x27;knn&#x27;, &#x27;rbf&#x27;], &#x27;max_iter&#x27;: [1, 2, 3],\n",
              "                         &#x27;n_neighbors&#x27;: [1, 2]},\n",
              "             verbose=3)</pre><b>In a Jupyter environment, please rerun this cell to show the HTML representation or trust the notebook. <br />On GitHub, the HTML representation is unable to render, please try loading this page with nbviewer.org.</b></div><div class=\"sk-container\" hidden><div class=\"sk-item sk-dashed-wrapped\"><div class=\"sk-label-container\"><div class=\"sk-label sk-toggleable\"><input class=\"sk-toggleable__control sk-hidden--visually\" id=\"sk-estimator-id-34\" type=\"checkbox\" ><label for=\"sk-estimator-id-34\" class=\"sk-toggleable__label sk-toggleable__label-arrow\">GridSearchCV</label><div class=\"sk-toggleable__content\"><pre>GridSearchCV(estimator=LabelSpreading(), n_jobs=-1,\n",
              "             param_grid={&#x27;alpha&#x27;: [1e-05, 0.0001, 0.001],\n",
              "                         &#x27;gamma&#x27;: [1.0, 2.0, 3.0, 4.0],\n",
              "                         &#x27;kernel&#x27;: [&#x27;knn&#x27;, &#x27;rbf&#x27;], &#x27;max_iter&#x27;: [1, 2, 3],\n",
              "                         &#x27;n_neighbors&#x27;: [1, 2]},\n",
              "             verbose=3)</pre></div></div></div><div class=\"sk-parallel\"><div class=\"sk-parallel-item\"><div class=\"sk-item\"><div class=\"sk-label-container\"><div class=\"sk-label sk-toggleable\"><input class=\"sk-toggleable__control sk-hidden--visually\" id=\"sk-estimator-id-35\" type=\"checkbox\" ><label for=\"sk-estimator-id-35\" class=\"sk-toggleable__label sk-toggleable__label-arrow\">estimator: LabelSpreading</label><div class=\"sk-toggleable__content\"><pre>LabelSpreading()</pre></div></div></div><div class=\"sk-serial\"><div class=\"sk-item\"><div class=\"sk-estimator sk-toggleable\"><input class=\"sk-toggleable__control sk-hidden--visually\" id=\"sk-estimator-id-36\" type=\"checkbox\" ><label for=\"sk-estimator-id-36\" class=\"sk-toggleable__label sk-toggleable__label-arrow\">LabelSpreading</label><div class=\"sk-toggleable__content\"><pre>LabelSpreading()</pre></div></div></div></div></div></div></div></div></div></div>"
            ]
          },
          "metadata": {},
          "execution_count": 82
        }
      ]
    },
    {
      "cell_type": "code",
      "source": [
        "print(\"Semi-Supervised Model \\\"claim\\\" with Trigram Proprocessing - Best Hyperparameters\\n\")\n",
        "print(semi_tri_model.best_params_)\n",
        "print()"
      ],
      "metadata": {
        "colab": {
          "base_uri": "https://localhost:8080/"
        },
        "outputId": "0f678034-13bc-47a4-d185-5c47621eeded",
        "id": "OMUpjqysgzU0"
      },
      "execution_count": 83,
      "outputs": [
        {
          "output_type": "stream",
          "name": "stdout",
          "text": [
            "Semi-Supervised Model \"claim\" with Trigram Proprocessing - Best Hyperparameters\n",
            "\n",
            "{'alpha': 1e-05, 'gamma': 2.0, 'kernel': 'rbf', 'max_iter': 1, 'n_neighbors': 1}\n",
            "\n"
          ]
        }
      ]
    },
    {
      "cell_type": "code",
      "source": [
        "semi_tri_model_predictions = semi_tri_model.predict(X_test)\n",
        "semi_tri_report = classification_report(y_test, semi_tri_model_predictions)\n",
        "print(\"Semi-Supervised Model \\\"claim\\\" with Trigram Proprocessing - Performance Report\\n\")\n",
        "print(semi_tri_report)\n",
        "print()"
      ],
      "metadata": {
        "colab": {
          "base_uri": "https://localhost:8080/"
        },
        "outputId": "034ea4b6-1c63-42de-90fc-842a8f3a40b1",
        "id": "DkYYrIssgzU0"
      },
      "execution_count": 84,
      "outputs": [
        {
          "output_type": "stream",
          "name": "stdout",
          "text": [
            "Semi-Supervised Model \"claim\" with Trigram Proprocessing - Performance Report\n",
            "\n",
            "              precision    recall  f1-score   support\n",
            "\n",
            "           1       1.00      1.00      1.00         9\n",
            "\n",
            "    accuracy                           1.00         9\n",
            "   macro avg       1.00      1.00      1.00         9\n",
            "weighted avg       1.00      1.00      1.00         9\n",
            "\n",
            "\n"
          ]
        }
      ]
    },
    {
      "cell_type": "code",
      "source": [
        "print(semi_tri_model_predictions)\n",
        "print(y_test)"
      ],
      "metadata": {
        "colab": {
          "base_uri": "https://localhost:8080/"
        },
        "id": "tF79PnefQQcq",
        "outputId": "474c5662-cda3-4dce-b7f7-acf7f82e3814"
      },
      "execution_count": 85,
      "outputs": [
        {
          "output_type": "stream",
          "name": "stdout",
          "text": [
            "[1 1 1 1 1 1 1 1 1]\n",
            "[1, 1, 1, 1, 1, 1, 1, 1, 1]\n"
          ]
        }
      ]
    },
    {
      "cell_type": "markdown",
      "source": [
        "### Word: time\n",
        "\n",
        "We pick two senses of time. They are:\n",
        "1.  S: (n) time (time%1:11:00::), clip (clip%1:11:00::) (an instance or single occasion for some event) \"this time he succeeded\"; \"he called four times\"; \"he could do ten at a clip\"\n",
        "2. S: (n) time (time%1:28:05::) (a period of time considered as a resource under your control and sufficient to accomplish something) \"take time to smell the roses\"; \"I didn't have time to finish\"; \"it took more than half my time\"; \"he waited for a long time\"\n",
        "\n",
        "We assign 1 to the first sense and 2 to the second sense."
      ],
      "metadata": {
        "id": "NljfRp6CYtNN"
      }
    },
    {
      "cell_type": "code",
      "source": [
        "# parameters to change\n",
        "target_word = \"time\"\n",
        "sense_1_file = \"/content/time_event.txt\"\n",
        "sense_2_file = \"/content/time_resource.txt\"\n",
        "general_file = \"/content/time.txt\"\n",
        "sense_1 = \"1:11:00::\"\n",
        "sense_2 = \"1:28:05::\""
      ],
      "metadata": {
        "id": "7jl7H72FYtNN"
      },
      "execution_count": 86,
      "outputs": []
    },
    {
      "cell_type": "code",
      "source": [
        "# unigram\n",
        "X_train_semi, y_train_semi, X_train_labeled, y_train_labeled, X_test, y_test = output_train_test_sets(target_word, sense_1_file, sense_2_file, sense_1, sense_2, \"uni\")"
      ],
      "metadata": {
        "colab": {
          "base_uri": "https://localhost:8080/"
        },
        "outputId": "202a585c-7ef0-4007-c810-eb367d70d2b7",
        "id": "uX2Lb_2Hgz8L"
      },
      "execution_count": 87,
      "outputs": [
        {
          "output_type": "stream",
          "name": "stdout",
          "text": [
            "Size of unlabeled training set:  100\n",
            "Size of labeled training set:  101\n",
            "Size of test set (labeled):  6\n"
          ]
        }
      ]
    },
    {
      "cell_type": "code",
      "source": [
        "param_grid = {'kernel': ['knn', 'rbf'],\n",
        "              'gamma': [8.0, 10.0, 12.0],\n",
        "              'n_neighbors': [1, 2, 3],\n",
        "              'alpha': [0.00001, 0.0001, 0.001],\n",
        "              'max_iter': [1, 2, 3]}\n",
        "\n",
        "semi_uni_model = GridSearchCV(LabelSpreading(), param_grid, refit=True, verbose=3, n_jobs=-1)\n",
        "semi_uni_model.fit(X_train_semi, y_train_semi)"
      ],
      "metadata": {
        "colab": {
          "base_uri": "https://localhost:8080/",
          "height": 191
        },
        "outputId": "5192e774-e69b-414e-e270-7c2b1d841af5",
        "id": "criYC4Ykgz8L"
      },
      "execution_count": 88,
      "outputs": [
        {
          "output_type": "stream",
          "name": "stdout",
          "text": [
            "Fitting 5 folds for each of 162 candidates, totalling 810 fits\n"
          ]
        },
        {
          "output_type": "stream",
          "name": "stderr",
          "text": [
            "/usr/local/lib/python3.10/dist-packages/sklearn/semi_supervised/_label_propagation.py:318: ConvergenceWarning: max_iter=2 was reached without convergence.\n",
            "  warnings.warn(\n"
          ]
        },
        {
          "output_type": "execute_result",
          "data": {
            "text/plain": [
              "GridSearchCV(estimator=LabelSpreading(), n_jobs=-1,\n",
              "             param_grid={'alpha': [1e-05, 0.0001, 0.001],\n",
              "                         'gamma': [8.0, 10.0, 12.0], 'kernel': ['knn', 'rbf'],\n",
              "                         'max_iter': [1, 2, 3], 'n_neighbors': [1, 2, 3]},\n",
              "             verbose=3)"
            ],
            "text/html": [
              "<style>#sk-container-id-13 {color: black;background-color: white;}#sk-container-id-13 pre{padding: 0;}#sk-container-id-13 div.sk-toggleable {background-color: white;}#sk-container-id-13 label.sk-toggleable__label {cursor: pointer;display: block;width: 100%;margin-bottom: 0;padding: 0.3em;box-sizing: border-box;text-align: center;}#sk-container-id-13 label.sk-toggleable__label-arrow:before {content: \"▸\";float: left;margin-right: 0.25em;color: #696969;}#sk-container-id-13 label.sk-toggleable__label-arrow:hover:before {color: black;}#sk-container-id-13 div.sk-estimator:hover label.sk-toggleable__label-arrow:before {color: black;}#sk-container-id-13 div.sk-toggleable__content {max-height: 0;max-width: 0;overflow: hidden;text-align: left;background-color: #f0f8ff;}#sk-container-id-13 div.sk-toggleable__content pre {margin: 0.2em;color: black;border-radius: 0.25em;background-color: #f0f8ff;}#sk-container-id-13 input.sk-toggleable__control:checked~div.sk-toggleable__content {max-height: 200px;max-width: 100%;overflow: auto;}#sk-container-id-13 input.sk-toggleable__control:checked~label.sk-toggleable__label-arrow:before {content: \"▾\";}#sk-container-id-13 div.sk-estimator input.sk-toggleable__control:checked~label.sk-toggleable__label {background-color: #d4ebff;}#sk-container-id-13 div.sk-label input.sk-toggleable__control:checked~label.sk-toggleable__label {background-color: #d4ebff;}#sk-container-id-13 input.sk-hidden--visually {border: 0;clip: rect(1px 1px 1px 1px);clip: rect(1px, 1px, 1px, 1px);height: 1px;margin: -1px;overflow: hidden;padding: 0;position: absolute;width: 1px;}#sk-container-id-13 div.sk-estimator {font-family: monospace;background-color: #f0f8ff;border: 1px dotted black;border-radius: 0.25em;box-sizing: border-box;margin-bottom: 0.5em;}#sk-container-id-13 div.sk-estimator:hover {background-color: #d4ebff;}#sk-container-id-13 div.sk-parallel-item::after {content: \"\";width: 100%;border-bottom: 1px solid gray;flex-grow: 1;}#sk-container-id-13 div.sk-label:hover label.sk-toggleable__label {background-color: #d4ebff;}#sk-container-id-13 div.sk-serial::before {content: \"\";position: absolute;border-left: 1px solid gray;box-sizing: border-box;top: 0;bottom: 0;left: 50%;z-index: 0;}#sk-container-id-13 div.sk-serial {display: flex;flex-direction: column;align-items: center;background-color: white;padding-right: 0.2em;padding-left: 0.2em;position: relative;}#sk-container-id-13 div.sk-item {position: relative;z-index: 1;}#sk-container-id-13 div.sk-parallel {display: flex;align-items: stretch;justify-content: center;background-color: white;position: relative;}#sk-container-id-13 div.sk-item::before, #sk-container-id-13 div.sk-parallel-item::before {content: \"\";position: absolute;border-left: 1px solid gray;box-sizing: border-box;top: 0;bottom: 0;left: 50%;z-index: -1;}#sk-container-id-13 div.sk-parallel-item {display: flex;flex-direction: column;z-index: 1;position: relative;background-color: white;}#sk-container-id-13 div.sk-parallel-item:first-child::after {align-self: flex-end;width: 50%;}#sk-container-id-13 div.sk-parallel-item:last-child::after {align-self: flex-start;width: 50%;}#sk-container-id-13 div.sk-parallel-item:only-child::after {width: 0;}#sk-container-id-13 div.sk-dashed-wrapped {border: 1px dashed gray;margin: 0 0.4em 0.5em 0.4em;box-sizing: border-box;padding-bottom: 0.4em;background-color: white;}#sk-container-id-13 div.sk-label label {font-family: monospace;font-weight: bold;display: inline-block;line-height: 1.2em;}#sk-container-id-13 div.sk-label-container {text-align: center;}#sk-container-id-13 div.sk-container {/* jupyter's `normalize.less` sets `[hidden] { display: none; }` but bootstrap.min.css set `[hidden] { display: none !important; }` so we also need the `!important` here to be able to override the default hidden behavior on the sphinx rendered scikit-learn.org. See: https://github.com/scikit-learn/scikit-learn/issues/21755 */display: inline-block !important;position: relative;}#sk-container-id-13 div.sk-text-repr-fallback {display: none;}</style><div id=\"sk-container-id-13\" class=\"sk-top-container\"><div class=\"sk-text-repr-fallback\"><pre>GridSearchCV(estimator=LabelSpreading(), n_jobs=-1,\n",
              "             param_grid={&#x27;alpha&#x27;: [1e-05, 0.0001, 0.001],\n",
              "                         &#x27;gamma&#x27;: [8.0, 10.0, 12.0], &#x27;kernel&#x27;: [&#x27;knn&#x27;, &#x27;rbf&#x27;],\n",
              "                         &#x27;max_iter&#x27;: [1, 2, 3], &#x27;n_neighbors&#x27;: [1, 2, 3]},\n",
              "             verbose=3)</pre><b>In a Jupyter environment, please rerun this cell to show the HTML representation or trust the notebook. <br />On GitHub, the HTML representation is unable to render, please try loading this page with nbviewer.org.</b></div><div class=\"sk-container\" hidden><div class=\"sk-item sk-dashed-wrapped\"><div class=\"sk-label-container\"><div class=\"sk-label sk-toggleable\"><input class=\"sk-toggleable__control sk-hidden--visually\" id=\"sk-estimator-id-37\" type=\"checkbox\" ><label for=\"sk-estimator-id-37\" class=\"sk-toggleable__label sk-toggleable__label-arrow\">GridSearchCV</label><div class=\"sk-toggleable__content\"><pre>GridSearchCV(estimator=LabelSpreading(), n_jobs=-1,\n",
              "             param_grid={&#x27;alpha&#x27;: [1e-05, 0.0001, 0.001],\n",
              "                         &#x27;gamma&#x27;: [8.0, 10.0, 12.0], &#x27;kernel&#x27;: [&#x27;knn&#x27;, &#x27;rbf&#x27;],\n",
              "                         &#x27;max_iter&#x27;: [1, 2, 3], &#x27;n_neighbors&#x27;: [1, 2, 3]},\n",
              "             verbose=3)</pre></div></div></div><div class=\"sk-parallel\"><div class=\"sk-parallel-item\"><div class=\"sk-item\"><div class=\"sk-label-container\"><div class=\"sk-label sk-toggleable\"><input class=\"sk-toggleable__control sk-hidden--visually\" id=\"sk-estimator-id-38\" type=\"checkbox\" ><label for=\"sk-estimator-id-38\" class=\"sk-toggleable__label sk-toggleable__label-arrow\">estimator: LabelSpreading</label><div class=\"sk-toggleable__content\"><pre>LabelSpreading()</pre></div></div></div><div class=\"sk-serial\"><div class=\"sk-item\"><div class=\"sk-estimator sk-toggleable\"><input class=\"sk-toggleable__control sk-hidden--visually\" id=\"sk-estimator-id-39\" type=\"checkbox\" ><label for=\"sk-estimator-id-39\" class=\"sk-toggleable__label sk-toggleable__label-arrow\">LabelSpreading</label><div class=\"sk-toggleable__content\"><pre>LabelSpreading()</pre></div></div></div></div></div></div></div></div></div></div>"
            ]
          },
          "metadata": {},
          "execution_count": 88
        }
      ]
    },
    {
      "cell_type": "code",
      "source": [
        "print(\"Semi-Supervised Model \\\"time\\\" with Unigram Proprocessing - Best Hyperparameters\\n\")\n",
        "print(semi_uni_model.best_params_)\n",
        "print()"
      ],
      "metadata": {
        "colab": {
          "base_uri": "https://localhost:8080/"
        },
        "outputId": "96b31e90-fd7f-4846-a44d-2d84c5caaddc",
        "id": "bf2U_yNvgz8L"
      },
      "execution_count": 89,
      "outputs": [
        {
          "output_type": "stream",
          "name": "stdout",
          "text": [
            "Semi-Supervised Model \"time\" with Unigram Proprocessing - Best Hyperparameters\n",
            "\n",
            "{'alpha': 0.0001, 'gamma': 10.0, 'kernel': 'rbf', 'max_iter': 2, 'n_neighbors': 1}\n",
            "\n"
          ]
        }
      ]
    },
    {
      "cell_type": "code",
      "source": [
        "semi_uni_model_predictions = semi_uni_model.predict(X_test)\n",
        "semi_uni_report = classification_report(y_test, semi_uni_model_predictions)\n",
        "print(\"Semi-Supervised Model \\\"time\\\" with Unigram Proprocessing - Performance Report\\n\")\n",
        "print(semi_uni_report)\n",
        "print()"
      ],
      "metadata": {
        "colab": {
          "base_uri": "https://localhost:8080/"
        },
        "outputId": "15929ea1-af05-42e0-edd9-42678fb51b92",
        "id": "cwe5xBFdgz8L"
      },
      "execution_count": 90,
      "outputs": [
        {
          "output_type": "stream",
          "name": "stdout",
          "text": [
            "Semi-Supervised Model \"time\" with Unigram Proprocessing - Performance Report\n",
            "\n",
            "              precision    recall  f1-score   support\n",
            "\n",
            "           1       1.00      0.50      0.67         4\n",
            "           2       0.50      1.00      0.67         2\n",
            "\n",
            "    accuracy                           0.67         6\n",
            "   macro avg       0.75      0.75      0.67         6\n",
            "weighted avg       0.83      0.67      0.67         6\n",
            "\n",
            "\n"
          ]
        }
      ]
    },
    {
      "cell_type": "code",
      "source": [
        "print(semi_uni_model_predictions)\n",
        "print(y_test)"
      ],
      "metadata": {
        "colab": {
          "base_uri": "https://localhost:8080/"
        },
        "id": "u_wF49sMP7a8",
        "outputId": "e1f265fd-62df-4eb8-bd00-c2e15e92ecec"
      },
      "execution_count": 91,
      "outputs": [
        {
          "output_type": "stream",
          "name": "stdout",
          "text": [
            "[1 2 2 2 2 1]\n",
            "[1, 1, 2, 2, 1, 1]\n"
          ]
        }
      ]
    },
    {
      "cell_type": "code",
      "source": [
        "# bigram\n",
        "X_train_semi, y_train_semi, X_train_labeled, y_train_labeled, X_test, y_test = output_train_test_sets(target_word, sense_1_file, sense_2_file, sense_1, sense_2, \"bi\")"
      ],
      "metadata": {
        "colab": {
          "base_uri": "https://localhost:8080/"
        },
        "outputId": "7b8bbaec-b399-437c-fdf0-728bd3a9bae0",
        "id": "e_ImpLFbgz8M"
      },
      "execution_count": 92,
      "outputs": [
        {
          "output_type": "stream",
          "name": "stdout",
          "text": [
            "Size of unlabeled training set:  100\n",
            "Size of labeled training set:  101\n",
            "Size of test set (labeled):  6\n"
          ]
        }
      ]
    },
    {
      "cell_type": "code",
      "source": [
        "param_grid = {'kernel': ['knn', 'rbf'],\n",
        "              'gamma': [6.0, 8.0, 10.0],\n",
        "              'n_neighbors': [1, 2, 3],\n",
        "              'alpha': [0.00001, 0.0001, 0.001],\n",
        "              'max_iter': [1, 2, 3]}\n",
        "\n",
        "semi_bi_model = GridSearchCV(LabelSpreading(), param_grid, refit=True, verbose=3, n_jobs=-1)\n",
        "semi_bi_model.fit(X_train_semi, y_train_semi)"
      ],
      "metadata": {
        "colab": {
          "base_uri": "https://localhost:8080/",
          "height": 191
        },
        "outputId": "2315bd27-c985-4b04-9a4f-b72ca7ceddd9",
        "id": "pexewb6ygz8M"
      },
      "execution_count": 93,
      "outputs": [
        {
          "output_type": "stream",
          "name": "stdout",
          "text": [
            "Fitting 5 folds for each of 162 candidates, totalling 810 fits\n"
          ]
        },
        {
          "output_type": "stream",
          "name": "stderr",
          "text": [
            "/usr/local/lib/python3.10/dist-packages/sklearn/semi_supervised/_label_propagation.py:318: ConvergenceWarning: max_iter=1 was reached without convergence.\n",
            "  warnings.warn(\n"
          ]
        },
        {
          "output_type": "execute_result",
          "data": {
            "text/plain": [
              "GridSearchCV(estimator=LabelSpreading(), n_jobs=-1,\n",
              "             param_grid={'alpha': [1e-05, 0.0001, 0.001],\n",
              "                         'gamma': [6.0, 8.0, 10.0], 'kernel': ['knn', 'rbf'],\n",
              "                         'max_iter': [1, 2, 3], 'n_neighbors': [1, 2, 3]},\n",
              "             verbose=3)"
            ],
            "text/html": [
              "<style>#sk-container-id-14 {color: black;background-color: white;}#sk-container-id-14 pre{padding: 0;}#sk-container-id-14 div.sk-toggleable {background-color: white;}#sk-container-id-14 label.sk-toggleable__label {cursor: pointer;display: block;width: 100%;margin-bottom: 0;padding: 0.3em;box-sizing: border-box;text-align: center;}#sk-container-id-14 label.sk-toggleable__label-arrow:before {content: \"▸\";float: left;margin-right: 0.25em;color: #696969;}#sk-container-id-14 label.sk-toggleable__label-arrow:hover:before {color: black;}#sk-container-id-14 div.sk-estimator:hover label.sk-toggleable__label-arrow:before {color: black;}#sk-container-id-14 div.sk-toggleable__content {max-height: 0;max-width: 0;overflow: hidden;text-align: left;background-color: #f0f8ff;}#sk-container-id-14 div.sk-toggleable__content pre {margin: 0.2em;color: black;border-radius: 0.25em;background-color: #f0f8ff;}#sk-container-id-14 input.sk-toggleable__control:checked~div.sk-toggleable__content {max-height: 200px;max-width: 100%;overflow: auto;}#sk-container-id-14 input.sk-toggleable__control:checked~label.sk-toggleable__label-arrow:before {content: \"▾\";}#sk-container-id-14 div.sk-estimator input.sk-toggleable__control:checked~label.sk-toggleable__label {background-color: #d4ebff;}#sk-container-id-14 div.sk-label input.sk-toggleable__control:checked~label.sk-toggleable__label {background-color: #d4ebff;}#sk-container-id-14 input.sk-hidden--visually {border: 0;clip: rect(1px 1px 1px 1px);clip: rect(1px, 1px, 1px, 1px);height: 1px;margin: -1px;overflow: hidden;padding: 0;position: absolute;width: 1px;}#sk-container-id-14 div.sk-estimator {font-family: monospace;background-color: #f0f8ff;border: 1px dotted black;border-radius: 0.25em;box-sizing: border-box;margin-bottom: 0.5em;}#sk-container-id-14 div.sk-estimator:hover {background-color: #d4ebff;}#sk-container-id-14 div.sk-parallel-item::after {content: \"\";width: 100%;border-bottom: 1px solid gray;flex-grow: 1;}#sk-container-id-14 div.sk-label:hover label.sk-toggleable__label {background-color: #d4ebff;}#sk-container-id-14 div.sk-serial::before {content: \"\";position: absolute;border-left: 1px solid gray;box-sizing: border-box;top: 0;bottom: 0;left: 50%;z-index: 0;}#sk-container-id-14 div.sk-serial {display: flex;flex-direction: column;align-items: center;background-color: white;padding-right: 0.2em;padding-left: 0.2em;position: relative;}#sk-container-id-14 div.sk-item {position: relative;z-index: 1;}#sk-container-id-14 div.sk-parallel {display: flex;align-items: stretch;justify-content: center;background-color: white;position: relative;}#sk-container-id-14 div.sk-item::before, #sk-container-id-14 div.sk-parallel-item::before {content: \"\";position: absolute;border-left: 1px solid gray;box-sizing: border-box;top: 0;bottom: 0;left: 50%;z-index: -1;}#sk-container-id-14 div.sk-parallel-item {display: flex;flex-direction: column;z-index: 1;position: relative;background-color: white;}#sk-container-id-14 div.sk-parallel-item:first-child::after {align-self: flex-end;width: 50%;}#sk-container-id-14 div.sk-parallel-item:last-child::after {align-self: flex-start;width: 50%;}#sk-container-id-14 div.sk-parallel-item:only-child::after {width: 0;}#sk-container-id-14 div.sk-dashed-wrapped {border: 1px dashed gray;margin: 0 0.4em 0.5em 0.4em;box-sizing: border-box;padding-bottom: 0.4em;background-color: white;}#sk-container-id-14 div.sk-label label {font-family: monospace;font-weight: bold;display: inline-block;line-height: 1.2em;}#sk-container-id-14 div.sk-label-container {text-align: center;}#sk-container-id-14 div.sk-container {/* jupyter's `normalize.less` sets `[hidden] { display: none; }` but bootstrap.min.css set `[hidden] { display: none !important; }` so we also need the `!important` here to be able to override the default hidden behavior on the sphinx rendered scikit-learn.org. See: https://github.com/scikit-learn/scikit-learn/issues/21755 */display: inline-block !important;position: relative;}#sk-container-id-14 div.sk-text-repr-fallback {display: none;}</style><div id=\"sk-container-id-14\" class=\"sk-top-container\"><div class=\"sk-text-repr-fallback\"><pre>GridSearchCV(estimator=LabelSpreading(), n_jobs=-1,\n",
              "             param_grid={&#x27;alpha&#x27;: [1e-05, 0.0001, 0.001],\n",
              "                         &#x27;gamma&#x27;: [6.0, 8.0, 10.0], &#x27;kernel&#x27;: [&#x27;knn&#x27;, &#x27;rbf&#x27;],\n",
              "                         &#x27;max_iter&#x27;: [1, 2, 3], &#x27;n_neighbors&#x27;: [1, 2, 3]},\n",
              "             verbose=3)</pre><b>In a Jupyter environment, please rerun this cell to show the HTML representation or trust the notebook. <br />On GitHub, the HTML representation is unable to render, please try loading this page with nbviewer.org.</b></div><div class=\"sk-container\" hidden><div class=\"sk-item sk-dashed-wrapped\"><div class=\"sk-label-container\"><div class=\"sk-label sk-toggleable\"><input class=\"sk-toggleable__control sk-hidden--visually\" id=\"sk-estimator-id-40\" type=\"checkbox\" ><label for=\"sk-estimator-id-40\" class=\"sk-toggleable__label sk-toggleable__label-arrow\">GridSearchCV</label><div class=\"sk-toggleable__content\"><pre>GridSearchCV(estimator=LabelSpreading(), n_jobs=-1,\n",
              "             param_grid={&#x27;alpha&#x27;: [1e-05, 0.0001, 0.001],\n",
              "                         &#x27;gamma&#x27;: [6.0, 8.0, 10.0], &#x27;kernel&#x27;: [&#x27;knn&#x27;, &#x27;rbf&#x27;],\n",
              "                         &#x27;max_iter&#x27;: [1, 2, 3], &#x27;n_neighbors&#x27;: [1, 2, 3]},\n",
              "             verbose=3)</pre></div></div></div><div class=\"sk-parallel\"><div class=\"sk-parallel-item\"><div class=\"sk-item\"><div class=\"sk-label-container\"><div class=\"sk-label sk-toggleable\"><input class=\"sk-toggleable__control sk-hidden--visually\" id=\"sk-estimator-id-41\" type=\"checkbox\" ><label for=\"sk-estimator-id-41\" class=\"sk-toggleable__label sk-toggleable__label-arrow\">estimator: LabelSpreading</label><div class=\"sk-toggleable__content\"><pre>LabelSpreading()</pre></div></div></div><div class=\"sk-serial\"><div class=\"sk-item\"><div class=\"sk-estimator sk-toggleable\"><input class=\"sk-toggleable__control sk-hidden--visually\" id=\"sk-estimator-id-42\" type=\"checkbox\" ><label for=\"sk-estimator-id-42\" class=\"sk-toggleable__label sk-toggleable__label-arrow\">LabelSpreading</label><div class=\"sk-toggleable__content\"><pre>LabelSpreading()</pre></div></div></div></div></div></div></div></div></div></div>"
            ]
          },
          "metadata": {},
          "execution_count": 93
        }
      ]
    },
    {
      "cell_type": "code",
      "source": [
        "print(\"Semi-Supervised Model \\\"time\\\" with Bigram Proprocessing - Best Hyperparameters\\n\")\n",
        "print(semi_bi_model.best_params_)\n",
        "print()"
      ],
      "metadata": {
        "colab": {
          "base_uri": "https://localhost:8080/"
        },
        "outputId": "f081f232-5320-4de7-9b93-ef53f1e0f612",
        "id": "1KxVxeblgz8M"
      },
      "execution_count": 94,
      "outputs": [
        {
          "output_type": "stream",
          "name": "stdout",
          "text": [
            "Semi-Supervised Model \"time\" with Bigram Proprocessing - Best Hyperparameters\n",
            "\n",
            "{'alpha': 1e-05, 'gamma': 6.0, 'kernel': 'rbf', 'max_iter': 1, 'n_neighbors': 1}\n",
            "\n"
          ]
        }
      ]
    },
    {
      "cell_type": "code",
      "source": [
        "semi_bi_model_predictions = semi_bi_model.predict(X_test)\n",
        "semi_bi_report = classification_report(y_test, semi_bi_model_predictions)\n",
        "print(\"Semi-Supervised Model \\\"time\\\" with Bigram Proprocessing - Performance Report\\n\")\n",
        "print(semi_bi_report)\n",
        "print()"
      ],
      "metadata": {
        "colab": {
          "base_uri": "https://localhost:8080/"
        },
        "outputId": "cc7d2c63-0769-4233-cf8c-2b053b968b42",
        "id": "MW69zkx9gz8M"
      },
      "execution_count": 95,
      "outputs": [
        {
          "output_type": "stream",
          "name": "stdout",
          "text": [
            "Semi-Supervised Model \"time\" with Bigram Proprocessing - Performance Report\n",
            "\n",
            "              precision    recall  f1-score   support\n",
            "\n",
            "           1       0.00      0.00      0.00         4\n",
            "           2       0.33      1.00      0.50         2\n",
            "\n",
            "    accuracy                           0.33         6\n",
            "   macro avg       0.17      0.50      0.25         6\n",
            "weighted avg       0.11      0.33      0.17         6\n",
            "\n",
            "\n"
          ]
        },
        {
          "output_type": "stream",
          "name": "stderr",
          "text": [
            "/usr/local/lib/python3.10/dist-packages/sklearn/metrics/_classification.py:1344: UndefinedMetricWarning: Precision and F-score are ill-defined and being set to 0.0 in labels with no predicted samples. Use `zero_division` parameter to control this behavior.\n",
            "  _warn_prf(average, modifier, msg_start, len(result))\n",
            "/usr/local/lib/python3.10/dist-packages/sklearn/metrics/_classification.py:1344: UndefinedMetricWarning: Precision and F-score are ill-defined and being set to 0.0 in labels with no predicted samples. Use `zero_division` parameter to control this behavior.\n",
            "  _warn_prf(average, modifier, msg_start, len(result))\n",
            "/usr/local/lib/python3.10/dist-packages/sklearn/metrics/_classification.py:1344: UndefinedMetricWarning: Precision and F-score are ill-defined and being set to 0.0 in labels with no predicted samples. Use `zero_division` parameter to control this behavior.\n",
            "  _warn_prf(average, modifier, msg_start, len(result))\n"
          ]
        }
      ]
    },
    {
      "cell_type": "code",
      "source": [
        "print(semi_bi_model_predictions)\n",
        "print(y_test)"
      ],
      "metadata": {
        "colab": {
          "base_uri": "https://localhost:8080/"
        },
        "id": "a6zrWn4oQI16",
        "outputId": "237e0442-d84a-4e15-d836-2dd25613cf17"
      },
      "execution_count": 96,
      "outputs": [
        {
          "output_type": "stream",
          "name": "stdout",
          "text": [
            "[2 2 2 2 2 2]\n",
            "[1, 1, 2, 2, 1, 1]\n"
          ]
        }
      ]
    },
    {
      "cell_type": "code",
      "source": [
        "# trigram\n",
        "X_train_semi, y_train_semi, X_train_labeled, y_train_labeled, X_test, y_test = output_train_test_sets(target_word, sense_1_file, sense_2_file, sense_1, sense_2, \"tri\")"
      ],
      "metadata": {
        "colab": {
          "base_uri": "https://localhost:8080/"
        },
        "outputId": "58b598c9-f81f-41c9-a4e7-ed7e2ec34e02",
        "id": "0wyDkY9ggz8M"
      },
      "execution_count": 97,
      "outputs": [
        {
          "output_type": "stream",
          "name": "stdout",
          "text": [
            "Size of unlabeled training set:  100\n",
            "Size of labeled training set:  101\n",
            "Size of test set (labeled):  6\n"
          ]
        }
      ]
    },
    {
      "cell_type": "code",
      "source": [
        "param_grid = {'kernel': ['knn', 'rbf'],\n",
        "              'gamma': [1.0, 2.0],\n",
        "              'n_neighbors': [1, 2, 3],\n",
        "              'alpha': [0.0000001, 0.000001, 0.00001],\n",
        "              'max_iter': [1, 2, 3]}\n",
        "\n",
        "semi_tri_model = GridSearchCV(LabelSpreading(), param_grid, refit=True, verbose=3, n_jobs=-1)\n",
        "semi_tri_model.fit(X_train_semi, y_train_semi)"
      ],
      "metadata": {
        "colab": {
          "base_uri": "https://localhost:8080/",
          "height": 191
        },
        "outputId": "fe011a89-9faa-437f-82ee-62baa5c82fb8",
        "id": "iAtROmxwgz8M"
      },
      "execution_count": 98,
      "outputs": [
        {
          "output_type": "stream",
          "name": "stdout",
          "text": [
            "Fitting 5 folds for each of 108 candidates, totalling 540 fits\n"
          ]
        },
        {
          "output_type": "stream",
          "name": "stderr",
          "text": [
            "/usr/local/lib/python3.10/dist-packages/sklearn/semi_supervised/_label_propagation.py:318: ConvergenceWarning: max_iter=1 was reached without convergence.\n",
            "  warnings.warn(\n"
          ]
        },
        {
          "output_type": "execute_result",
          "data": {
            "text/plain": [
              "GridSearchCV(estimator=LabelSpreading(), n_jobs=-1,\n",
              "             param_grid={'alpha': [1e-07, 1e-06, 1e-05], 'gamma': [1.0, 2.0],\n",
              "                         'kernel': ['knn', 'rbf'], 'max_iter': [1, 2, 3],\n",
              "                         'n_neighbors': [1, 2, 3]},\n",
              "             verbose=3)"
            ],
            "text/html": [
              "<style>#sk-container-id-15 {color: black;background-color: white;}#sk-container-id-15 pre{padding: 0;}#sk-container-id-15 div.sk-toggleable {background-color: white;}#sk-container-id-15 label.sk-toggleable__label {cursor: pointer;display: block;width: 100%;margin-bottom: 0;padding: 0.3em;box-sizing: border-box;text-align: center;}#sk-container-id-15 label.sk-toggleable__label-arrow:before {content: \"▸\";float: left;margin-right: 0.25em;color: #696969;}#sk-container-id-15 label.sk-toggleable__label-arrow:hover:before {color: black;}#sk-container-id-15 div.sk-estimator:hover label.sk-toggleable__label-arrow:before {color: black;}#sk-container-id-15 div.sk-toggleable__content {max-height: 0;max-width: 0;overflow: hidden;text-align: left;background-color: #f0f8ff;}#sk-container-id-15 div.sk-toggleable__content pre {margin: 0.2em;color: black;border-radius: 0.25em;background-color: #f0f8ff;}#sk-container-id-15 input.sk-toggleable__control:checked~div.sk-toggleable__content {max-height: 200px;max-width: 100%;overflow: auto;}#sk-container-id-15 input.sk-toggleable__control:checked~label.sk-toggleable__label-arrow:before {content: \"▾\";}#sk-container-id-15 div.sk-estimator input.sk-toggleable__control:checked~label.sk-toggleable__label {background-color: #d4ebff;}#sk-container-id-15 div.sk-label input.sk-toggleable__control:checked~label.sk-toggleable__label {background-color: #d4ebff;}#sk-container-id-15 input.sk-hidden--visually {border: 0;clip: rect(1px 1px 1px 1px);clip: rect(1px, 1px, 1px, 1px);height: 1px;margin: -1px;overflow: hidden;padding: 0;position: absolute;width: 1px;}#sk-container-id-15 div.sk-estimator {font-family: monospace;background-color: #f0f8ff;border: 1px dotted black;border-radius: 0.25em;box-sizing: border-box;margin-bottom: 0.5em;}#sk-container-id-15 div.sk-estimator:hover {background-color: #d4ebff;}#sk-container-id-15 div.sk-parallel-item::after {content: \"\";width: 100%;border-bottom: 1px solid gray;flex-grow: 1;}#sk-container-id-15 div.sk-label:hover label.sk-toggleable__label {background-color: #d4ebff;}#sk-container-id-15 div.sk-serial::before {content: \"\";position: absolute;border-left: 1px solid gray;box-sizing: border-box;top: 0;bottom: 0;left: 50%;z-index: 0;}#sk-container-id-15 div.sk-serial {display: flex;flex-direction: column;align-items: center;background-color: white;padding-right: 0.2em;padding-left: 0.2em;position: relative;}#sk-container-id-15 div.sk-item {position: relative;z-index: 1;}#sk-container-id-15 div.sk-parallel {display: flex;align-items: stretch;justify-content: center;background-color: white;position: relative;}#sk-container-id-15 div.sk-item::before, #sk-container-id-15 div.sk-parallel-item::before {content: \"\";position: absolute;border-left: 1px solid gray;box-sizing: border-box;top: 0;bottom: 0;left: 50%;z-index: -1;}#sk-container-id-15 div.sk-parallel-item {display: flex;flex-direction: column;z-index: 1;position: relative;background-color: white;}#sk-container-id-15 div.sk-parallel-item:first-child::after {align-self: flex-end;width: 50%;}#sk-container-id-15 div.sk-parallel-item:last-child::after {align-self: flex-start;width: 50%;}#sk-container-id-15 div.sk-parallel-item:only-child::after {width: 0;}#sk-container-id-15 div.sk-dashed-wrapped {border: 1px dashed gray;margin: 0 0.4em 0.5em 0.4em;box-sizing: border-box;padding-bottom: 0.4em;background-color: white;}#sk-container-id-15 div.sk-label label {font-family: monospace;font-weight: bold;display: inline-block;line-height: 1.2em;}#sk-container-id-15 div.sk-label-container {text-align: center;}#sk-container-id-15 div.sk-container {/* jupyter's `normalize.less` sets `[hidden] { display: none; }` but bootstrap.min.css set `[hidden] { display: none !important; }` so we also need the `!important` here to be able to override the default hidden behavior on the sphinx rendered scikit-learn.org. See: https://github.com/scikit-learn/scikit-learn/issues/21755 */display: inline-block !important;position: relative;}#sk-container-id-15 div.sk-text-repr-fallback {display: none;}</style><div id=\"sk-container-id-15\" class=\"sk-top-container\"><div class=\"sk-text-repr-fallback\"><pre>GridSearchCV(estimator=LabelSpreading(), n_jobs=-1,\n",
              "             param_grid={&#x27;alpha&#x27;: [1e-07, 1e-06, 1e-05], &#x27;gamma&#x27;: [1.0, 2.0],\n",
              "                         &#x27;kernel&#x27;: [&#x27;knn&#x27;, &#x27;rbf&#x27;], &#x27;max_iter&#x27;: [1, 2, 3],\n",
              "                         &#x27;n_neighbors&#x27;: [1, 2, 3]},\n",
              "             verbose=3)</pre><b>In a Jupyter environment, please rerun this cell to show the HTML representation or trust the notebook. <br />On GitHub, the HTML representation is unable to render, please try loading this page with nbviewer.org.</b></div><div class=\"sk-container\" hidden><div class=\"sk-item sk-dashed-wrapped\"><div class=\"sk-label-container\"><div class=\"sk-label sk-toggleable\"><input class=\"sk-toggleable__control sk-hidden--visually\" id=\"sk-estimator-id-43\" type=\"checkbox\" ><label for=\"sk-estimator-id-43\" class=\"sk-toggleable__label sk-toggleable__label-arrow\">GridSearchCV</label><div class=\"sk-toggleable__content\"><pre>GridSearchCV(estimator=LabelSpreading(), n_jobs=-1,\n",
              "             param_grid={&#x27;alpha&#x27;: [1e-07, 1e-06, 1e-05], &#x27;gamma&#x27;: [1.0, 2.0],\n",
              "                         &#x27;kernel&#x27;: [&#x27;knn&#x27;, &#x27;rbf&#x27;], &#x27;max_iter&#x27;: [1, 2, 3],\n",
              "                         &#x27;n_neighbors&#x27;: [1, 2, 3]},\n",
              "             verbose=3)</pre></div></div></div><div class=\"sk-parallel\"><div class=\"sk-parallel-item\"><div class=\"sk-item\"><div class=\"sk-label-container\"><div class=\"sk-label sk-toggleable\"><input class=\"sk-toggleable__control sk-hidden--visually\" id=\"sk-estimator-id-44\" type=\"checkbox\" ><label for=\"sk-estimator-id-44\" class=\"sk-toggleable__label sk-toggleable__label-arrow\">estimator: LabelSpreading</label><div class=\"sk-toggleable__content\"><pre>LabelSpreading()</pre></div></div></div><div class=\"sk-serial\"><div class=\"sk-item\"><div class=\"sk-estimator sk-toggleable\"><input class=\"sk-toggleable__control sk-hidden--visually\" id=\"sk-estimator-id-45\" type=\"checkbox\" ><label for=\"sk-estimator-id-45\" class=\"sk-toggleable__label sk-toggleable__label-arrow\">LabelSpreading</label><div class=\"sk-toggleable__content\"><pre>LabelSpreading()</pre></div></div></div></div></div></div></div></div></div></div>"
            ]
          },
          "metadata": {},
          "execution_count": 98
        }
      ]
    },
    {
      "cell_type": "code",
      "source": [
        "print(\"Semi-Supervised Model \\\"time\\\" with Trigram Proprocessing - Best Hyperparameters\\n\")\n",
        "print(semi_tri_model.best_params_)\n",
        "print()"
      ],
      "metadata": {
        "colab": {
          "base_uri": "https://localhost:8080/"
        },
        "outputId": "6cbf3c2a-12e6-45b0-8929-15688d512fb4",
        "id": "Qh7OE418gz8M"
      },
      "execution_count": 99,
      "outputs": [
        {
          "output_type": "stream",
          "name": "stdout",
          "text": [
            "Semi-Supervised Model \"time\" with Trigram Proprocessing - Best Hyperparameters\n",
            "\n",
            "{'alpha': 1e-07, 'gamma': 1.0, 'kernel': 'knn', 'max_iter': 1, 'n_neighbors': 2}\n",
            "\n"
          ]
        }
      ]
    },
    {
      "cell_type": "code",
      "source": [
        "semi_tri_model_predictions = semi_tri_model.predict(X_test)\n",
        "semi_tri_report = classification_report(y_test, semi_tri_model_predictions)\n",
        "print(\"Semi-Supervised Model \\\"time\\\" with Trigram Proprocessing - Performance Report\\n\")\n",
        "print(semi_tri_report)\n",
        "print()"
      ],
      "metadata": {
        "colab": {
          "base_uri": "https://localhost:8080/"
        },
        "outputId": "87b965dc-1c3b-4cb4-d4cc-2d5ba47adfc5",
        "id": "FOseiBbGgz8M"
      },
      "execution_count": 100,
      "outputs": [
        {
          "output_type": "stream",
          "name": "stdout",
          "text": [
            "Semi-Supervised Model \"time\" with Trigram Proprocessing - Performance Report\n",
            "\n",
            "              precision    recall  f1-score   support\n",
            "\n",
            "           1       0.67      1.00      0.80         4\n",
            "           2       0.00      0.00      0.00         2\n",
            "\n",
            "    accuracy                           0.67         6\n",
            "   macro avg       0.33      0.50      0.40         6\n",
            "weighted avg       0.44      0.67      0.53         6\n",
            "\n",
            "\n"
          ]
        },
        {
          "output_type": "stream",
          "name": "stderr",
          "text": [
            "/usr/local/lib/python3.10/dist-packages/sklearn/semi_supervised/_label_propagation.py:231: RuntimeWarning: invalid value encountered in divide\n",
            "  probabilities /= normalizer\n",
            "/usr/local/lib/python3.10/dist-packages/sklearn/metrics/_classification.py:1344: UndefinedMetricWarning: Precision and F-score are ill-defined and being set to 0.0 in labels with no predicted samples. Use `zero_division` parameter to control this behavior.\n",
            "  _warn_prf(average, modifier, msg_start, len(result))\n",
            "/usr/local/lib/python3.10/dist-packages/sklearn/metrics/_classification.py:1344: UndefinedMetricWarning: Precision and F-score are ill-defined and being set to 0.0 in labels with no predicted samples. Use `zero_division` parameter to control this behavior.\n",
            "  _warn_prf(average, modifier, msg_start, len(result))\n",
            "/usr/local/lib/python3.10/dist-packages/sklearn/metrics/_classification.py:1344: UndefinedMetricWarning: Precision and F-score are ill-defined and being set to 0.0 in labels with no predicted samples. Use `zero_division` parameter to control this behavior.\n",
            "  _warn_prf(average, modifier, msg_start, len(result))\n"
          ]
        }
      ]
    },
    {
      "cell_type": "code",
      "source": [
        "print(semi_tri_model_predictions)\n",
        "print(y_test)"
      ],
      "metadata": {
        "colab": {
          "base_uri": "https://localhost:8080/"
        },
        "id": "Yc0z0PyzQRIL",
        "outputId": "ae5842b1-f089-452c-fcde-23f0bebc091f"
      },
      "execution_count": 101,
      "outputs": [
        {
          "output_type": "stream",
          "name": "stdout",
          "text": [
            "[1 1 1 1 1 1]\n",
            "[1, 1, 2, 2, 1, 1]\n"
          ]
        }
      ]
    },
    {
      "cell_type": "markdown",
      "source": [
        "## Naive Bayes model"
      ],
      "metadata": {
        "id": "jhGuSxhnlOha"
      }
    },
    {
      "cell_type": "markdown",
      "source": [
        "### Word: country\n",
        "\n",
        "We pick two senses of country. They are:\n",
        "1.  S: (n) state (state%1:14:00::), nation (nation%1:14:00::), country (country%1:14:00::), land (land%1:14:00::), commonwealth (commonwealth%1:14:00::), res publica (res_publica%1:14:00::), body politic (body_politic%1:14:00::) (a politically organized body of people under a single government) \"the state has elected a new president\"; \"African nations\"; \"students who had come to the nation's capitol\"; \"the country's largest manufacturer\"; \"an industrialized land\".\n",
        "2.  S: (n) country (country%1:15:01::), rural area (rural_area%1:15:00::) (an area outside of cities and towns) \"his poetry celebrated the slower pace of life in the country\"\n",
        "\n",
        "We assign 1 to the first sense and 2 to the second sense."
      ],
      "metadata": {
        "id": "iV5n6FxBmWOB"
      }
    },
    {
      "cell_type": "code",
      "source": [
        "# parameters to change\n",
        "target_word = \"country\"\n",
        "sense_1_file = \"/content/country_nation.txt\"\n",
        "sense_2_file = \"/content/country_rural.txt\"\n",
        "general_file = \"/content/country.txt\"\n",
        "sense_1 = \"1:14:00::\"\n",
        "sense_2 = \"1:15:01::\""
      ],
      "metadata": {
        "id": "AsX9lHq9mWOB"
      },
      "execution_count": 102,
      "outputs": []
    },
    {
      "cell_type": "markdown",
      "source": [
        "Let's try out unigram, bigram, and trigram models."
      ],
      "metadata": {
        "id": "7ZFfoKx4mWOB"
      }
    },
    {
      "cell_type": "code",
      "source": [
        "# unigram\n",
        "X_train_semi, y_train_semi, X_train_labeled, y_train_labeled, X_test, y_test = output_train_test_sets(target_word, sense_1_file, sense_2_file, sense_1, sense_2, \"uni\")"
      ],
      "metadata": {
        "colab": {
          "base_uri": "https://localhost:8080/"
        },
        "outputId": "f58c3cfa-8490-4b67-fee3-8be37bc4bb7c",
        "id": "mTRdT0rKmWOB"
      },
      "execution_count": 103,
      "outputs": [
        {
          "output_type": "stream",
          "name": "stdout",
          "text": [
            "Size of unlabeled training set:  100\n",
            "Size of labeled training set:  107\n",
            "Size of test set (labeled):  18\n"
          ]
        }
      ]
    },
    {
      "cell_type": "code",
      "source": [
        "param_grid = {'alpha': [0, 1e-12, 1e-10, 1e-08] ,\n",
        "              'class_prior': [[0.5, 0.5], None]}\n",
        "\n",
        "cnb_uni_model = GridSearchCV(ComplementNB(force_alpha=True), param_grid, refit=True, verbose=3, n_jobs=-1)\n",
        "cnb_uni_model.fit(X_train_labeled, y_train_labeled)"
      ],
      "metadata": {
        "colab": {
          "base_uri": "https://localhost:8080/",
          "height": 136
        },
        "outputId": "9179508a-a600-4aa2-da6f-1f1008a828a6",
        "id": "OUOSEEIVmWOB"
      },
      "execution_count": 104,
      "outputs": [
        {
          "output_type": "stream",
          "name": "stdout",
          "text": [
            "Fitting 5 folds for each of 8 candidates, totalling 40 fits\n"
          ]
        },
        {
          "output_type": "execute_result",
          "data": {
            "text/plain": [
              "GridSearchCV(estimator=ComplementNB(force_alpha=True), n_jobs=-1,\n",
              "             param_grid={'alpha': [0, 1e-12, 1e-10, 1e-08],\n",
              "                         'class_prior': [[0.5, 0.5], None]},\n",
              "             verbose=3)"
            ],
            "text/html": [
              "<style>#sk-container-id-16 {color: black;background-color: white;}#sk-container-id-16 pre{padding: 0;}#sk-container-id-16 div.sk-toggleable {background-color: white;}#sk-container-id-16 label.sk-toggleable__label {cursor: pointer;display: block;width: 100%;margin-bottom: 0;padding: 0.3em;box-sizing: border-box;text-align: center;}#sk-container-id-16 label.sk-toggleable__label-arrow:before {content: \"▸\";float: left;margin-right: 0.25em;color: #696969;}#sk-container-id-16 label.sk-toggleable__label-arrow:hover:before {color: black;}#sk-container-id-16 div.sk-estimator:hover label.sk-toggleable__label-arrow:before {color: black;}#sk-container-id-16 div.sk-toggleable__content {max-height: 0;max-width: 0;overflow: hidden;text-align: left;background-color: #f0f8ff;}#sk-container-id-16 div.sk-toggleable__content pre {margin: 0.2em;color: black;border-radius: 0.25em;background-color: #f0f8ff;}#sk-container-id-16 input.sk-toggleable__control:checked~div.sk-toggleable__content {max-height: 200px;max-width: 100%;overflow: auto;}#sk-container-id-16 input.sk-toggleable__control:checked~label.sk-toggleable__label-arrow:before {content: \"▾\";}#sk-container-id-16 div.sk-estimator input.sk-toggleable__control:checked~label.sk-toggleable__label {background-color: #d4ebff;}#sk-container-id-16 div.sk-label input.sk-toggleable__control:checked~label.sk-toggleable__label {background-color: #d4ebff;}#sk-container-id-16 input.sk-hidden--visually {border: 0;clip: rect(1px 1px 1px 1px);clip: rect(1px, 1px, 1px, 1px);height: 1px;margin: -1px;overflow: hidden;padding: 0;position: absolute;width: 1px;}#sk-container-id-16 div.sk-estimator {font-family: monospace;background-color: #f0f8ff;border: 1px dotted black;border-radius: 0.25em;box-sizing: border-box;margin-bottom: 0.5em;}#sk-container-id-16 div.sk-estimator:hover {background-color: #d4ebff;}#sk-container-id-16 div.sk-parallel-item::after {content: \"\";width: 100%;border-bottom: 1px solid gray;flex-grow: 1;}#sk-container-id-16 div.sk-label:hover label.sk-toggleable__label {background-color: #d4ebff;}#sk-container-id-16 div.sk-serial::before {content: \"\";position: absolute;border-left: 1px solid gray;box-sizing: border-box;top: 0;bottom: 0;left: 50%;z-index: 0;}#sk-container-id-16 div.sk-serial {display: flex;flex-direction: column;align-items: center;background-color: white;padding-right: 0.2em;padding-left: 0.2em;position: relative;}#sk-container-id-16 div.sk-item {position: relative;z-index: 1;}#sk-container-id-16 div.sk-parallel {display: flex;align-items: stretch;justify-content: center;background-color: white;position: relative;}#sk-container-id-16 div.sk-item::before, #sk-container-id-16 div.sk-parallel-item::before {content: \"\";position: absolute;border-left: 1px solid gray;box-sizing: border-box;top: 0;bottom: 0;left: 50%;z-index: -1;}#sk-container-id-16 div.sk-parallel-item {display: flex;flex-direction: column;z-index: 1;position: relative;background-color: white;}#sk-container-id-16 div.sk-parallel-item:first-child::after {align-self: flex-end;width: 50%;}#sk-container-id-16 div.sk-parallel-item:last-child::after {align-self: flex-start;width: 50%;}#sk-container-id-16 div.sk-parallel-item:only-child::after {width: 0;}#sk-container-id-16 div.sk-dashed-wrapped {border: 1px dashed gray;margin: 0 0.4em 0.5em 0.4em;box-sizing: border-box;padding-bottom: 0.4em;background-color: white;}#sk-container-id-16 div.sk-label label {font-family: monospace;font-weight: bold;display: inline-block;line-height: 1.2em;}#sk-container-id-16 div.sk-label-container {text-align: center;}#sk-container-id-16 div.sk-container {/* jupyter's `normalize.less` sets `[hidden] { display: none; }` but bootstrap.min.css set `[hidden] { display: none !important; }` so we also need the `!important` here to be able to override the default hidden behavior on the sphinx rendered scikit-learn.org. See: https://github.com/scikit-learn/scikit-learn/issues/21755 */display: inline-block !important;position: relative;}#sk-container-id-16 div.sk-text-repr-fallback {display: none;}</style><div id=\"sk-container-id-16\" class=\"sk-top-container\"><div class=\"sk-text-repr-fallback\"><pre>GridSearchCV(estimator=ComplementNB(force_alpha=True), n_jobs=-1,\n",
              "             param_grid={&#x27;alpha&#x27;: [0, 1e-12, 1e-10, 1e-08],\n",
              "                         &#x27;class_prior&#x27;: [[0.5, 0.5], None]},\n",
              "             verbose=3)</pre><b>In a Jupyter environment, please rerun this cell to show the HTML representation or trust the notebook. <br />On GitHub, the HTML representation is unable to render, please try loading this page with nbviewer.org.</b></div><div class=\"sk-container\" hidden><div class=\"sk-item sk-dashed-wrapped\"><div class=\"sk-label-container\"><div class=\"sk-label sk-toggleable\"><input class=\"sk-toggleable__control sk-hidden--visually\" id=\"sk-estimator-id-46\" type=\"checkbox\" ><label for=\"sk-estimator-id-46\" class=\"sk-toggleable__label sk-toggleable__label-arrow\">GridSearchCV</label><div class=\"sk-toggleable__content\"><pre>GridSearchCV(estimator=ComplementNB(force_alpha=True), n_jobs=-1,\n",
              "             param_grid={&#x27;alpha&#x27;: [0, 1e-12, 1e-10, 1e-08],\n",
              "                         &#x27;class_prior&#x27;: [[0.5, 0.5], None]},\n",
              "             verbose=3)</pre></div></div></div><div class=\"sk-parallel\"><div class=\"sk-parallel-item\"><div class=\"sk-item\"><div class=\"sk-label-container\"><div class=\"sk-label sk-toggleable\"><input class=\"sk-toggleable__control sk-hidden--visually\" id=\"sk-estimator-id-47\" type=\"checkbox\" ><label for=\"sk-estimator-id-47\" class=\"sk-toggleable__label sk-toggleable__label-arrow\">estimator: ComplementNB</label><div class=\"sk-toggleable__content\"><pre>ComplementNB(force_alpha=True)</pre></div></div></div><div class=\"sk-serial\"><div class=\"sk-item\"><div class=\"sk-estimator sk-toggleable\"><input class=\"sk-toggleable__control sk-hidden--visually\" id=\"sk-estimator-id-48\" type=\"checkbox\" ><label for=\"sk-estimator-id-48\" class=\"sk-toggleable__label sk-toggleable__label-arrow\">ComplementNB</label><div class=\"sk-toggleable__content\"><pre>ComplementNB(force_alpha=True)</pre></div></div></div></div></div></div></div></div></div></div>"
            ]
          },
          "metadata": {},
          "execution_count": 104
        }
      ]
    },
    {
      "cell_type": "code",
      "source": [
        "print(\"Complement Naive Bayes Model \\\"country\\\" with Unigram Proprocessing - Best Hyperparameters\\n\")\n",
        "print(cnb_uni_model.best_params_)\n",
        "print()"
      ],
      "metadata": {
        "colab": {
          "base_uri": "https://localhost:8080/"
        },
        "outputId": "16f254cb-3617-4b95-a9ff-524d55e7a6dc",
        "id": "BgiAPzYImWOB"
      },
      "execution_count": 105,
      "outputs": [
        {
          "output_type": "stream",
          "name": "stdout",
          "text": [
            "Complement Naive Bayes Model \"country\" with Unigram Proprocessing - Best Hyperparameters\n",
            "\n",
            "{'alpha': 1e-12, 'class_prior': [0.5, 0.5]}\n",
            "\n"
          ]
        }
      ]
    },
    {
      "cell_type": "code",
      "source": [
        "cnb_uni_model_predictions = cnb_uni_model.predict(X_test)\n",
        "cnb_uni_report = classification_report(y_test, cnb_uni_model_predictions)\n",
        "print(\"Complement Naive Bayes Model \\\"country\\\" with Unigram Proprocessing - Performance Report\\n\")\n",
        "print(cnb_uni_report)\n",
        "print()"
      ],
      "metadata": {
        "colab": {
          "base_uri": "https://localhost:8080/"
        },
        "outputId": "11b66d32-56ab-4efd-bf1c-0cea92a4fb83",
        "id": "9q-W037MmWOB"
      },
      "execution_count": 106,
      "outputs": [
        {
          "output_type": "stream",
          "name": "stdout",
          "text": [
            "Complement Naive Bayes Model \"country\" with Unigram Proprocessing - Performance Report\n",
            "\n",
            "              precision    recall  f1-score   support\n",
            "\n",
            "           1       1.00      0.89      0.94        18\n",
            "           2       0.00      0.00      0.00         0\n",
            "\n",
            "    accuracy                           0.89        18\n",
            "   macro avg       0.50      0.44      0.47        18\n",
            "weighted avg       1.00      0.89      0.94        18\n",
            "\n",
            "\n"
          ]
        },
        {
          "output_type": "stream",
          "name": "stderr",
          "text": [
            "/usr/local/lib/python3.10/dist-packages/sklearn/metrics/_classification.py:1344: UndefinedMetricWarning: Recall and F-score are ill-defined and being set to 0.0 in labels with no true samples. Use `zero_division` parameter to control this behavior.\n",
            "  _warn_prf(average, modifier, msg_start, len(result))\n",
            "/usr/local/lib/python3.10/dist-packages/sklearn/metrics/_classification.py:1344: UndefinedMetricWarning: Recall and F-score are ill-defined and being set to 0.0 in labels with no true samples. Use `zero_division` parameter to control this behavior.\n",
            "  _warn_prf(average, modifier, msg_start, len(result))\n",
            "/usr/local/lib/python3.10/dist-packages/sklearn/metrics/_classification.py:1344: UndefinedMetricWarning: Recall and F-score are ill-defined and being set to 0.0 in labels with no true samples. Use `zero_division` parameter to control this behavior.\n",
            "  _warn_prf(average, modifier, msg_start, len(result))\n"
          ]
        }
      ]
    },
    {
      "cell_type": "code",
      "source": [
        "print(cnb_uni_model_predictions)\n",
        "print(y_test)"
      ],
      "metadata": {
        "colab": {
          "base_uri": "https://localhost:8080/"
        },
        "id": "bF0r_-7xQWns",
        "outputId": "9532b3fa-e084-4ba9-d50b-1307cb24c7bc"
      },
      "execution_count": 107,
      "outputs": [
        {
          "output_type": "stream",
          "name": "stdout",
          "text": [
            "[1 2 1 1 1 1 1 1 1 1 1 1 1 1 1 1 1 2]\n",
            "[1, 1, 1, 1, 1, 1, 1, 1, 1, 1, 1, 1, 1, 1, 1, 1, 1, 1]\n"
          ]
        }
      ]
    },
    {
      "cell_type": "code",
      "source": [
        "# bigram\n",
        "X_train_semi, y_train_semi, X_train_labeled, y_train_labeled, X_test, y_test = output_train_test_sets(target_word, sense_1_file, sense_2_file, sense_1, sense_2, \"bi\")"
      ],
      "metadata": {
        "colab": {
          "base_uri": "https://localhost:8080/"
        },
        "outputId": "0e98bd41-5b32-49a6-ca38-127d5472c1e8",
        "id": "Zc6OyDQCnlq2"
      },
      "execution_count": 108,
      "outputs": [
        {
          "output_type": "stream",
          "name": "stdout",
          "text": [
            "Size of unlabeled training set:  100\n",
            "Size of labeled training set:  107\n",
            "Size of test set (labeled):  18\n"
          ]
        }
      ]
    },
    {
      "cell_type": "code",
      "source": [
        "param_grid = {'alpha': [0, 1e-12, 1e-10, 1e-08] ,\n",
        "              'class_prior': [[0.5, 0.5], None]}\n",
        "\n",
        "cnb_bi_model = GridSearchCV(ComplementNB(force_alpha=True), param_grid, refit=True, verbose=3, n_jobs=-1)\n",
        "cnb_bi_model.fit(X_train_labeled, y_train_labeled)"
      ],
      "metadata": {
        "colab": {
          "base_uri": "https://localhost:8080/",
          "height": 136
        },
        "outputId": "06bb2568-58d3-4229-a096-2da8983bcb2c",
        "id": "c-eVTqxNnlq2"
      },
      "execution_count": 109,
      "outputs": [
        {
          "output_type": "stream",
          "name": "stdout",
          "text": [
            "Fitting 5 folds for each of 8 candidates, totalling 40 fits\n"
          ]
        },
        {
          "output_type": "execute_result",
          "data": {
            "text/plain": [
              "GridSearchCV(estimator=ComplementNB(force_alpha=True), n_jobs=-1,\n",
              "             param_grid={'alpha': [0, 1e-12, 1e-10, 1e-08],\n",
              "                         'class_prior': [[0.5, 0.5], None]},\n",
              "             verbose=3)"
            ],
            "text/html": [
              "<style>#sk-container-id-17 {color: black;background-color: white;}#sk-container-id-17 pre{padding: 0;}#sk-container-id-17 div.sk-toggleable {background-color: white;}#sk-container-id-17 label.sk-toggleable__label {cursor: pointer;display: block;width: 100%;margin-bottom: 0;padding: 0.3em;box-sizing: border-box;text-align: center;}#sk-container-id-17 label.sk-toggleable__label-arrow:before {content: \"▸\";float: left;margin-right: 0.25em;color: #696969;}#sk-container-id-17 label.sk-toggleable__label-arrow:hover:before {color: black;}#sk-container-id-17 div.sk-estimator:hover label.sk-toggleable__label-arrow:before {color: black;}#sk-container-id-17 div.sk-toggleable__content {max-height: 0;max-width: 0;overflow: hidden;text-align: left;background-color: #f0f8ff;}#sk-container-id-17 div.sk-toggleable__content pre {margin: 0.2em;color: black;border-radius: 0.25em;background-color: #f0f8ff;}#sk-container-id-17 input.sk-toggleable__control:checked~div.sk-toggleable__content {max-height: 200px;max-width: 100%;overflow: auto;}#sk-container-id-17 input.sk-toggleable__control:checked~label.sk-toggleable__label-arrow:before {content: \"▾\";}#sk-container-id-17 div.sk-estimator input.sk-toggleable__control:checked~label.sk-toggleable__label {background-color: #d4ebff;}#sk-container-id-17 div.sk-label input.sk-toggleable__control:checked~label.sk-toggleable__label {background-color: #d4ebff;}#sk-container-id-17 input.sk-hidden--visually {border: 0;clip: rect(1px 1px 1px 1px);clip: rect(1px, 1px, 1px, 1px);height: 1px;margin: -1px;overflow: hidden;padding: 0;position: absolute;width: 1px;}#sk-container-id-17 div.sk-estimator {font-family: monospace;background-color: #f0f8ff;border: 1px dotted black;border-radius: 0.25em;box-sizing: border-box;margin-bottom: 0.5em;}#sk-container-id-17 div.sk-estimator:hover {background-color: #d4ebff;}#sk-container-id-17 div.sk-parallel-item::after {content: \"\";width: 100%;border-bottom: 1px solid gray;flex-grow: 1;}#sk-container-id-17 div.sk-label:hover label.sk-toggleable__label {background-color: #d4ebff;}#sk-container-id-17 div.sk-serial::before {content: \"\";position: absolute;border-left: 1px solid gray;box-sizing: border-box;top: 0;bottom: 0;left: 50%;z-index: 0;}#sk-container-id-17 div.sk-serial {display: flex;flex-direction: column;align-items: center;background-color: white;padding-right: 0.2em;padding-left: 0.2em;position: relative;}#sk-container-id-17 div.sk-item {position: relative;z-index: 1;}#sk-container-id-17 div.sk-parallel {display: flex;align-items: stretch;justify-content: center;background-color: white;position: relative;}#sk-container-id-17 div.sk-item::before, #sk-container-id-17 div.sk-parallel-item::before {content: \"\";position: absolute;border-left: 1px solid gray;box-sizing: border-box;top: 0;bottom: 0;left: 50%;z-index: -1;}#sk-container-id-17 div.sk-parallel-item {display: flex;flex-direction: column;z-index: 1;position: relative;background-color: white;}#sk-container-id-17 div.sk-parallel-item:first-child::after {align-self: flex-end;width: 50%;}#sk-container-id-17 div.sk-parallel-item:last-child::after {align-self: flex-start;width: 50%;}#sk-container-id-17 div.sk-parallel-item:only-child::after {width: 0;}#sk-container-id-17 div.sk-dashed-wrapped {border: 1px dashed gray;margin: 0 0.4em 0.5em 0.4em;box-sizing: border-box;padding-bottom: 0.4em;background-color: white;}#sk-container-id-17 div.sk-label label {font-family: monospace;font-weight: bold;display: inline-block;line-height: 1.2em;}#sk-container-id-17 div.sk-label-container {text-align: center;}#sk-container-id-17 div.sk-container {/* jupyter's `normalize.less` sets `[hidden] { display: none; }` but bootstrap.min.css set `[hidden] { display: none !important; }` so we also need the `!important` here to be able to override the default hidden behavior on the sphinx rendered scikit-learn.org. See: https://github.com/scikit-learn/scikit-learn/issues/21755 */display: inline-block !important;position: relative;}#sk-container-id-17 div.sk-text-repr-fallback {display: none;}</style><div id=\"sk-container-id-17\" class=\"sk-top-container\"><div class=\"sk-text-repr-fallback\"><pre>GridSearchCV(estimator=ComplementNB(force_alpha=True), n_jobs=-1,\n",
              "             param_grid={&#x27;alpha&#x27;: [0, 1e-12, 1e-10, 1e-08],\n",
              "                         &#x27;class_prior&#x27;: [[0.5, 0.5], None]},\n",
              "             verbose=3)</pre><b>In a Jupyter environment, please rerun this cell to show the HTML representation or trust the notebook. <br />On GitHub, the HTML representation is unable to render, please try loading this page with nbviewer.org.</b></div><div class=\"sk-container\" hidden><div class=\"sk-item sk-dashed-wrapped\"><div class=\"sk-label-container\"><div class=\"sk-label sk-toggleable\"><input class=\"sk-toggleable__control sk-hidden--visually\" id=\"sk-estimator-id-49\" type=\"checkbox\" ><label for=\"sk-estimator-id-49\" class=\"sk-toggleable__label sk-toggleable__label-arrow\">GridSearchCV</label><div class=\"sk-toggleable__content\"><pre>GridSearchCV(estimator=ComplementNB(force_alpha=True), n_jobs=-1,\n",
              "             param_grid={&#x27;alpha&#x27;: [0, 1e-12, 1e-10, 1e-08],\n",
              "                         &#x27;class_prior&#x27;: [[0.5, 0.5], None]},\n",
              "             verbose=3)</pre></div></div></div><div class=\"sk-parallel\"><div class=\"sk-parallel-item\"><div class=\"sk-item\"><div class=\"sk-label-container\"><div class=\"sk-label sk-toggleable\"><input class=\"sk-toggleable__control sk-hidden--visually\" id=\"sk-estimator-id-50\" type=\"checkbox\" ><label for=\"sk-estimator-id-50\" class=\"sk-toggleable__label sk-toggleable__label-arrow\">estimator: ComplementNB</label><div class=\"sk-toggleable__content\"><pre>ComplementNB(force_alpha=True)</pre></div></div></div><div class=\"sk-serial\"><div class=\"sk-item\"><div class=\"sk-estimator sk-toggleable\"><input class=\"sk-toggleable__control sk-hidden--visually\" id=\"sk-estimator-id-51\" type=\"checkbox\" ><label for=\"sk-estimator-id-51\" class=\"sk-toggleable__label sk-toggleable__label-arrow\">ComplementNB</label><div class=\"sk-toggleable__content\"><pre>ComplementNB(force_alpha=True)</pre></div></div></div></div></div></div></div></div></div></div>"
            ]
          },
          "metadata": {},
          "execution_count": 109
        }
      ]
    },
    {
      "cell_type": "code",
      "source": [
        "print(\"Complement Naive Bayes Model \\\"country\\\" with Bigram Proprocessing - Best Hyperparameters\\n\")\n",
        "print(cnb_bi_model.best_params_)\n",
        "print()"
      ],
      "metadata": {
        "colab": {
          "base_uri": "https://localhost:8080/"
        },
        "outputId": "3acafbe8-8142-4662-8f70-394795398506",
        "id": "c0eNlAHLnlq2"
      },
      "execution_count": 110,
      "outputs": [
        {
          "output_type": "stream",
          "name": "stdout",
          "text": [
            "Complement Naive Bayes Model \"country\" with Bigram Proprocessing - Best Hyperparameters\n",
            "\n",
            "{'alpha': 1e-12, 'class_prior': [0.5, 0.5]}\n",
            "\n"
          ]
        }
      ]
    },
    {
      "cell_type": "code",
      "source": [
        "cnb_bi_model_predictions = cnb_bi_model.predict(X_test)\n",
        "cnb_bi_report = classification_report(y_test, cnb_bi_model_predictions)\n",
        "print(\"Complement Naive Bayes Model \\\"country\\\" with Bigram Proprocessing - Performance Report\\n\")\n",
        "print(cnb_bi_report)\n",
        "print()"
      ],
      "metadata": {
        "colab": {
          "base_uri": "https://localhost:8080/"
        },
        "outputId": "53029048-e677-48c1-d6b1-4243fddd0c3c",
        "id": "tL3_Bn5Snlq2"
      },
      "execution_count": 111,
      "outputs": [
        {
          "output_type": "stream",
          "name": "stdout",
          "text": [
            "Complement Naive Bayes Model \"country\" with Bigram Proprocessing - Performance Report\n",
            "\n",
            "              precision    recall  f1-score   support\n",
            "\n",
            "           1       1.00      1.00      1.00        18\n",
            "\n",
            "    accuracy                           1.00        18\n",
            "   macro avg       1.00      1.00      1.00        18\n",
            "weighted avg       1.00      1.00      1.00        18\n",
            "\n",
            "\n"
          ]
        }
      ]
    },
    {
      "cell_type": "code",
      "source": [
        "print(cnb_bi_model_predictions)\n",
        "print(y_test)"
      ],
      "metadata": {
        "colab": {
          "base_uri": "https://localhost:8080/"
        },
        "id": "w2u6fH7bQjrl",
        "outputId": "a9b1a204-c521-4a5d-d642-b5ce87567fb9"
      },
      "execution_count": 112,
      "outputs": [
        {
          "output_type": "stream",
          "name": "stdout",
          "text": [
            "[1 1 1 1 1 1 1 1 1 1 1 1 1 1 1 1 1 1]\n",
            "[1, 1, 1, 1, 1, 1, 1, 1, 1, 1, 1, 1, 1, 1, 1, 1, 1, 1]\n"
          ]
        }
      ]
    },
    {
      "cell_type": "code",
      "source": [
        "# trigram\n",
        "X_train_semi, y_train_semi, X_train_labeled, y_train_labeled, X_test, y_test = output_train_test_sets(target_word, sense_1_file, sense_2_file, sense_1, sense_2, \"tri\")"
      ],
      "metadata": {
        "colab": {
          "base_uri": "https://localhost:8080/"
        },
        "outputId": "86d01723-0cc2-4f71-907a-8d26da2838f0",
        "id": "oDLCYlDOnwG4"
      },
      "execution_count": 113,
      "outputs": [
        {
          "output_type": "stream",
          "name": "stdout",
          "text": [
            "Size of unlabeled training set:  100\n",
            "Size of labeled training set:  107\n",
            "Size of test set (labeled):  18\n"
          ]
        }
      ]
    },
    {
      "cell_type": "code",
      "source": [
        "param_grid = {'alpha': [0, 1e-12, 1e-10, 1e-08] ,\n",
        "              'class_prior': [[0.5, 0.5], None]}\n",
        "\n",
        "cnb_tri_model = GridSearchCV(ComplementNB(force_alpha=True), param_grid, refit=True, verbose=3, n_jobs=-1)\n",
        "cnb_tri_model.fit(X_train_labeled, y_train_labeled)"
      ],
      "metadata": {
        "colab": {
          "base_uri": "https://localhost:8080/",
          "height": 171
        },
        "outputId": "de6b2ab6-bfed-49f6-8c7b-eb4157670ab4",
        "id": "ejWUEFlYnwG5"
      },
      "execution_count": 114,
      "outputs": [
        {
          "output_type": "stream",
          "name": "stdout",
          "text": [
            "Fitting 5 folds for each of 8 candidates, totalling 40 fits\n"
          ]
        },
        {
          "output_type": "stream",
          "name": "stderr",
          "text": [
            "/usr/local/lib/python3.10/dist-packages/sklearn/naive_bayes.py:1052: RuntimeWarning: divide by zero encountered in log\n",
            "  logged = np.log(comp_count / comp_count.sum(axis=1, keepdims=True))\n"
          ]
        },
        {
          "output_type": "execute_result",
          "data": {
            "text/plain": [
              "GridSearchCV(estimator=ComplementNB(force_alpha=True), n_jobs=-1,\n",
              "             param_grid={'alpha': [0, 1e-12, 1e-10, 1e-08],\n",
              "                         'class_prior': [[0.5, 0.5], None]},\n",
              "             verbose=3)"
            ],
            "text/html": [
              "<style>#sk-container-id-18 {color: black;background-color: white;}#sk-container-id-18 pre{padding: 0;}#sk-container-id-18 div.sk-toggleable {background-color: white;}#sk-container-id-18 label.sk-toggleable__label {cursor: pointer;display: block;width: 100%;margin-bottom: 0;padding: 0.3em;box-sizing: border-box;text-align: center;}#sk-container-id-18 label.sk-toggleable__label-arrow:before {content: \"▸\";float: left;margin-right: 0.25em;color: #696969;}#sk-container-id-18 label.sk-toggleable__label-arrow:hover:before {color: black;}#sk-container-id-18 div.sk-estimator:hover label.sk-toggleable__label-arrow:before {color: black;}#sk-container-id-18 div.sk-toggleable__content {max-height: 0;max-width: 0;overflow: hidden;text-align: left;background-color: #f0f8ff;}#sk-container-id-18 div.sk-toggleable__content pre {margin: 0.2em;color: black;border-radius: 0.25em;background-color: #f0f8ff;}#sk-container-id-18 input.sk-toggleable__control:checked~div.sk-toggleable__content {max-height: 200px;max-width: 100%;overflow: auto;}#sk-container-id-18 input.sk-toggleable__control:checked~label.sk-toggleable__label-arrow:before {content: \"▾\";}#sk-container-id-18 div.sk-estimator input.sk-toggleable__control:checked~label.sk-toggleable__label {background-color: #d4ebff;}#sk-container-id-18 div.sk-label input.sk-toggleable__control:checked~label.sk-toggleable__label {background-color: #d4ebff;}#sk-container-id-18 input.sk-hidden--visually {border: 0;clip: rect(1px 1px 1px 1px);clip: rect(1px, 1px, 1px, 1px);height: 1px;margin: -1px;overflow: hidden;padding: 0;position: absolute;width: 1px;}#sk-container-id-18 div.sk-estimator {font-family: monospace;background-color: #f0f8ff;border: 1px dotted black;border-radius: 0.25em;box-sizing: border-box;margin-bottom: 0.5em;}#sk-container-id-18 div.sk-estimator:hover {background-color: #d4ebff;}#sk-container-id-18 div.sk-parallel-item::after {content: \"\";width: 100%;border-bottom: 1px solid gray;flex-grow: 1;}#sk-container-id-18 div.sk-label:hover label.sk-toggleable__label {background-color: #d4ebff;}#sk-container-id-18 div.sk-serial::before {content: \"\";position: absolute;border-left: 1px solid gray;box-sizing: border-box;top: 0;bottom: 0;left: 50%;z-index: 0;}#sk-container-id-18 div.sk-serial {display: flex;flex-direction: column;align-items: center;background-color: white;padding-right: 0.2em;padding-left: 0.2em;position: relative;}#sk-container-id-18 div.sk-item {position: relative;z-index: 1;}#sk-container-id-18 div.sk-parallel {display: flex;align-items: stretch;justify-content: center;background-color: white;position: relative;}#sk-container-id-18 div.sk-item::before, #sk-container-id-18 div.sk-parallel-item::before {content: \"\";position: absolute;border-left: 1px solid gray;box-sizing: border-box;top: 0;bottom: 0;left: 50%;z-index: -1;}#sk-container-id-18 div.sk-parallel-item {display: flex;flex-direction: column;z-index: 1;position: relative;background-color: white;}#sk-container-id-18 div.sk-parallel-item:first-child::after {align-self: flex-end;width: 50%;}#sk-container-id-18 div.sk-parallel-item:last-child::after {align-self: flex-start;width: 50%;}#sk-container-id-18 div.sk-parallel-item:only-child::after {width: 0;}#sk-container-id-18 div.sk-dashed-wrapped {border: 1px dashed gray;margin: 0 0.4em 0.5em 0.4em;box-sizing: border-box;padding-bottom: 0.4em;background-color: white;}#sk-container-id-18 div.sk-label label {font-family: monospace;font-weight: bold;display: inline-block;line-height: 1.2em;}#sk-container-id-18 div.sk-label-container {text-align: center;}#sk-container-id-18 div.sk-container {/* jupyter's `normalize.less` sets `[hidden] { display: none; }` but bootstrap.min.css set `[hidden] { display: none !important; }` so we also need the `!important` here to be able to override the default hidden behavior on the sphinx rendered scikit-learn.org. See: https://github.com/scikit-learn/scikit-learn/issues/21755 */display: inline-block !important;position: relative;}#sk-container-id-18 div.sk-text-repr-fallback {display: none;}</style><div id=\"sk-container-id-18\" class=\"sk-top-container\"><div class=\"sk-text-repr-fallback\"><pre>GridSearchCV(estimator=ComplementNB(force_alpha=True), n_jobs=-1,\n",
              "             param_grid={&#x27;alpha&#x27;: [0, 1e-12, 1e-10, 1e-08],\n",
              "                         &#x27;class_prior&#x27;: [[0.5, 0.5], None]},\n",
              "             verbose=3)</pre><b>In a Jupyter environment, please rerun this cell to show the HTML representation or trust the notebook. <br />On GitHub, the HTML representation is unable to render, please try loading this page with nbviewer.org.</b></div><div class=\"sk-container\" hidden><div class=\"sk-item sk-dashed-wrapped\"><div class=\"sk-label-container\"><div class=\"sk-label sk-toggleable\"><input class=\"sk-toggleable__control sk-hidden--visually\" id=\"sk-estimator-id-52\" type=\"checkbox\" ><label for=\"sk-estimator-id-52\" class=\"sk-toggleable__label sk-toggleable__label-arrow\">GridSearchCV</label><div class=\"sk-toggleable__content\"><pre>GridSearchCV(estimator=ComplementNB(force_alpha=True), n_jobs=-1,\n",
              "             param_grid={&#x27;alpha&#x27;: [0, 1e-12, 1e-10, 1e-08],\n",
              "                         &#x27;class_prior&#x27;: [[0.5, 0.5], None]},\n",
              "             verbose=3)</pre></div></div></div><div class=\"sk-parallel\"><div class=\"sk-parallel-item\"><div class=\"sk-item\"><div class=\"sk-label-container\"><div class=\"sk-label sk-toggleable\"><input class=\"sk-toggleable__control sk-hidden--visually\" id=\"sk-estimator-id-53\" type=\"checkbox\" ><label for=\"sk-estimator-id-53\" class=\"sk-toggleable__label sk-toggleable__label-arrow\">estimator: ComplementNB</label><div class=\"sk-toggleable__content\"><pre>ComplementNB(force_alpha=True)</pre></div></div></div><div class=\"sk-serial\"><div class=\"sk-item\"><div class=\"sk-estimator sk-toggleable\"><input class=\"sk-toggleable__control sk-hidden--visually\" id=\"sk-estimator-id-54\" type=\"checkbox\" ><label for=\"sk-estimator-id-54\" class=\"sk-toggleable__label sk-toggleable__label-arrow\">ComplementNB</label><div class=\"sk-toggleable__content\"><pre>ComplementNB(force_alpha=True)</pre></div></div></div></div></div></div></div></div></div></div>"
            ]
          },
          "metadata": {},
          "execution_count": 114
        }
      ]
    },
    {
      "cell_type": "code",
      "source": [
        "print(\"Complement Naive Bayes Model \\\"country\\\" with Trigram Proprocessing - Best Hyperparameters\\n\")\n",
        "print(cnb_tri_model.best_params_)\n",
        "print()"
      ],
      "metadata": {
        "colab": {
          "base_uri": "https://localhost:8080/"
        },
        "outputId": "d14aff78-e529-47d5-921d-74fa791d9591",
        "id": "fnnRqNT5nwG5"
      },
      "execution_count": 115,
      "outputs": [
        {
          "output_type": "stream",
          "name": "stdout",
          "text": [
            "Complement Naive Bayes Model \"country\" with Trigram Proprocessing - Best Hyperparameters\n",
            "\n",
            "{'alpha': 0, 'class_prior': [0.5, 0.5]}\n",
            "\n"
          ]
        }
      ]
    },
    {
      "cell_type": "code",
      "source": [
        "cnb_tri_model_predictions = cnb_tri_model.predict(X_test)\n",
        "cnb_tri_report = classification_report(y_test, cnb_tri_model_predictions)\n",
        "print(\"Complement Naive Bayes Model \\\"country\\\" with Trigram Proprocessing - Performance Report\\n\")\n",
        "print(cnb_tri_report)\n",
        "print()"
      ],
      "metadata": {
        "colab": {
          "base_uri": "https://localhost:8080/"
        },
        "outputId": "92d16370-3a55-4dd2-9206-81fbebcda7c2",
        "id": "RhTtkz4pnwG5"
      },
      "execution_count": 116,
      "outputs": [
        {
          "output_type": "stream",
          "name": "stdout",
          "text": [
            "Complement Naive Bayes Model \"country\" with Trigram Proprocessing - Performance Report\n",
            "\n",
            "              precision    recall  f1-score   support\n",
            "\n",
            "           1       1.00      1.00      1.00        18\n",
            "\n",
            "    accuracy                           1.00        18\n",
            "   macro avg       1.00      1.00      1.00        18\n",
            "weighted avg       1.00      1.00      1.00        18\n",
            "\n",
            "\n"
          ]
        },
        {
          "output_type": "stream",
          "name": "stderr",
          "text": [
            "/usr/local/lib/python3.10/dist-packages/sklearn/utils/extmath.py:189: RuntimeWarning: invalid value encountered in matmul\n",
            "  ret = a @ b\n"
          ]
        }
      ]
    },
    {
      "cell_type": "code",
      "source": [
        "print(cnb_tri_model_predictions)\n",
        "print(y_test)"
      ],
      "metadata": {
        "colab": {
          "base_uri": "https://localhost:8080/"
        },
        "id": "gT-ZXlerQr-A",
        "outputId": "854ee83a-04d4-4cb1-e6c6-3aec6ba0d640"
      },
      "execution_count": 117,
      "outputs": [
        {
          "output_type": "stream",
          "name": "stdout",
          "text": [
            "[1 1 1 1 1 1 1 1 1 1 1 1 1 1 1 1 1 1]\n",
            "[1, 1, 1, 1, 1, 1, 1, 1, 1, 1, 1, 1, 1, 1, 1, 1, 1, 1]\n"
          ]
        }
      ]
    },
    {
      "cell_type": "markdown",
      "source": [
        "### Word: game\n",
        "\n",
        "We pick two senses of game. They are:\n",
        "1.  S: (n) plot (plot%1:09:00::), secret plan (secret_plan%1:09:00::), game (game%1:09:00::) (a secret scheme to do something (especially something underhand or illegal)) \"they concocted a plot to discredit the governor\"; \"I saw through his little game from the start\"\n",
        "2.  S: (n) game (game%1:04:03::) (a single play of a sport or other contest) \"the game lasted two hours\"\n",
        "\n",
        "We assign 1 to the first sense and 2 to the second sense."
      ],
      "metadata": {
        "id": "mReAQ4OcoVJZ"
      }
    },
    {
      "cell_type": "code",
      "source": [
        "# parameters to change\n",
        "target_word = \"game\"\n",
        "sense_1_file = \"/content/game_secret.txt\"\n",
        "sense_2_file = \"/content/game_contest.txt\"\n",
        "general_file = \"/content/game.txt\"\n",
        "sense_1 = \"1:09:00::\"\n",
        "sense_2 = \"1:04:03::\""
      ],
      "metadata": {
        "id": "TJgO3iT4oYPh"
      },
      "execution_count": 118,
      "outputs": []
    },
    {
      "cell_type": "code",
      "source": [
        "# unigram\n",
        "X_train_semi, y_train_semi, X_train_labeled, y_train_labeled, X_test, y_test = output_train_test_sets(target_word, sense_1_file, sense_2_file, sense_1, sense_2, \"uni\")"
      ],
      "metadata": {
        "colab": {
          "base_uri": "https://localhost:8080/"
        },
        "outputId": "e6bd2551-e079-4a84-fca9-17b809a7a6bf",
        "id": "tXi2Sze5odt-"
      },
      "execution_count": 119,
      "outputs": [
        {
          "output_type": "stream",
          "name": "stdout",
          "text": [
            "Size of unlabeled training set:  100\n",
            "Size of labeled training set:  101\n",
            "Size of test set (labeled):  23\n"
          ]
        }
      ]
    },
    {
      "cell_type": "code",
      "source": [
        "param_grid = {'alpha': [0, 1e-12, 1e-10, 1e-08] ,\n",
        "              'class_prior': [[0.5, 0.5], None]}\n",
        "\n",
        "cnb_uni_model = GridSearchCV(ComplementNB(force_alpha=True), param_grid, refit=True, verbose=3, n_jobs=-1)\n",
        "cnb_uni_model.fit(X_train_labeled, y_train_labeled)"
      ],
      "metadata": {
        "colab": {
          "base_uri": "https://localhost:8080/",
          "height": 136
        },
        "outputId": "3fd22c34-6d4f-46e8-82ad-4fb73428ee5b",
        "id": "rnKA7RnDodt-"
      },
      "execution_count": 120,
      "outputs": [
        {
          "output_type": "stream",
          "name": "stdout",
          "text": [
            "Fitting 5 folds for each of 8 candidates, totalling 40 fits\n"
          ]
        },
        {
          "output_type": "execute_result",
          "data": {
            "text/plain": [
              "GridSearchCV(estimator=ComplementNB(force_alpha=True), n_jobs=-1,\n",
              "             param_grid={'alpha': [0, 1e-12, 1e-10, 1e-08],\n",
              "                         'class_prior': [[0.5, 0.5], None]},\n",
              "             verbose=3)"
            ],
            "text/html": [
              "<style>#sk-container-id-19 {color: black;background-color: white;}#sk-container-id-19 pre{padding: 0;}#sk-container-id-19 div.sk-toggleable {background-color: white;}#sk-container-id-19 label.sk-toggleable__label {cursor: pointer;display: block;width: 100%;margin-bottom: 0;padding: 0.3em;box-sizing: border-box;text-align: center;}#sk-container-id-19 label.sk-toggleable__label-arrow:before {content: \"▸\";float: left;margin-right: 0.25em;color: #696969;}#sk-container-id-19 label.sk-toggleable__label-arrow:hover:before {color: black;}#sk-container-id-19 div.sk-estimator:hover label.sk-toggleable__label-arrow:before {color: black;}#sk-container-id-19 div.sk-toggleable__content {max-height: 0;max-width: 0;overflow: hidden;text-align: left;background-color: #f0f8ff;}#sk-container-id-19 div.sk-toggleable__content pre {margin: 0.2em;color: black;border-radius: 0.25em;background-color: #f0f8ff;}#sk-container-id-19 input.sk-toggleable__control:checked~div.sk-toggleable__content {max-height: 200px;max-width: 100%;overflow: auto;}#sk-container-id-19 input.sk-toggleable__control:checked~label.sk-toggleable__label-arrow:before {content: \"▾\";}#sk-container-id-19 div.sk-estimator input.sk-toggleable__control:checked~label.sk-toggleable__label {background-color: #d4ebff;}#sk-container-id-19 div.sk-label input.sk-toggleable__control:checked~label.sk-toggleable__label {background-color: #d4ebff;}#sk-container-id-19 input.sk-hidden--visually {border: 0;clip: rect(1px 1px 1px 1px);clip: rect(1px, 1px, 1px, 1px);height: 1px;margin: -1px;overflow: hidden;padding: 0;position: absolute;width: 1px;}#sk-container-id-19 div.sk-estimator {font-family: monospace;background-color: #f0f8ff;border: 1px dotted black;border-radius: 0.25em;box-sizing: border-box;margin-bottom: 0.5em;}#sk-container-id-19 div.sk-estimator:hover {background-color: #d4ebff;}#sk-container-id-19 div.sk-parallel-item::after {content: \"\";width: 100%;border-bottom: 1px solid gray;flex-grow: 1;}#sk-container-id-19 div.sk-label:hover label.sk-toggleable__label {background-color: #d4ebff;}#sk-container-id-19 div.sk-serial::before {content: \"\";position: absolute;border-left: 1px solid gray;box-sizing: border-box;top: 0;bottom: 0;left: 50%;z-index: 0;}#sk-container-id-19 div.sk-serial {display: flex;flex-direction: column;align-items: center;background-color: white;padding-right: 0.2em;padding-left: 0.2em;position: relative;}#sk-container-id-19 div.sk-item {position: relative;z-index: 1;}#sk-container-id-19 div.sk-parallel {display: flex;align-items: stretch;justify-content: center;background-color: white;position: relative;}#sk-container-id-19 div.sk-item::before, #sk-container-id-19 div.sk-parallel-item::before {content: \"\";position: absolute;border-left: 1px solid gray;box-sizing: border-box;top: 0;bottom: 0;left: 50%;z-index: -1;}#sk-container-id-19 div.sk-parallel-item {display: flex;flex-direction: column;z-index: 1;position: relative;background-color: white;}#sk-container-id-19 div.sk-parallel-item:first-child::after {align-self: flex-end;width: 50%;}#sk-container-id-19 div.sk-parallel-item:last-child::after {align-self: flex-start;width: 50%;}#sk-container-id-19 div.sk-parallel-item:only-child::after {width: 0;}#sk-container-id-19 div.sk-dashed-wrapped {border: 1px dashed gray;margin: 0 0.4em 0.5em 0.4em;box-sizing: border-box;padding-bottom: 0.4em;background-color: white;}#sk-container-id-19 div.sk-label label {font-family: monospace;font-weight: bold;display: inline-block;line-height: 1.2em;}#sk-container-id-19 div.sk-label-container {text-align: center;}#sk-container-id-19 div.sk-container {/* jupyter's `normalize.less` sets `[hidden] { display: none; }` but bootstrap.min.css set `[hidden] { display: none !important; }` so we also need the `!important` here to be able to override the default hidden behavior on the sphinx rendered scikit-learn.org. See: https://github.com/scikit-learn/scikit-learn/issues/21755 */display: inline-block !important;position: relative;}#sk-container-id-19 div.sk-text-repr-fallback {display: none;}</style><div id=\"sk-container-id-19\" class=\"sk-top-container\"><div class=\"sk-text-repr-fallback\"><pre>GridSearchCV(estimator=ComplementNB(force_alpha=True), n_jobs=-1,\n",
              "             param_grid={&#x27;alpha&#x27;: [0, 1e-12, 1e-10, 1e-08],\n",
              "                         &#x27;class_prior&#x27;: [[0.5, 0.5], None]},\n",
              "             verbose=3)</pre><b>In a Jupyter environment, please rerun this cell to show the HTML representation or trust the notebook. <br />On GitHub, the HTML representation is unable to render, please try loading this page with nbviewer.org.</b></div><div class=\"sk-container\" hidden><div class=\"sk-item sk-dashed-wrapped\"><div class=\"sk-label-container\"><div class=\"sk-label sk-toggleable\"><input class=\"sk-toggleable__control sk-hidden--visually\" id=\"sk-estimator-id-55\" type=\"checkbox\" ><label for=\"sk-estimator-id-55\" class=\"sk-toggleable__label sk-toggleable__label-arrow\">GridSearchCV</label><div class=\"sk-toggleable__content\"><pre>GridSearchCV(estimator=ComplementNB(force_alpha=True), n_jobs=-1,\n",
              "             param_grid={&#x27;alpha&#x27;: [0, 1e-12, 1e-10, 1e-08],\n",
              "                         &#x27;class_prior&#x27;: [[0.5, 0.5], None]},\n",
              "             verbose=3)</pre></div></div></div><div class=\"sk-parallel\"><div class=\"sk-parallel-item\"><div class=\"sk-item\"><div class=\"sk-label-container\"><div class=\"sk-label sk-toggleable\"><input class=\"sk-toggleable__control sk-hidden--visually\" id=\"sk-estimator-id-56\" type=\"checkbox\" ><label for=\"sk-estimator-id-56\" class=\"sk-toggleable__label sk-toggleable__label-arrow\">estimator: ComplementNB</label><div class=\"sk-toggleable__content\"><pre>ComplementNB(force_alpha=True)</pre></div></div></div><div class=\"sk-serial\"><div class=\"sk-item\"><div class=\"sk-estimator sk-toggleable\"><input class=\"sk-toggleable__control sk-hidden--visually\" id=\"sk-estimator-id-57\" type=\"checkbox\" ><label for=\"sk-estimator-id-57\" class=\"sk-toggleable__label sk-toggleable__label-arrow\">ComplementNB</label><div class=\"sk-toggleable__content\"><pre>ComplementNB(force_alpha=True)</pre></div></div></div></div></div></div></div></div></div></div>"
            ]
          },
          "metadata": {},
          "execution_count": 120
        }
      ]
    },
    {
      "cell_type": "code",
      "source": [
        "print(f\"Complement Naive Bayes Model \\\"{target_word}\\\" with Unigram Proprocessing - Best Hyperparameters\\n\")\n",
        "print(cnb_uni_model.best_params_)\n",
        "print()"
      ],
      "metadata": {
        "colab": {
          "base_uri": "https://localhost:8080/"
        },
        "outputId": "0bd673e6-b755-43b9-bdbe-108945c04135",
        "id": "fExMZCM1odt-"
      },
      "execution_count": 121,
      "outputs": [
        {
          "output_type": "stream",
          "name": "stdout",
          "text": [
            "Complement Naive Bayes Model \"game\" with Unigram Proprocessing - Best Hyperparameters\n",
            "\n",
            "{'alpha': 1e-12, 'class_prior': [0.5, 0.5]}\n",
            "\n"
          ]
        }
      ]
    },
    {
      "cell_type": "code",
      "source": [
        "cnb_uni_model_predictions = cnb_uni_model.predict(X_test)\n",
        "cnb_uni_report = classification_report(y_test, cnb_uni_model_predictions)\n",
        "print(f\"Complement Naive Bayes Model \\\"{target_word}\\\" with Unigram Proprocessing - Performance Report\\n\")\n",
        "print(cnb_uni_report)\n",
        "print()"
      ],
      "metadata": {
        "colab": {
          "base_uri": "https://localhost:8080/"
        },
        "outputId": "0b5dd728-b1c7-4294-ee8c-c136e0fa6520",
        "id": "lWaCWo9Podt-"
      },
      "execution_count": 122,
      "outputs": [
        {
          "output_type": "stream",
          "name": "stdout",
          "text": [
            "Complement Naive Bayes Model \"game\" with Unigram Proprocessing - Performance Report\n",
            "\n",
            "              precision    recall  f1-score   support\n",
            "\n",
            "           1       0.00      0.00      0.00         0\n",
            "           2       1.00      0.91      0.95        23\n",
            "\n",
            "    accuracy                           0.91        23\n",
            "   macro avg       0.50      0.46      0.48        23\n",
            "weighted avg       1.00      0.91      0.95        23\n",
            "\n",
            "\n"
          ]
        },
        {
          "output_type": "stream",
          "name": "stderr",
          "text": [
            "/usr/local/lib/python3.10/dist-packages/sklearn/metrics/_classification.py:1344: UndefinedMetricWarning: Recall and F-score are ill-defined and being set to 0.0 in labels with no true samples. Use `zero_division` parameter to control this behavior.\n",
            "  _warn_prf(average, modifier, msg_start, len(result))\n",
            "/usr/local/lib/python3.10/dist-packages/sklearn/metrics/_classification.py:1344: UndefinedMetricWarning: Recall and F-score are ill-defined and being set to 0.0 in labels with no true samples. Use `zero_division` parameter to control this behavior.\n",
            "  _warn_prf(average, modifier, msg_start, len(result))\n",
            "/usr/local/lib/python3.10/dist-packages/sklearn/metrics/_classification.py:1344: UndefinedMetricWarning: Recall and F-score are ill-defined and being set to 0.0 in labels with no true samples. Use `zero_division` parameter to control this behavior.\n",
            "  _warn_prf(average, modifier, msg_start, len(result))\n"
          ]
        }
      ]
    },
    {
      "cell_type": "code",
      "source": [
        "print(cnb_uni_model_predictions)\n",
        "print(y_test)"
      ],
      "metadata": {
        "colab": {
          "base_uri": "https://localhost:8080/"
        },
        "id": "0pMPeKjjQZfb",
        "outputId": "00188a21-c284-405a-80f0-e155e5ffd960"
      },
      "execution_count": 123,
      "outputs": [
        {
          "output_type": "stream",
          "name": "stdout",
          "text": [
            "[1 2 2 2 2 2 2 2 2 2 2 2 2 2 2 2 2 1 2 2 2 2 2]\n",
            "[2, 2, 2, 2, 2, 2, 2, 2, 2, 2, 2, 2, 2, 2, 2, 2, 2, 2, 2, 2, 2, 2, 2]\n"
          ]
        }
      ]
    },
    {
      "cell_type": "code",
      "source": [
        "# bigram\n",
        "X_train_semi, y_train_semi, X_train_labeled, y_train_labeled, X_test, y_test = output_train_test_sets(target_word, sense_1_file, sense_2_file, sense_1, sense_2, \"bi\")"
      ],
      "metadata": {
        "colab": {
          "base_uri": "https://localhost:8080/"
        },
        "outputId": "53707008-f819-473e-fc48-c90128b91566",
        "id": "sT0Jlkbbodt-"
      },
      "execution_count": 124,
      "outputs": [
        {
          "output_type": "stream",
          "name": "stdout",
          "text": [
            "Size of unlabeled training set:  100\n",
            "Size of labeled training set:  101\n",
            "Size of test set (labeled):  23\n"
          ]
        }
      ]
    },
    {
      "cell_type": "code",
      "source": [
        "param_grid = {'alpha': [0, 1e-12, 1e-10, 1e-08] ,\n",
        "              'class_prior': [[0.5, 0.5], None]}\n",
        "\n",
        "cnb_bi_model = GridSearchCV(ComplementNB(force_alpha=True), param_grid, refit=True, verbose=3, n_jobs=-1)\n",
        "cnb_bi_model.fit(X_train_labeled, y_train_labeled)"
      ],
      "metadata": {
        "colab": {
          "base_uri": "https://localhost:8080/",
          "height": 136
        },
        "outputId": "5d68020f-caef-4033-c18c-f3025aae317b",
        "id": "9e2_PxEKodt_"
      },
      "execution_count": 125,
      "outputs": [
        {
          "output_type": "stream",
          "name": "stdout",
          "text": [
            "Fitting 5 folds for each of 8 candidates, totalling 40 fits\n"
          ]
        },
        {
          "output_type": "execute_result",
          "data": {
            "text/plain": [
              "GridSearchCV(estimator=ComplementNB(force_alpha=True), n_jobs=-1,\n",
              "             param_grid={'alpha': [0, 1e-12, 1e-10, 1e-08],\n",
              "                         'class_prior': [[0.5, 0.5], None]},\n",
              "             verbose=3)"
            ],
            "text/html": [
              "<style>#sk-container-id-20 {color: black;background-color: white;}#sk-container-id-20 pre{padding: 0;}#sk-container-id-20 div.sk-toggleable {background-color: white;}#sk-container-id-20 label.sk-toggleable__label {cursor: pointer;display: block;width: 100%;margin-bottom: 0;padding: 0.3em;box-sizing: border-box;text-align: center;}#sk-container-id-20 label.sk-toggleable__label-arrow:before {content: \"▸\";float: left;margin-right: 0.25em;color: #696969;}#sk-container-id-20 label.sk-toggleable__label-arrow:hover:before {color: black;}#sk-container-id-20 div.sk-estimator:hover label.sk-toggleable__label-arrow:before {color: black;}#sk-container-id-20 div.sk-toggleable__content {max-height: 0;max-width: 0;overflow: hidden;text-align: left;background-color: #f0f8ff;}#sk-container-id-20 div.sk-toggleable__content pre {margin: 0.2em;color: black;border-radius: 0.25em;background-color: #f0f8ff;}#sk-container-id-20 input.sk-toggleable__control:checked~div.sk-toggleable__content {max-height: 200px;max-width: 100%;overflow: auto;}#sk-container-id-20 input.sk-toggleable__control:checked~label.sk-toggleable__label-arrow:before {content: \"▾\";}#sk-container-id-20 div.sk-estimator input.sk-toggleable__control:checked~label.sk-toggleable__label {background-color: #d4ebff;}#sk-container-id-20 div.sk-label input.sk-toggleable__control:checked~label.sk-toggleable__label {background-color: #d4ebff;}#sk-container-id-20 input.sk-hidden--visually {border: 0;clip: rect(1px 1px 1px 1px);clip: rect(1px, 1px, 1px, 1px);height: 1px;margin: -1px;overflow: hidden;padding: 0;position: absolute;width: 1px;}#sk-container-id-20 div.sk-estimator {font-family: monospace;background-color: #f0f8ff;border: 1px dotted black;border-radius: 0.25em;box-sizing: border-box;margin-bottom: 0.5em;}#sk-container-id-20 div.sk-estimator:hover {background-color: #d4ebff;}#sk-container-id-20 div.sk-parallel-item::after {content: \"\";width: 100%;border-bottom: 1px solid gray;flex-grow: 1;}#sk-container-id-20 div.sk-label:hover label.sk-toggleable__label {background-color: #d4ebff;}#sk-container-id-20 div.sk-serial::before {content: \"\";position: absolute;border-left: 1px solid gray;box-sizing: border-box;top: 0;bottom: 0;left: 50%;z-index: 0;}#sk-container-id-20 div.sk-serial {display: flex;flex-direction: column;align-items: center;background-color: white;padding-right: 0.2em;padding-left: 0.2em;position: relative;}#sk-container-id-20 div.sk-item {position: relative;z-index: 1;}#sk-container-id-20 div.sk-parallel {display: flex;align-items: stretch;justify-content: center;background-color: white;position: relative;}#sk-container-id-20 div.sk-item::before, #sk-container-id-20 div.sk-parallel-item::before {content: \"\";position: absolute;border-left: 1px solid gray;box-sizing: border-box;top: 0;bottom: 0;left: 50%;z-index: -1;}#sk-container-id-20 div.sk-parallel-item {display: flex;flex-direction: column;z-index: 1;position: relative;background-color: white;}#sk-container-id-20 div.sk-parallel-item:first-child::after {align-self: flex-end;width: 50%;}#sk-container-id-20 div.sk-parallel-item:last-child::after {align-self: flex-start;width: 50%;}#sk-container-id-20 div.sk-parallel-item:only-child::after {width: 0;}#sk-container-id-20 div.sk-dashed-wrapped {border: 1px dashed gray;margin: 0 0.4em 0.5em 0.4em;box-sizing: border-box;padding-bottom: 0.4em;background-color: white;}#sk-container-id-20 div.sk-label label {font-family: monospace;font-weight: bold;display: inline-block;line-height: 1.2em;}#sk-container-id-20 div.sk-label-container {text-align: center;}#sk-container-id-20 div.sk-container {/* jupyter's `normalize.less` sets `[hidden] { display: none; }` but bootstrap.min.css set `[hidden] { display: none !important; }` so we also need the `!important` here to be able to override the default hidden behavior on the sphinx rendered scikit-learn.org. See: https://github.com/scikit-learn/scikit-learn/issues/21755 */display: inline-block !important;position: relative;}#sk-container-id-20 div.sk-text-repr-fallback {display: none;}</style><div id=\"sk-container-id-20\" class=\"sk-top-container\"><div class=\"sk-text-repr-fallback\"><pre>GridSearchCV(estimator=ComplementNB(force_alpha=True), n_jobs=-1,\n",
              "             param_grid={&#x27;alpha&#x27;: [0, 1e-12, 1e-10, 1e-08],\n",
              "                         &#x27;class_prior&#x27;: [[0.5, 0.5], None]},\n",
              "             verbose=3)</pre><b>In a Jupyter environment, please rerun this cell to show the HTML representation or trust the notebook. <br />On GitHub, the HTML representation is unable to render, please try loading this page with nbviewer.org.</b></div><div class=\"sk-container\" hidden><div class=\"sk-item sk-dashed-wrapped\"><div class=\"sk-label-container\"><div class=\"sk-label sk-toggleable\"><input class=\"sk-toggleable__control sk-hidden--visually\" id=\"sk-estimator-id-58\" type=\"checkbox\" ><label for=\"sk-estimator-id-58\" class=\"sk-toggleable__label sk-toggleable__label-arrow\">GridSearchCV</label><div class=\"sk-toggleable__content\"><pre>GridSearchCV(estimator=ComplementNB(force_alpha=True), n_jobs=-1,\n",
              "             param_grid={&#x27;alpha&#x27;: [0, 1e-12, 1e-10, 1e-08],\n",
              "                         &#x27;class_prior&#x27;: [[0.5, 0.5], None]},\n",
              "             verbose=3)</pre></div></div></div><div class=\"sk-parallel\"><div class=\"sk-parallel-item\"><div class=\"sk-item\"><div class=\"sk-label-container\"><div class=\"sk-label sk-toggleable\"><input class=\"sk-toggleable__control sk-hidden--visually\" id=\"sk-estimator-id-59\" type=\"checkbox\" ><label for=\"sk-estimator-id-59\" class=\"sk-toggleable__label sk-toggleable__label-arrow\">estimator: ComplementNB</label><div class=\"sk-toggleable__content\"><pre>ComplementNB(force_alpha=True)</pre></div></div></div><div class=\"sk-serial\"><div class=\"sk-item\"><div class=\"sk-estimator sk-toggleable\"><input class=\"sk-toggleable__control sk-hidden--visually\" id=\"sk-estimator-id-60\" type=\"checkbox\" ><label for=\"sk-estimator-id-60\" class=\"sk-toggleable__label sk-toggleable__label-arrow\">ComplementNB</label><div class=\"sk-toggleable__content\"><pre>ComplementNB(force_alpha=True)</pre></div></div></div></div></div></div></div></div></div></div>"
            ]
          },
          "metadata": {},
          "execution_count": 125
        }
      ]
    },
    {
      "cell_type": "code",
      "source": [
        "print(f\"Complement Naive Bayes Model \\\"{target_word}\\\" with Bigram Proprocessing - Best Hyperparameters\\n\")\n",
        "print(cnb_bi_model.best_params_)\n",
        "print()"
      ],
      "metadata": {
        "colab": {
          "base_uri": "https://localhost:8080/"
        },
        "outputId": "8f4d5573-e319-4a91-a060-46f4175ed99c",
        "id": "LoPVI6rLodt_"
      },
      "execution_count": 126,
      "outputs": [
        {
          "output_type": "stream",
          "name": "stdout",
          "text": [
            "Complement Naive Bayes Model \"game\" with Bigram Proprocessing - Best Hyperparameters\n",
            "\n",
            "{'alpha': 1e-12, 'class_prior': [0.5, 0.5]}\n",
            "\n"
          ]
        }
      ]
    },
    {
      "cell_type": "code",
      "source": [
        "cnb_bi_model_predictions = cnb_bi_model.predict(X_test)\n",
        "cnb_bi_report = classification_report(y_test, cnb_bi_model_predictions)\n",
        "print(f\"Complement Naive Bayes Model \\\"{target_word}\\\" with Bigram Proprocessing - Performance Report\\n\")\n",
        "print(cnb_bi_report)\n",
        "print()"
      ],
      "metadata": {
        "colab": {
          "base_uri": "https://localhost:8080/"
        },
        "outputId": "33f16516-1aa7-4f66-d1e5-d5d3e578d03d",
        "id": "SKvW2jMRodt_"
      },
      "execution_count": 127,
      "outputs": [
        {
          "output_type": "stream",
          "name": "stdout",
          "text": [
            "Complement Naive Bayes Model \"game\" with Bigram Proprocessing - Performance Report\n",
            "\n",
            "              precision    recall  f1-score   support\n",
            "\n",
            "           1       0.00      0.00      0.00         0\n",
            "           2       1.00      0.26      0.41        23\n",
            "\n",
            "    accuracy                           0.26        23\n",
            "   macro avg       0.50      0.13      0.21        23\n",
            "weighted avg       1.00      0.26      0.41        23\n",
            "\n",
            "\n"
          ]
        },
        {
          "output_type": "stream",
          "name": "stderr",
          "text": [
            "/usr/local/lib/python3.10/dist-packages/sklearn/metrics/_classification.py:1344: UndefinedMetricWarning: Recall and F-score are ill-defined and being set to 0.0 in labels with no true samples. Use `zero_division` parameter to control this behavior.\n",
            "  _warn_prf(average, modifier, msg_start, len(result))\n",
            "/usr/local/lib/python3.10/dist-packages/sklearn/metrics/_classification.py:1344: UndefinedMetricWarning: Recall and F-score are ill-defined and being set to 0.0 in labels with no true samples. Use `zero_division` parameter to control this behavior.\n",
            "  _warn_prf(average, modifier, msg_start, len(result))\n",
            "/usr/local/lib/python3.10/dist-packages/sklearn/metrics/_classification.py:1344: UndefinedMetricWarning: Recall and F-score are ill-defined and being set to 0.0 in labels with no true samples. Use `zero_division` parameter to control this behavior.\n",
            "  _warn_prf(average, modifier, msg_start, len(result))\n"
          ]
        }
      ]
    },
    {
      "cell_type": "code",
      "source": [
        "print(cnb_bi_model_predictions)\n",
        "print(y_test)"
      ],
      "metadata": {
        "colab": {
          "base_uri": "https://localhost:8080/"
        },
        "id": "5t14eDvEQnCn",
        "outputId": "56ce0e08-dead-435f-e6ad-dbabb19ff8c3"
      },
      "execution_count": 128,
      "outputs": [
        {
          "output_type": "stream",
          "name": "stdout",
          "text": [
            "[1 1 1 1 2 1 2 1 1 1 1 1 1 1 1 2 2 1 1 1 2 2 1]\n",
            "[2, 2, 2, 2, 2, 2, 2, 2, 2, 2, 2, 2, 2, 2, 2, 2, 2, 2, 2, 2, 2, 2, 2]\n"
          ]
        }
      ]
    },
    {
      "cell_type": "code",
      "source": [
        "# trigram\n",
        "X_train_semi, y_train_semi, X_train_labeled, y_train_labeled, X_test, y_test = output_train_test_sets(target_word, sense_1_file, sense_2_file, sense_1, sense_2, \"tri\")"
      ],
      "metadata": {
        "colab": {
          "base_uri": "https://localhost:8080/"
        },
        "outputId": "b3841399-4dc4-403f-cca8-8da3b73120fe",
        "id": "YQjYBJFpodt_"
      },
      "execution_count": 129,
      "outputs": [
        {
          "output_type": "stream",
          "name": "stdout",
          "text": [
            "Size of unlabeled training set:  100\n",
            "Size of labeled training set:  101\n",
            "Size of test set (labeled):  23\n"
          ]
        }
      ]
    },
    {
      "cell_type": "code",
      "source": [
        "param_grid = {'alpha': [0, 1e-12, 1e-10, 1e-08] ,\n",
        "              'class_prior': [[0.5, 0.5], None]}\n",
        "\n",
        "cnb_tri_model = GridSearchCV(ComplementNB(force_alpha=True), param_grid, refit=True, verbose=3, n_jobs=-1)\n",
        "cnb_tri_model.fit(X_train_labeled, y_train_labeled)"
      ],
      "metadata": {
        "colab": {
          "base_uri": "https://localhost:8080/",
          "height": 136
        },
        "outputId": "591a4d8e-b10e-4fb0-e865-ec032ebe1961",
        "id": "Xp8l4oK_odt_"
      },
      "execution_count": 130,
      "outputs": [
        {
          "output_type": "stream",
          "name": "stdout",
          "text": [
            "Fitting 5 folds for each of 8 candidates, totalling 40 fits\n"
          ]
        },
        {
          "output_type": "execute_result",
          "data": {
            "text/plain": [
              "GridSearchCV(estimator=ComplementNB(force_alpha=True), n_jobs=-1,\n",
              "             param_grid={'alpha': [0, 1e-12, 1e-10, 1e-08],\n",
              "                         'class_prior': [[0.5, 0.5], None]},\n",
              "             verbose=3)"
            ],
            "text/html": [
              "<style>#sk-container-id-21 {color: black;background-color: white;}#sk-container-id-21 pre{padding: 0;}#sk-container-id-21 div.sk-toggleable {background-color: white;}#sk-container-id-21 label.sk-toggleable__label {cursor: pointer;display: block;width: 100%;margin-bottom: 0;padding: 0.3em;box-sizing: border-box;text-align: center;}#sk-container-id-21 label.sk-toggleable__label-arrow:before {content: \"▸\";float: left;margin-right: 0.25em;color: #696969;}#sk-container-id-21 label.sk-toggleable__label-arrow:hover:before {color: black;}#sk-container-id-21 div.sk-estimator:hover label.sk-toggleable__label-arrow:before {color: black;}#sk-container-id-21 div.sk-toggleable__content {max-height: 0;max-width: 0;overflow: hidden;text-align: left;background-color: #f0f8ff;}#sk-container-id-21 div.sk-toggleable__content pre {margin: 0.2em;color: black;border-radius: 0.25em;background-color: #f0f8ff;}#sk-container-id-21 input.sk-toggleable__control:checked~div.sk-toggleable__content {max-height: 200px;max-width: 100%;overflow: auto;}#sk-container-id-21 input.sk-toggleable__control:checked~label.sk-toggleable__label-arrow:before {content: \"▾\";}#sk-container-id-21 div.sk-estimator input.sk-toggleable__control:checked~label.sk-toggleable__label {background-color: #d4ebff;}#sk-container-id-21 div.sk-label input.sk-toggleable__control:checked~label.sk-toggleable__label {background-color: #d4ebff;}#sk-container-id-21 input.sk-hidden--visually {border: 0;clip: rect(1px 1px 1px 1px);clip: rect(1px, 1px, 1px, 1px);height: 1px;margin: -1px;overflow: hidden;padding: 0;position: absolute;width: 1px;}#sk-container-id-21 div.sk-estimator {font-family: monospace;background-color: #f0f8ff;border: 1px dotted black;border-radius: 0.25em;box-sizing: border-box;margin-bottom: 0.5em;}#sk-container-id-21 div.sk-estimator:hover {background-color: #d4ebff;}#sk-container-id-21 div.sk-parallel-item::after {content: \"\";width: 100%;border-bottom: 1px solid gray;flex-grow: 1;}#sk-container-id-21 div.sk-label:hover label.sk-toggleable__label {background-color: #d4ebff;}#sk-container-id-21 div.sk-serial::before {content: \"\";position: absolute;border-left: 1px solid gray;box-sizing: border-box;top: 0;bottom: 0;left: 50%;z-index: 0;}#sk-container-id-21 div.sk-serial {display: flex;flex-direction: column;align-items: center;background-color: white;padding-right: 0.2em;padding-left: 0.2em;position: relative;}#sk-container-id-21 div.sk-item {position: relative;z-index: 1;}#sk-container-id-21 div.sk-parallel {display: flex;align-items: stretch;justify-content: center;background-color: white;position: relative;}#sk-container-id-21 div.sk-item::before, #sk-container-id-21 div.sk-parallel-item::before {content: \"\";position: absolute;border-left: 1px solid gray;box-sizing: border-box;top: 0;bottom: 0;left: 50%;z-index: -1;}#sk-container-id-21 div.sk-parallel-item {display: flex;flex-direction: column;z-index: 1;position: relative;background-color: white;}#sk-container-id-21 div.sk-parallel-item:first-child::after {align-self: flex-end;width: 50%;}#sk-container-id-21 div.sk-parallel-item:last-child::after {align-self: flex-start;width: 50%;}#sk-container-id-21 div.sk-parallel-item:only-child::after {width: 0;}#sk-container-id-21 div.sk-dashed-wrapped {border: 1px dashed gray;margin: 0 0.4em 0.5em 0.4em;box-sizing: border-box;padding-bottom: 0.4em;background-color: white;}#sk-container-id-21 div.sk-label label {font-family: monospace;font-weight: bold;display: inline-block;line-height: 1.2em;}#sk-container-id-21 div.sk-label-container {text-align: center;}#sk-container-id-21 div.sk-container {/* jupyter's `normalize.less` sets `[hidden] { display: none; }` but bootstrap.min.css set `[hidden] { display: none !important; }` so we also need the `!important` here to be able to override the default hidden behavior on the sphinx rendered scikit-learn.org. See: https://github.com/scikit-learn/scikit-learn/issues/21755 */display: inline-block !important;position: relative;}#sk-container-id-21 div.sk-text-repr-fallback {display: none;}</style><div id=\"sk-container-id-21\" class=\"sk-top-container\"><div class=\"sk-text-repr-fallback\"><pre>GridSearchCV(estimator=ComplementNB(force_alpha=True), n_jobs=-1,\n",
              "             param_grid={&#x27;alpha&#x27;: [0, 1e-12, 1e-10, 1e-08],\n",
              "                         &#x27;class_prior&#x27;: [[0.5, 0.5], None]},\n",
              "             verbose=3)</pre><b>In a Jupyter environment, please rerun this cell to show the HTML representation or trust the notebook. <br />On GitHub, the HTML representation is unable to render, please try loading this page with nbviewer.org.</b></div><div class=\"sk-container\" hidden><div class=\"sk-item sk-dashed-wrapped\"><div class=\"sk-label-container\"><div class=\"sk-label sk-toggleable\"><input class=\"sk-toggleable__control sk-hidden--visually\" id=\"sk-estimator-id-61\" type=\"checkbox\" ><label for=\"sk-estimator-id-61\" class=\"sk-toggleable__label sk-toggleable__label-arrow\">GridSearchCV</label><div class=\"sk-toggleable__content\"><pre>GridSearchCV(estimator=ComplementNB(force_alpha=True), n_jobs=-1,\n",
              "             param_grid={&#x27;alpha&#x27;: [0, 1e-12, 1e-10, 1e-08],\n",
              "                         &#x27;class_prior&#x27;: [[0.5, 0.5], None]},\n",
              "             verbose=3)</pre></div></div></div><div class=\"sk-parallel\"><div class=\"sk-parallel-item\"><div class=\"sk-item\"><div class=\"sk-label-container\"><div class=\"sk-label sk-toggleable\"><input class=\"sk-toggleable__control sk-hidden--visually\" id=\"sk-estimator-id-62\" type=\"checkbox\" ><label for=\"sk-estimator-id-62\" class=\"sk-toggleable__label sk-toggleable__label-arrow\">estimator: ComplementNB</label><div class=\"sk-toggleable__content\"><pre>ComplementNB(force_alpha=True)</pre></div></div></div><div class=\"sk-serial\"><div class=\"sk-item\"><div class=\"sk-estimator sk-toggleable\"><input class=\"sk-toggleable__control sk-hidden--visually\" id=\"sk-estimator-id-63\" type=\"checkbox\" ><label for=\"sk-estimator-id-63\" class=\"sk-toggleable__label sk-toggleable__label-arrow\">ComplementNB</label><div class=\"sk-toggleable__content\"><pre>ComplementNB(force_alpha=True)</pre></div></div></div></div></div></div></div></div></div></div>"
            ]
          },
          "metadata": {},
          "execution_count": 130
        }
      ]
    },
    {
      "cell_type": "code",
      "source": [
        "print(f\"Complement Naive Bayes Model \\\"{target_word}\\\" with Trigram Proprocessing - Best Hyperparameters\\n\")\n",
        "print(cnb_tri_model.best_params_)\n",
        "print()"
      ],
      "metadata": {
        "colab": {
          "base_uri": "https://localhost:8080/"
        },
        "outputId": "05d04ee7-6af4-4797-f616-2765b4524dfa",
        "id": "fwI5FDqxodt_"
      },
      "execution_count": 131,
      "outputs": [
        {
          "output_type": "stream",
          "name": "stdout",
          "text": [
            "Complement Naive Bayes Model \"game\" with Trigram Proprocessing - Best Hyperparameters\n",
            "\n",
            "{'alpha': 1e-12, 'class_prior': [0.5, 0.5]}\n",
            "\n"
          ]
        }
      ]
    },
    {
      "cell_type": "code",
      "source": [
        "cnb_tri_model_predictions = cnb_tri_model.predict(X_test)\n",
        "cnb_tri_report = classification_report(y_test, cnb_tri_model_predictions)\n",
        "print(f\"Complement Naive Bayes Model \\\"{target_word}\\\" with Trigram Proprocessing - Performance Report\\n\")\n",
        "print(cnb_tri_report)\n",
        "print()"
      ],
      "metadata": {
        "colab": {
          "base_uri": "https://localhost:8080/"
        },
        "outputId": "f2052f41-9dbd-40c0-f83a-157940ad060f",
        "id": "wGfazmHnodt_"
      },
      "execution_count": 132,
      "outputs": [
        {
          "output_type": "stream",
          "name": "stdout",
          "text": [
            "Complement Naive Bayes Model \"game\" with Trigram Proprocessing - Performance Report\n",
            "\n",
            "              precision    recall  f1-score   support\n",
            "\n",
            "           1       0.00      0.00      0.00       0.0\n",
            "           2       0.00      0.00      0.00      23.0\n",
            "\n",
            "    accuracy                           0.00      23.0\n",
            "   macro avg       0.00      0.00      0.00      23.0\n",
            "weighted avg       0.00      0.00      0.00      23.0\n",
            "\n",
            "\n"
          ]
        },
        {
          "output_type": "stream",
          "name": "stderr",
          "text": [
            "/usr/local/lib/python3.10/dist-packages/sklearn/metrics/_classification.py:1344: UndefinedMetricWarning: Precision and F-score are ill-defined and being set to 0.0 in labels with no predicted samples. Use `zero_division` parameter to control this behavior.\n",
            "  _warn_prf(average, modifier, msg_start, len(result))\n",
            "/usr/local/lib/python3.10/dist-packages/sklearn/metrics/_classification.py:1344: UndefinedMetricWarning: Recall and F-score are ill-defined and being set to 0.0 in labels with no true samples. Use `zero_division` parameter to control this behavior.\n",
            "  _warn_prf(average, modifier, msg_start, len(result))\n",
            "/usr/local/lib/python3.10/dist-packages/sklearn/metrics/_classification.py:1344: UndefinedMetricWarning: Precision and F-score are ill-defined and being set to 0.0 in labels with no predicted samples. Use `zero_division` parameter to control this behavior.\n",
            "  _warn_prf(average, modifier, msg_start, len(result))\n",
            "/usr/local/lib/python3.10/dist-packages/sklearn/metrics/_classification.py:1344: UndefinedMetricWarning: Recall and F-score are ill-defined and being set to 0.0 in labels with no true samples. Use `zero_division` parameter to control this behavior.\n",
            "  _warn_prf(average, modifier, msg_start, len(result))\n",
            "/usr/local/lib/python3.10/dist-packages/sklearn/metrics/_classification.py:1344: UndefinedMetricWarning: Precision and F-score are ill-defined and being set to 0.0 in labels with no predicted samples. Use `zero_division` parameter to control this behavior.\n",
            "  _warn_prf(average, modifier, msg_start, len(result))\n",
            "/usr/local/lib/python3.10/dist-packages/sklearn/metrics/_classification.py:1344: UndefinedMetricWarning: Recall and F-score are ill-defined and being set to 0.0 in labels with no true samples. Use `zero_division` parameter to control this behavior.\n",
            "  _warn_prf(average, modifier, msg_start, len(result))\n"
          ]
        }
      ]
    },
    {
      "cell_type": "code",
      "source": [
        "print(cnb_tri_model_predictions)\n",
        "print(y_test)"
      ],
      "metadata": {
        "colab": {
          "base_uri": "https://localhost:8080/"
        },
        "id": "KapxUfgEQuEN",
        "outputId": "acd3e279-c3f6-433a-d248-f9ebbffc9a07"
      },
      "execution_count": 133,
      "outputs": [
        {
          "output_type": "stream",
          "name": "stdout",
          "text": [
            "[1 1 1 1 1 1 1 1 1 1 1 1 1 1 1 1 1 1 1 1 1 1 1]\n",
            "[2, 2, 2, 2, 2, 2, 2, 2, 2, 2, 2, 2, 2, 2, 2, 2, 2, 2, 2, 2, 2, 2, 2]\n"
          ]
        }
      ]
    },
    {
      "cell_type": "markdown",
      "source": [
        "### Word: action\n",
        "\n",
        "We pick two senses of action. They are:\n",
        "1.  S: (n) action (action%1:04:02::) (something done (usually as opposed to something said)) \"there were stories of murders and other unnatural actions\"\n",
        "2.  S: (n) action (action%1:04:04::) (an act by a government body or supranational organization) \"recent federal action undermined the segregationist position\"; \"the United Nations must have the power to propose and organize action without being hobbled by irrelevant issues\"; \"the Union action of emancipating Southern slaves\"\n",
        "\n",
        "We assign 1 to the first sense and 2 to the second sense."
      ],
      "metadata": {
        "id": "KwqNMjKZpcSi"
      }
    },
    {
      "cell_type": "code",
      "source": [
        "# parameters to change\n",
        "target_word = \"action\"\n",
        "sense_1_file = \"/content/action_done.txt\"\n",
        "sense_2_file = \"/content/action_gov.txt\"\n",
        "general_file = \"/content/action.txt\"\n",
        "sense_1 = \"1:04:02::\"\n",
        "sense_2 = \"1:04:04::\""
      ],
      "metadata": {
        "id": "XXJhMln0pcSi"
      },
      "execution_count": 134,
      "outputs": []
    },
    {
      "cell_type": "code",
      "source": [
        "# unigram\n",
        "X_train_semi, y_train_semi, X_train_labeled, y_train_labeled, X_test, y_test = output_train_test_sets(target_word, sense_1_file, sense_2_file, sense_1, sense_2, \"uni\")"
      ],
      "metadata": {
        "colab": {
          "base_uri": "https://localhost:8080/"
        },
        "outputId": "2af4ed23-c630-4bd2-d707-b501d54812a7",
        "id": "b0uPmdqyphN1"
      },
      "execution_count": 135,
      "outputs": [
        {
          "output_type": "stream",
          "name": "stdout",
          "text": [
            "Size of unlabeled training set:  100\n",
            "Size of labeled training set:  104\n",
            "Size of test set (labeled):  11\n"
          ]
        }
      ]
    },
    {
      "cell_type": "code",
      "source": [
        "param_grid = {'alpha': [0, 1e-12, 1e-10, 1e-08] ,\n",
        "              'class_prior': [[0.5, 0.5], None]}\n",
        "\n",
        "cnb_uni_model = GridSearchCV(ComplementNB(force_alpha=True), param_grid, refit=True, verbose=3, n_jobs=-1)\n",
        "cnb_uni_model.fit(X_train_labeled, y_train_labeled)"
      ],
      "metadata": {
        "colab": {
          "base_uri": "https://localhost:8080/",
          "height": 136
        },
        "outputId": "a157c33a-aa9b-47dd-ce46-32ed15b69192",
        "id": "CcGSgAoaphN1"
      },
      "execution_count": 136,
      "outputs": [
        {
          "output_type": "stream",
          "name": "stdout",
          "text": [
            "Fitting 5 folds for each of 8 candidates, totalling 40 fits\n"
          ]
        },
        {
          "output_type": "execute_result",
          "data": {
            "text/plain": [
              "GridSearchCV(estimator=ComplementNB(force_alpha=True), n_jobs=-1,\n",
              "             param_grid={'alpha': [0, 1e-12, 1e-10, 1e-08],\n",
              "                         'class_prior': [[0.5, 0.5], None]},\n",
              "             verbose=3)"
            ],
            "text/html": [
              "<style>#sk-container-id-22 {color: black;background-color: white;}#sk-container-id-22 pre{padding: 0;}#sk-container-id-22 div.sk-toggleable {background-color: white;}#sk-container-id-22 label.sk-toggleable__label {cursor: pointer;display: block;width: 100%;margin-bottom: 0;padding: 0.3em;box-sizing: border-box;text-align: center;}#sk-container-id-22 label.sk-toggleable__label-arrow:before {content: \"▸\";float: left;margin-right: 0.25em;color: #696969;}#sk-container-id-22 label.sk-toggleable__label-arrow:hover:before {color: black;}#sk-container-id-22 div.sk-estimator:hover label.sk-toggleable__label-arrow:before {color: black;}#sk-container-id-22 div.sk-toggleable__content {max-height: 0;max-width: 0;overflow: hidden;text-align: left;background-color: #f0f8ff;}#sk-container-id-22 div.sk-toggleable__content pre {margin: 0.2em;color: black;border-radius: 0.25em;background-color: #f0f8ff;}#sk-container-id-22 input.sk-toggleable__control:checked~div.sk-toggleable__content {max-height: 200px;max-width: 100%;overflow: auto;}#sk-container-id-22 input.sk-toggleable__control:checked~label.sk-toggleable__label-arrow:before {content: \"▾\";}#sk-container-id-22 div.sk-estimator input.sk-toggleable__control:checked~label.sk-toggleable__label {background-color: #d4ebff;}#sk-container-id-22 div.sk-label input.sk-toggleable__control:checked~label.sk-toggleable__label {background-color: #d4ebff;}#sk-container-id-22 input.sk-hidden--visually {border: 0;clip: rect(1px 1px 1px 1px);clip: rect(1px, 1px, 1px, 1px);height: 1px;margin: -1px;overflow: hidden;padding: 0;position: absolute;width: 1px;}#sk-container-id-22 div.sk-estimator {font-family: monospace;background-color: #f0f8ff;border: 1px dotted black;border-radius: 0.25em;box-sizing: border-box;margin-bottom: 0.5em;}#sk-container-id-22 div.sk-estimator:hover {background-color: #d4ebff;}#sk-container-id-22 div.sk-parallel-item::after {content: \"\";width: 100%;border-bottom: 1px solid gray;flex-grow: 1;}#sk-container-id-22 div.sk-label:hover label.sk-toggleable__label {background-color: #d4ebff;}#sk-container-id-22 div.sk-serial::before {content: \"\";position: absolute;border-left: 1px solid gray;box-sizing: border-box;top: 0;bottom: 0;left: 50%;z-index: 0;}#sk-container-id-22 div.sk-serial {display: flex;flex-direction: column;align-items: center;background-color: white;padding-right: 0.2em;padding-left: 0.2em;position: relative;}#sk-container-id-22 div.sk-item {position: relative;z-index: 1;}#sk-container-id-22 div.sk-parallel {display: flex;align-items: stretch;justify-content: center;background-color: white;position: relative;}#sk-container-id-22 div.sk-item::before, #sk-container-id-22 div.sk-parallel-item::before {content: \"\";position: absolute;border-left: 1px solid gray;box-sizing: border-box;top: 0;bottom: 0;left: 50%;z-index: -1;}#sk-container-id-22 div.sk-parallel-item {display: flex;flex-direction: column;z-index: 1;position: relative;background-color: white;}#sk-container-id-22 div.sk-parallel-item:first-child::after {align-self: flex-end;width: 50%;}#sk-container-id-22 div.sk-parallel-item:last-child::after {align-self: flex-start;width: 50%;}#sk-container-id-22 div.sk-parallel-item:only-child::after {width: 0;}#sk-container-id-22 div.sk-dashed-wrapped {border: 1px dashed gray;margin: 0 0.4em 0.5em 0.4em;box-sizing: border-box;padding-bottom: 0.4em;background-color: white;}#sk-container-id-22 div.sk-label label {font-family: monospace;font-weight: bold;display: inline-block;line-height: 1.2em;}#sk-container-id-22 div.sk-label-container {text-align: center;}#sk-container-id-22 div.sk-container {/* jupyter's `normalize.less` sets `[hidden] { display: none; }` but bootstrap.min.css set `[hidden] { display: none !important; }` so we also need the `!important` here to be able to override the default hidden behavior on the sphinx rendered scikit-learn.org. See: https://github.com/scikit-learn/scikit-learn/issues/21755 */display: inline-block !important;position: relative;}#sk-container-id-22 div.sk-text-repr-fallback {display: none;}</style><div id=\"sk-container-id-22\" class=\"sk-top-container\"><div class=\"sk-text-repr-fallback\"><pre>GridSearchCV(estimator=ComplementNB(force_alpha=True), n_jobs=-1,\n",
              "             param_grid={&#x27;alpha&#x27;: [0, 1e-12, 1e-10, 1e-08],\n",
              "                         &#x27;class_prior&#x27;: [[0.5, 0.5], None]},\n",
              "             verbose=3)</pre><b>In a Jupyter environment, please rerun this cell to show the HTML representation or trust the notebook. <br />On GitHub, the HTML representation is unable to render, please try loading this page with nbviewer.org.</b></div><div class=\"sk-container\" hidden><div class=\"sk-item sk-dashed-wrapped\"><div class=\"sk-label-container\"><div class=\"sk-label sk-toggleable\"><input class=\"sk-toggleable__control sk-hidden--visually\" id=\"sk-estimator-id-64\" type=\"checkbox\" ><label for=\"sk-estimator-id-64\" class=\"sk-toggleable__label sk-toggleable__label-arrow\">GridSearchCV</label><div class=\"sk-toggleable__content\"><pre>GridSearchCV(estimator=ComplementNB(force_alpha=True), n_jobs=-1,\n",
              "             param_grid={&#x27;alpha&#x27;: [0, 1e-12, 1e-10, 1e-08],\n",
              "                         &#x27;class_prior&#x27;: [[0.5, 0.5], None]},\n",
              "             verbose=3)</pre></div></div></div><div class=\"sk-parallel\"><div class=\"sk-parallel-item\"><div class=\"sk-item\"><div class=\"sk-label-container\"><div class=\"sk-label sk-toggleable\"><input class=\"sk-toggleable__control sk-hidden--visually\" id=\"sk-estimator-id-65\" type=\"checkbox\" ><label for=\"sk-estimator-id-65\" class=\"sk-toggleable__label sk-toggleable__label-arrow\">estimator: ComplementNB</label><div class=\"sk-toggleable__content\"><pre>ComplementNB(force_alpha=True)</pre></div></div></div><div class=\"sk-serial\"><div class=\"sk-item\"><div class=\"sk-estimator sk-toggleable\"><input class=\"sk-toggleable__control sk-hidden--visually\" id=\"sk-estimator-id-66\" type=\"checkbox\" ><label for=\"sk-estimator-id-66\" class=\"sk-toggleable__label sk-toggleable__label-arrow\">ComplementNB</label><div class=\"sk-toggleable__content\"><pre>ComplementNB(force_alpha=True)</pre></div></div></div></div></div></div></div></div></div></div>"
            ]
          },
          "metadata": {},
          "execution_count": 136
        }
      ]
    },
    {
      "cell_type": "code",
      "source": [
        "print(f\"Complement Naive Bayes Model \\\"{target_word}\\\" with Unigram Proprocessing - Best Hyperparameters\\n\")\n",
        "print(cnb_uni_model.best_params_)\n",
        "print()"
      ],
      "metadata": {
        "colab": {
          "base_uri": "https://localhost:8080/"
        },
        "outputId": "1b895df0-1dd8-4be4-91bc-68d18a22324d",
        "id": "dWAMV8TdphN1"
      },
      "execution_count": 137,
      "outputs": [
        {
          "output_type": "stream",
          "name": "stdout",
          "text": [
            "Complement Naive Bayes Model \"action\" with Unigram Proprocessing - Best Hyperparameters\n",
            "\n",
            "{'alpha': 1e-12, 'class_prior': [0.5, 0.5]}\n",
            "\n"
          ]
        }
      ]
    },
    {
      "cell_type": "code",
      "source": [
        "cnb_uni_model_predictions = cnb_uni_model.predict(X_test)\n",
        "cnb_uni_report = classification_report(y_test, cnb_uni_model_predictions)\n",
        "print(f\"Complement Naive Bayes Model \\\"{target_word}\\\" with Unigram Proprocessing - Performance Report\\n\")\n",
        "print(cnb_uni_report)\n",
        "print()"
      ],
      "metadata": {
        "colab": {
          "base_uri": "https://localhost:8080/"
        },
        "outputId": "c618f0a1-8093-43f2-b72e-a112ffbe46d9",
        "id": "DC5p_Bs3phN1"
      },
      "execution_count": 138,
      "outputs": [
        {
          "output_type": "stream",
          "name": "stdout",
          "text": [
            "Complement Naive Bayes Model \"action\" with Unigram Proprocessing - Performance Report\n",
            "\n",
            "              precision    recall  f1-score   support\n",
            "\n",
            "           1       1.00      0.55      0.71        11\n",
            "           2       0.00      0.00      0.00         0\n",
            "\n",
            "    accuracy                           0.55        11\n",
            "   macro avg       0.50      0.27      0.35        11\n",
            "weighted avg       1.00      0.55      0.71        11\n",
            "\n",
            "\n"
          ]
        },
        {
          "output_type": "stream",
          "name": "stderr",
          "text": [
            "/usr/local/lib/python3.10/dist-packages/sklearn/metrics/_classification.py:1344: UndefinedMetricWarning: Recall and F-score are ill-defined and being set to 0.0 in labels with no true samples. Use `zero_division` parameter to control this behavior.\n",
            "  _warn_prf(average, modifier, msg_start, len(result))\n",
            "/usr/local/lib/python3.10/dist-packages/sklearn/metrics/_classification.py:1344: UndefinedMetricWarning: Recall and F-score are ill-defined and being set to 0.0 in labels with no true samples. Use `zero_division` parameter to control this behavior.\n",
            "  _warn_prf(average, modifier, msg_start, len(result))\n",
            "/usr/local/lib/python3.10/dist-packages/sklearn/metrics/_classification.py:1344: UndefinedMetricWarning: Recall and F-score are ill-defined and being set to 0.0 in labels with no true samples. Use `zero_division` parameter to control this behavior.\n",
            "  _warn_prf(average, modifier, msg_start, len(result))\n"
          ]
        }
      ]
    },
    {
      "cell_type": "code",
      "source": [
        "print(cnb_uni_model_predictions)\n",
        "print(y_test)"
      ],
      "metadata": {
        "colab": {
          "base_uri": "https://localhost:8080/"
        },
        "id": "PiwFM_rCQauA",
        "outputId": "494578b8-4367-49aa-a778-26d29593f04c"
      },
      "execution_count": 139,
      "outputs": [
        {
          "output_type": "stream",
          "name": "stdout",
          "text": [
            "[2 2 1 2 2 1 1 2 1 1 1]\n",
            "[1, 1, 1, 1, 1, 1, 1, 1, 1, 1, 1]\n"
          ]
        }
      ]
    },
    {
      "cell_type": "code",
      "source": [
        "# bigram\n",
        "X_train_semi, y_train_semi, X_train_labeled, y_train_labeled, X_test, y_test = output_train_test_sets(target_word, sense_1_file, sense_2_file, sense_1, sense_2, \"bi\")"
      ],
      "metadata": {
        "colab": {
          "base_uri": "https://localhost:8080/"
        },
        "outputId": "67c05ab1-77cd-46fb-b869-1e891f148061",
        "id": "wI5ejdcOphN1"
      },
      "execution_count": 140,
      "outputs": [
        {
          "output_type": "stream",
          "name": "stdout",
          "text": [
            "Size of unlabeled training set:  100\n",
            "Size of labeled training set:  104\n",
            "Size of test set (labeled):  11\n"
          ]
        }
      ]
    },
    {
      "cell_type": "code",
      "source": [
        "param_grid = {'alpha': [0, 1e-12, 1e-10, 1e-08] ,\n",
        "              'class_prior': [[0.5, 0.5], None]}\n",
        "\n",
        "cnb_bi_model = GridSearchCV(ComplementNB(force_alpha=True), param_grid, refit=True, verbose=3, n_jobs=-1)\n",
        "cnb_bi_model.fit(X_train_labeled, y_train_labeled)"
      ],
      "metadata": {
        "colab": {
          "base_uri": "https://localhost:8080/",
          "height": 136
        },
        "outputId": "3543b386-64bf-4bc1-f6ba-fdbc40cbfbea",
        "id": "yeqgMCwJphN1"
      },
      "execution_count": 141,
      "outputs": [
        {
          "output_type": "stream",
          "name": "stdout",
          "text": [
            "Fitting 5 folds for each of 8 candidates, totalling 40 fits\n"
          ]
        },
        {
          "output_type": "execute_result",
          "data": {
            "text/plain": [
              "GridSearchCV(estimator=ComplementNB(force_alpha=True), n_jobs=-1,\n",
              "             param_grid={'alpha': [0, 1e-12, 1e-10, 1e-08],\n",
              "                         'class_prior': [[0.5, 0.5], None]},\n",
              "             verbose=3)"
            ],
            "text/html": [
              "<style>#sk-container-id-23 {color: black;background-color: white;}#sk-container-id-23 pre{padding: 0;}#sk-container-id-23 div.sk-toggleable {background-color: white;}#sk-container-id-23 label.sk-toggleable__label {cursor: pointer;display: block;width: 100%;margin-bottom: 0;padding: 0.3em;box-sizing: border-box;text-align: center;}#sk-container-id-23 label.sk-toggleable__label-arrow:before {content: \"▸\";float: left;margin-right: 0.25em;color: #696969;}#sk-container-id-23 label.sk-toggleable__label-arrow:hover:before {color: black;}#sk-container-id-23 div.sk-estimator:hover label.sk-toggleable__label-arrow:before {color: black;}#sk-container-id-23 div.sk-toggleable__content {max-height: 0;max-width: 0;overflow: hidden;text-align: left;background-color: #f0f8ff;}#sk-container-id-23 div.sk-toggleable__content pre {margin: 0.2em;color: black;border-radius: 0.25em;background-color: #f0f8ff;}#sk-container-id-23 input.sk-toggleable__control:checked~div.sk-toggleable__content {max-height: 200px;max-width: 100%;overflow: auto;}#sk-container-id-23 input.sk-toggleable__control:checked~label.sk-toggleable__label-arrow:before {content: \"▾\";}#sk-container-id-23 div.sk-estimator input.sk-toggleable__control:checked~label.sk-toggleable__label {background-color: #d4ebff;}#sk-container-id-23 div.sk-label input.sk-toggleable__control:checked~label.sk-toggleable__label {background-color: #d4ebff;}#sk-container-id-23 input.sk-hidden--visually {border: 0;clip: rect(1px 1px 1px 1px);clip: rect(1px, 1px, 1px, 1px);height: 1px;margin: -1px;overflow: hidden;padding: 0;position: absolute;width: 1px;}#sk-container-id-23 div.sk-estimator {font-family: monospace;background-color: #f0f8ff;border: 1px dotted black;border-radius: 0.25em;box-sizing: border-box;margin-bottom: 0.5em;}#sk-container-id-23 div.sk-estimator:hover {background-color: #d4ebff;}#sk-container-id-23 div.sk-parallel-item::after {content: \"\";width: 100%;border-bottom: 1px solid gray;flex-grow: 1;}#sk-container-id-23 div.sk-label:hover label.sk-toggleable__label {background-color: #d4ebff;}#sk-container-id-23 div.sk-serial::before {content: \"\";position: absolute;border-left: 1px solid gray;box-sizing: border-box;top: 0;bottom: 0;left: 50%;z-index: 0;}#sk-container-id-23 div.sk-serial {display: flex;flex-direction: column;align-items: center;background-color: white;padding-right: 0.2em;padding-left: 0.2em;position: relative;}#sk-container-id-23 div.sk-item {position: relative;z-index: 1;}#sk-container-id-23 div.sk-parallel {display: flex;align-items: stretch;justify-content: center;background-color: white;position: relative;}#sk-container-id-23 div.sk-item::before, #sk-container-id-23 div.sk-parallel-item::before {content: \"\";position: absolute;border-left: 1px solid gray;box-sizing: border-box;top: 0;bottom: 0;left: 50%;z-index: -1;}#sk-container-id-23 div.sk-parallel-item {display: flex;flex-direction: column;z-index: 1;position: relative;background-color: white;}#sk-container-id-23 div.sk-parallel-item:first-child::after {align-self: flex-end;width: 50%;}#sk-container-id-23 div.sk-parallel-item:last-child::after {align-self: flex-start;width: 50%;}#sk-container-id-23 div.sk-parallel-item:only-child::after {width: 0;}#sk-container-id-23 div.sk-dashed-wrapped {border: 1px dashed gray;margin: 0 0.4em 0.5em 0.4em;box-sizing: border-box;padding-bottom: 0.4em;background-color: white;}#sk-container-id-23 div.sk-label label {font-family: monospace;font-weight: bold;display: inline-block;line-height: 1.2em;}#sk-container-id-23 div.sk-label-container {text-align: center;}#sk-container-id-23 div.sk-container {/* jupyter's `normalize.less` sets `[hidden] { display: none; }` but bootstrap.min.css set `[hidden] { display: none !important; }` so we also need the `!important` here to be able to override the default hidden behavior on the sphinx rendered scikit-learn.org. See: https://github.com/scikit-learn/scikit-learn/issues/21755 */display: inline-block !important;position: relative;}#sk-container-id-23 div.sk-text-repr-fallback {display: none;}</style><div id=\"sk-container-id-23\" class=\"sk-top-container\"><div class=\"sk-text-repr-fallback\"><pre>GridSearchCV(estimator=ComplementNB(force_alpha=True), n_jobs=-1,\n",
              "             param_grid={&#x27;alpha&#x27;: [0, 1e-12, 1e-10, 1e-08],\n",
              "                         &#x27;class_prior&#x27;: [[0.5, 0.5], None]},\n",
              "             verbose=3)</pre><b>In a Jupyter environment, please rerun this cell to show the HTML representation or trust the notebook. <br />On GitHub, the HTML representation is unable to render, please try loading this page with nbviewer.org.</b></div><div class=\"sk-container\" hidden><div class=\"sk-item sk-dashed-wrapped\"><div class=\"sk-label-container\"><div class=\"sk-label sk-toggleable\"><input class=\"sk-toggleable__control sk-hidden--visually\" id=\"sk-estimator-id-67\" type=\"checkbox\" ><label for=\"sk-estimator-id-67\" class=\"sk-toggleable__label sk-toggleable__label-arrow\">GridSearchCV</label><div class=\"sk-toggleable__content\"><pre>GridSearchCV(estimator=ComplementNB(force_alpha=True), n_jobs=-1,\n",
              "             param_grid={&#x27;alpha&#x27;: [0, 1e-12, 1e-10, 1e-08],\n",
              "                         &#x27;class_prior&#x27;: [[0.5, 0.5], None]},\n",
              "             verbose=3)</pre></div></div></div><div class=\"sk-parallel\"><div class=\"sk-parallel-item\"><div class=\"sk-item\"><div class=\"sk-label-container\"><div class=\"sk-label sk-toggleable\"><input class=\"sk-toggleable__control sk-hidden--visually\" id=\"sk-estimator-id-68\" type=\"checkbox\" ><label for=\"sk-estimator-id-68\" class=\"sk-toggleable__label sk-toggleable__label-arrow\">estimator: ComplementNB</label><div class=\"sk-toggleable__content\"><pre>ComplementNB(force_alpha=True)</pre></div></div></div><div class=\"sk-serial\"><div class=\"sk-item\"><div class=\"sk-estimator sk-toggleable\"><input class=\"sk-toggleable__control sk-hidden--visually\" id=\"sk-estimator-id-69\" type=\"checkbox\" ><label for=\"sk-estimator-id-69\" class=\"sk-toggleable__label sk-toggleable__label-arrow\">ComplementNB</label><div class=\"sk-toggleable__content\"><pre>ComplementNB(force_alpha=True)</pre></div></div></div></div></div></div></div></div></div></div>"
            ]
          },
          "metadata": {},
          "execution_count": 141
        }
      ]
    },
    {
      "cell_type": "code",
      "source": [
        "print(f\"Complement Naive Bayes Model \\\"{target_word}\\\" with Bigram Proprocessing - Best Hyperparameters\\n\")\n",
        "print(cnb_bi_model.best_params_)\n",
        "print()"
      ],
      "metadata": {
        "colab": {
          "base_uri": "https://localhost:8080/"
        },
        "outputId": "2eec49e1-40cb-45f9-f71f-15d140260f6b",
        "id": "sSBhElUgphN1"
      },
      "execution_count": 142,
      "outputs": [
        {
          "output_type": "stream",
          "name": "stdout",
          "text": [
            "Complement Naive Bayes Model \"action\" with Bigram Proprocessing - Best Hyperparameters\n",
            "\n",
            "{'alpha': 1e-12, 'class_prior': [0.5, 0.5]}\n",
            "\n"
          ]
        }
      ]
    },
    {
      "cell_type": "code",
      "source": [
        "cnb_bi_model_predictions = cnb_bi_model.predict(X_test)\n",
        "cnb_bi_report = classification_report(y_test, cnb_bi_model_predictions)\n",
        "print(f\"Complement Naive Bayes Model \\\"{target_word}\\\" with Bigram Proprocessing - Performance Report\\n\")\n",
        "print(cnb_bi_report)\n",
        "print()"
      ],
      "metadata": {
        "colab": {
          "base_uri": "https://localhost:8080/"
        },
        "outputId": "d57dccae-9c36-4b68-8758-87875ee3f57a",
        "id": "ugmsK5b6phN1"
      },
      "execution_count": 143,
      "outputs": [
        {
          "output_type": "stream",
          "name": "stdout",
          "text": [
            "Complement Naive Bayes Model \"action\" with Bigram Proprocessing - Performance Report\n",
            "\n",
            "              precision    recall  f1-score   support\n",
            "\n",
            "           1       1.00      1.00      1.00        11\n",
            "\n",
            "    accuracy                           1.00        11\n",
            "   macro avg       1.00      1.00      1.00        11\n",
            "weighted avg       1.00      1.00      1.00        11\n",
            "\n",
            "\n"
          ]
        }
      ]
    },
    {
      "cell_type": "code",
      "source": [
        "print(cnb_bi_model_predictions)\n",
        "print(y_test)"
      ],
      "metadata": {
        "colab": {
          "base_uri": "https://localhost:8080/"
        },
        "id": "ZUGwB03BQoPR",
        "outputId": "d54956b4-c85b-4a8f-8d93-c6f50fd10d27"
      },
      "execution_count": 144,
      "outputs": [
        {
          "output_type": "stream",
          "name": "stdout",
          "text": [
            "[1 1 1 1 1 1 1 1 1 1 1]\n",
            "[1, 1, 1, 1, 1, 1, 1, 1, 1, 1, 1]\n"
          ]
        }
      ]
    },
    {
      "cell_type": "code",
      "source": [
        "# trigram\n",
        "X_train_semi, y_train_semi, X_train_labeled, y_train_labeled, X_test, y_test = output_train_test_sets(target_word, sense_1_file, sense_2_file, sense_1, sense_2, \"tri\")"
      ],
      "metadata": {
        "colab": {
          "base_uri": "https://localhost:8080/"
        },
        "outputId": "10eb9bdb-7d78-44c9-98ab-d5523a7f5742",
        "id": "u1xSerwQphN1"
      },
      "execution_count": 145,
      "outputs": [
        {
          "output_type": "stream",
          "name": "stdout",
          "text": [
            "Size of unlabeled training set:  100\n",
            "Size of labeled training set:  104\n",
            "Size of test set (labeled):  11\n"
          ]
        }
      ]
    },
    {
      "cell_type": "code",
      "source": [
        "param_grid = {'alpha': [0, 1e-12, 1e-10, 1e-08] ,\n",
        "              'class_prior': [[0.5, 0.5], None]}\n",
        "\n",
        "cnb_tri_model = GridSearchCV(ComplementNB(force_alpha=True), param_grid, refit=True, verbose=3, n_jobs=-1)\n",
        "cnb_tri_model.fit(X_train_labeled, y_train_labeled)"
      ],
      "metadata": {
        "colab": {
          "base_uri": "https://localhost:8080/",
          "height": 136
        },
        "outputId": "f077babb-fdaf-4e09-ceb8-e69bacfbd78a",
        "id": "pQYxLie3phN2"
      },
      "execution_count": 146,
      "outputs": [
        {
          "output_type": "stream",
          "name": "stdout",
          "text": [
            "Fitting 5 folds for each of 8 candidates, totalling 40 fits\n"
          ]
        },
        {
          "output_type": "execute_result",
          "data": {
            "text/plain": [
              "GridSearchCV(estimator=ComplementNB(force_alpha=True), n_jobs=-1,\n",
              "             param_grid={'alpha': [0, 1e-12, 1e-10, 1e-08],\n",
              "                         'class_prior': [[0.5, 0.5], None]},\n",
              "             verbose=3)"
            ],
            "text/html": [
              "<style>#sk-container-id-24 {color: black;background-color: white;}#sk-container-id-24 pre{padding: 0;}#sk-container-id-24 div.sk-toggleable {background-color: white;}#sk-container-id-24 label.sk-toggleable__label {cursor: pointer;display: block;width: 100%;margin-bottom: 0;padding: 0.3em;box-sizing: border-box;text-align: center;}#sk-container-id-24 label.sk-toggleable__label-arrow:before {content: \"▸\";float: left;margin-right: 0.25em;color: #696969;}#sk-container-id-24 label.sk-toggleable__label-arrow:hover:before {color: black;}#sk-container-id-24 div.sk-estimator:hover label.sk-toggleable__label-arrow:before {color: black;}#sk-container-id-24 div.sk-toggleable__content {max-height: 0;max-width: 0;overflow: hidden;text-align: left;background-color: #f0f8ff;}#sk-container-id-24 div.sk-toggleable__content pre {margin: 0.2em;color: black;border-radius: 0.25em;background-color: #f0f8ff;}#sk-container-id-24 input.sk-toggleable__control:checked~div.sk-toggleable__content {max-height: 200px;max-width: 100%;overflow: auto;}#sk-container-id-24 input.sk-toggleable__control:checked~label.sk-toggleable__label-arrow:before {content: \"▾\";}#sk-container-id-24 div.sk-estimator input.sk-toggleable__control:checked~label.sk-toggleable__label {background-color: #d4ebff;}#sk-container-id-24 div.sk-label input.sk-toggleable__control:checked~label.sk-toggleable__label {background-color: #d4ebff;}#sk-container-id-24 input.sk-hidden--visually {border: 0;clip: rect(1px 1px 1px 1px);clip: rect(1px, 1px, 1px, 1px);height: 1px;margin: -1px;overflow: hidden;padding: 0;position: absolute;width: 1px;}#sk-container-id-24 div.sk-estimator {font-family: monospace;background-color: #f0f8ff;border: 1px dotted black;border-radius: 0.25em;box-sizing: border-box;margin-bottom: 0.5em;}#sk-container-id-24 div.sk-estimator:hover {background-color: #d4ebff;}#sk-container-id-24 div.sk-parallel-item::after {content: \"\";width: 100%;border-bottom: 1px solid gray;flex-grow: 1;}#sk-container-id-24 div.sk-label:hover label.sk-toggleable__label {background-color: #d4ebff;}#sk-container-id-24 div.sk-serial::before {content: \"\";position: absolute;border-left: 1px solid gray;box-sizing: border-box;top: 0;bottom: 0;left: 50%;z-index: 0;}#sk-container-id-24 div.sk-serial {display: flex;flex-direction: column;align-items: center;background-color: white;padding-right: 0.2em;padding-left: 0.2em;position: relative;}#sk-container-id-24 div.sk-item {position: relative;z-index: 1;}#sk-container-id-24 div.sk-parallel {display: flex;align-items: stretch;justify-content: center;background-color: white;position: relative;}#sk-container-id-24 div.sk-item::before, #sk-container-id-24 div.sk-parallel-item::before {content: \"\";position: absolute;border-left: 1px solid gray;box-sizing: border-box;top: 0;bottom: 0;left: 50%;z-index: -1;}#sk-container-id-24 div.sk-parallel-item {display: flex;flex-direction: column;z-index: 1;position: relative;background-color: white;}#sk-container-id-24 div.sk-parallel-item:first-child::after {align-self: flex-end;width: 50%;}#sk-container-id-24 div.sk-parallel-item:last-child::after {align-self: flex-start;width: 50%;}#sk-container-id-24 div.sk-parallel-item:only-child::after {width: 0;}#sk-container-id-24 div.sk-dashed-wrapped {border: 1px dashed gray;margin: 0 0.4em 0.5em 0.4em;box-sizing: border-box;padding-bottom: 0.4em;background-color: white;}#sk-container-id-24 div.sk-label label {font-family: monospace;font-weight: bold;display: inline-block;line-height: 1.2em;}#sk-container-id-24 div.sk-label-container {text-align: center;}#sk-container-id-24 div.sk-container {/* jupyter's `normalize.less` sets `[hidden] { display: none; }` but bootstrap.min.css set `[hidden] { display: none !important; }` so we also need the `!important` here to be able to override the default hidden behavior on the sphinx rendered scikit-learn.org. See: https://github.com/scikit-learn/scikit-learn/issues/21755 */display: inline-block !important;position: relative;}#sk-container-id-24 div.sk-text-repr-fallback {display: none;}</style><div id=\"sk-container-id-24\" class=\"sk-top-container\"><div class=\"sk-text-repr-fallback\"><pre>GridSearchCV(estimator=ComplementNB(force_alpha=True), n_jobs=-1,\n",
              "             param_grid={&#x27;alpha&#x27;: [0, 1e-12, 1e-10, 1e-08],\n",
              "                         &#x27;class_prior&#x27;: [[0.5, 0.5], None]},\n",
              "             verbose=3)</pre><b>In a Jupyter environment, please rerun this cell to show the HTML representation or trust the notebook. <br />On GitHub, the HTML representation is unable to render, please try loading this page with nbviewer.org.</b></div><div class=\"sk-container\" hidden><div class=\"sk-item sk-dashed-wrapped\"><div class=\"sk-label-container\"><div class=\"sk-label sk-toggleable\"><input class=\"sk-toggleable__control sk-hidden--visually\" id=\"sk-estimator-id-70\" type=\"checkbox\" ><label for=\"sk-estimator-id-70\" class=\"sk-toggleable__label sk-toggleable__label-arrow\">GridSearchCV</label><div class=\"sk-toggleable__content\"><pre>GridSearchCV(estimator=ComplementNB(force_alpha=True), n_jobs=-1,\n",
              "             param_grid={&#x27;alpha&#x27;: [0, 1e-12, 1e-10, 1e-08],\n",
              "                         &#x27;class_prior&#x27;: [[0.5, 0.5], None]},\n",
              "             verbose=3)</pre></div></div></div><div class=\"sk-parallel\"><div class=\"sk-parallel-item\"><div class=\"sk-item\"><div class=\"sk-label-container\"><div class=\"sk-label sk-toggleable\"><input class=\"sk-toggleable__control sk-hidden--visually\" id=\"sk-estimator-id-71\" type=\"checkbox\" ><label for=\"sk-estimator-id-71\" class=\"sk-toggleable__label sk-toggleable__label-arrow\">estimator: ComplementNB</label><div class=\"sk-toggleable__content\"><pre>ComplementNB(force_alpha=True)</pre></div></div></div><div class=\"sk-serial\"><div class=\"sk-item\"><div class=\"sk-estimator sk-toggleable\"><input class=\"sk-toggleable__control sk-hidden--visually\" id=\"sk-estimator-id-72\" type=\"checkbox\" ><label for=\"sk-estimator-id-72\" class=\"sk-toggleable__label sk-toggleable__label-arrow\">ComplementNB</label><div class=\"sk-toggleable__content\"><pre>ComplementNB(force_alpha=True)</pre></div></div></div></div></div></div></div></div></div></div>"
            ]
          },
          "metadata": {},
          "execution_count": 146
        }
      ]
    },
    {
      "cell_type": "code",
      "source": [
        "print(f\"Complement Naive Bayes Model \\\"{target_word}\\\" with Trigram Proprocessing - Best Hyperparameters\\n\")\n",
        "print(cnb_tri_model.best_params_)\n",
        "print()"
      ],
      "metadata": {
        "colab": {
          "base_uri": "https://localhost:8080/"
        },
        "outputId": "78622c60-e63e-4249-9da4-f9a3ece964af",
        "id": "x0H8Yc4KphN2"
      },
      "execution_count": 147,
      "outputs": [
        {
          "output_type": "stream",
          "name": "stdout",
          "text": [
            "Complement Naive Bayes Model \"action\" with Trigram Proprocessing - Best Hyperparameters\n",
            "\n",
            "{'alpha': 1e-12, 'class_prior': [0.5, 0.5]}\n",
            "\n"
          ]
        }
      ]
    },
    {
      "cell_type": "code",
      "source": [
        "cnb_tri_model_predictions = cnb_tri_model.predict(X_test)\n",
        "cnb_tri_report = classification_report(y_test, cnb_tri_model_predictions)\n",
        "print(f\"Complement Naive Bayes Model \\\"{target_word}\\\" with Trigram Proprocessing - Performance Report\\n\")\n",
        "print(cnb_tri_report)\n",
        "print()"
      ],
      "metadata": {
        "colab": {
          "base_uri": "https://localhost:8080/"
        },
        "outputId": "665df795-7ae9-454e-865a-b6c28c51748d",
        "id": "eeXApA48phN2"
      },
      "execution_count": 148,
      "outputs": [
        {
          "output_type": "stream",
          "name": "stdout",
          "text": [
            "Complement Naive Bayes Model \"action\" with Trigram Proprocessing - Performance Report\n",
            "\n",
            "              precision    recall  f1-score   support\n",
            "\n",
            "           1       1.00      1.00      1.00        11\n",
            "\n",
            "    accuracy                           1.00        11\n",
            "   macro avg       1.00      1.00      1.00        11\n",
            "weighted avg       1.00      1.00      1.00        11\n",
            "\n",
            "\n"
          ]
        }
      ]
    },
    {
      "cell_type": "code",
      "source": [
        "print(cnb_tri_model_predictions)\n",
        "print(y_test)"
      ],
      "metadata": {
        "colab": {
          "base_uri": "https://localhost:8080/"
        },
        "id": "LU5srBO4QvEU",
        "outputId": "0c18f2a7-06b6-486d-aefd-c2e3226e21fb"
      },
      "execution_count": 149,
      "outputs": [
        {
          "output_type": "stream",
          "name": "stdout",
          "text": [
            "[1 1 1 1 1 1 1 1 1 1 1]\n",
            "[1, 1, 1, 1, 1, 1, 1, 1, 1, 1, 1]\n"
          ]
        }
      ]
    },
    {
      "cell_type": "markdown",
      "source": [
        "### Word: claim\n",
        "\n",
        "We pick two senses of claim. They are:\n",
        "1.  S: (n) claim (claim%1:10:02::) (an assertion that something is true or factual) \"his claim that he was innocent\"; \"evidence contradicted the government's claims\"\n",
        "2.  S: (n) claim (claim%1:04:00::) (demand for something as rightful or due) \"they struck in support of their claim for a shorter work day\"\n",
        "\n",
        "We assign 1 to the first sense and 2 to the second sense."
      ],
      "metadata": {
        "id": "259K1U4Ypv_4"
      }
    },
    {
      "cell_type": "code",
      "source": [
        "# parameters to change\n",
        "target_word = \"claim\"\n",
        "sense_1_file = \"/content/claim_assertion.txt\"\n",
        "sense_2_file = \"/content/claim_demand.txt\"\n",
        "general_file = \"/content/claim.txt\"\n",
        "sense_1 = \"1:10:02::\"\n",
        "sense_2 = \"1:04:00::\""
      ],
      "metadata": {
        "id": "DEOZG6uupv_4"
      },
      "execution_count": 150,
      "outputs": []
    },
    {
      "cell_type": "code",
      "source": [
        "# unigram\n",
        "X_train_semi, y_train_semi, X_train_labeled, y_train_labeled, X_test, y_test = output_train_test_sets(target_word, sense_1_file, sense_2_file, sense_1, sense_2, \"uni\")"
      ],
      "metadata": {
        "colab": {
          "base_uri": "https://localhost:8080/"
        },
        "outputId": "e19bbb74-3338-487c-dcce-afa482a4609f",
        "id": "w77tObg0p0WV"
      },
      "execution_count": 151,
      "outputs": [
        {
          "output_type": "stream",
          "name": "stdout",
          "text": [
            "Size of unlabeled training set:  100\n",
            "Size of labeled training set:  101\n",
            "Size of test set (labeled):  9\n"
          ]
        }
      ]
    },
    {
      "cell_type": "code",
      "source": [
        "param_grid = {'alpha': [0, 1e-12, 1e-10, 1e-08] ,\n",
        "              'class_prior': [[0.5, 0.5], None]}\n",
        "\n",
        "cnb_uni_model = GridSearchCV(ComplementNB(force_alpha=True), param_grid, refit=True, verbose=3, n_jobs=-1)\n",
        "cnb_uni_model.fit(X_train_labeled, y_train_labeled)"
      ],
      "metadata": {
        "colab": {
          "base_uri": "https://localhost:8080/",
          "height": 136
        },
        "outputId": "f5f91521-0bcf-46a1-a2bb-e288016302c2",
        "id": "eTi65A25p0WV"
      },
      "execution_count": 152,
      "outputs": [
        {
          "output_type": "stream",
          "name": "stdout",
          "text": [
            "Fitting 5 folds for each of 8 candidates, totalling 40 fits\n"
          ]
        },
        {
          "output_type": "execute_result",
          "data": {
            "text/plain": [
              "GridSearchCV(estimator=ComplementNB(force_alpha=True), n_jobs=-1,\n",
              "             param_grid={'alpha': [0, 1e-12, 1e-10, 1e-08],\n",
              "                         'class_prior': [[0.5, 0.5], None]},\n",
              "             verbose=3)"
            ],
            "text/html": [
              "<style>#sk-container-id-25 {color: black;background-color: white;}#sk-container-id-25 pre{padding: 0;}#sk-container-id-25 div.sk-toggleable {background-color: white;}#sk-container-id-25 label.sk-toggleable__label {cursor: pointer;display: block;width: 100%;margin-bottom: 0;padding: 0.3em;box-sizing: border-box;text-align: center;}#sk-container-id-25 label.sk-toggleable__label-arrow:before {content: \"▸\";float: left;margin-right: 0.25em;color: #696969;}#sk-container-id-25 label.sk-toggleable__label-arrow:hover:before {color: black;}#sk-container-id-25 div.sk-estimator:hover label.sk-toggleable__label-arrow:before {color: black;}#sk-container-id-25 div.sk-toggleable__content {max-height: 0;max-width: 0;overflow: hidden;text-align: left;background-color: #f0f8ff;}#sk-container-id-25 div.sk-toggleable__content pre {margin: 0.2em;color: black;border-radius: 0.25em;background-color: #f0f8ff;}#sk-container-id-25 input.sk-toggleable__control:checked~div.sk-toggleable__content {max-height: 200px;max-width: 100%;overflow: auto;}#sk-container-id-25 input.sk-toggleable__control:checked~label.sk-toggleable__label-arrow:before {content: \"▾\";}#sk-container-id-25 div.sk-estimator input.sk-toggleable__control:checked~label.sk-toggleable__label {background-color: #d4ebff;}#sk-container-id-25 div.sk-label input.sk-toggleable__control:checked~label.sk-toggleable__label {background-color: #d4ebff;}#sk-container-id-25 input.sk-hidden--visually {border: 0;clip: rect(1px 1px 1px 1px);clip: rect(1px, 1px, 1px, 1px);height: 1px;margin: -1px;overflow: hidden;padding: 0;position: absolute;width: 1px;}#sk-container-id-25 div.sk-estimator {font-family: monospace;background-color: #f0f8ff;border: 1px dotted black;border-radius: 0.25em;box-sizing: border-box;margin-bottom: 0.5em;}#sk-container-id-25 div.sk-estimator:hover {background-color: #d4ebff;}#sk-container-id-25 div.sk-parallel-item::after {content: \"\";width: 100%;border-bottom: 1px solid gray;flex-grow: 1;}#sk-container-id-25 div.sk-label:hover label.sk-toggleable__label {background-color: #d4ebff;}#sk-container-id-25 div.sk-serial::before {content: \"\";position: absolute;border-left: 1px solid gray;box-sizing: border-box;top: 0;bottom: 0;left: 50%;z-index: 0;}#sk-container-id-25 div.sk-serial {display: flex;flex-direction: column;align-items: center;background-color: white;padding-right: 0.2em;padding-left: 0.2em;position: relative;}#sk-container-id-25 div.sk-item {position: relative;z-index: 1;}#sk-container-id-25 div.sk-parallel {display: flex;align-items: stretch;justify-content: center;background-color: white;position: relative;}#sk-container-id-25 div.sk-item::before, #sk-container-id-25 div.sk-parallel-item::before {content: \"\";position: absolute;border-left: 1px solid gray;box-sizing: border-box;top: 0;bottom: 0;left: 50%;z-index: -1;}#sk-container-id-25 div.sk-parallel-item {display: flex;flex-direction: column;z-index: 1;position: relative;background-color: white;}#sk-container-id-25 div.sk-parallel-item:first-child::after {align-self: flex-end;width: 50%;}#sk-container-id-25 div.sk-parallel-item:last-child::after {align-self: flex-start;width: 50%;}#sk-container-id-25 div.sk-parallel-item:only-child::after {width: 0;}#sk-container-id-25 div.sk-dashed-wrapped {border: 1px dashed gray;margin: 0 0.4em 0.5em 0.4em;box-sizing: border-box;padding-bottom: 0.4em;background-color: white;}#sk-container-id-25 div.sk-label label {font-family: monospace;font-weight: bold;display: inline-block;line-height: 1.2em;}#sk-container-id-25 div.sk-label-container {text-align: center;}#sk-container-id-25 div.sk-container {/* jupyter's `normalize.less` sets `[hidden] { display: none; }` but bootstrap.min.css set `[hidden] { display: none !important; }` so we also need the `!important` here to be able to override the default hidden behavior on the sphinx rendered scikit-learn.org. See: https://github.com/scikit-learn/scikit-learn/issues/21755 */display: inline-block !important;position: relative;}#sk-container-id-25 div.sk-text-repr-fallback {display: none;}</style><div id=\"sk-container-id-25\" class=\"sk-top-container\"><div class=\"sk-text-repr-fallback\"><pre>GridSearchCV(estimator=ComplementNB(force_alpha=True), n_jobs=-1,\n",
              "             param_grid={&#x27;alpha&#x27;: [0, 1e-12, 1e-10, 1e-08],\n",
              "                         &#x27;class_prior&#x27;: [[0.5, 0.5], None]},\n",
              "             verbose=3)</pre><b>In a Jupyter environment, please rerun this cell to show the HTML representation or trust the notebook. <br />On GitHub, the HTML representation is unable to render, please try loading this page with nbviewer.org.</b></div><div class=\"sk-container\" hidden><div class=\"sk-item sk-dashed-wrapped\"><div class=\"sk-label-container\"><div class=\"sk-label sk-toggleable\"><input class=\"sk-toggleable__control sk-hidden--visually\" id=\"sk-estimator-id-73\" type=\"checkbox\" ><label for=\"sk-estimator-id-73\" class=\"sk-toggleable__label sk-toggleable__label-arrow\">GridSearchCV</label><div class=\"sk-toggleable__content\"><pre>GridSearchCV(estimator=ComplementNB(force_alpha=True), n_jobs=-1,\n",
              "             param_grid={&#x27;alpha&#x27;: [0, 1e-12, 1e-10, 1e-08],\n",
              "                         &#x27;class_prior&#x27;: [[0.5, 0.5], None]},\n",
              "             verbose=3)</pre></div></div></div><div class=\"sk-parallel\"><div class=\"sk-parallel-item\"><div class=\"sk-item\"><div class=\"sk-label-container\"><div class=\"sk-label sk-toggleable\"><input class=\"sk-toggleable__control sk-hidden--visually\" id=\"sk-estimator-id-74\" type=\"checkbox\" ><label for=\"sk-estimator-id-74\" class=\"sk-toggleable__label sk-toggleable__label-arrow\">estimator: ComplementNB</label><div class=\"sk-toggleable__content\"><pre>ComplementNB(force_alpha=True)</pre></div></div></div><div class=\"sk-serial\"><div class=\"sk-item\"><div class=\"sk-estimator sk-toggleable\"><input class=\"sk-toggleable__control sk-hidden--visually\" id=\"sk-estimator-id-75\" type=\"checkbox\" ><label for=\"sk-estimator-id-75\" class=\"sk-toggleable__label sk-toggleable__label-arrow\">ComplementNB</label><div class=\"sk-toggleable__content\"><pre>ComplementNB(force_alpha=True)</pre></div></div></div></div></div></div></div></div></div></div>"
            ]
          },
          "metadata": {},
          "execution_count": 152
        }
      ]
    },
    {
      "cell_type": "code",
      "source": [
        "print(f\"Complement Naive Bayes Model \\\"{target_word}\\\" with Unigram Proprocessing - Best Hyperparameters\\n\")\n",
        "print(cnb_uni_model.best_params_)\n",
        "print()"
      ],
      "metadata": {
        "colab": {
          "base_uri": "https://localhost:8080/"
        },
        "outputId": "b4d628e9-e80a-4619-d391-f54783365a74",
        "id": "MkiTGxfGp0WV"
      },
      "execution_count": 153,
      "outputs": [
        {
          "output_type": "stream",
          "name": "stdout",
          "text": [
            "Complement Naive Bayes Model \"claim\" with Unigram Proprocessing - Best Hyperparameters\n",
            "\n",
            "{'alpha': 1e-12, 'class_prior': [0.5, 0.5]}\n",
            "\n"
          ]
        }
      ]
    },
    {
      "cell_type": "code",
      "source": [
        "cnb_uni_model_predictions = cnb_uni_model.predict(X_test)\n",
        "cnb_uni_report = classification_report(y_test, cnb_uni_model_predictions)\n",
        "print(f\"Complement Naive Bayes Model \\\"{target_word}\\\" with Unigram Proprocessing - Performance Report\\n\")\n",
        "print(cnb_uni_report)\n",
        "print()"
      ],
      "metadata": {
        "colab": {
          "base_uri": "https://localhost:8080/"
        },
        "outputId": "ad9636d7-79b3-4899-b716-6886151bea82",
        "id": "Ulm20Vndp0WV"
      },
      "execution_count": 154,
      "outputs": [
        {
          "output_type": "stream",
          "name": "stdout",
          "text": [
            "Complement Naive Bayes Model \"claim\" with Unigram Proprocessing - Performance Report\n",
            "\n",
            "              precision    recall  f1-score   support\n",
            "\n",
            "           1       1.00      0.89      0.94         9\n",
            "           2       0.00      0.00      0.00         0\n",
            "\n",
            "    accuracy                           0.89         9\n",
            "   macro avg       0.50      0.44      0.47         9\n",
            "weighted avg       1.00      0.89      0.94         9\n",
            "\n",
            "\n"
          ]
        },
        {
          "output_type": "stream",
          "name": "stderr",
          "text": [
            "/usr/local/lib/python3.10/dist-packages/sklearn/metrics/_classification.py:1344: UndefinedMetricWarning: Recall and F-score are ill-defined and being set to 0.0 in labels with no true samples. Use `zero_division` parameter to control this behavior.\n",
            "  _warn_prf(average, modifier, msg_start, len(result))\n",
            "/usr/local/lib/python3.10/dist-packages/sklearn/metrics/_classification.py:1344: UndefinedMetricWarning: Recall and F-score are ill-defined and being set to 0.0 in labels with no true samples. Use `zero_division` parameter to control this behavior.\n",
            "  _warn_prf(average, modifier, msg_start, len(result))\n",
            "/usr/local/lib/python3.10/dist-packages/sklearn/metrics/_classification.py:1344: UndefinedMetricWarning: Recall and F-score are ill-defined and being set to 0.0 in labels with no true samples. Use `zero_division` parameter to control this behavior.\n",
            "  _warn_prf(average, modifier, msg_start, len(result))\n"
          ]
        }
      ]
    },
    {
      "cell_type": "code",
      "source": [
        "print(cnb_uni_model_predictions)\n",
        "print(y_test)"
      ],
      "metadata": {
        "colab": {
          "base_uri": "https://localhost:8080/"
        },
        "id": "4mOYwDzmQb1r",
        "outputId": "3e35a949-7fba-4c75-983f-55326abfe645"
      },
      "execution_count": 155,
      "outputs": [
        {
          "output_type": "stream",
          "name": "stdout",
          "text": [
            "[1 1 1 1 1 1 2 1 1]\n",
            "[1, 1, 1, 1, 1, 1, 1, 1, 1]\n"
          ]
        }
      ]
    },
    {
      "cell_type": "code",
      "source": [
        "# bigram\n",
        "X_train_semi, y_train_semi, X_train_labeled, y_train_labeled, X_test, y_test = output_train_test_sets(target_word, sense_1_file, sense_2_file, sense_1, sense_2, \"bi\")"
      ],
      "metadata": {
        "colab": {
          "base_uri": "https://localhost:8080/"
        },
        "outputId": "1151f5c6-548e-4c36-9f6f-c7e10aaa2a90",
        "id": "lQlOINZQp0WV"
      },
      "execution_count": 156,
      "outputs": [
        {
          "output_type": "stream",
          "name": "stdout",
          "text": [
            "Size of unlabeled training set:  100\n",
            "Size of labeled training set:  101\n",
            "Size of test set (labeled):  9\n"
          ]
        }
      ]
    },
    {
      "cell_type": "code",
      "source": [
        "param_grid = {'alpha': [0, 1e-12, 1e-10, 1e-08] ,\n",
        "              'class_prior': [[0.5, 0.5], None]}\n",
        "\n",
        "cnb_bi_model = GridSearchCV(ComplementNB(force_alpha=True), param_grid, refit=True, verbose=3, n_jobs=-1)\n",
        "cnb_bi_model.fit(X_train_labeled, y_train_labeled)"
      ],
      "metadata": {
        "colab": {
          "base_uri": "https://localhost:8080/",
          "height": 136
        },
        "outputId": "34baf236-9095-4a72-97da-852814be0027",
        "id": "EVCAn9BKp0WV"
      },
      "execution_count": 157,
      "outputs": [
        {
          "output_type": "stream",
          "name": "stdout",
          "text": [
            "Fitting 5 folds for each of 8 candidates, totalling 40 fits\n"
          ]
        },
        {
          "output_type": "execute_result",
          "data": {
            "text/plain": [
              "GridSearchCV(estimator=ComplementNB(force_alpha=True), n_jobs=-1,\n",
              "             param_grid={'alpha': [0, 1e-12, 1e-10, 1e-08],\n",
              "                         'class_prior': [[0.5, 0.5], None]},\n",
              "             verbose=3)"
            ],
            "text/html": [
              "<style>#sk-container-id-26 {color: black;background-color: white;}#sk-container-id-26 pre{padding: 0;}#sk-container-id-26 div.sk-toggleable {background-color: white;}#sk-container-id-26 label.sk-toggleable__label {cursor: pointer;display: block;width: 100%;margin-bottom: 0;padding: 0.3em;box-sizing: border-box;text-align: center;}#sk-container-id-26 label.sk-toggleable__label-arrow:before {content: \"▸\";float: left;margin-right: 0.25em;color: #696969;}#sk-container-id-26 label.sk-toggleable__label-arrow:hover:before {color: black;}#sk-container-id-26 div.sk-estimator:hover label.sk-toggleable__label-arrow:before {color: black;}#sk-container-id-26 div.sk-toggleable__content {max-height: 0;max-width: 0;overflow: hidden;text-align: left;background-color: #f0f8ff;}#sk-container-id-26 div.sk-toggleable__content pre {margin: 0.2em;color: black;border-radius: 0.25em;background-color: #f0f8ff;}#sk-container-id-26 input.sk-toggleable__control:checked~div.sk-toggleable__content {max-height: 200px;max-width: 100%;overflow: auto;}#sk-container-id-26 input.sk-toggleable__control:checked~label.sk-toggleable__label-arrow:before {content: \"▾\";}#sk-container-id-26 div.sk-estimator input.sk-toggleable__control:checked~label.sk-toggleable__label {background-color: #d4ebff;}#sk-container-id-26 div.sk-label input.sk-toggleable__control:checked~label.sk-toggleable__label {background-color: #d4ebff;}#sk-container-id-26 input.sk-hidden--visually {border: 0;clip: rect(1px 1px 1px 1px);clip: rect(1px, 1px, 1px, 1px);height: 1px;margin: -1px;overflow: hidden;padding: 0;position: absolute;width: 1px;}#sk-container-id-26 div.sk-estimator {font-family: monospace;background-color: #f0f8ff;border: 1px dotted black;border-radius: 0.25em;box-sizing: border-box;margin-bottom: 0.5em;}#sk-container-id-26 div.sk-estimator:hover {background-color: #d4ebff;}#sk-container-id-26 div.sk-parallel-item::after {content: \"\";width: 100%;border-bottom: 1px solid gray;flex-grow: 1;}#sk-container-id-26 div.sk-label:hover label.sk-toggleable__label {background-color: #d4ebff;}#sk-container-id-26 div.sk-serial::before {content: \"\";position: absolute;border-left: 1px solid gray;box-sizing: border-box;top: 0;bottom: 0;left: 50%;z-index: 0;}#sk-container-id-26 div.sk-serial {display: flex;flex-direction: column;align-items: center;background-color: white;padding-right: 0.2em;padding-left: 0.2em;position: relative;}#sk-container-id-26 div.sk-item {position: relative;z-index: 1;}#sk-container-id-26 div.sk-parallel {display: flex;align-items: stretch;justify-content: center;background-color: white;position: relative;}#sk-container-id-26 div.sk-item::before, #sk-container-id-26 div.sk-parallel-item::before {content: \"\";position: absolute;border-left: 1px solid gray;box-sizing: border-box;top: 0;bottom: 0;left: 50%;z-index: -1;}#sk-container-id-26 div.sk-parallel-item {display: flex;flex-direction: column;z-index: 1;position: relative;background-color: white;}#sk-container-id-26 div.sk-parallel-item:first-child::after {align-self: flex-end;width: 50%;}#sk-container-id-26 div.sk-parallel-item:last-child::after {align-self: flex-start;width: 50%;}#sk-container-id-26 div.sk-parallel-item:only-child::after {width: 0;}#sk-container-id-26 div.sk-dashed-wrapped {border: 1px dashed gray;margin: 0 0.4em 0.5em 0.4em;box-sizing: border-box;padding-bottom: 0.4em;background-color: white;}#sk-container-id-26 div.sk-label label {font-family: monospace;font-weight: bold;display: inline-block;line-height: 1.2em;}#sk-container-id-26 div.sk-label-container {text-align: center;}#sk-container-id-26 div.sk-container {/* jupyter's `normalize.less` sets `[hidden] { display: none; }` but bootstrap.min.css set `[hidden] { display: none !important; }` so we also need the `!important` here to be able to override the default hidden behavior on the sphinx rendered scikit-learn.org. See: https://github.com/scikit-learn/scikit-learn/issues/21755 */display: inline-block !important;position: relative;}#sk-container-id-26 div.sk-text-repr-fallback {display: none;}</style><div id=\"sk-container-id-26\" class=\"sk-top-container\"><div class=\"sk-text-repr-fallback\"><pre>GridSearchCV(estimator=ComplementNB(force_alpha=True), n_jobs=-1,\n",
              "             param_grid={&#x27;alpha&#x27;: [0, 1e-12, 1e-10, 1e-08],\n",
              "                         &#x27;class_prior&#x27;: [[0.5, 0.5], None]},\n",
              "             verbose=3)</pre><b>In a Jupyter environment, please rerun this cell to show the HTML representation or trust the notebook. <br />On GitHub, the HTML representation is unable to render, please try loading this page with nbviewer.org.</b></div><div class=\"sk-container\" hidden><div class=\"sk-item sk-dashed-wrapped\"><div class=\"sk-label-container\"><div class=\"sk-label sk-toggleable\"><input class=\"sk-toggleable__control sk-hidden--visually\" id=\"sk-estimator-id-76\" type=\"checkbox\" ><label for=\"sk-estimator-id-76\" class=\"sk-toggleable__label sk-toggleable__label-arrow\">GridSearchCV</label><div class=\"sk-toggleable__content\"><pre>GridSearchCV(estimator=ComplementNB(force_alpha=True), n_jobs=-1,\n",
              "             param_grid={&#x27;alpha&#x27;: [0, 1e-12, 1e-10, 1e-08],\n",
              "                         &#x27;class_prior&#x27;: [[0.5, 0.5], None]},\n",
              "             verbose=3)</pre></div></div></div><div class=\"sk-parallel\"><div class=\"sk-parallel-item\"><div class=\"sk-item\"><div class=\"sk-label-container\"><div class=\"sk-label sk-toggleable\"><input class=\"sk-toggleable__control sk-hidden--visually\" id=\"sk-estimator-id-77\" type=\"checkbox\" ><label for=\"sk-estimator-id-77\" class=\"sk-toggleable__label sk-toggleable__label-arrow\">estimator: ComplementNB</label><div class=\"sk-toggleable__content\"><pre>ComplementNB(force_alpha=True)</pre></div></div></div><div class=\"sk-serial\"><div class=\"sk-item\"><div class=\"sk-estimator sk-toggleable\"><input class=\"sk-toggleable__control sk-hidden--visually\" id=\"sk-estimator-id-78\" type=\"checkbox\" ><label for=\"sk-estimator-id-78\" class=\"sk-toggleable__label sk-toggleable__label-arrow\">ComplementNB</label><div class=\"sk-toggleable__content\"><pre>ComplementNB(force_alpha=True)</pre></div></div></div></div></div></div></div></div></div></div>"
            ]
          },
          "metadata": {},
          "execution_count": 157
        }
      ]
    },
    {
      "cell_type": "code",
      "source": [
        "print(f\"Complement Naive Bayes Model \\\"{target_word}\\\" with Bigram Proprocessing - Best Hyperparameters\\n\")\n",
        "print(cnb_bi_model.best_params_)\n",
        "print()"
      ],
      "metadata": {
        "colab": {
          "base_uri": "https://localhost:8080/"
        },
        "outputId": "bfdce189-2efa-48c8-d68f-49a7d46bdecb",
        "id": "DdeSmzsJp0WV"
      },
      "execution_count": 158,
      "outputs": [
        {
          "output_type": "stream",
          "name": "stdout",
          "text": [
            "Complement Naive Bayes Model \"claim\" with Bigram Proprocessing - Best Hyperparameters\n",
            "\n",
            "{'alpha': 1e-12, 'class_prior': [0.5, 0.5]}\n",
            "\n"
          ]
        }
      ]
    },
    {
      "cell_type": "code",
      "source": [
        "cnb_bi_model_predictions = cnb_bi_model.predict(X_test)\n",
        "cnb_bi_report = classification_report(y_test, cnb_bi_model_predictions)\n",
        "print(f\"Complement Naive Bayes Model \\\"{target_word}\\\" with Bigram Proprocessing - Performance Report\\n\")\n",
        "print(cnb_bi_report)\n",
        "print()"
      ],
      "metadata": {
        "colab": {
          "base_uri": "https://localhost:8080/"
        },
        "outputId": "488c8fef-5299-457f-c6ec-7ee62d52396f",
        "id": "t92p8HXOp0WV"
      },
      "execution_count": 159,
      "outputs": [
        {
          "output_type": "stream",
          "name": "stdout",
          "text": [
            "Complement Naive Bayes Model \"claim\" with Bigram Proprocessing - Performance Report\n",
            "\n",
            "              precision    recall  f1-score   support\n",
            "\n",
            "           1       1.00      0.89      0.94         9\n",
            "           2       0.00      0.00      0.00         0\n",
            "\n",
            "    accuracy                           0.89         9\n",
            "   macro avg       0.50      0.44      0.47         9\n",
            "weighted avg       1.00      0.89      0.94         9\n",
            "\n",
            "\n"
          ]
        },
        {
          "output_type": "stream",
          "name": "stderr",
          "text": [
            "/usr/local/lib/python3.10/dist-packages/sklearn/metrics/_classification.py:1344: UndefinedMetricWarning: Recall and F-score are ill-defined and being set to 0.0 in labels with no true samples. Use `zero_division` parameter to control this behavior.\n",
            "  _warn_prf(average, modifier, msg_start, len(result))\n",
            "/usr/local/lib/python3.10/dist-packages/sklearn/metrics/_classification.py:1344: UndefinedMetricWarning: Recall and F-score are ill-defined and being set to 0.0 in labels with no true samples. Use `zero_division` parameter to control this behavior.\n",
            "  _warn_prf(average, modifier, msg_start, len(result))\n",
            "/usr/local/lib/python3.10/dist-packages/sklearn/metrics/_classification.py:1344: UndefinedMetricWarning: Recall and F-score are ill-defined and being set to 0.0 in labels with no true samples. Use `zero_division` parameter to control this behavior.\n",
            "  _warn_prf(average, modifier, msg_start, len(result))\n"
          ]
        }
      ]
    },
    {
      "cell_type": "code",
      "source": [
        "print(cnb_bi_model_predictions)\n",
        "print(y_test)"
      ],
      "metadata": {
        "colab": {
          "base_uri": "https://localhost:8080/"
        },
        "id": "4yQ-SoCWQpai",
        "outputId": "565383c3-a407-4cb5-e3b9-417af1d8e29c"
      },
      "execution_count": 160,
      "outputs": [
        {
          "output_type": "stream",
          "name": "stdout",
          "text": [
            "[1 1 1 1 1 1 2 1 1]\n",
            "[1, 1, 1, 1, 1, 1, 1, 1, 1]\n"
          ]
        }
      ]
    },
    {
      "cell_type": "code",
      "source": [
        "# trigram\n",
        "X_train_semi, y_train_semi, X_train_labeled, y_train_labeled, X_test, y_test = output_train_test_sets(target_word, sense_1_file, sense_2_file, sense_1, sense_2, \"tri\")"
      ],
      "metadata": {
        "colab": {
          "base_uri": "https://localhost:8080/"
        },
        "outputId": "d1e7fa5f-2100-4cd0-f136-cd1f6b9c52d8",
        "id": "OP3e_N6Up0WV"
      },
      "execution_count": 161,
      "outputs": [
        {
          "output_type": "stream",
          "name": "stdout",
          "text": [
            "Size of unlabeled training set:  100\n",
            "Size of labeled training set:  101\n",
            "Size of test set (labeled):  9\n"
          ]
        }
      ]
    },
    {
      "cell_type": "code",
      "source": [
        "param_grid = {'alpha': [0, 1e-12, 1e-10, 1e-08] ,\n",
        "              'class_prior': [[0.5, 0.5], None]}\n",
        "\n",
        "cnb_tri_model = GridSearchCV(ComplementNB(force_alpha=True), param_grid, refit=True, verbose=3, n_jobs=-1)\n",
        "cnb_tri_model.fit(X_train_labeled, y_train_labeled)"
      ],
      "metadata": {
        "colab": {
          "base_uri": "https://localhost:8080/",
          "height": 136
        },
        "outputId": "0a8bb36d-15e0-4e14-da41-392f2cb5e134",
        "id": "5xK9bPepp0WV"
      },
      "execution_count": 162,
      "outputs": [
        {
          "output_type": "stream",
          "name": "stdout",
          "text": [
            "Fitting 5 folds for each of 8 candidates, totalling 40 fits\n"
          ]
        },
        {
          "output_type": "execute_result",
          "data": {
            "text/plain": [
              "GridSearchCV(estimator=ComplementNB(force_alpha=True), n_jobs=-1,\n",
              "             param_grid={'alpha': [0, 1e-12, 1e-10, 1e-08],\n",
              "                         'class_prior': [[0.5, 0.5], None]},\n",
              "             verbose=3)"
            ],
            "text/html": [
              "<style>#sk-container-id-27 {color: black;background-color: white;}#sk-container-id-27 pre{padding: 0;}#sk-container-id-27 div.sk-toggleable {background-color: white;}#sk-container-id-27 label.sk-toggleable__label {cursor: pointer;display: block;width: 100%;margin-bottom: 0;padding: 0.3em;box-sizing: border-box;text-align: center;}#sk-container-id-27 label.sk-toggleable__label-arrow:before {content: \"▸\";float: left;margin-right: 0.25em;color: #696969;}#sk-container-id-27 label.sk-toggleable__label-arrow:hover:before {color: black;}#sk-container-id-27 div.sk-estimator:hover label.sk-toggleable__label-arrow:before {color: black;}#sk-container-id-27 div.sk-toggleable__content {max-height: 0;max-width: 0;overflow: hidden;text-align: left;background-color: #f0f8ff;}#sk-container-id-27 div.sk-toggleable__content pre {margin: 0.2em;color: black;border-radius: 0.25em;background-color: #f0f8ff;}#sk-container-id-27 input.sk-toggleable__control:checked~div.sk-toggleable__content {max-height: 200px;max-width: 100%;overflow: auto;}#sk-container-id-27 input.sk-toggleable__control:checked~label.sk-toggleable__label-arrow:before {content: \"▾\";}#sk-container-id-27 div.sk-estimator input.sk-toggleable__control:checked~label.sk-toggleable__label {background-color: #d4ebff;}#sk-container-id-27 div.sk-label input.sk-toggleable__control:checked~label.sk-toggleable__label {background-color: #d4ebff;}#sk-container-id-27 input.sk-hidden--visually {border: 0;clip: rect(1px 1px 1px 1px);clip: rect(1px, 1px, 1px, 1px);height: 1px;margin: -1px;overflow: hidden;padding: 0;position: absolute;width: 1px;}#sk-container-id-27 div.sk-estimator {font-family: monospace;background-color: #f0f8ff;border: 1px dotted black;border-radius: 0.25em;box-sizing: border-box;margin-bottom: 0.5em;}#sk-container-id-27 div.sk-estimator:hover {background-color: #d4ebff;}#sk-container-id-27 div.sk-parallel-item::after {content: \"\";width: 100%;border-bottom: 1px solid gray;flex-grow: 1;}#sk-container-id-27 div.sk-label:hover label.sk-toggleable__label {background-color: #d4ebff;}#sk-container-id-27 div.sk-serial::before {content: \"\";position: absolute;border-left: 1px solid gray;box-sizing: border-box;top: 0;bottom: 0;left: 50%;z-index: 0;}#sk-container-id-27 div.sk-serial {display: flex;flex-direction: column;align-items: center;background-color: white;padding-right: 0.2em;padding-left: 0.2em;position: relative;}#sk-container-id-27 div.sk-item {position: relative;z-index: 1;}#sk-container-id-27 div.sk-parallel {display: flex;align-items: stretch;justify-content: center;background-color: white;position: relative;}#sk-container-id-27 div.sk-item::before, #sk-container-id-27 div.sk-parallel-item::before {content: \"\";position: absolute;border-left: 1px solid gray;box-sizing: border-box;top: 0;bottom: 0;left: 50%;z-index: -1;}#sk-container-id-27 div.sk-parallel-item {display: flex;flex-direction: column;z-index: 1;position: relative;background-color: white;}#sk-container-id-27 div.sk-parallel-item:first-child::after {align-self: flex-end;width: 50%;}#sk-container-id-27 div.sk-parallel-item:last-child::after {align-self: flex-start;width: 50%;}#sk-container-id-27 div.sk-parallel-item:only-child::after {width: 0;}#sk-container-id-27 div.sk-dashed-wrapped {border: 1px dashed gray;margin: 0 0.4em 0.5em 0.4em;box-sizing: border-box;padding-bottom: 0.4em;background-color: white;}#sk-container-id-27 div.sk-label label {font-family: monospace;font-weight: bold;display: inline-block;line-height: 1.2em;}#sk-container-id-27 div.sk-label-container {text-align: center;}#sk-container-id-27 div.sk-container {/* jupyter's `normalize.less` sets `[hidden] { display: none; }` but bootstrap.min.css set `[hidden] { display: none !important; }` so we also need the `!important` here to be able to override the default hidden behavior on the sphinx rendered scikit-learn.org. See: https://github.com/scikit-learn/scikit-learn/issues/21755 */display: inline-block !important;position: relative;}#sk-container-id-27 div.sk-text-repr-fallback {display: none;}</style><div id=\"sk-container-id-27\" class=\"sk-top-container\"><div class=\"sk-text-repr-fallback\"><pre>GridSearchCV(estimator=ComplementNB(force_alpha=True), n_jobs=-1,\n",
              "             param_grid={&#x27;alpha&#x27;: [0, 1e-12, 1e-10, 1e-08],\n",
              "                         &#x27;class_prior&#x27;: [[0.5, 0.5], None]},\n",
              "             verbose=3)</pre><b>In a Jupyter environment, please rerun this cell to show the HTML representation or trust the notebook. <br />On GitHub, the HTML representation is unable to render, please try loading this page with nbviewer.org.</b></div><div class=\"sk-container\" hidden><div class=\"sk-item sk-dashed-wrapped\"><div class=\"sk-label-container\"><div class=\"sk-label sk-toggleable\"><input class=\"sk-toggleable__control sk-hidden--visually\" id=\"sk-estimator-id-79\" type=\"checkbox\" ><label for=\"sk-estimator-id-79\" class=\"sk-toggleable__label sk-toggleable__label-arrow\">GridSearchCV</label><div class=\"sk-toggleable__content\"><pre>GridSearchCV(estimator=ComplementNB(force_alpha=True), n_jobs=-1,\n",
              "             param_grid={&#x27;alpha&#x27;: [0, 1e-12, 1e-10, 1e-08],\n",
              "                         &#x27;class_prior&#x27;: [[0.5, 0.5], None]},\n",
              "             verbose=3)</pre></div></div></div><div class=\"sk-parallel\"><div class=\"sk-parallel-item\"><div class=\"sk-item\"><div class=\"sk-label-container\"><div class=\"sk-label sk-toggleable\"><input class=\"sk-toggleable__control sk-hidden--visually\" id=\"sk-estimator-id-80\" type=\"checkbox\" ><label for=\"sk-estimator-id-80\" class=\"sk-toggleable__label sk-toggleable__label-arrow\">estimator: ComplementNB</label><div class=\"sk-toggleable__content\"><pre>ComplementNB(force_alpha=True)</pre></div></div></div><div class=\"sk-serial\"><div class=\"sk-item\"><div class=\"sk-estimator sk-toggleable\"><input class=\"sk-toggleable__control sk-hidden--visually\" id=\"sk-estimator-id-81\" type=\"checkbox\" ><label for=\"sk-estimator-id-81\" class=\"sk-toggleable__label sk-toggleable__label-arrow\">ComplementNB</label><div class=\"sk-toggleable__content\"><pre>ComplementNB(force_alpha=True)</pre></div></div></div></div></div></div></div></div></div></div>"
            ]
          },
          "metadata": {},
          "execution_count": 162
        }
      ]
    },
    {
      "cell_type": "code",
      "source": [
        "print(f\"Complement Naive Bayes Model \\\"{target_word}\\\" with Trigram Proprocessing - Best Hyperparameters\\n\")\n",
        "print(cnb_tri_model.best_params_)\n",
        "print()"
      ],
      "metadata": {
        "colab": {
          "base_uri": "https://localhost:8080/"
        },
        "outputId": "78676d90-b41d-4551-b784-3e434480d534",
        "id": "zRuCIx0Ep0WV"
      },
      "execution_count": 163,
      "outputs": [
        {
          "output_type": "stream",
          "name": "stdout",
          "text": [
            "Complement Naive Bayes Model \"claim\" with Trigram Proprocessing - Best Hyperparameters\n",
            "\n",
            "{'alpha': 1e-12, 'class_prior': [0.5, 0.5]}\n",
            "\n"
          ]
        }
      ]
    },
    {
      "cell_type": "code",
      "source": [
        "cnb_tri_model_predictions = cnb_tri_model.predict(X_test)\n",
        "cnb_tri_report = classification_report(y_test, cnb_tri_model_predictions)\n",
        "print(f\"Complement Naive Bayes Model \\\"{target_word}\\\" with Trigram Proprocessing - Performance Report\\n\")\n",
        "print(cnb_tri_report)\n",
        "print()"
      ],
      "metadata": {
        "colab": {
          "base_uri": "https://localhost:8080/"
        },
        "outputId": "50a94810-9279-47cf-ad4c-c33e2a93e68c",
        "id": "uRW0Dl2ep0WV"
      },
      "execution_count": 164,
      "outputs": [
        {
          "output_type": "stream",
          "name": "stdout",
          "text": [
            "Complement Naive Bayes Model \"claim\" with Trigram Proprocessing - Performance Report\n",
            "\n",
            "              precision    recall  f1-score   support\n",
            "\n",
            "           1       1.00      1.00      1.00         9\n",
            "\n",
            "    accuracy                           1.00         9\n",
            "   macro avg       1.00      1.00      1.00         9\n",
            "weighted avg       1.00      1.00      1.00         9\n",
            "\n",
            "\n"
          ]
        }
      ]
    },
    {
      "cell_type": "code",
      "source": [
        "print(cnb_tri_model_predictions)\n",
        "print(y_test)"
      ],
      "metadata": {
        "colab": {
          "base_uri": "https://localhost:8080/"
        },
        "id": "EO5rL9yAQwaH",
        "outputId": "e660b7ca-47d7-4ed5-adc8-0cdc14549026"
      },
      "execution_count": 165,
      "outputs": [
        {
          "output_type": "stream",
          "name": "stdout",
          "text": [
            "[1 1 1 1 1 1 1 1 1]\n",
            "[1, 1, 1, 1, 1, 1, 1, 1, 1]\n"
          ]
        }
      ]
    },
    {
      "cell_type": "markdown",
      "source": [
        "### Word: time\n",
        "\n",
        "We pick two senses of time. They are:\n",
        "1.  S: (n) time (time%1:11:00::), clip (clip%1:11:00::) (an instance or single occasion for some event) \"this time he succeeded\"; \"he called four times\"; \"he could do ten at a clip\"\n",
        "2. S: (n) time (time%1:28:05::) (a period of time considered as a resource under your control and sufficient to accomplish something) \"take time to smell the roses\"; \"I didn't have time to finish\"; \"it took more than half my time\"; \"he waited for a long time\"\n",
        "\n",
        "We assign 1 to the first sense and 2 to the second sense."
      ],
      "metadata": {
        "id": "PUp6_R5yqHDd"
      }
    },
    {
      "cell_type": "code",
      "source": [
        "# parameters to change\n",
        "target_word = \"time\"\n",
        "sense_1_file = \"/content/time_event.txt\"\n",
        "sense_2_file = \"/content/time_resource.txt\"\n",
        "general_file = \"/content/time.txt\"\n",
        "sense_1 = \"1:11:00::\"\n",
        "sense_2 = \"1:28:05::\""
      ],
      "metadata": {
        "id": "VYP5AD_8qHDd"
      },
      "execution_count": 166,
      "outputs": []
    },
    {
      "cell_type": "code",
      "source": [
        "# unigram\n",
        "X_train_semi, y_train_semi, X_train_labeled, y_train_labeled, X_test, y_test = output_train_test_sets(target_word, sense_1_file, sense_2_file, sense_1, sense_2, \"uni\")"
      ],
      "metadata": {
        "colab": {
          "base_uri": "https://localhost:8080/"
        },
        "outputId": "93961442-d86d-4f7f-8492-40733a6a1818",
        "id": "PfDctOOJqLWd"
      },
      "execution_count": 167,
      "outputs": [
        {
          "output_type": "stream",
          "name": "stdout",
          "text": [
            "Size of unlabeled training set:  100\n",
            "Size of labeled training set:  101\n",
            "Size of test set (labeled):  6\n"
          ]
        }
      ]
    },
    {
      "cell_type": "code",
      "source": [
        "param_grid = {'alpha': [0, 1e-12, 1e-10, 1e-08] ,\n",
        "              'class_prior': [[0.5, 0.5], None]}\n",
        "\n",
        "cnb_uni_model = GridSearchCV(ComplementNB(force_alpha=True), param_grid, refit=True, verbose=3, n_jobs=-1)\n",
        "cnb_uni_model.fit(X_train_labeled, y_train_labeled)"
      ],
      "metadata": {
        "colab": {
          "base_uri": "https://localhost:8080/",
          "height": 136
        },
        "outputId": "4d9dcc33-4845-48d6-8cdf-bbe9037adfc8",
        "id": "MF4s-0ZQqLWd"
      },
      "execution_count": 168,
      "outputs": [
        {
          "output_type": "stream",
          "name": "stdout",
          "text": [
            "Fitting 5 folds for each of 8 candidates, totalling 40 fits\n"
          ]
        },
        {
          "output_type": "execute_result",
          "data": {
            "text/plain": [
              "GridSearchCV(estimator=ComplementNB(force_alpha=True), n_jobs=-1,\n",
              "             param_grid={'alpha': [0, 1e-12, 1e-10, 1e-08],\n",
              "                         'class_prior': [[0.5, 0.5], None]},\n",
              "             verbose=3)"
            ],
            "text/html": [
              "<style>#sk-container-id-28 {color: black;background-color: white;}#sk-container-id-28 pre{padding: 0;}#sk-container-id-28 div.sk-toggleable {background-color: white;}#sk-container-id-28 label.sk-toggleable__label {cursor: pointer;display: block;width: 100%;margin-bottom: 0;padding: 0.3em;box-sizing: border-box;text-align: center;}#sk-container-id-28 label.sk-toggleable__label-arrow:before {content: \"▸\";float: left;margin-right: 0.25em;color: #696969;}#sk-container-id-28 label.sk-toggleable__label-arrow:hover:before {color: black;}#sk-container-id-28 div.sk-estimator:hover label.sk-toggleable__label-arrow:before {color: black;}#sk-container-id-28 div.sk-toggleable__content {max-height: 0;max-width: 0;overflow: hidden;text-align: left;background-color: #f0f8ff;}#sk-container-id-28 div.sk-toggleable__content pre {margin: 0.2em;color: black;border-radius: 0.25em;background-color: #f0f8ff;}#sk-container-id-28 input.sk-toggleable__control:checked~div.sk-toggleable__content {max-height: 200px;max-width: 100%;overflow: auto;}#sk-container-id-28 input.sk-toggleable__control:checked~label.sk-toggleable__label-arrow:before {content: \"▾\";}#sk-container-id-28 div.sk-estimator input.sk-toggleable__control:checked~label.sk-toggleable__label {background-color: #d4ebff;}#sk-container-id-28 div.sk-label input.sk-toggleable__control:checked~label.sk-toggleable__label {background-color: #d4ebff;}#sk-container-id-28 input.sk-hidden--visually {border: 0;clip: rect(1px 1px 1px 1px);clip: rect(1px, 1px, 1px, 1px);height: 1px;margin: -1px;overflow: hidden;padding: 0;position: absolute;width: 1px;}#sk-container-id-28 div.sk-estimator {font-family: monospace;background-color: #f0f8ff;border: 1px dotted black;border-radius: 0.25em;box-sizing: border-box;margin-bottom: 0.5em;}#sk-container-id-28 div.sk-estimator:hover {background-color: #d4ebff;}#sk-container-id-28 div.sk-parallel-item::after {content: \"\";width: 100%;border-bottom: 1px solid gray;flex-grow: 1;}#sk-container-id-28 div.sk-label:hover label.sk-toggleable__label {background-color: #d4ebff;}#sk-container-id-28 div.sk-serial::before {content: \"\";position: absolute;border-left: 1px solid gray;box-sizing: border-box;top: 0;bottom: 0;left: 50%;z-index: 0;}#sk-container-id-28 div.sk-serial {display: flex;flex-direction: column;align-items: center;background-color: white;padding-right: 0.2em;padding-left: 0.2em;position: relative;}#sk-container-id-28 div.sk-item {position: relative;z-index: 1;}#sk-container-id-28 div.sk-parallel {display: flex;align-items: stretch;justify-content: center;background-color: white;position: relative;}#sk-container-id-28 div.sk-item::before, #sk-container-id-28 div.sk-parallel-item::before {content: \"\";position: absolute;border-left: 1px solid gray;box-sizing: border-box;top: 0;bottom: 0;left: 50%;z-index: -1;}#sk-container-id-28 div.sk-parallel-item {display: flex;flex-direction: column;z-index: 1;position: relative;background-color: white;}#sk-container-id-28 div.sk-parallel-item:first-child::after {align-self: flex-end;width: 50%;}#sk-container-id-28 div.sk-parallel-item:last-child::after {align-self: flex-start;width: 50%;}#sk-container-id-28 div.sk-parallel-item:only-child::after {width: 0;}#sk-container-id-28 div.sk-dashed-wrapped {border: 1px dashed gray;margin: 0 0.4em 0.5em 0.4em;box-sizing: border-box;padding-bottom: 0.4em;background-color: white;}#sk-container-id-28 div.sk-label label {font-family: monospace;font-weight: bold;display: inline-block;line-height: 1.2em;}#sk-container-id-28 div.sk-label-container {text-align: center;}#sk-container-id-28 div.sk-container {/* jupyter's `normalize.less` sets `[hidden] { display: none; }` but bootstrap.min.css set `[hidden] { display: none !important; }` so we also need the `!important` here to be able to override the default hidden behavior on the sphinx rendered scikit-learn.org. See: https://github.com/scikit-learn/scikit-learn/issues/21755 */display: inline-block !important;position: relative;}#sk-container-id-28 div.sk-text-repr-fallback {display: none;}</style><div id=\"sk-container-id-28\" class=\"sk-top-container\"><div class=\"sk-text-repr-fallback\"><pre>GridSearchCV(estimator=ComplementNB(force_alpha=True), n_jobs=-1,\n",
              "             param_grid={&#x27;alpha&#x27;: [0, 1e-12, 1e-10, 1e-08],\n",
              "                         &#x27;class_prior&#x27;: [[0.5, 0.5], None]},\n",
              "             verbose=3)</pre><b>In a Jupyter environment, please rerun this cell to show the HTML representation or trust the notebook. <br />On GitHub, the HTML representation is unable to render, please try loading this page with nbviewer.org.</b></div><div class=\"sk-container\" hidden><div class=\"sk-item sk-dashed-wrapped\"><div class=\"sk-label-container\"><div class=\"sk-label sk-toggleable\"><input class=\"sk-toggleable__control sk-hidden--visually\" id=\"sk-estimator-id-82\" type=\"checkbox\" ><label for=\"sk-estimator-id-82\" class=\"sk-toggleable__label sk-toggleable__label-arrow\">GridSearchCV</label><div class=\"sk-toggleable__content\"><pre>GridSearchCV(estimator=ComplementNB(force_alpha=True), n_jobs=-1,\n",
              "             param_grid={&#x27;alpha&#x27;: [0, 1e-12, 1e-10, 1e-08],\n",
              "                         &#x27;class_prior&#x27;: [[0.5, 0.5], None]},\n",
              "             verbose=3)</pre></div></div></div><div class=\"sk-parallel\"><div class=\"sk-parallel-item\"><div class=\"sk-item\"><div class=\"sk-label-container\"><div class=\"sk-label sk-toggleable\"><input class=\"sk-toggleable__control sk-hidden--visually\" id=\"sk-estimator-id-83\" type=\"checkbox\" ><label for=\"sk-estimator-id-83\" class=\"sk-toggleable__label sk-toggleable__label-arrow\">estimator: ComplementNB</label><div class=\"sk-toggleable__content\"><pre>ComplementNB(force_alpha=True)</pre></div></div></div><div class=\"sk-serial\"><div class=\"sk-item\"><div class=\"sk-estimator sk-toggleable\"><input class=\"sk-toggleable__control sk-hidden--visually\" id=\"sk-estimator-id-84\" type=\"checkbox\" ><label for=\"sk-estimator-id-84\" class=\"sk-toggleable__label sk-toggleable__label-arrow\">ComplementNB</label><div class=\"sk-toggleable__content\"><pre>ComplementNB(force_alpha=True)</pre></div></div></div></div></div></div></div></div></div></div>"
            ]
          },
          "metadata": {},
          "execution_count": 168
        }
      ]
    },
    {
      "cell_type": "code",
      "source": [
        "print(f\"Complement Naive Bayes Model \\\"{target_word}\\\" with Unigram Proprocessing - Best Hyperparameters\\n\")\n",
        "print(cnb_uni_model.best_params_)\n",
        "print()"
      ],
      "metadata": {
        "colab": {
          "base_uri": "https://localhost:8080/"
        },
        "outputId": "3e0103ff-bcdb-4bb6-dd48-77f8e5128128",
        "id": "O05s11UcqLWd"
      },
      "execution_count": 169,
      "outputs": [
        {
          "output_type": "stream",
          "name": "stdout",
          "text": [
            "Complement Naive Bayes Model \"time\" with Unigram Proprocessing - Best Hyperparameters\n",
            "\n",
            "{'alpha': 1e-12, 'class_prior': [0.5, 0.5]}\n",
            "\n"
          ]
        }
      ]
    },
    {
      "cell_type": "code",
      "source": [
        "cnb_uni_model_predictions = cnb_uni_model.predict(X_test)\n",
        "cnb_uni_report = classification_report(y_test, cnb_uni_model_predictions)\n",
        "print(f\"Complement Naive Bayes Model \\\"{target_word}\\\" with Unigram Proprocessing - Performance Report\\n\")\n",
        "print(cnb_uni_report)\n",
        "print()"
      ],
      "metadata": {
        "colab": {
          "base_uri": "https://localhost:8080/"
        },
        "outputId": "babbf163-8712-4722-a7ba-8d407631b71c",
        "id": "banWD3jTqLWd"
      },
      "execution_count": 170,
      "outputs": [
        {
          "output_type": "stream",
          "name": "stdout",
          "text": [
            "Complement Naive Bayes Model \"time\" with Unigram Proprocessing - Performance Report\n",
            "\n",
            "              precision    recall  f1-score   support\n",
            "\n",
            "           1       1.00      0.25      0.40         4\n",
            "           2       0.40      1.00      0.57         2\n",
            "\n",
            "    accuracy                           0.50         6\n",
            "   macro avg       0.70      0.62      0.49         6\n",
            "weighted avg       0.80      0.50      0.46         6\n",
            "\n",
            "\n"
          ]
        }
      ]
    },
    {
      "cell_type": "code",
      "source": [
        "print(cnb_uni_model_predictions)\n",
        "print(y_test)"
      ],
      "metadata": {
        "colab": {
          "base_uri": "https://localhost:8080/"
        },
        "id": "8EPa5oMLQdGY",
        "outputId": "bb8e1d9b-eb01-44e9-ed19-6beb11756672"
      },
      "execution_count": 171,
      "outputs": [
        {
          "output_type": "stream",
          "name": "stdout",
          "text": [
            "[1 2 2 2 2 2]\n",
            "[1, 1, 2, 2, 1, 1]\n"
          ]
        }
      ]
    },
    {
      "cell_type": "code",
      "source": [
        "# bigram\n",
        "X_train_semi, y_train_semi, X_train_labeled, y_train_labeled, X_test, y_test = output_train_test_sets(target_word, sense_1_file, sense_2_file, sense_1, sense_2, \"bi\")"
      ],
      "metadata": {
        "colab": {
          "base_uri": "https://localhost:8080/"
        },
        "outputId": "86d41c15-9f50-48b1-9f35-818f670ab09e",
        "id": "NZXvSRHOqLWd"
      },
      "execution_count": 172,
      "outputs": [
        {
          "output_type": "stream",
          "name": "stdout",
          "text": [
            "Size of unlabeled training set:  100\n",
            "Size of labeled training set:  101\n",
            "Size of test set (labeled):  6\n"
          ]
        }
      ]
    },
    {
      "cell_type": "code",
      "source": [
        "param_grid = {'alpha': [0, 1e-12, 1e-10, 1e-08] ,\n",
        "              'class_prior': [[0.5, 0.5], None]}\n",
        "\n",
        "cnb_bi_model = GridSearchCV(ComplementNB(force_alpha=True), param_grid, refit=True, verbose=3, n_jobs=-1)\n",
        "cnb_bi_model.fit(X_train_labeled, y_train_labeled)"
      ],
      "metadata": {
        "colab": {
          "base_uri": "https://localhost:8080/",
          "height": 136
        },
        "outputId": "9319af1e-4dde-46c3-b2e7-aec192e8786c",
        "id": "lQhol9YIqLWe"
      },
      "execution_count": 173,
      "outputs": [
        {
          "output_type": "stream",
          "name": "stdout",
          "text": [
            "Fitting 5 folds for each of 8 candidates, totalling 40 fits\n"
          ]
        },
        {
          "output_type": "execute_result",
          "data": {
            "text/plain": [
              "GridSearchCV(estimator=ComplementNB(force_alpha=True), n_jobs=-1,\n",
              "             param_grid={'alpha': [0, 1e-12, 1e-10, 1e-08],\n",
              "                         'class_prior': [[0.5, 0.5], None]},\n",
              "             verbose=3)"
            ],
            "text/html": [
              "<style>#sk-container-id-29 {color: black;background-color: white;}#sk-container-id-29 pre{padding: 0;}#sk-container-id-29 div.sk-toggleable {background-color: white;}#sk-container-id-29 label.sk-toggleable__label {cursor: pointer;display: block;width: 100%;margin-bottom: 0;padding: 0.3em;box-sizing: border-box;text-align: center;}#sk-container-id-29 label.sk-toggleable__label-arrow:before {content: \"▸\";float: left;margin-right: 0.25em;color: #696969;}#sk-container-id-29 label.sk-toggleable__label-arrow:hover:before {color: black;}#sk-container-id-29 div.sk-estimator:hover label.sk-toggleable__label-arrow:before {color: black;}#sk-container-id-29 div.sk-toggleable__content {max-height: 0;max-width: 0;overflow: hidden;text-align: left;background-color: #f0f8ff;}#sk-container-id-29 div.sk-toggleable__content pre {margin: 0.2em;color: black;border-radius: 0.25em;background-color: #f0f8ff;}#sk-container-id-29 input.sk-toggleable__control:checked~div.sk-toggleable__content {max-height: 200px;max-width: 100%;overflow: auto;}#sk-container-id-29 input.sk-toggleable__control:checked~label.sk-toggleable__label-arrow:before {content: \"▾\";}#sk-container-id-29 div.sk-estimator input.sk-toggleable__control:checked~label.sk-toggleable__label {background-color: #d4ebff;}#sk-container-id-29 div.sk-label input.sk-toggleable__control:checked~label.sk-toggleable__label {background-color: #d4ebff;}#sk-container-id-29 input.sk-hidden--visually {border: 0;clip: rect(1px 1px 1px 1px);clip: rect(1px, 1px, 1px, 1px);height: 1px;margin: -1px;overflow: hidden;padding: 0;position: absolute;width: 1px;}#sk-container-id-29 div.sk-estimator {font-family: monospace;background-color: #f0f8ff;border: 1px dotted black;border-radius: 0.25em;box-sizing: border-box;margin-bottom: 0.5em;}#sk-container-id-29 div.sk-estimator:hover {background-color: #d4ebff;}#sk-container-id-29 div.sk-parallel-item::after {content: \"\";width: 100%;border-bottom: 1px solid gray;flex-grow: 1;}#sk-container-id-29 div.sk-label:hover label.sk-toggleable__label {background-color: #d4ebff;}#sk-container-id-29 div.sk-serial::before {content: \"\";position: absolute;border-left: 1px solid gray;box-sizing: border-box;top: 0;bottom: 0;left: 50%;z-index: 0;}#sk-container-id-29 div.sk-serial {display: flex;flex-direction: column;align-items: center;background-color: white;padding-right: 0.2em;padding-left: 0.2em;position: relative;}#sk-container-id-29 div.sk-item {position: relative;z-index: 1;}#sk-container-id-29 div.sk-parallel {display: flex;align-items: stretch;justify-content: center;background-color: white;position: relative;}#sk-container-id-29 div.sk-item::before, #sk-container-id-29 div.sk-parallel-item::before {content: \"\";position: absolute;border-left: 1px solid gray;box-sizing: border-box;top: 0;bottom: 0;left: 50%;z-index: -1;}#sk-container-id-29 div.sk-parallel-item {display: flex;flex-direction: column;z-index: 1;position: relative;background-color: white;}#sk-container-id-29 div.sk-parallel-item:first-child::after {align-self: flex-end;width: 50%;}#sk-container-id-29 div.sk-parallel-item:last-child::after {align-self: flex-start;width: 50%;}#sk-container-id-29 div.sk-parallel-item:only-child::after {width: 0;}#sk-container-id-29 div.sk-dashed-wrapped {border: 1px dashed gray;margin: 0 0.4em 0.5em 0.4em;box-sizing: border-box;padding-bottom: 0.4em;background-color: white;}#sk-container-id-29 div.sk-label label {font-family: monospace;font-weight: bold;display: inline-block;line-height: 1.2em;}#sk-container-id-29 div.sk-label-container {text-align: center;}#sk-container-id-29 div.sk-container {/* jupyter's `normalize.less` sets `[hidden] { display: none; }` but bootstrap.min.css set `[hidden] { display: none !important; }` so we also need the `!important` here to be able to override the default hidden behavior on the sphinx rendered scikit-learn.org. See: https://github.com/scikit-learn/scikit-learn/issues/21755 */display: inline-block !important;position: relative;}#sk-container-id-29 div.sk-text-repr-fallback {display: none;}</style><div id=\"sk-container-id-29\" class=\"sk-top-container\"><div class=\"sk-text-repr-fallback\"><pre>GridSearchCV(estimator=ComplementNB(force_alpha=True), n_jobs=-1,\n",
              "             param_grid={&#x27;alpha&#x27;: [0, 1e-12, 1e-10, 1e-08],\n",
              "                         &#x27;class_prior&#x27;: [[0.5, 0.5], None]},\n",
              "             verbose=3)</pre><b>In a Jupyter environment, please rerun this cell to show the HTML representation or trust the notebook. <br />On GitHub, the HTML representation is unable to render, please try loading this page with nbviewer.org.</b></div><div class=\"sk-container\" hidden><div class=\"sk-item sk-dashed-wrapped\"><div class=\"sk-label-container\"><div class=\"sk-label sk-toggleable\"><input class=\"sk-toggleable__control sk-hidden--visually\" id=\"sk-estimator-id-85\" type=\"checkbox\" ><label for=\"sk-estimator-id-85\" class=\"sk-toggleable__label sk-toggleable__label-arrow\">GridSearchCV</label><div class=\"sk-toggleable__content\"><pre>GridSearchCV(estimator=ComplementNB(force_alpha=True), n_jobs=-1,\n",
              "             param_grid={&#x27;alpha&#x27;: [0, 1e-12, 1e-10, 1e-08],\n",
              "                         &#x27;class_prior&#x27;: [[0.5, 0.5], None]},\n",
              "             verbose=3)</pre></div></div></div><div class=\"sk-parallel\"><div class=\"sk-parallel-item\"><div class=\"sk-item\"><div class=\"sk-label-container\"><div class=\"sk-label sk-toggleable\"><input class=\"sk-toggleable__control sk-hidden--visually\" id=\"sk-estimator-id-86\" type=\"checkbox\" ><label for=\"sk-estimator-id-86\" class=\"sk-toggleable__label sk-toggleable__label-arrow\">estimator: ComplementNB</label><div class=\"sk-toggleable__content\"><pre>ComplementNB(force_alpha=True)</pre></div></div></div><div class=\"sk-serial\"><div class=\"sk-item\"><div class=\"sk-estimator sk-toggleable\"><input class=\"sk-toggleable__control sk-hidden--visually\" id=\"sk-estimator-id-87\" type=\"checkbox\" ><label for=\"sk-estimator-id-87\" class=\"sk-toggleable__label sk-toggleable__label-arrow\">ComplementNB</label><div class=\"sk-toggleable__content\"><pre>ComplementNB(force_alpha=True)</pre></div></div></div></div></div></div></div></div></div></div>"
            ]
          },
          "metadata": {},
          "execution_count": 173
        }
      ]
    },
    {
      "cell_type": "code",
      "source": [
        "print(f\"Complement Naive Bayes Model \\\"{target_word}\\\" with Bigram Proprocessing - Best Hyperparameters\\n\")\n",
        "print(cnb_bi_model.best_params_)\n",
        "print()"
      ],
      "metadata": {
        "colab": {
          "base_uri": "https://localhost:8080/"
        },
        "outputId": "0ca67982-6ace-4b3f-e7e9-d457ed99996d",
        "id": "vJg2mK5NqLWe"
      },
      "execution_count": 174,
      "outputs": [
        {
          "output_type": "stream",
          "name": "stdout",
          "text": [
            "Complement Naive Bayes Model \"time\" with Bigram Proprocessing - Best Hyperparameters\n",
            "\n",
            "{'alpha': 1e-12, 'class_prior': [0.5, 0.5]}\n",
            "\n"
          ]
        }
      ]
    },
    {
      "cell_type": "code",
      "source": [
        "cnb_bi_model_predictions = cnb_bi_model.predict(X_test)\n",
        "cnb_bi_report = classification_report(y_test, cnb_bi_model_predictions)\n",
        "print(f\"Complement Naive Bayes Model \\\"{target_word}\\\" with Bigram Proprocessing - Performance Report\\n\")\n",
        "print(cnb_bi_report)\n",
        "print()"
      ],
      "metadata": {
        "colab": {
          "base_uri": "https://localhost:8080/"
        },
        "outputId": "6a6a9b74-30b1-4c30-8f4d-29fa3c26f905",
        "id": "vr-KnWdUqLWe"
      },
      "execution_count": 175,
      "outputs": [
        {
          "output_type": "stream",
          "name": "stdout",
          "text": [
            "Complement Naive Bayes Model \"time\" with Bigram Proprocessing - Performance Report\n",
            "\n",
            "              precision    recall  f1-score   support\n",
            "\n",
            "           1       0.67      1.00      0.80         4\n",
            "           2       0.00      0.00      0.00         2\n",
            "\n",
            "    accuracy                           0.67         6\n",
            "   macro avg       0.33      0.50      0.40         6\n",
            "weighted avg       0.44      0.67      0.53         6\n",
            "\n",
            "\n"
          ]
        },
        {
          "output_type": "stream",
          "name": "stderr",
          "text": [
            "/usr/local/lib/python3.10/dist-packages/sklearn/metrics/_classification.py:1344: UndefinedMetricWarning: Precision and F-score are ill-defined and being set to 0.0 in labels with no predicted samples. Use `zero_division` parameter to control this behavior.\n",
            "  _warn_prf(average, modifier, msg_start, len(result))\n",
            "/usr/local/lib/python3.10/dist-packages/sklearn/metrics/_classification.py:1344: UndefinedMetricWarning: Precision and F-score are ill-defined and being set to 0.0 in labels with no predicted samples. Use `zero_division` parameter to control this behavior.\n",
            "  _warn_prf(average, modifier, msg_start, len(result))\n",
            "/usr/local/lib/python3.10/dist-packages/sklearn/metrics/_classification.py:1344: UndefinedMetricWarning: Precision and F-score are ill-defined and being set to 0.0 in labels with no predicted samples. Use `zero_division` parameter to control this behavior.\n",
            "  _warn_prf(average, modifier, msg_start, len(result))\n"
          ]
        }
      ]
    },
    {
      "cell_type": "code",
      "source": [
        "print(cnb_bi_model_predictions)\n",
        "print(y_test)"
      ],
      "metadata": {
        "colab": {
          "base_uri": "https://localhost:8080/"
        },
        "id": "YBlBGghJQqrX",
        "outputId": "56bb652f-405a-43a9-e78c-771efafd553c"
      },
      "execution_count": 176,
      "outputs": [
        {
          "output_type": "stream",
          "name": "stdout",
          "text": [
            "[1 1 1 1 1 1]\n",
            "[1, 1, 2, 2, 1, 1]\n"
          ]
        }
      ]
    },
    {
      "cell_type": "code",
      "source": [
        "# trigram\n",
        "X_train_semi, y_train_semi, X_train_labeled, y_train_labeled, X_test, y_test = output_train_test_sets(target_word, sense_1_file, sense_2_file, sense_1, sense_2, \"tri\")"
      ],
      "metadata": {
        "colab": {
          "base_uri": "https://localhost:8080/"
        },
        "outputId": "1559cef4-d63f-49e0-eb87-16be6cee403d",
        "id": "6oO_Kfh1qLWe"
      },
      "execution_count": 177,
      "outputs": [
        {
          "output_type": "stream",
          "name": "stdout",
          "text": [
            "Size of unlabeled training set:  100\n",
            "Size of labeled training set:  101\n",
            "Size of test set (labeled):  6\n"
          ]
        }
      ]
    },
    {
      "cell_type": "code",
      "source": [
        "param_grid = {'alpha': [0, 1e-12, 1e-10, 1e-08] ,\n",
        "              'class_prior': [[0.5, 0.5], None]}\n",
        "\n",
        "cnb_tri_model = GridSearchCV(ComplementNB(force_alpha=True), param_grid, refit=True, verbose=3, n_jobs=-1)\n",
        "cnb_tri_model.fit(X_train_labeled, y_train_labeled)"
      ],
      "metadata": {
        "colab": {
          "base_uri": "https://localhost:8080/",
          "height": 136
        },
        "outputId": "0b3a530b-2d90-44e4-d7cc-ae10a4a895bd",
        "id": "xkjH2eBaqLWe"
      },
      "execution_count": 178,
      "outputs": [
        {
          "output_type": "stream",
          "name": "stdout",
          "text": [
            "Fitting 5 folds for each of 8 candidates, totalling 40 fits\n"
          ]
        },
        {
          "output_type": "execute_result",
          "data": {
            "text/plain": [
              "GridSearchCV(estimator=ComplementNB(force_alpha=True), n_jobs=-1,\n",
              "             param_grid={'alpha': [0, 1e-12, 1e-10, 1e-08],\n",
              "                         'class_prior': [[0.5, 0.5], None]},\n",
              "             verbose=3)"
            ],
            "text/html": [
              "<style>#sk-container-id-30 {color: black;background-color: white;}#sk-container-id-30 pre{padding: 0;}#sk-container-id-30 div.sk-toggleable {background-color: white;}#sk-container-id-30 label.sk-toggleable__label {cursor: pointer;display: block;width: 100%;margin-bottom: 0;padding: 0.3em;box-sizing: border-box;text-align: center;}#sk-container-id-30 label.sk-toggleable__label-arrow:before {content: \"▸\";float: left;margin-right: 0.25em;color: #696969;}#sk-container-id-30 label.sk-toggleable__label-arrow:hover:before {color: black;}#sk-container-id-30 div.sk-estimator:hover label.sk-toggleable__label-arrow:before {color: black;}#sk-container-id-30 div.sk-toggleable__content {max-height: 0;max-width: 0;overflow: hidden;text-align: left;background-color: #f0f8ff;}#sk-container-id-30 div.sk-toggleable__content pre {margin: 0.2em;color: black;border-radius: 0.25em;background-color: #f0f8ff;}#sk-container-id-30 input.sk-toggleable__control:checked~div.sk-toggleable__content {max-height: 200px;max-width: 100%;overflow: auto;}#sk-container-id-30 input.sk-toggleable__control:checked~label.sk-toggleable__label-arrow:before {content: \"▾\";}#sk-container-id-30 div.sk-estimator input.sk-toggleable__control:checked~label.sk-toggleable__label {background-color: #d4ebff;}#sk-container-id-30 div.sk-label input.sk-toggleable__control:checked~label.sk-toggleable__label {background-color: #d4ebff;}#sk-container-id-30 input.sk-hidden--visually {border: 0;clip: rect(1px 1px 1px 1px);clip: rect(1px, 1px, 1px, 1px);height: 1px;margin: -1px;overflow: hidden;padding: 0;position: absolute;width: 1px;}#sk-container-id-30 div.sk-estimator {font-family: monospace;background-color: #f0f8ff;border: 1px dotted black;border-radius: 0.25em;box-sizing: border-box;margin-bottom: 0.5em;}#sk-container-id-30 div.sk-estimator:hover {background-color: #d4ebff;}#sk-container-id-30 div.sk-parallel-item::after {content: \"\";width: 100%;border-bottom: 1px solid gray;flex-grow: 1;}#sk-container-id-30 div.sk-label:hover label.sk-toggleable__label {background-color: #d4ebff;}#sk-container-id-30 div.sk-serial::before {content: \"\";position: absolute;border-left: 1px solid gray;box-sizing: border-box;top: 0;bottom: 0;left: 50%;z-index: 0;}#sk-container-id-30 div.sk-serial {display: flex;flex-direction: column;align-items: center;background-color: white;padding-right: 0.2em;padding-left: 0.2em;position: relative;}#sk-container-id-30 div.sk-item {position: relative;z-index: 1;}#sk-container-id-30 div.sk-parallel {display: flex;align-items: stretch;justify-content: center;background-color: white;position: relative;}#sk-container-id-30 div.sk-item::before, #sk-container-id-30 div.sk-parallel-item::before {content: \"\";position: absolute;border-left: 1px solid gray;box-sizing: border-box;top: 0;bottom: 0;left: 50%;z-index: -1;}#sk-container-id-30 div.sk-parallel-item {display: flex;flex-direction: column;z-index: 1;position: relative;background-color: white;}#sk-container-id-30 div.sk-parallel-item:first-child::after {align-self: flex-end;width: 50%;}#sk-container-id-30 div.sk-parallel-item:last-child::after {align-self: flex-start;width: 50%;}#sk-container-id-30 div.sk-parallel-item:only-child::after {width: 0;}#sk-container-id-30 div.sk-dashed-wrapped {border: 1px dashed gray;margin: 0 0.4em 0.5em 0.4em;box-sizing: border-box;padding-bottom: 0.4em;background-color: white;}#sk-container-id-30 div.sk-label label {font-family: monospace;font-weight: bold;display: inline-block;line-height: 1.2em;}#sk-container-id-30 div.sk-label-container {text-align: center;}#sk-container-id-30 div.sk-container {/* jupyter's `normalize.less` sets `[hidden] { display: none; }` but bootstrap.min.css set `[hidden] { display: none !important; }` so we also need the `!important` here to be able to override the default hidden behavior on the sphinx rendered scikit-learn.org. See: https://github.com/scikit-learn/scikit-learn/issues/21755 */display: inline-block !important;position: relative;}#sk-container-id-30 div.sk-text-repr-fallback {display: none;}</style><div id=\"sk-container-id-30\" class=\"sk-top-container\"><div class=\"sk-text-repr-fallback\"><pre>GridSearchCV(estimator=ComplementNB(force_alpha=True), n_jobs=-1,\n",
              "             param_grid={&#x27;alpha&#x27;: [0, 1e-12, 1e-10, 1e-08],\n",
              "                         &#x27;class_prior&#x27;: [[0.5, 0.5], None]},\n",
              "             verbose=3)</pre><b>In a Jupyter environment, please rerun this cell to show the HTML representation or trust the notebook. <br />On GitHub, the HTML representation is unable to render, please try loading this page with nbviewer.org.</b></div><div class=\"sk-container\" hidden><div class=\"sk-item sk-dashed-wrapped\"><div class=\"sk-label-container\"><div class=\"sk-label sk-toggleable\"><input class=\"sk-toggleable__control sk-hidden--visually\" id=\"sk-estimator-id-88\" type=\"checkbox\" ><label for=\"sk-estimator-id-88\" class=\"sk-toggleable__label sk-toggleable__label-arrow\">GridSearchCV</label><div class=\"sk-toggleable__content\"><pre>GridSearchCV(estimator=ComplementNB(force_alpha=True), n_jobs=-1,\n",
              "             param_grid={&#x27;alpha&#x27;: [0, 1e-12, 1e-10, 1e-08],\n",
              "                         &#x27;class_prior&#x27;: [[0.5, 0.5], None]},\n",
              "             verbose=3)</pre></div></div></div><div class=\"sk-parallel\"><div class=\"sk-parallel-item\"><div class=\"sk-item\"><div class=\"sk-label-container\"><div class=\"sk-label sk-toggleable\"><input class=\"sk-toggleable__control sk-hidden--visually\" id=\"sk-estimator-id-89\" type=\"checkbox\" ><label for=\"sk-estimator-id-89\" class=\"sk-toggleable__label sk-toggleable__label-arrow\">estimator: ComplementNB</label><div class=\"sk-toggleable__content\"><pre>ComplementNB(force_alpha=True)</pre></div></div></div><div class=\"sk-serial\"><div class=\"sk-item\"><div class=\"sk-estimator sk-toggleable\"><input class=\"sk-toggleable__control sk-hidden--visually\" id=\"sk-estimator-id-90\" type=\"checkbox\" ><label for=\"sk-estimator-id-90\" class=\"sk-toggleable__label sk-toggleable__label-arrow\">ComplementNB</label><div class=\"sk-toggleable__content\"><pre>ComplementNB(force_alpha=True)</pre></div></div></div></div></div></div></div></div></div></div>"
            ]
          },
          "metadata": {},
          "execution_count": 178
        }
      ]
    },
    {
      "cell_type": "code",
      "source": [
        "print(f\"Complement Naive Bayes Model \\\"{target_word}\\\" with Trigram Proprocessing - Best Hyperparameters\\n\")\n",
        "print(cnb_tri_model.best_params_)\n",
        "print()"
      ],
      "metadata": {
        "colab": {
          "base_uri": "https://localhost:8080/"
        },
        "outputId": "0928cf67-9a11-4ce1-9380-1a470bf83c45",
        "id": "llvelK1rqLWe"
      },
      "execution_count": 179,
      "outputs": [
        {
          "output_type": "stream",
          "name": "stdout",
          "text": [
            "Complement Naive Bayes Model \"time\" with Trigram Proprocessing - Best Hyperparameters\n",
            "\n",
            "{'alpha': 1e-12, 'class_prior': [0.5, 0.5]}\n",
            "\n"
          ]
        }
      ]
    },
    {
      "cell_type": "code",
      "source": [
        "cnb_tri_model_predictions = cnb_tri_model.predict(X_test)\n",
        "cnb_tri_report = classification_report(y_test, cnb_tri_model_predictions)\n",
        "print(f\"Complement Naive Bayes Model \\\"{target_word}\\\" with Trigram Proprocessing - Performance Report\\n\")\n",
        "print(cnb_tri_report)\n",
        "print()"
      ],
      "metadata": {
        "colab": {
          "base_uri": "https://localhost:8080/"
        },
        "outputId": "cb8bb393-7342-4962-a419-2baf48d1d729",
        "id": "IXXE5fxzqLWe"
      },
      "execution_count": 180,
      "outputs": [
        {
          "output_type": "stream",
          "name": "stdout",
          "text": [
            "Complement Naive Bayes Model \"time\" with Trigram Proprocessing - Performance Report\n",
            "\n",
            "              precision    recall  f1-score   support\n",
            "\n",
            "           1       0.67      1.00      0.80         4\n",
            "           2       0.00      0.00      0.00         2\n",
            "\n",
            "    accuracy                           0.67         6\n",
            "   macro avg       0.33      0.50      0.40         6\n",
            "weighted avg       0.44      0.67      0.53         6\n",
            "\n",
            "\n"
          ]
        },
        {
          "output_type": "stream",
          "name": "stderr",
          "text": [
            "/usr/local/lib/python3.10/dist-packages/sklearn/metrics/_classification.py:1344: UndefinedMetricWarning: Precision and F-score are ill-defined and being set to 0.0 in labels with no predicted samples. Use `zero_division` parameter to control this behavior.\n",
            "  _warn_prf(average, modifier, msg_start, len(result))\n",
            "/usr/local/lib/python3.10/dist-packages/sklearn/metrics/_classification.py:1344: UndefinedMetricWarning: Precision and F-score are ill-defined and being set to 0.0 in labels with no predicted samples. Use `zero_division` parameter to control this behavior.\n",
            "  _warn_prf(average, modifier, msg_start, len(result))\n",
            "/usr/local/lib/python3.10/dist-packages/sklearn/metrics/_classification.py:1344: UndefinedMetricWarning: Precision and F-score are ill-defined and being set to 0.0 in labels with no predicted samples. Use `zero_division` parameter to control this behavior.\n",
            "  _warn_prf(average, modifier, msg_start, len(result))\n"
          ]
        }
      ]
    },
    {
      "cell_type": "code",
      "source": [
        "print(cnb_tri_model_predictions)\n",
        "print(y_test)"
      ],
      "metadata": {
        "colab": {
          "base_uri": "https://localhost:8080/"
        },
        "id": "kUdXw5k9QxuP",
        "outputId": "a06fb10f-d486-4f3c-ab6a-e3b8e2506582"
      },
      "execution_count": 181,
      "outputs": [
        {
          "output_type": "stream",
          "name": "stdout",
          "text": [
            "[1 1 1 1 1 1]\n",
            "[1, 1, 2, 2, 1, 1]\n"
          ]
        }
      ]
    },
    {
      "cell_type": "markdown",
      "source": [
        "## Baseline model's performance on the five words"
      ],
      "metadata": {
        "id": "M5WaWrQbqma6"
      }
    },
    {
      "cell_type": "code",
      "source": [
        "words = [\"country\", \"game\", \"action\", \"claim\", \"time\"]"
      ],
      "metadata": {
        "id": "KyldjIgoqsXM"
      },
      "execution_count": 182,
      "outputs": []
    },
    {
      "cell_type": "code",
      "source": [
        "# get the accuracies of the baseline model on the five specific words\n",
        "for target_word in words:\n",
        "    # go through all the test cases of a word\n",
        "    test_size = 0\n",
        "    accurate_assignments = 0\n",
        "    for key in test_instances.keys():\n",
        "        # get the lemma and the word sense\n",
        "        word = test_instances[key].lemma.decode('utf-8').lower()\n",
        "        if word == target_word:\n",
        "            test_size += 1\n",
        "\n",
        "            # get the sense key\n",
        "            sense_key = wn.synsets(word)[0].lemmas()[0].key()\n",
        "            sense_key = sense_key.split(\"%\")[1]\n",
        "\n",
        "            # get the gold standard\n",
        "            for line in lines:\n",
        "                if key in line:\n",
        "                    gold_std = line.split(\" \")[2]\n",
        "                    gold_std = gold_std.split(\"%\")[1]\n",
        "\n",
        "            if sense_key == gold_std:\n",
        "                accurate_assignments += 1\n",
        "    accuracy = accurate_assignments / test_size\n",
        "    print(f\"Accuracy for baseline model on word \\\"{target_word}\\\": \", accuracy)"
      ],
      "metadata": {
        "colab": {
          "base_uri": "https://localhost:8080/"
        },
        "id": "QiYN53WZrn1t",
        "outputId": "9d370934-945f-47e3-9242-4ce53edc4dc5"
      },
      "execution_count": 183,
      "outputs": [
        {
          "output_type": "stream",
          "name": "stdout",
          "text": [
            "Accuracy for baseline model on word \"country\":  1.0\n",
            "Accuracy for baseline model on word \"game\":  0.0\n",
            "Accuracy for baseline model on word \"action\":  1.0\n",
            "Accuracy for baseline model on word \"claim\":  0.1\n",
            "Accuracy for baseline model on word \"time\":  0.6666666666666666\n"
          ]
        }
      ]
    },
    {
      "cell_type": "code",
      "source": [
        "# print the prediction of the baseline model\n",
        "for target_word in words:\n",
        "    sense_key = wn.synsets(target_word)[0].lemmas()[0].key()\n",
        "    sense_key = sense_key.split(\"%\")[1]\n",
        "    print(f\"Baseline model's prediction for {target_word}: {sense_key}\")"
      ],
      "metadata": {
        "colab": {
          "base_uri": "https://localhost:8080/"
        },
        "id": "f0kfTs4mRJpj",
        "outputId": "16722db1-0cd3-4d80-ebf6-a18cef3c1a0a"
      },
      "execution_count": 184,
      "outputs": [
        {
          "output_type": "stream",
          "name": "stdout",
          "text": [
            "Baseline model's prediction for country: 1:14:00::\n",
            "Baseline model's prediction for game: 1:04:00::\n",
            "Baseline model's prediction for action: 1:04:02::\n",
            "Baseline model's prediction for claim: 1:10:00::\n",
            "Baseline model's prediction for time: 1:11:00::\n"
          ]
        }
      ]
    },
    {
      "cell_type": "markdown",
      "source": [
        "## Lesk's model's performance on the five words"
      ],
      "metadata": {
        "id": "grMZ4TYaskEt"
      }
    },
    {
      "cell_type": "code",
      "source": [
        "# get the accuracies of the Lesk's model on the five specific words\n",
        "for target_word in words:\n",
        "    # go through all the test cases and record the number of accurate word sense assignment\n",
        "    test_size = 0\n",
        "    accurate_assignments = 0\n",
        "    for test_instance in test_processed:\n",
        "        key = test_instance[0]\n",
        "\n",
        "        # get the lemma and the word sense\n",
        "        if test_instance[1] == target_word:\n",
        "            test_size += 1\n",
        "\n",
        "            # get the sense key\n",
        "            word = test_instance[1]\n",
        "            sense_key = lesk(test_instance[2], word, 'n').lemmas()[0].key()\n",
        "            sense_key = sense_key.split(\"%\")[1]\n",
        "\n",
        "            # get the gold standard\n",
        "            for gs in gold_standard:\n",
        "                if key == gs[0]:\n",
        "                    gold_std = gs[1]\n",
        "                    gold_std = gold_std.split(\"%\")[1]\n",
        "\n",
        "            if sense_key == gold_std:\n",
        "                accurate_assignments += 1\n",
        "    accuracy = accurate_assignments / test_size\n",
        "    print(f\"Accuracy for Lesk's model on word \\\"{target_word}\\\": \", accuracy)"
      ],
      "metadata": {
        "colab": {
          "base_uri": "https://localhost:8080/"
        },
        "id": "kdKDsB5BsqPO",
        "outputId": "327a8f01-c8f1-4e8e-9876-07f5f75c9499"
      },
      "execution_count": 185,
      "outputs": [
        {
          "output_type": "stream",
          "name": "stdout",
          "text": [
            "Accuracy for Lesk's model on word \"country\":  0.05555555555555555\n",
            "Accuracy for Lesk's model on word \"game\":  0.0\n",
            "Accuracy for Lesk's model on word \"action\":  0.0\n",
            "Accuracy for Lesk's model on word \"claim\":  0.0\n",
            "Accuracy for Lesk's model on word \"time\":  0.3333333333333333\n"
          ]
        }
      ]
    },
    {
      "cell_type": "code",
      "source": [
        "# print the prediction for each test case\n",
        "for target_word in words:\n",
        "    # go through all the test cases and record the number of accurate word sense assignment\n",
        "    print(f\"Target word: {target_word}\")\n",
        "    print()\n",
        "    test_size = 0\n",
        "    accurate_assignments = 0\n",
        "    for test_instance in test_processed:\n",
        "        key = test_instance[0]\n",
        "\n",
        "        # get the lemma and the word sense\n",
        "        if test_instance[1] == target_word:\n",
        "            test_size += 1\n",
        "            print(f\"\\tTest case: {test_instance}\")\n",
        "\n",
        "            # get the sense key\n",
        "            word = test_instance[1]\n",
        "            sense_key = lesk(test_instance[2], word, 'n').lemmas()[0].key()\n",
        "            sense_key = sense_key.split(\"%\")[1]\n",
        "            print(f\"\\tPredicted sense key: {sense_key}\")\n",
        "\n",
        "            # get the gold standard\n",
        "            for gs in gold_standard:\n",
        "                if key == gs[0]:\n",
        "                    gold_std = gs[1]\n",
        "                    gold_std = gold_std.split(\"%\")[1]\n",
        "                    print(f\"\\tGold standard sense key: {gold_std}\")\n",
        "                    print()\n",
        "            if sense_key == gold_std:\n",
        "                accurate_assignments += 1\n",
        "    accuracy = accurate_assignments / test_size\n",
        "    print()"
      ],
      "metadata": {
        "colab": {
          "base_uri": "https://localhost:8080/"
        },
        "outputId": "6bec96ef-fb8b-4067-8f35-e5a79c935977",
        "id": "IeO5XSsDRr3V"
      },
      "execution_count": 186,
      "outputs": [
        {
          "output_type": "stream",
          "name": "stdout",
          "text": [
            "Target word: country\n",
            "\n",
            "\tTest case: ('d009.s005.t004', 'country', ['finding', 'late', 'latinobarmetro', 'poll', 'take', '@card@', 'country', 'publish', 'exclusively', 'economist', '.'])\n",
            "\tPredicted sense key: 1:14:01::\n",
            "\tGold standard sense key: 1:14:00::\n",
            "\n",
            "\tTest case: ('d009.s010.t003', 'country', ['support', 'democracy', 'rise', 'noticeably', 'several', 'country', 'pacific_rim', 'south_america', '(', 'see', 'table', '1', ')', '.'])\n",
            "\tPredicted sense key: 1:14:01::\n",
            "\tGold standard sense key: 1:14:00::\n",
            "\n",
            "\tTest case: ('d009.s013.t006', 'country', ['around', 'half', 'respondent', 'mexico', 'brazil', ',', 'region', \"'s\", 'two', 'populous', 'country', ',', 'convinced', 'democrat', ',', 'drag', 'regional', 'average', '(', 'see', 'chart', '2', ')', '.'])\n",
            "\tPredicted sense key: 1:14:01::\n",
            "\tGold standard sense key: 1:14:00::\n",
            "\n",
            "\tTest case: ('d009.s014.t004', 'country', ['@card@', '%', 'respondent', 'across', 'region', 'pronounce', 'satisfy', 'country', \"'s\", 'democracy', 'work', 'practice', ',', 'figure', 'last', 'year', 'big', 'increase', '@card@', '%', '@card@', '(', 'chart', '3', ')', '.'])\n",
            "\tPredicted sense key: 1:14:01::\n",
            "\tGold standard sense key: 1:14:00::\n",
            "\n",
            "\tTest case: ('d009.s015.t003', 'country', ['@card@', '%', 'say', 'confidence', 'country', \"'s\", 'congress', '@card@', '%', 'government', ',', 'last', 'year', 'case', 'sharply', '@card@', '(', '@card@', '%', '@card@', '%', 'respectively', ')', '.'])\n",
            "\tPredicted sense key: 1:14:00::\n",
            "\tGold standard sense key: 1:14:00::\n",
            "\n",
            "\tTest case: ('d009.s017.t003', 'country', ['hold', 'world', 'financial_crisis', 'probably', 'many', 'latin', 'american', 'country', 'suffer', 'brief', 'recession', 'enjoy', 'strong', 'recovery', '.'])\n",
            "\tPredicted sense key: 1:14:01::\n",
            "\tGold standard sense key: 1:14:00::\n",
            "\n",
            "\tTest case: ('d009.s020.t002', 'country', ['mood', 'vary', 'widely', 'country', 'country', '(', 'see', 'chart', '4', ')', '.'])\n",
            "\tPredicted sense key: 1:14:01::\n",
            "\tGold standard sense key: 1:14:00::\n",
            "\n",
            "\tTest case: ('d009.s020.t003', 'country', ['mood', 'vary', 'widely', 'country', 'country', '(', 'see', 'chart', '4', ')', '.'])\n",
            "\tPredicted sense key: 1:14:01::\n",
            "\tGold standard sense key: 1:14:00::\n",
            "\n",
            "\tTest case: ('d009.s023.t009', 'country', ['second', 'time', 'since', 'poll', 'begin', ',', 'respondent', 'across', 'latin_america', 'whole', 'cite', 'crime', ',', 'rather', 'unemployment', ',', 'important', 'problem', 'face', 'country', '(', 'see', 'chart', '5', ')', '.'])\n",
            "\tPredicted sense key: 1:14:01::\n",
            "\tGold standard sense key: 1:14:00::\n",
            "\n",
            "\tTest case: ('d009.s026.t004', 'country', ['@card@', '%', 'agree', 'market_economy', 'system', 'make', 'country', 'develop', ',', '@card@', '%', 'last', 'year', '.'])\n",
            "\tPredicted sense key: 1:14:01::\n",
            "\tGold standard sense key: 1:14:00::\n",
            "\n",
            "\tTest case: ('d009.s028.t002', 'country', ['brazil', 'country', 'exercise', 'leadership', 'region', ',', 'mention', '@card@', '%', 'respondent', '(', '@card@', '%', 'last', 'year', ')', ',', 'follow', 'united_states', '(', '9', '%', ',', 'unchanged', 'last', 'year', ')', 'venezuela', '(', '9', '%', ',', '@card@', '%', 'last', 'year', ')', '.'])\n",
            "\tPredicted sense key: 1:14:01::\n",
            "\tGold standard sense key: 1:14:00::\n",
            "\n",
            "\tTest case: ('d009.s029.t002', 'country', ['united_states', 'see', 'influential', 'country', 'respondent', 'mexico', 'much', 'central_america', ',', 'whereas', 'venezuela', 'enjoy', 'distinction', 'ecuador', ',', 'dominican_republic', 'nicaragua', '.'])\n",
            "\tPredicted sense key: 1:14:01::\n",
            "\tGold standard sense key: 1:14:00::\n",
            "\n",
            "\tTest case: ('d011.s004.t004', 'country', ['minor', 'contrast', 'costa_rica', ',', 'compare', '@card@', 'player', 'call', 'country', 'friendly', 'game', 'today', ',', '@card@', 'pm', 'national_stadium', 'san_jose', '.'])\n",
            "\tPredicted sense key: 1:14:01::\n",
            "\tGold standard sense key: 1:14:00::\n",
            "\n",
            "\tTest case: ('d012.s002.t013', 'country', ['immigration', 'policy', 'nicolas_sarkozy', 'criticise', 'various', 'aspect', 'congestion', 'police', ',', 'legal', 'administrative', 'service', 'subject', 'policy', 'number', 'compatibility', 'policy', 'self-proclaimed', 'status', 'country', 'country', 'french', 'human_right', '.'])\n",
            "\tPredicted sense key: 1:14:01::\n",
            "\tGold standard sense key: 1:14:00::\n",
            "\n",
            "\tTest case: ('d012.s002.t014', 'country', ['immigration', 'policy', 'nicolas_sarkozy', 'criticise', 'various', 'aspect', 'congestion', 'police', ',', 'legal', 'administrative', 'service', 'subject', 'policy', 'number', 'compatibility', 'policy', 'self-proclaimed', 'status', 'country', 'country', 'french', 'human_right', '.'])\n",
            "\tPredicted sense key: 1:14:01::\n",
            "\tGold standard sense key: 1:14:00::\n",
            "\n",
            "\tTest case: ('d012.s006.t006', 'country', ['right', ',', 'tone', 'set', 'jacques_chirac', ',', 'declare', '@card@', '``', '@card@', 'unemployed', 'would', 'become', 'problem', 'country', '2', 'million', 'foreign', 'worker', ',', \"''\", 'left', 'michel_rocard', 'explain', '@card@', 'france', '``', 'accommodate', 'world', \"'s\", 'misery', '.', \"''\"])\n",
            "\tPredicted sense key: 1:14:01::\n",
            "\tGold standard sense key: 1:14:00::\n",
            "\n",
            "\tTest case: ('d012.s013.t019', 'country', ['economist', 'ian_goldin', 'geoffrey', 'cameron', ',', 'remind', 'u', 'recent', 'book', 'summarise', 'recent', 'knowledge', 'immigration', '(', 'exceptional', 'people', ':', 'migration', 'shaped', 'world', 'define', 'future', ',', 'mai', '@card@', ',', 'princeton_university_press', ',', '@card@', 'pp', '.', ')', ',', 'wide', 'consensus', 'among', 'specialist', 'positive', 'impact', 'migration', 'flow', 'economic_growth', ',', 'wage', 'employment', 'country', ',', 'admit', 'immigrant', '.'])\n",
            "\tPredicted sense key: 1:14:01::\n",
            "\tGold standard sense key: 1:14:00::\n",
            "\n",
            "\tTest case: ('d012.s019.t003', 'country', ['way', 'surgeon', 'would', 'find', 'difficult', 'work', 'country', 'shortage', 'anaesthetist', ',', 'complementarity', 'exist', 'local', 'immigrant', 'bring', 'arrival', 'immigrant', 'positive', 'effect', 'pay', 'local', '.'])\n",
            "\tPredicted sense key: 1:14:01::\n",
            "\tGold standard sense key: 1:14:00::\n",
            "\n",
            "\n",
            "Target word: game\n",
            "\n",
            "\tTest case: ('d002.s005.t001', 'game', ['game', 'start', 'favor', 'azulgrana', ',', 'put', 'ahead', 'scoreboard', 'start', '.'])\n",
            "\tPredicted sense key: 1:06:00::\n",
            "\tGold standard sense key: 1:04:03::\n",
            "\n",
            "\tTest case: ('d002.s008.t003', 'game', ['second', 'quarter', ',', 'alavan', 'team', 'opt', 'inside', 'game', 'barac', 'work', 'eliyahu', ',', 'greet', 'whistle', 'applause', 'return', 'home', ',', 'continue', 'increase', 'lead', 'half-time', '(', '@card@', ')', '.'])\n",
            "\tPredicted sense key: 1:04:02::\n",
            "\tGold standard sense key: 1:04:03::\n",
            "\n",
            "\tTest case: ('d002.s010.t001', 'game', ['game', ',', 'despite', 'head', 'halftime', ',', 'decidedand', 'maccabees', 'try', 'remind', 'vitorians', 'anybody', 'win', 'court', ',', '`', 'hand', 'elia', \"'\", 'put', 'pressure', ',', 'manage', 'get', 'involve', 'game', '.'])\n",
            "\tPredicted sense key: 1:06:00::\n",
            "\tGold standard sense key: 1:04:03::\n",
            "\n",
            "\tTest case: ('d002.s010.t007', 'game', ['game', ',', 'despite', 'head', 'halftime', ',', 'decidedand', 'maccabees', 'try', 'remind', 'vitorians', 'anybody', 'win', 'court', ',', '`', 'hand', 'elia', \"'\", 'put', 'pressure', ',', 'manage', 'get', 'involve', 'game', '.'])\n",
            "\tPredicted sense key: 1:06:00::\n",
            "\tGold standard sense key: 1:04:03::\n",
            "\n",
            "\tTest case: ('d002.s016.t004', 'game', ['spite', ',', 'splitter', 'foul', ',', 'ivonic', \"'s\", 'team', \"n't\", 'rush', ',', 'defend', 'well', ',', ',', 'even', 'though', 'israeli', 'come', 'close', 'last_minute', ',', 'game', 'wa', 'already', 'win', 'victory', 'escape', 'tel_aviv', 'first', 'time', 'season', '.'])\n",
            "\tPredicted sense key: 1:06:00::\n",
            "\tGold standard sense key: 1:04:03::\n",
            "\n",
            "\tTest case: ('d007.s003.t006', 'game', ['expulsion', 'presumably', 'forge', 'two', 'player', 'real_madrid', '(', 'xabi_alonso', 'sergio_ramos', ')', 'game', 'play', '23rd_of_november', 'ajax', 'european_champions_league', 'cause', 'river', 'ink', 'write', 'behavior', 'unsportsmanlike', ',', 'player', 'sanction', 'uefa', '.'])\n",
            "\tPredicted sense key: 1:06:00::\n",
            "\tGold standard sense key: 1:04:03::\n",
            "\n",
            "\tTest case: ('d007.s004.t003', 'game', ['know', ',', 'minute', 'end', 'game', '(', 'team', 'already', 'win', ')', ',', 'player', 'deliberately', 'waste', 'time', 'make', 'referee', 'show', 'second', 'yellow', 'card', '.'])\n",
            "\tPredicted sense key: 1:06:00::\n",
            "\tGold standard sense key: 1:04:03::\n",
            "\n",
            "\tTest case: ('d007.s005.t007', 'game', ['way', ',', 'since', 'real_madrid', 'finish', 'leader', 'group', ',', 'player', 'fulfil', 'prescribed', 'sanction', 'next', 'game', 'league', ',', 'auxerre', ',', 'able', 'get', 'rid', 'card', 'follow', 'phase', '.'])\n",
            "\tPredicted sense key: 1:06:00::\n",
            "\tGold standard sense key: 1:04:03::\n",
            "\n",
            "\tTest case: ('d007.s006.t004', 'game', ['finally', ',', 'committee', 'discipline', 'uefa', 'sanction', 'two', 'game', 'trainer', 'team', ',', 'jose_mourinho', ',', 'different', 'economic', 'amount', 'implied', 'player', '.'])\n",
            "\tPredicted sense key: 1:06:00::\n",
            "\tGold standard sense key: 1:04:03::\n",
            "\n",
            "\tTest case: ('d007.s012.t009', 'game', ['one', 'advantage', 'include', 'sport', 'spirit', 'physical', 'integrity', 'opposite', 'player', ',', 'aspect', 'action', \"n't\", 'put', 'danger', ',', 'say', ',', 'violent', 'game', '.'])\n",
            "\tPredicted sense key: 1:28:00::\n",
            "\tGold standard sense key: 1:04:03::\n",
            "\n",
            "\tTest case: ('d007.s017.t004', 'game', ['seem', 'necessary', 'state', \"n't\", 'disadvantageous', 'situation', 'rival', 'obtain', 'benefit', 'game', ',', 'evidently', 'result', 'action', 'suppose', 'leave', 'team', 'le', 'player', '.'])\n",
            "\tPredicted sense key: 1:06:00::\n",
            "\tGold standard sense key: 1:04:03::\n",
            "\n",
            "\tTest case: ('d007.s018.t002', 'game', ['neither', 'useful', 'strategy', 'next', 'game', ',', 'club', 'able', 'count', 'player', '.'])\n",
            "\tPredicted sense key: 1:06:00::\n",
            "\tGold standard sense key: 1:04:03::\n",
            "\n",
            "\tTest case: ('d007.s019.t008', 'game', ['advantage', ',', 'obviously', ',', 'consist', 'fact', 'player', 'begin', 'follow', 'phase', 'championship', 'without', 'card', 'could', 'threaten', 'participation', 'future', 'game', '.'])\n",
            "\tPredicted sense key: 1:06:00::\n",
            "\tGold standard sense key: 1:04:03::\n",
            "\n",
            "\tTest case: ('d007.s020.t011', 'game', ['long', 'term', 'advantage', ',', 'certain', 'degree', 'indetermination', ',', 'team', 'eliminate', 'first', 'change', ',', 'addition', 'action', 'player', 'fulfil', 'sanction', 'game', 'go', 'second', 'cycle', 'card', ',', 'suspension', 'card', 'accumulation', 'take', 'place', 'one', 'le', 'first', 'cycle', '.'])\n",
            "\tPredicted sense key: 1:28:00::\n",
            "\tGold standard sense key: 1:04:03::\n",
            "\n",
            "\tTest case: ('d011.s002.t003', 'game', ['@card@', 'player', 'call', 'spain', ',', 'ten', 'pas', '@card@', 'international', 'game', '.'])\n",
            "\tPredicted sense key: 1:06:00::\n",
            "\tGold standard sense key: 1:04:03::\n",
            "\n",
            "\tTest case: ('d011.s003.t004', 'game', ['side', 'costa_rica', 'one', '@card@', 'call', 'player', 'reach', '@card@', 'game', '.'])\n",
            "\tPredicted sense key: 1:28:00::\n",
            "\tGold standard sense key: 1:04:03::\n",
            "\n",
            "\tTest case: ('d011.s004.t005', 'game', ['minor', 'contrast', 'costa_rica', ',', 'compare', '@card@', 'player', 'call', 'country', 'friendly', 'game', 'today', ',', '@card@', 'pm', 'national_stadium', 'san_jose', '.'])\n",
            "\tPredicted sense key: 1:06:00::\n",
            "\tGold standard sense key: 1:04:03::\n",
            "\n",
            "\tTest case: ('d011.s005.t011', 'game', ['europe', 'world_champion', ',', 'number_one', 'one', 'monthly', 'top', 'fifa', ',', 'long', 'record', 'class_a', 'inter', 'selection', ',', 'tricolor', 'defender', 'michael_umana', 'one', '@card@', 'international', 'game', '.'])\n",
            "\tPredicted sense key: 1:06:00::\n",
            "\tGold standard sense key: 1:04:03::\n",
            "\n",
            "\tTest case: ('d011.s006.t003', 'game', ['number', 'reach', 'friday', 'game', 'panama', '(', '@card@', ')', ',', 'rommel_fernandez', '.'])\n",
            "\tPredicted sense key: 1:06:00::\n",
            "\tGold standard sense key: 1:04:03::\n",
            "\n",
            "\tTest case: ('d011.s010.t007', 'game', ['see', 'peak', 'spanish', 'selection', 'goalkeeper', 'iker_casillas', ',', 'last', 'saturday', 'england', '(', 'game', 'lose', '@card@', 'london', ')', 'equal', 'record', 'ex', 'goalkeeper', 'andoni_zubizarreta', ',', '@card@', 'international', 'match', '.'])\n",
            "\tPredicted sense key: 1:06:00::\n",
            "\tGold standard sense key: 1:04:03::\n",
            "\n",
            "\tTest case: ('d011.s014.t003', 'game', ['almost', 'near', 'centennial', 'number', 'carles_puyol', ',', '@card@', 'game', '.'])\n",
            "\tPredicted sense key: 1:06:00::\n",
            "\tGold standard sense key: 1:04:03::\n",
            "\n",
            "\tTest case: ('d011.s017.t001', 'game', [',', 'five', 'exceed', '@card@', 'game', ':', 'keilor', 'navas', '@card@', ',', 'randall_azofeifa', '@card@', ',', 'michael_barrantes', '@card@', ',', 'carlos_hernandez', '@card@', 'jose_luis_lopez', '@card@', '.'])\n",
            "\tPredicted sense key: 1:06:00::\n",
            "\tGold standard sense key: 1:04:03::\n",
            "\n",
            "\tTest case: ('d011.s022.t001', 'game', ['nacho', 'moreal', 'four', 'game', 'jordi_alba', 'two', ',', 'costa_rica', 'victor_bolivar', 'one', 'olman_vargas', 'nelson', 'edder', 'debut', 'yet', '.'])\n",
            "\tPredicted sense key: 1:06:00::\n",
            "\tGold standard sense key: 1:04:03::\n",
            "\n",
            "\n",
            "Target word: action\n",
            "\n",
            "\tTest case: ('d007.s010.t007', 'action', ['anyway', ',', 'debate', 'deal', 'type', 'behavior', 'prohibit', 'specifically', 'regulation', 'contradict', 'principle', 'sport', ',', 'say', ',', 'action', 'fraud', 'commit', ';', ',', 'indeed', ',', 'respectful', 'action', 'sport', 'regulation', ',', 'seem', 'elude', 'sense', '.'])\n",
            "\tPredicted sense key: 1:22:00::\n",
            "\tGold standard sense key: 1:04:02::\n",
            "\n",
            "\tTest case: ('d007.s010.t009', 'action', ['anyway', ',', 'debate', 'deal', 'type', 'behavior', 'prohibit', 'specifically', 'regulation', 'contradict', 'principle', 'sport', ',', 'say', ',', 'action', 'fraud', 'commit', ';', ',', 'indeed', ',', 'respectful', 'action', 'sport', 'regulation', ',', 'seem', 'elude', 'sense', '.'])\n",
            "\tPredicted sense key: 1:22:00::\n",
            "\tGold standard sense key: 1:04:02::\n",
            "\n",
            "\tTest case: ('d007.s012.t007', 'action', ['one', 'advantage', 'include', 'sport', 'spirit', 'physical', 'integrity', 'opposite', 'player', ',', 'aspect', 'action', \"n't\", 'put', 'danger', ',', 'say', ',', 'violent', 'game', '.'])\n",
            "\tPredicted sense key: 1:04:00::\n",
            "\tGold standard sense key: 1:04:02::\n",
            "\n",
            "\tTest case: ('d007.s014.t002', 'action', ['however', ',', 'paradoxical', 'thing', 'action', 'player', 'real_madrid', 'comply', 'normally', 'characterize', 'legal_fraud', ',', 'violation', 'rule', 'make', 'secretly', 'try', 'avoid', 'sanction', ',', 'action', 'evident', 'thus', 'receive', 'punishment', 'referee', '.'])\n",
            "\tPredicted sense key: 1:22:00::\n",
            "\tGold standard sense key: 1:04:02::\n",
            "\n",
            "\tTest case: ('d007.s014.t009', 'action', ['however', ',', 'paradoxical', 'thing', 'action', 'player', 'real_madrid', 'comply', 'normally', 'characterize', 'legal_fraud', ',', 'violation', 'rule', 'make', 'secretly', 'try', 'avoid', 'sanction', ',', 'action', 'evident', 'thus', 'receive', 'punishment', 'referee', '.'])\n",
            "\tPredicted sense key: 1:22:00::\n",
            "\tGold standard sense key: 1:04:02::\n",
            "\n",
            "\tTest case: ('d007.s016.t005', 'action', ['another', 'question', 'type', 'advantage', 'violator', 'obtain', 'action', 'deliberately', 'carry', '.'])\n",
            "\tPredicted sense key: 1:04:00::\n",
            "\tGold standard sense key: 1:04:02::\n",
            "\n",
            "\tTest case: ('d007.s017.t006', 'action', ['seem', 'necessary', 'state', \"n't\", 'disadvantageous', 'situation', 'rival', 'obtain', 'benefit', 'game', ',', 'evidently', 'result', 'action', 'suppose', 'leave', 'team', 'le', 'player', '.'])\n",
            "\tPredicted sense key: 1:26:00::\n",
            "\tGold standard sense key: 1:04:02::\n",
            "\n",
            "\tTest case: ('d007.s020.t008', 'action', ['long', 'term', 'advantage', ',', 'certain', 'degree', 'indetermination', ',', 'team', 'eliminate', 'first', 'change', ',', 'addition', 'action', 'player', 'fulfil', 'sanction', 'game', 'go', 'second', 'cycle', 'card', ',', 'suspension', 'card', 'accumulation', 'take', 'place', 'one', 'le', 'first', 'cycle', '.'])\n",
            "\tPredicted sense key: 1:04:00::\n",
            "\tGold standard sense key: 1:04:02::\n",
            "\n",
            "\tTest case: ('d007.s022.t001', 'action', ['action', 'really', 'sporting', 'spirit', ',', 'part', 'strategic', 'decision', 'favor', 'take', 'advantage', 'allow', 'rule', '.'])\n",
            "\tPredicted sense key: 1:06:00::\n",
            "\tGold standard sense key: 1:04:02::\n",
            "\n",
            "\tTest case: ('d007.s027.t004', 'action', ['damage', 'bring', 'principle', 'sport', 'action', 'much', 'ethical', 'aesthetic', '.'])\n",
            "\tPredicted sense key: 1:22:00::\n",
            "\tGold standard sense key: 1:04:02::\n",
            "\n",
            "\tTest case: ('d010.s015.t004', 'action', ['fact', ',', 'justice', 'exempt', 'code_of_conduct', 'govern', 'action', 'low', 'federal', 'justice', '.'])\n",
            "\tPredicted sense key: 1:22:00::\n",
            "\tGold standard sense key: 1:04:02::\n",
            "\n",
            "\n",
            "Target word: claim\n",
            "\n",
            "\tTest case: ('d006.s008.t001', 'claim', ['claim', 'could', 'force', 'appeal', 'judge', 'grapple', 'question', 'whether', 'new', 'technology', 'require', 'new', 'courtroom', 'rule', '.'])\n",
            "\tPredicted sense key: 1:07:00::\n",
            "\tGold standard sense key: 1:10:02::\n",
            "\n",
            "\tTest case: ('d006.s010.t004', 'claim', ['trial_judge', ',', 'jon', 'c.', 'blue', 'state', 'superior_court', ',', 'tersely', 'reject', 'claim', 'ruling', 'last', 'week', ',', 'say', 'news_media', '``', 'carefully', 'control', \"''\", 'evidence', 'jury', 'drive', 'passion', '.'])\n",
            "\tPredicted sense key: 1:07:00::\n",
            "\tGold standard sense key: 1:10:02::\n",
            "\n",
            "\tTest case: ('d006.s028.t003', 'claim', ['interview', ',', 'journalist', 'say', 'claim', 'instant', 'news', 'incendiary', 'report', 'deliver', 'slowly', 'luddite', 'view', 'would', 'make', 'poor', 'court', 'policy', 'govern', 'coverage', 'future', 'trial', '.'])\n",
            "\tPredicted sense key: 1:07:00::\n",
            "\tGold standard sense key: 1:10:02::\n",
            "\n",
            "\tTest case: ('d006.s030.t002', 'claim', ['mr.', 'hayes', \"'s\", 'lawyer', 'press', 'claim', '.'])\n",
            "\tPredicted sense key: 1:07:00::\n",
            "\tGold standard sense key: 1:10:02::\n",
            "\n",
            "\tTest case: ('d010.s018.t005', 'claim', ['``', 'stunning', 'breach', 'ethic', 'indifference', 'code', 'belie', 'claim', 'several', 'justice', 'court', 'abide', 'rule', 'apply', 'federal_judge', ',', \"''\", 'say', 'bob_edgar', ',', 'president', 'common_cause', '.'])\n",
            "\tPredicted sense key: 1:07:00::\n",
            "\tGold standard sense key: 1:10:02::\n",
            "\n",
            "\tTest case: ('d010.s020.t004', 'claim', ['appearance', 'assistance', 'fundrais', 'event', 'undercut', 'claim', 'impartiality', ',', 'unacceptable', '.'])\n",
            "\tPredicted sense key: 1:07:00::\n",
            "\tGold standard sense key: 1:10:02::\n",
            "\n",
            "\tTest case: ('d013.s020.t004', 'claim', ['investor', 'regulator', 'bring', 'vast', 'number', 'claim', 'compensation', 'punish', 'misconduct', '.'])\n",
            "\tPredicted sense key: 1:07:00::\n",
            "\tGold standard sense key: 1:10:02::\n",
            "\n",
            "\tTest case: ('d013.s021.t004', 'claim', ['federal_housing_finance_agency', '(', 'fhfa', ')', 'behind', 'large', 'wave', 'claim', '.'])\n",
            "\tPredicted sense key: 1:07:00::\n",
            "\tGold standard sense key: 1:10:00::\n",
            "\n",
            "\tTest case: ('d013.s025.t002', 'claim', ['deutsche_bank', 'reject', 'claim', 'baseless', 'declare', 'intention', 'fend', 'claim', '.'])\n",
            "\tPredicted sense key: 1:07:00::\n",
            "\tGold standard sense key: 1:10:02::\n",
            "\n",
            "\tTest case: ('d013.s025.t004', 'claim', ['deutsche_bank', 'reject', 'claim', 'baseless', 'declare', 'intention', 'fend', 'claim', '.'])\n",
            "\tPredicted sense key: 1:07:00::\n",
            "\tGold standard sense key: 1:10:02::\n",
            "\n",
            "\n",
            "Target word: time\n",
            "\n",
            "\tTest case: ('d002.s016.t006', 'time', ['spite', ',', 'splitter', 'foul', ',', 'ivonic', \"'s\", 'team', \"n't\", 'rush', ',', 'defend', 'well', ',', ',', 'even', 'though', 'israeli', 'come', 'close', 'last_minute', ',', 'game', 'wa', 'already', 'win', 'victory', 'escape', 'tel_aviv', 'first', 'time', 'season', '.'])\n",
            "\tPredicted sense key: 1:28:05::\n",
            "\tGold standard sense key: 1:11:00::\n",
            "\n",
            "\tTest case: ('d006.s015.t010', 'time', ['lawyer', 'say', 'appeals_court', 'review', 'mr.', 'hayes', \"'s\", 'conviction', 'half', 'century', 'later', 'might', 'intrigue', 'argument', 'new', 'rule', 'could', 'necessary', 'govern', 'way', 'communicate', 'courtroom', 'unimagin', 'time', 'dr.', 'sheppard', \"'s\", 'case', '.'])\n",
            "\tPredicted sense key: 1:28:05::\n",
            "\tGold standard sense key: 1:11:00::\n",
            "\n",
            "\tTest case: ('d007.s004.t006', 'time', ['know', ',', 'minute', 'end', 'game', '(', 'team', 'already', 'win', ')', ',', 'player', 'deliberately', 'waste', 'time', 'make', 'referee', 'show', 'second', 'yellow', 'card', '.'])\n",
            "\tPredicted sense key: 1:28:05::\n",
            "\tGold standard sense key: 1:28:05::\n",
            "\n",
            "\tTest case: ('d008.s026.t002', 'time', ['arsenic', 'common', 'early', 'time', 'earth', ',', 'say', ',', 'researcher', 'speculate', 'early', 'life_form', 'might', 'use', '.'])\n",
            "\tPredicted sense key: 1:28:05::\n",
            "\tGold standard sense key: 1:28:05::\n",
            "\n",
            "\tTest case: ('d009.s023.t001', 'time', ['second', 'time', 'since', 'poll', 'begin', ',', 'respondent', 'across', 'latin_america', 'whole', 'cite', 'crime', ',', 'rather', 'unemployment', ',', 'important', 'problem', 'face', 'country', '(', 'see', 'chart', '5', ')', '.'])\n",
            "\tPredicted sense key: 1:28:05::\n",
            "\tGold standard sense key: 1:11:00::\n",
            "\n",
            "\tTest case: ('d010.s005.t009', 'time', ['justice', 'agree', 'hear', 'suit', ';', 'indeed', ',', 'landmark', '5', '-', 'hour', 'argument', 'expect', 'march', ',', 'outcome', 'likely', 'roil', '@card@', 'presidential', 'race', ',', 'full', 'swing', 'time', 'court', \"'s\", 'decision', 'release', '.'])\n",
            "\tPredicted sense key: 1:28:05::\n",
            "\tGold standard sense key: 1:11:00::\n",
            "\n",
            "\n"
          ]
        }
      ]
    },
    {
      "cell_type": "code",
      "source": [
        "for target_word in words:\n",
        "    for test_instance in test_processed:\n",
        "        if test_instance[1] == target_word:\n",
        "            id = test_instance[0]\n",
        "            for id_key in test_instances.keys():\n",
        "                if id_key == id:\n",
        "                    print(str(test_instances[id_key]))"
      ],
      "metadata": {
        "colab": {
          "base_uri": "https://localhost:8080/"
        },
        "id": "mfoiMgBtgR0k",
        "outputId": "b084aa35-42d3-4e37-ff06-6f9cc66c56bb"
      },
      "execution_count": 188,
      "outputs": [
        {
          "output_type": "stream",
          "name": "stdout",
          "text": [
            "d009.s005.t004\tb'country'\tb'those be some of the finding of the late Latinobarmetro poll take in @card@ country and publish exclusively by the economist .'\t14\n",
            "d009.s010.t003\tb'country'\tb'support for democracy have rise noticeably in several country on the Pacific_rim of south_america ( see table 1 ) .'\t8\n",
            "d009.s013.t006\tb'country'\tb\"but only around half of respondent in Mexico and Brazil , the region 's two most populous country , be convinced democrat , which drag down the regional average ( see chart 2 ) .\"\t17\n",
            "d009.s014.t004\tb'country'\tb\"some @card@ % of respondent across the region pronounce themselves satisfy with how their country 's democracy work in practice , the same figure as last year but a big increase on the @card@ % in @card@ ( chart 3 ) .\"\t14\n",
            "d009.s015.t003\tb'country'\tb\"some @card@ % say they have confidence in their country 's Congress and @card@ % in their government , the same as last year in both case but up sharply from @card@ ( @card@ % and @card@ % respectively ) .\"\t9\n",
            "d009.s017.t003\tb'country'\tb'that it have hold up during the world financial_crisis be probably because many Latin American country suffer only a brief recession and have enjoy a strong recovery .'\t15\n",
            "d009.s020.t002\tb'country'\tb'but the mood vary widely from country to country ( see chart 4 ) .'\t6\n",
            "d009.s020.t003\tb'country'\tb'but the mood vary widely from country to country ( see chart 4 ) .'\t8\n",
            "d009.s023.t009\tb'country'\tb'for only the second time since the poll begin , more respondent across latin_america as a whole cite crime , rather than unemployment , as the most important problem face their country ( see chart 5 ) .'\t31\n",
            "d009.s026.t004\tb'country'\tb'some @card@ % agree that the market_economy be the only system that will make their country develop , up from @card@ % last year .'\t15\n",
            "d009.s028.t002\tb'country'\tb'Brazil be the country which exercise most leadership in the region , mention by @card@ % of respondent ( up from @card@ % last year ) , follow by the united_states ( 9 % , unchanged from last year ) and Venezuela ( 9 % , down from @card@ % last year ) .'\t3\n",
            "d009.s029.t002\tb'country'\tb'but the united_states be see as the most influential country by respondent in mexico and much of central_america , whereas Venezuela enjoy that distinction in Ecuador , the dominican_republic and Nicaragua .'\t9\n",
            "d011.s004.t004\tb'country'\tb'a minor contrast to costa_rica , compare the @card@ player call by both country for the friendly game today , at @card@ pm at the national_stadium in san_jose .'\t13\n",
            "d012.s002.t013\tb'country'\tb'immigration policy under nicolas_sarkozy be criticise from various aspect a congestion of police , legal and administrative service subject to a policy of number and the compatibility of that policy with the self-proclaimed status of the country as the country of French human_right .'\t36\n",
            "d012.s002.t014\tb'country'\tb'immigration policy under nicolas_sarkozy be criticise from various aspect a congestion of police , legal and administrative service subject to a policy of number and the compatibility of that policy with the self-proclaimed status of the country as the country of French human_right .'\t39\n",
            "d012.s006.t006\tb'country'\tb\"on the Right , the tone be set by jacques_chirac , who declare in @card@ that `` @card@ unemployed would not become a problem in a country with 2 million of foreign worker , '' and on the Left by michel_rocard explain in @card@ that France `` can not accommodate all the world 's misery . ''\"\t26\n",
            "d012.s013.t019\tb'country'\tb'as the economist ian_goldin and Geoffrey Cameron , remind us in a recent book summarise the most recent knowledge of immigration ( exceptional people : How Migration Shaped our world and Will Define Our Future , Mai @card@ , princeton_university_press , @card@ pp . ) , there be wide consensus among specialist on the positive impact of migration flow on economic_growth , wage and employment in country , which admit immigrant .'\t66\n",
            "d012.s019.t003\tb'country'\tb'in the same way as a surgeon would find it difficult to work in a country with a shortage of anaesthetist , the complementarity exist between local and immigrant bring it about that the arrival of immigrant have a positive effect on the pay of local .'\t15\n",
            "d002.s005.t001\tb'game'\tb'the game start out in favor of the Azulgrana , who put themselves ahead on the scoreboard from the start .'\t1\n",
            "d002.s008.t003\tb'game'\tb'the second quarter be more of the same , but the Alavan team opt for the inside game of Barac and the work of Eliyahu , who be greet with whistle and applause at his return home , to continue increase their lead by half-time ( @card@ ) .'\t17\n",
            "d002.s010.t001\tb'game'\tb\"but the game , despite be head for halftime , be not more decidedand the Maccabees try to remind the Vitorians that not just anybody win on their court , and with the ` hand of Elias ' put the pressure on , they manage to get involve in the game .\"\t2\n",
            "d002.s010.t007\tb'game'\tb\"but the game , despite be head for halftime , be not more decidedand the Maccabees try to remind the Vitorians that not just anybody win on their court , and with the ` hand of Elias ' put the pressure on , they manage to get involve in the game .\"\t50\n",
            "d002.s016.t004\tb'game'\tb\"in spite of this , and with Splitter foul out , Ivonic 's team do n't rush , defend well , and , even though the Israelis come close at the last_minute , the game was already win and victory escape tel_aviv for the first time in the season .\"\t34\n",
            "d007.s003.t006\tb'game'\tb'the expulsion presumably forge by two player of real_madrid ( xabi_alonso and sergio_ramos ) in the game play on the 23rd_of_november against Ajax in european_champions_league have cause river of ink to be write about if such behavior be or be not unsportsmanlike and if , both player should be sanction by UEFA .'\t16\n",
            "d007.s004.t003\tb'game'\tb'as we all know , a few minute before the end of the game ( that their team have already win ) , both player deliberately waste time which make the referee show the second yellow card to both of them .'\t13\n",
            "d007.s005.t007\tb'game'\tb'this way , and since real_madrid will finish as leader of its group , both player will fulfil the prescribed sanction during the next game of league , against Auxerre , and will be able to get rid of the card the follow phase .'\t24\n",
            "d007.s006.t004\tb'game'\tb'finally , the committee of discipline of the UEFA have sanction with two game the trainer of the team , jose_mourinho , and with different economic amount the implied player .'\t13\n",
            "d007.s012.t009\tb'game'\tb\"One of the advantage that include the sport spirit be the physical integrity of the opposite player , aspect that with these action be n't put into danger , that be to say , there be no violent game .\"\t38\n",
            "d007.s017.t004\tb'game'\tb\"here it seem necessary to state that it be n't a disadvantageous situation for rival nor be an obtain benefit in the same game , because evidently the result of the action suppose leave their own team with less player .\"\t23\n",
            "d007.s018.t002\tb'game'\tb'and neither be it a useful strategy for the next game , because the club will not be able to count on those player .'\t10\n",
            "d007.s019.t008\tb'game'\tb'the advantage , obviously , consist in the fact that the player will begin the follow phase of the championship without card that could threaten their participation in a future game .'\t30\n",
            "d007.s020.t011\tb'game'\tb'but it be about a long term advantage , with a certain degree of indetermination , because the team can be eliminate first of change , and in addition with this action the player fulfil a sanction game and go to the second cycle of card , in which the suspension by card accumulation take place with one less than in the first cycle .'\t37\n",
            "d011.s002.t003\tb'game'\tb'of the @card@ player call in Spain , ten pass @card@ international game .'\t12\n",
            "d011.s003.t004\tb'game'\tb'on the side of costa_rica only one of @card@ call player reach @card@ game .'\t13\n",
            "d011.s004.t005\tb'game'\tb'a minor contrast to costa_rica , compare the @card@ player call by both country for the friendly game today , at @card@ pm at the national_stadium in san_jose .'\t17\n",
            "d011.s005.t011\tb'game'\tb'while the Europe and world_champion , number_one one in the monthly top of FIFA , have a long record of class_a inter selection , the Tricolor have only the defender michael_umana as the only one who have @card@ international game .'\t39\n",
            "d011.s006.t003\tb'game'\tb'that number be reach Friday before the game against Panama ( @card@ ) , in rommel_fernandez .'\t7\n",
            "d011.s010.t007\tb'game'\tb'we see that the peak of the Spanish selection be the goalkeeper iker_casillas , who last Saturday against England ( game lose with @card@ in London ) equal the record of the ex goalkeeper andoni_zubizarreta , with @card@ international match .'\t20\n",
            "d011.s014.t003\tb'game'\tb'almost near the centennial number be carles_puyol , with @card@ game .'\t10\n",
            "d011.s017.t001\tb'game'\tb'after this , only five exceed the @card@ game : Keilor Navas with @card@ , randall_azofeifa with @card@ , michael_barrantes with @card@ , carlos_hernandez with @card@ and jose_luis_lopez with @card@ .'\t8\n",
            "d011.s022.t001\tb'game'\tb'while Nacho Moreal have only four game and jordi_alba two , in costa_rica victor_bolivar have only one olman_vargas and Nelson Edder do not debut yet .'\t6\n",
            "d007.s010.t007\tb'action'\tb'anyway , the debate deal with if that type of behavior not prohibit specifically by the regulation contradict the principle of the sport , that be to say , if with these action fraud be commit ; then , indeed , they be respectful action with the sport regulation , but they seem to elude its sense .'\t32\n",
            "d007.s010.t009\tb'action'\tb'anyway , the debate deal with if that type of behavior not prohibit specifically by the regulation contradict the principle of the sport , that be to say , if with these action fraud be commit ; then , indeed , they be respectful action with the sport regulation , but they seem to elude its sense .'\t44\n",
            "d007.s012.t007\tb'action'\tb\"One of the advantage that include the sport spirit be the physical integrity of the opposite player , aspect that with these action be n't put into danger , that be to say , there be no violent game .\"\t22\n",
            "d007.s014.t002\tb'action'\tb'however , the paradoxical thing about the action of the player of real_madrid be that it do not comply to what we normally characterize as legal_fraud , because the violation of the rule be not make secretly as to try to avoid the sanction , but their action be most evident and thus they receive punishment from the referee .'\t7\n",
            "d007.s014.t009\tb'action'\tb'however , the paradoxical thing about the action of the player of real_madrid be that it do not comply to what we normally characterize as legal_fraud , because the violation of the rule be not make secretly as to try to avoid the sanction , but their action be most evident and thus they receive punishment from the referee .'\t47\n",
            "d007.s016.t005\tb'action'\tb'another question be what type of advantage the violator obtain in the action deliberately carry out .'\t12\n",
            "d007.s017.t006\tb'action'\tb\"here it seem necessary to state that it be n't a disadvantageous situation for rival nor be an obtain benefit in the same game , because evidently the result of the action suppose leave their own team with less player .\"\t31\n",
            "d007.s020.t008\tb'action'\tb'but it be about a long term advantage , with a certain degree of indetermination , because the team can be eliminate first of change , and in addition with this action the player fulfil a sanction game and go to the second cycle of card , in which the suspension by card accumulation take place with one less than in the first cycle .'\t31\n",
            "d007.s022.t001\tb'action'\tb'those action be really against the sporting spirit , which be part of the strategic decision that favor take advantage allow by the rule .'\t1\n",
            "d007.s027.t004\tb'action'\tb'the damage bring about to the principle of the sport by these action be not as much ethical as aesthetic .'\t12\n",
            "d010.s015.t004\tb'action'\tb'in fact , justice be exempt from the code_of_conduct that govern the action of low federal justice .'\t12\n",
            "d006.s008.t001\tb'claim'\tb'the claim could force appeal judge to grapple with the question of whether new technology require new courtroom rule .'\t1\n",
            "d006.s010.t004\tb'claim'\tb\"the trial_judge , Jon C. Blue of State superior_court , tersely reject the claim in a ruling last week , say that the news_media be `` carefully control '' and that there be no evidence the jury be drive by passion .\"\t13\n",
            "d006.s028.t003\tb'claim'\tb'in interview , some journalist say the claim that instant news be more incendiary than report deliver more slowly be a Luddite view that would make poor court policy govern coverage of future trial .'\t7\n",
            "d006.s030.t002\tb'claim'\tb\"Mr. Hayes 's lawyer be press that claim .\"\t7\n",
            "d010.s018.t005\tb'claim'\tb\"`` this stunning breach of ethic and indifference to the code belie claim by several justice that the court abide by the same rule that apply to all other federal_judge , '' say bob_edgar , the president of common_cause .\"\t12\n",
            "d010.s020.t004\tb'claim'\tb'their appearance and assistance in fundrais for this event undercut any claim of impartiality , and be unacceptable .'\t11\n",
            "d013.s020.t004\tb'claim'\tb'investor and regulator have bring a vast number of claim for compensation or to punish misconduct .'\t9\n",
            "d013.s021.t004\tb'claim'\tb'the federal_housing_finance_agency ( FHFA ) have be behind the large wave of claim .'\t12\n",
            "d013.s025.t002\tb'claim'\tb'deutsche_bank have reject the claim as baseless and have declare its intention to fend off the claim .'\t4\n",
            "d013.s025.t004\tb'claim'\tb'deutsche_bank have reject the claim as baseless and have declare its intention to fend off the claim .'\t16\n",
            "d002.s016.t006\tb'time'\tb\"in spite of this , and with Splitter foul out , Ivonic 's team do n't rush , defend well , and , even though the Israelis come close at the last_minute , the game was already win and victory escape tel_aviv for the first time in the season .\"\t45\n",
            "d006.s015.t010\tb'time'\tb\"some lawyer say appeals_court review Mr. Hayes 's conviction half a century later might be intrigue by the argument that new rule could be necessary to govern way of communicate from courtroom unimagin at the time of Dr. Sheppard 's case .\"\t35\n",
            "d007.s004.t006\tb'time'\tb'as we all know , a few minute before the end of the game ( that their team have already win ) , both player deliberately waste time which make the referee show the second yellow card to both of them .'\t27\n",
            "d008.s026.t002\tb'time'\tb'arsenic be more common in the early time on Earth , she say , so researcher have speculate that early life_form might have use it .'\t7\n",
            "d009.s023.t001\tb'time'\tb'for only the second time since the poll begin , more respondent across latin_america as a whole cite crime , rather than unemployment , as the most important problem face their country ( see chart 5 ) .'\t4\n",
            "d010.s005.t009\tb'time'\tb\"the justice agree to hear the suit ; indeed , a landmark 5 - hour argument be expect in March , and the outcome be likely to further roil the @card@ presidential race , which will be in full swing by the time the court 's decision be release .\"\t42\n"
          ]
        }
      ]
    }
  ]
}